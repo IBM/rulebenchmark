{
 "cells": [
  {
   "cell_type": "code",
   "execution_count": 11,
   "metadata": {},
   "outputs": [],
   "source": [
    "import pandas as pd\n",
    "import wittgenstein as lw\n",
    "from sklearn.model_selection import train_test_split\n",
    "from sklearn.metrics import precision_score, recall_score, accuracy_score, balanced_accuracy_score\n",
    "import time"
   ]
  },
  {
   "cell_type": "code",
   "execution_count": 12,
   "metadata": {},
   "outputs": [],
   "source": [
    "def convert_label(char):\n",
    "    return (char == 'e') # p\n",
    "\n",
    "LABEL = 'Poisonous/Edible'"
   ]
  },
  {
   "cell_type": "code",
   "execution_count": 13,
   "metadata": {},
   "outputs": [
    {
     "name": "stdout",
     "output_type": "stream",
     "text": [
      "e    4208\n",
      "p    3916\n",
      "Name: Poisonous/Edible, dtype: int64\n",
      "True     4208\n",
      "False    3916\n",
      "Name: Poisonous/Edible, dtype: int64\n",
      "<class 'pandas.core.frame.DataFrame'>\n",
      "RangeIndex: 8124 entries, 0 to 8123\n",
      "Data columns (total 23 columns):\n",
      " #   Column                    Non-Null Count  Dtype \n",
      "---  ------                    --------------  ----- \n",
      " 0   Poisonous/Edible          8124 non-null   bool  \n",
      " 1   Cap-shape                 8124 non-null   object\n",
      " 2   Cap-surface               8124 non-null   object\n",
      " 3   Cap-color                 8124 non-null   object\n",
      " 4   Bruises?                  8124 non-null   object\n",
      " 5   Odor                      8124 non-null   object\n",
      " 6   Gill-attachment           8124 non-null   object\n",
      " 7   Gill-spacing              8124 non-null   object\n",
      " 8   Gill-size                 8124 non-null   object\n",
      " 9   Gill-color                8124 non-null   object\n",
      " 10  Stalk-shape               8124 non-null   object\n",
      " 11  Stalk-root                8124 non-null   object\n",
      " 12  Stalk-surface-above-ring  8124 non-null   object\n",
      " 13  Stalk-surface-below-ring  8124 non-null   object\n",
      " 14  Stalk-color-above-ring    8124 non-null   object\n",
      " 15  Stalk-color-below-ring    8124 non-null   object\n",
      " 16  Veil-type                 8124 non-null   object\n",
      " 17  Veil-color                8124 non-null   object\n",
      " 18  Ring-number               8124 non-null   object\n",
      " 19  Ring-type                 8124 non-null   object\n",
      " 20  Spore-print-color         8124 non-null   object\n",
      " 21  Population                8124 non-null   object\n",
      " 22  Habitat                   8124 non-null   object\n",
      "dtypes: bool(1), object(22)\n",
      "memory usage: 1.4+ MB\n"
     ]
    }
   ],
   "source": [
    "df = pd.read_csv('../data/mushroom.csv')\n",
    "print(df[LABEL].value_counts())\n",
    "df[LABEL] = df[LABEL].map(convert_label) # swap label or convert if needed\n",
    "print(df[LABEL].value_counts())\n",
    "df.info()"
   ]
  },
  {
   "cell_type": "code",
   "execution_count": 14,
   "metadata": {},
   "outputs": [
    {
     "name": "stdout",
     "output_type": "stream",
     "text": [
      "Training set:\n",
      "True     2830\n",
      "False    2613\n",
      "Name: Poisonous/Edible, dtype: int64\n",
      "Test set:\n",
      "True     1378\n",
      "False    1303\n",
      "Name: Poisonous/Edible, dtype: int64\n"
     ]
    }
   ],
   "source": [
    "train, test = train_test_split(df, test_size=.33, random_state=42)\n",
    "# test.info()\n",
    "print('Training set:')\n",
    "print(train[LABEL].value_counts())\n",
    "print('Test set:')\n",
    "print(test[LABEL].value_counts())\n",
    "X_test = test.drop(LABEL, axis=1)\n",
    "y_test = test[LABEL]\n",
    "# print(y_test)"
   ]
  },
  {
   "cell_type": "code",
   "execution_count": 15,
   "metadata": {},
   "outputs": [
    {
     "name": "stdout",
     "output_type": "stream",
     "text": [
      "Job started at Tue Feb 15 11:39:52 2022.\n",
      "Job finished at Tue Feb 15 11:39:52 2022 in 0.7 seconds.\n",
      "Test accuracy:  1.0\n",
      "Scikit accuracy:  1.0\n",
      "Scikit balanced accuracy:  1.0\n",
      "precision: 1.0 recall: 1.0\n",
      "last column Index(['Habitat'], dtype='object')\n",
      "[[Odor=n ^ Stalk-shape=t] V\n",
      "[Ring-type=p ^ Gill-size=b ^ Stalk-shape=e ^ Ring-number=o] V\n",
      "[Odor=n ^ Stalk-root=? ^ Gill-size=b] V\n",
      "[Odor=n ^ Bruises?=f ^ Stalk-surface-above-ring=s] V\n",
      "[Gill-spacing=w ^ Stalk-shape=t] V\n",
      "[Odor=n ^ Stalk-color-below-ring=n ^ Stalk-root=b] V\n",
      "[Ring-number=t ^ Spore-print-color=w]]\n"
     ]
    },
    {
     "data": {
      "text/plain": [
       "<RIPPER(verbosity=0, k=4, n_discretize_bins=40, max_total_conds=None, random_state=42, dl_allowance=64, max_rules=None, prune_size=0.33, max_rule_conds=None) with fit ruleset>"
      ]
     },
     "execution_count": 15,
     "metadata": {},
     "output_type": "execute_result"
    }
   ],
   "source": [
    "start_time = time.time()\n",
    "print('Job started at {}.'.format(time.ctime()))\n",
    "\n",
    "clf = lw.RIPPER(random_state=42, k=4, prune_size=0.33, n_discretize_bins=40, verbosity=0) # n_discretize_bins=None, max_rules=2\n",
    "# Or irep_clf = lw.IREP() to build a model using IREP\n",
    "clf.fit(train, class_feat=LABEL) # Or pass X and y data to .fit\n",
    "\n",
    "end_time = time.time()\n",
    "elapsed = end_time - start_time\n",
    "print('Job finished at {} in {} seconds.'.format(time.ctime(), round(elapsed, 1)))\n",
    "\n",
    "print('Test accuracy: ', clf.score(X_test, y_test))\n",
    "\n",
    "accuracy = clf.score(X_test, y_test, accuracy_score)\n",
    "print('Scikit accuracy: ', accuracy)\n",
    "balanced_accuracy = clf.score(X_test, y_test, balanced_accuracy_score)\n",
    "print('Scikit balanced accuracy: ', balanced_accuracy)\n",
    "\n",
    "precision = clf.score(X_test, y_test, precision_score)\n",
    "recall = clf.score(X_test, y_test, recall_score)\n",
    "print(f'precision: {precision} recall: {recall}')\n",
    "print('last column', df.columns[-1:])\n",
    "\n",
    "clf.out_model()\n",
    "clf"
   ]
  },
  {
   "cell_type": "code",
   "execution_count": 16,
   "metadata": {},
   "outputs": [
    {
     "name": "stdout",
     "output_type": "stream",
     "text": [
      "<class 'pandas.core.frame.DataFrame'>\n",
      "RangeIndex: 8124 entries, 0 to 8123\n",
      "Data columns (total 24 columns):\n",
      " #   Column                    Non-Null Count  Dtype \n",
      "---  ------                    --------------  ----- \n",
      " 0   Poisonous/Edible          8124 non-null   bool  \n",
      " 1   Cap-shape                 8124 non-null   object\n",
      " 2   Cap-surface               8124 non-null   object\n",
      " 3   Cap-color                 8124 non-null   object\n",
      " 4   Bruises?                  8124 non-null   object\n",
      " 5   Odor                      8124 non-null   object\n",
      " 6   Gill-attachment           8124 non-null   object\n",
      " 7   Gill-spacing              8124 non-null   object\n",
      " 8   Gill-size                 8124 non-null   object\n",
      " 9   Gill-color                8124 non-null   object\n",
      " 10  Stalk-shape               8124 non-null   object\n",
      " 11  Stalk-root                8124 non-null   object\n",
      " 12  Stalk-surface-above-ring  8124 non-null   object\n",
      " 13  Stalk-surface-below-ring  8124 non-null   object\n",
      " 14  Stalk-color-above-ring    8124 non-null   object\n",
      " 15  Stalk-color-below-ring    8124 non-null   object\n",
      " 16  Veil-type                 8124 non-null   object\n",
      " 17  Veil-color                8124 non-null   object\n",
      " 18  Ring-number               8124 non-null   object\n",
      " 19  Ring-type                 8124 non-null   object\n",
      " 20  Spore-print-color         8124 non-null   object\n",
      " 21  Population                8124 non-null   object\n",
      " 22  Habitat                   8124 non-null   object\n",
      " 23  predict                   8124 non-null   bool  \n",
      "dtypes: bool(2), object(22)\n",
      "memory usage: 1.4+ MB\n"
     ]
    }
   ],
   "source": [
    "df['predict'] = clf.predict(df)\n",
    "# df.to_csv('out.csv', index=False)\n",
    "df.info()\n"
   ]
  },
  {
   "cell_type": "code",
   "execution_count": null,
   "metadata": {},
   "outputs": [],
   "source": []
  }
 ],
 "metadata": {
  "kernelspec": {
   "display_name": "Python 3",
   "language": "python",
   "name": "python3"
  },
  "language_info": {
   "codemirror_mode": {
    "name": "ipython",
    "version": 3
   },
   "file_extension": ".py",
   "mimetype": "text/x-python",
   "name": "python",
   "nbconvert_exporter": "python",
   "pygments_lexer": "ipython3",
   "version": "3.8.10"
  }
 },
 "nbformat": 4,
 "nbformat_minor": 4
}

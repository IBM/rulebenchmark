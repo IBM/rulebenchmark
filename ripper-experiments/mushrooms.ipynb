{
 "metadata": {
  "language_info": {
   "codemirror_mode": {
    "name": "ipython",
    "version": 3
   },
   "file_extension": ".py",
   "mimetype": "text/x-python",
   "name": "python",
   "nbconvert_exporter": "python",
   "pygments_lexer": "ipython3",
   "version": "3.8.3"
  },
  "orig_nbformat": 2,
  "kernelspec": {
   "name": "python383jvsc74a57bd0082e9a3bcad0a290d0001e938aa60b99250c6c2ef33a923c00b70f9826caf4b7",
   "display_name": "Python 3.8.3 64-bit"
  }
 },
 "nbformat": 4,
 "nbformat_minor": 2,
 "cells": [
  {
   "cell_type": "code",
   "execution_count": 18,
   "metadata": {},
   "outputs": [],
   "source": [
    "import pandas as pd\n",
    "import wittgenstein as lw\n",
    "from sklearn.model_selection import train_test_split\n",
    "from sklearn.metrics import precision_score, recall_score, accuracy_score, balanced_accuracy_score\n",
    "import time"
   ]
  },
  {
   "cell_type": "code",
   "execution_count": 19,
   "metadata": {},
   "outputs": [],
   "source": [
    "def convert_label(char):\n",
    "    return (char == 'e') # p\n",
    "\n",
    "LABEL = 'Poisonous/Edible'"
   ]
  },
  {
   "cell_type": "code",
   "execution_count": 20,
   "metadata": {},
   "outputs": [
    {
     "output_type": "stream",
     "name": "stdout",
     "text": [
      "e    4208\np    3916\nName: Poisonous/Edible, dtype: int64\nTrue     4208\nFalse    3916\nName: Poisonous/Edible, dtype: int64\n<class 'pandas.core.frame.DataFrame'>\nRangeIndex: 8124 entries, 0 to 8123\nData columns (total 23 columns):\n #   Column                    Non-Null Count  Dtype \n---  ------                    --------------  ----- \n 0   Poisonous/Edible          8124 non-null   bool  \n 1   Cap-shape                 8124 non-null   object\n 2   Cap-surface               8124 non-null   object\n 3   Cap-color                 8124 non-null   object\n 4   Bruises?                  8124 non-null   object\n 5   Odor                      8124 non-null   object\n 6   Gill-attachment           8124 non-null   object\n 7   Gill-spacing              8124 non-null   object\n 8   Gill-size                 8124 non-null   object\n 9   Gill-color                8124 non-null   object\n 10  Stalk-shape               8124 non-null   object\n 11  Stalk-root                8124 non-null   object\n 12  Stalk-surface-above-ring  8124 non-null   object\n 13  Stalk-surface-below-ring  8124 non-null   object\n 14  Stalk-color-above-ring    8124 non-null   object\n 15  Stalk-color-below-ring    8124 non-null   object\n 16  Veil-type                 8124 non-null   object\n 17  Veil-color                8124 non-null   object\n 18  Ring-number               8124 non-null   object\n 19  Ring-type                 8124 non-null   object\n 20  Spore-print-color         8124 non-null   object\n 21  Population                8124 non-null   object\n 22  Habitat                   8124 non-null   object\ndtypes: bool(1), object(22)\nmemory usage: 1.4+ MB\n"
     ]
    }
   ],
   "source": [
    "df = pd.read_csv('data/mushroom.csv')\n",
    "print(df[LABEL].value_counts())\n",
    "df[LABEL] = df[LABEL].map(convert_label) # swap label or convert if needed\n",
    "print(df[LABEL].value_counts())\n",
    "df.info()\n",
    "# df.to_csv('out.csv', index=False)\n"
   ]
  },
  {
   "cell_type": "code",
   "execution_count": 21,
   "metadata": {},
   "outputs": [
    {
     "output_type": "stream",
     "name": "stdout",
     "text": [
      "Training set:\nTrue     2830\nFalse    2613\nName: Poisonous/Edible, dtype: int64\nTest set:\nTrue     1378\nFalse    1303\nName: Poisonous/Edible, dtype: int64\n"
     ]
    }
   ],
   "source": [
    "train, test = train_test_split(df, test_size=.33, random_state=42)\n",
    "# test.info()\n",
    "print('Training set:')\n",
    "print(train[LABEL].value_counts())\n",
    "print('Test set:')\n",
    "print(test[LABEL].value_counts())\n",
    "X_test = test.drop(LABEL, axis=1)\n",
    "y_test = test[LABEL]\n",
    "# print(y_test)"
   ]
  },
  {
   "cell_type": "code",
   "execution_count": 22,
   "metadata": {},
   "outputs": [
    {
     "output_type": "stream",
     "name": "stdout",
     "text": [
      "Job started at Wed Apr 28 22:00:53 2021.\n",
      "Job finished at Wed Apr 28 22:00:54 2021 in 0.7 seconds.\n",
      "Test accuracy:  1.0\n",
      "Scikit accuracy:  1.0\n",
      "Scikit balanced accuracy:  1.0\n",
      "precision: 1.0 recall: 1.0\n",
      "last column Index(['Habitat'], dtype='object')\n",
      "[[Odor=n ^ Stalk-shape=t] V\n",
      "[Ring-type=p ^ Gill-size=b ^ Stalk-shape=e ^ Ring-number=o] V\n",
      "[Odor=n ^ Stalk-root=? ^ Gill-size=b] V\n",
      "[Odor=n ^ Bruises?=f ^ Stalk-surface-above-ring=s] V\n",
      "[Gill-spacing=w ^ Stalk-shape=t] V\n",
      "[Odor=n ^ Stalk-color-below-ring=n ^ Stalk-root=b] V\n",
      "[Ring-number=t ^ Spore-print-color=w]]\n"
     ]
    },
    {
     "output_type": "execute_result",
     "data": {
      "text/plain": [
       "<RIPPER(max_rules=None, k=4, prune_size=0.33, n_discretize_bins=40, verbosity=0, dl_allowance=64, max_rule_conds=None, random_state=42, max_total_conds=None)>"
      ]
     },
     "metadata": {},
     "execution_count": 22
    }
   ],
   "source": [
    "start_time = time.time()\n",
    "print('Job started at {}.'.format(time.ctime()))\n",
    "\n",
    "clf = lw.RIPPER(random_state=42, k=4, prune_size=0.33, n_discretize_bins=40, verbosity=0) # n_discretize_bins=None, max_rules=2\n",
    "# Or irep_clf = lw.IREP() to build a model using IREP\n",
    "clf.fit(train, class_feat=LABEL) # Or pass X and y data to .fit\n",
    "\n",
    "end_time = time.time()\n",
    "elapsed = end_time - start_time\n",
    "print('Job finished at {} in {} seconds.'.format(time.ctime(), round(elapsed, 1)))\n",
    "\n",
    "print('Test accuracy: ', clf.score(X_test, y_test))\n",
    "\n",
    "accuracy = clf.score(X_test, y_test, accuracy_score)\n",
    "print('Scikit accuracy: ', accuracy)\n",
    "balanced_accuracy = clf.score(X_test, y_test, balanced_accuracy_score)\n",
    "print('Scikit balanced accuracy: ', balanced_accuracy)\n",
    "\n",
    "precision = clf.score(X_test, y_test, precision_score)\n",
    "recall = clf.score(X_test, y_test, recall_score)\n",
    "print(f'precision: {precision} recall: {recall}')\n",
    "print('last column', df.columns[-1:])\n",
    "\n",
    "clf.out_model()\n",
    "clf"
   ]
  },
  {
   "cell_type": "code",
   "execution_count": 186,
   "metadata": {},
   "outputs": [],
   "source": [
    "df['predict'] = ripper_clf.predict(df)\n",
    "df.to_csv('out.csv', index=False)"
   ]
  },
  {
   "cell_type": "code",
   "execution_count": 187,
   "metadata": {},
   "outputs": [
    {
     "output_type": "stream",
     "name": "stdout",
     "text": [
      "<class 'pandas.core.frame.DataFrame'>\nRangeIndex: 614 entries, 0 to 613\nData columns (total 13 columns):\n #   Column             Non-Null Count  Dtype \n---  ------             --------------  ----- \n 0   Loan_ID            614 non-null    object\n 1   Gender             614 non-null    object\n 2   Married            614 non-null    object\n 3   Dependents         614 non-null    object\n 4   Education          614 non-null    object\n 5   Self_Employed      614 non-null    object\n 6   ApplicantIncome    614 non-null    int64 \n 7   CoapplicantIncome  614 non-null    int64 \n 8   LoanAmount         614 non-null    int64 \n 9   Loan_Amount_Term   614 non-null    int64 \n 10  Property_Area      614 non-null    object\n 11  Loan_Status        614 non-null    bool  \n 12  predict            614 non-null    bool  \ndtypes: bool(2), int64(4), object(7)\nmemory usage: 54.1+ KB\n"
     ]
    }
   ],
   "source": [
    "df.info()\n",
    "df.to_csv('out.csv', index=False)\n"
   ]
  },
  {
   "cell_type": "code",
   "execution_count": null,
   "metadata": {},
   "outputs": [],
   "source": []
  }
 ]
}
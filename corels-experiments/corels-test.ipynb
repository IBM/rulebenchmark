{
 "cells": [
  {
   "cell_type": "code",
   "execution_count": 1,
   "metadata": {},
   "outputs": [],
   "source": [
    "from corels import *  # use pip3 install corels"
   ]
  },
  {
   "cell_type": "markdown",
   "metadata": {},
   "source": [
    "# Churn example"
   ]
  },
  {
   "cell_type": "code",
   "execution_count": 2,
   "metadata": {},
   "outputs": [
    {
     "name": "stdout",
     "output_type": "stream",
     "text": [
      "['Est Income <= 30000', 'Est Income >= 30000', 'Est Income <= 40000', 'Est Income >= 40000', 'Est Income <= 50000', 'Est Income >= 50000', 'Est Income <= 60000', 'Est Income >= 60000', 'Est Income <= 70000', 'Est Income >= 70000', 'Est Income <= 80000', 'Est Income >= 80000', 'Est Income <= 90000', 'Est Income >= 90000', 'Est Income <= 100000', 'Est Income >= 100000', 'Est Income <= 110000', 'Est Income >= 110000', 'Age <= 30', 'Age >= 30', 'Age <= 35', 'Age >= 35', 'Age <= 40', 'Age >= 40', 'Age <= 45', 'Age >= 45', 'Age <= 50', 'Age >= 50', 'Age <= 55', 'Age >= 55', 'Age <= 60', 'Age >= 60', 'Age <= 65', 'Age >= 65', 'Age <= 70', 'Age >= 70', 'Age <= 75', 'Age >= 75', 'Age <= 80', 'Age >= 80', 'Age <= 85', 'Age >= 85', 'Usage <= 30', 'Usage >= 30', 'Usage <= 40', 'Usage >= 40', 'Usage <= 50', 'Usage >= 50', 'Usage <= 60', 'Usage >= 60', 'Usage <= 70', 'Usage >= 70', 'Usage <= 80', 'Usage >= 80', 'Usage <= 90', 'Usage >= 90', 'Usage <= 100', 'Usage >= 100', 'Usage <= 110', 'Usage >= 110', 'Usage <= 120', 'Usage >= 120', 'Usage <= 130', 'Usage >= 130', 'Usage <= 140', 'Usage >= 140', 'Usage <= 150', 'Usage >= 150', 'Usage <= 160', 'Usage >= 160', 'Usage <= 170', 'Usage >= 170', 'Gender = F', 'Car Owner = Y', 'Status = S', 'Status = M', 'Status = D', 'Children = 1', 'Children = 2', 'Children = 0', 'Paymethod = CC', 'Paymethod = CH', 'Paymethod = Auto', 'RatePlan = 3', 'RatePlan = 2', 'RatePlan = 1', 'RatePlan = 4']\n",
      "RULELIST:\n",
      "if [not Status = S && not Children = 0]:\n",
      "  3_Class = 0.5 = False\n",
      "else \n",
      "  3_Class = 0.5 = True\n",
      "0.7470817120622568\n"
     ]
    }
   ],
   "source": [
    "# Load the dataset\n",
    "X, y, features, label = load_from_csv(\"data/churn4CORELSext05.csv\") # compas, churn4CORELS-bin\n",
    "print(features)\n",
    "\n",
    "# Create the model, with 10000 as the maximum number of iterations \n",
    "c = CorelsClassifier(n_iter=10000)\n",
    "\n",
    "# Fit, and score the model on the training set\n",
    "a = c.fit(X, y, features=features, prediction_name=label).score(X, y)\n",
    "\n",
    "# Print the model's accuracy on the training set\n",
    "print(a)"
   ]
  },
  {
   "cell_type": "markdown",
   "metadata": {},
   "source": [
    "# Toy example provided by Corels"
   ]
  },
  {
   "cell_type": "code",
   "execution_count": 3,
   "metadata": {},
   "outputs": [
    {
     "name": "stdout",
     "output_type": "stream",
     "text": [
      "RULELIST:\n",
      "if [not Likes Pie && not Age < 20]:\n",
      "  Has a dirty computer = False\n",
      "else if [Mac User && Likes Pie]:\n",
      "  Has a dirty computer = False\n",
      "else \n",
      "  Has a dirty computer = True\n",
      "[ True False False  True]\n"
     ]
    }
   ],
   "source": [
    "# from corels import CorelsClassifier\n",
    "\n",
    "# [\"loud\", \"samples\"] is the most verbose setting possible\n",
    "C = CorelsClassifier(max_card=2, c=0.0, verbosity=[\"loud\", \"samples\"])\n",
    "\n",
    "# 4 samples, 3 features\n",
    "X = [[1, 0, 1], [0, 0, 0], [1, 1, 0], [0, 1, 0]]\n",
    "y = [1, 0, 0, 1]\n",
    "# Feature names\n",
    "features = [\"Mac User\", \"Likes Pie\", \"Age < 20\"]\n",
    "\n",
    "# Fit the model\n",
    "C.fit(X, y, features=features, prediction_name=\"Has a dirty computer\")\n",
    "\n",
    "# Print the resulting rulelist\n",
    "print(C.rl())\n",
    "\n",
    "# Predict on the training set\n",
    "print(C.predict(X))"
   ]
  }
 ],
 "metadata": {
  "interpreter": {
   "hash": "e534e48711db4d1e1c48977d0d14ff85b1f16d41bcc4fdfd88268a329b3c9d66"
  },
  "kernelspec": {
   "display_name": "Python 3.7.9 64-bit",
   "name": "python3"
  },
  "language_info": {
   "codemirror_mode": {
    "name": "ipython",
    "version": 3
   },
   "file_extension": ".py",
   "mimetype": "text/x-python",
   "name": "python",
   "nbconvert_exporter": "python",
   "pygments_lexer": "ipython3",
   "version": "3.7.9"
  },
  "metadata": {
   "interpreter": {
    "hash": "e534e48711db4d1e1c48977d0d14ff85b1f16d41bcc4fdfd88268a329b3c9d66"
   }
  },
  "orig_nbformat": 2
 },
 "nbformat": 4,
 "nbformat_minor": 2
}

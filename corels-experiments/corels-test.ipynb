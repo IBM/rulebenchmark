{
 "cells": [
  {
   "cell_type": "code",
   "execution_count": 1,
   "metadata": {},
   "outputs": [],
   "source": [
    "from corels import *  # use pip3 install corels\n"
   ]
  },
  {
   "cell_type": "markdown",
   "metadata": {},
   "source": [
    "# Churn example"
   ]
  },
  {
   "cell_type": "code",
   "execution_count": 2,
   "metadata": {},
   "outputs": [
    {
     "name": "stdout",
     "output_type": "stream",
     "text": [
      "['Est Income <= 30000', 'Est Income >= 30000', 'Est Income <= 40000', 'Est Income >= 40000', 'Est Income <= 50000', 'Est Income >= 50000', 'Est Income <= 60000', 'Est Income >= 60000', 'Est Income <= 70000', 'Est Income >= 70000', 'Est Income <= 80000', 'Est Income >= 80000', 'Est Income <= 90000', 'Est Income >= 90000', 'Est Income <= 100000', 'Est Income >= 100000', 'Est Income <= 110000', 'Est Income >= 110000', 'Age <= 30', 'Age >= 30', 'Age <= 35', 'Age >= 35', 'Age <= 40', 'Age >= 40', 'Age <= 45', 'Age >= 45', 'Age <= 50', 'Age >= 50', 'Age <= 55', 'Age >= 55', 'Age <= 60', 'Age >= 60', 'Age <= 65', 'Age >= 65', 'Age <= 70', 'Age >= 70', 'Age <= 75', 'Age >= 75', 'Age <= 80', 'Age >= 80', 'Age <= 85', 'Age >= 85', 'Usage <= 30', 'Usage >= 30', 'Usage <= 40', 'Usage >= 40', 'Usage <= 50', 'Usage >= 50', 'Usage <= 60', 'Usage >= 60', 'Usage <= 70', 'Usage >= 70', 'Usage <= 80', 'Usage >= 80', 'Usage <= 90', 'Usage >= 90', 'Usage <= 100', 'Usage >= 100', 'Usage <= 110', 'Usage >= 110', 'Usage <= 120', 'Usage >= 120', 'Usage <= 130', 'Usage >= 130', 'Usage <= 140', 'Usage >= 140', 'Usage <= 150', 'Usage >= 150', 'Usage <= 160', 'Usage >= 160', 'Usage <= 170', 'Usage >= 170', 'Gender = F', 'Car Owner = Y', 'Status = S', 'Status = M', 'Status = D', 'Children = 1', 'Children = 2', 'Children = 0', 'Paymethod = CC', 'Paymethod = CH', 'Paymethod = Auto', 'RatePlan = 3', 'RatePlan = 2', 'RatePlan = 1', 'RatePlan = 4']\n",
      "RULELIST:\n",
      "if [not Status = S && not Children = 0]:\n",
      "  3_Class = 0.5 = False\n",
      "else \n",
      "  3_Class = 0.5 = True\n",
      "0.7470817120622568\n"
     ]
    }
   ],
   "source": [
    "# Load the dataset\n",
    "X, y, features, label = load_from_csv(\"data/churn4CORELSext05.csv\") # compas, churn4CORELS-bin\n",
    "print(features)\n",
    "\n",
    "# Create the model, with 10000 as the maximum number of iterations \n",
    "c = CorelsClassifier(n_iter=10000)\n",
    "\n",
    "# Fit, and score the model on the training set\n",
    "a = c.fit(X, y, features=features, prediction_name=label).score(X, y)\n",
    "\n",
    "# Print the model's accuracy on the training set\n",
    "print(a)"
   ]
  },
  {
   "cell_type": "markdown",
   "metadata": {},
   "source": [
    "# Toy example provided by Corels"
   ]
  },
  {
   "cell_type": "code",
   "execution_count": 3,
   "metadata": {},
   "outputs": [
    {
     "name": "stdout",
     "output_type": "stream",
     "text": [
      "RULELIST:\n",
      "if [not Likes Pie && not Age < 20]:\n",
      "  Has a dirty computer = False\n",
      "else if [Mac User && Likes Pie]:\n",
      "  Has a dirty computer = False\n",
      "else \n",
      "  Has a dirty computer = True(1) Mac User generated with support 0.500000\n",
      "(2) Likes Pie generated with support 0.500000\n",
      "\n",
      "[ True False False  True]\n",
      "(3) Age < 20 generated with support 0.250000\n",
      "(4) Mac User-not generated with support 0.500000\n",
      "(5) Likes Pie-not generated with support 0.500000\n",
      "(6) Age < 20-not generated with support 0.750000\n",
      "(7) {Mac User,Likes Pie} generated with support 0.250000\n",
      "(8) {Mac User,Age < 20} generated with support 0.250000\n",
      "(9) {Mac User,Likes Pie-not} generated with support 0.250000\n",
      "(10) {Mac User,Age < 20-not} generated with support 0.250000\n",
      "(11) {Likes Pie,Mac User-not} generated with support 0.250000\n",
      "(12) {Likes Pie,Age < 20-not} generated with support 0.500000\n",
      "(13) {Age < 20,Likes Pie-not} generated with support 0.250000\n",
      "(14) {Mac User-not,Likes Pie-not} generated with support 0.250000\n",
      "(15) {Mac User-not,Age < 20-not} generated with support 0.500000\n",
      "(16) {Likes Pie-not,Age < 20-not} generated with support 0.250000\n",
      "Generated 16 rules\n",
      "Generated minority bound with support 0.000000\n",
      "**Not using GMP library**\n",
      "17 rules 4 samples\n",
      "\n",
      "RULE 0: ( default ), support=4, card=1:1111\n",
      "RULE 1: ( Mac User ), support=2, card=1:1010\n",
      "RULE 2: ( Likes Pie ), support=2, card=1:0011\n",
      "RULE 3: ( Age < 20 ), support=1, card=1:1000\n",
      "RULE 4: ( Mac User-not ), support=2, card=1:0101\n",
      "RULE 5: ( Likes Pie-not ), support=2, card=1:1100\n",
      "RULE 6: ( Age < 20-not ), support=3, card=1:0111\n",
      "RULE 7: ( Mac User,Likes Pie ), support=1, card=2:0010\n",
      "RULE 8: ( Mac User,Age < 20 ), support=1, card=2:1000\n",
      "RULE 9: ( Mac User,Likes Pie-not ), support=1, card=2:1000\n",
      "RULE 10: ( Mac User,Age < 20-not ), support=1, card=2:0010\n",
      "RULE 11: ( Likes Pie,Mac User-not ), support=1, card=2:0001\n",
      "RULE 12: ( Likes Pie,Age < 20-not ), support=2, card=2:0011\n",
      "RULE 13: ( Age < 20,Likes Pie-not ), support=1, card=2:1000\n",
      "RULE 14: ( Mac User-not,Likes Pie-not ), support=1, card=2:0100\n",
      "RULE 15: ( Mac User-not,Age < 20-not ), support=2, card=2:0101\n",
      "RULE 16: ( Likes Pie-not,Age < 20-not ), support=1, card=2:0100\n",
      "\n",
      "\n",
      "Labels (2) for 4 samples\n",
      "\n",
      "RULE 0: ( label=0 ), support=2, card=1:0110\n",
      "RULE 1: ( label=1 ), support=2, card=1:1001\n",
      "\n",
      "\n",
      "Minority bound for 4 samples\n",
      "\n",
      "RULE 0: ( minority ), support=0, card=1:0000\n",
      "\n",
      "\n",
      "LEARNING RULE LIST via LOWER BOUND Prefix Map\n",
      "min(objective): 0.50000 -> 0.25000, length: 1, cache size: 3\n",
      "before garbage_collect. num_nodes: 12\n",
      "after garbage_collect. num_nodes: 12\n",
      "min(objective): 0.25000 -> 0.00000, length: 2, cache size: 15\n",
      "before garbage_collect. num_nodes: 15\n",
      "after garbage_collect. num_nodes: 14\n",
      "iter: 3, tree: 1, queue: 0, pmap: 14, time elapsed: 0.000051\n",
      "Exited because queue empty\n",
      "Deleting queue elements and corresponding nodes in the cache,since they may not be reachable by the tree's destructor\n",
      "\n",
      "minimum objective: 0.0000000000\n",
      "minimum lower bound in queue: 1.0000000000\n",
      "\n",
      "final num_nodes: 1\n",
      "final num_evaluated: 2\n",
      "final min_objective: 0.00000\n",
      "final accuracy: 1.00000\n",
      "final total time: 0.000068\n"
     ]
    }
   ],
   "source": [
    "# from corels import CorelsClassifier\n",
    "\n",
    "# [\"loud\", \"samples\"] is the most verbose setting possible\n",
    "C = CorelsClassifier(max_card=2, c=0.0, verbosity=[\"loud\", \"samples\"])\n",
    "\n",
    "# 4 samples, 3 features\n",
    "X = [[1, 0, 1], [0, 0, 0], [1, 1, 0], [0, 1, 0]]\n",
    "y = [1, 0, 0, 1]\n",
    "# Feature names\n",
    "features = [\"Mac User\", \"Likes Pie\", \"Age < 20\"]\n",
    "\n",
    "# Fit the model\n",
    "C.fit(X, y, features=features, prediction_name=\"Has a dirty computer\")\n",
    "\n",
    "# Print the resulting rulelist\n",
    "print(C.rl())\n",
    "\n",
    "# Predict on the training set\n",
    "print(C.predict(X))"
   ]
  }
 ],
 "metadata": {
  "interpreter": {
   "hash": "e534e48711db4d1e1c48977d0d14ff85b1f16d41bcc4fdfd88268a329b3c9d66"
  },
  "kernelspec": {
   "display_name": "Python 3.7.9 64-bit",
   "name": "python3"
  },
  "language_info": {
   "codemirror_mode": {
    "name": "ipython",
    "version": 3
   },
   "file_extension": ".py",
   "mimetype": "text/x-python",
   "name": "python",
   "nbconvert_exporter": "python",
   "pygments_lexer": "ipython3",
   "version": "3.8.10"
  },
  "metadata": {
   "interpreter": {
    "hash": "e534e48711db4d1e1c48977d0d14ff85b1f16d41bcc4fdfd88268a329b3c9d66"
   }
  },
  "orig_nbformat": 2
 },
 "nbformat": 4,
 "nbformat_minor": 2
}

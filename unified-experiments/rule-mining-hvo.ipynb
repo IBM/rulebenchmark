{
 "cells": [
  {
   "cell_type": "markdown",
   "metadata": {},
   "source": [
    "# Generic Rule Induction Notebook\n",
    "\n",
    "Continuoulsy refined."
   ]
  },
  {
   "cell_type": "code",
   "execution_count": 1,
   "metadata": {},
   "outputs": [],
   "source": [
    "#%store -z acc_list \n",
    "#%store -z prec_list "
   ]
  },
  {
   "cell_type": "markdown",
   "metadata": {},
   "source": [
    "## README\n",
    "\n",
    "- GLRM needs to run in proper (conda) aix360 environment\n",
    "- BRCG runs with proper (conda) aix360 environment\n",
    "- Use aix360i environment for RIPPER"
   ]
  },
  {
   "cell_type": "markdown",
   "metadata": {},
   "source": [
    "### Configuration\n"
   ]
  },
  {
   "cell_type": "code",
   "execution_count": 2,
   "metadata": {},
   "outputs": [
    {
     "name": "stdout",
     "output_type": "stream",
     "text": [
      "Proceed with configuration: binary-churn-ripper\n",
      "{'NAME': 'binary-churn-ripper', 'DATA_SET': '../data/churn_prob_out_35.csv', 'DATA_TYPES': {'Children': <class 'float'>, 'RatePlan': <class 'str'>}, 'DROP': ['Id', 'pChurn', '3_Class', '5_Class', 'is_test_set'], 'MODE': 'PREDICTIVE', 'TRAIN_TEST_SPLIT': 0.3, 'BINARIZER': 'NATIVE', 'ALGO': 'RIPPER', 'TARGET_LABEL': 'CHURN', 'TYPE': 'BINARY', 'EXAMPLE_FEATURE': 'Est Income', 'POS_CLASS': 'T', 'BASELINE': True, 'USECASE': None}\n"
     ]
    }
   ],
   "source": [
    "from config import config_dict\n",
    "from config import config_dict_imbalanced\n",
    "\n",
    "# CONFIG = config_dict_imbalanced['CONFIG-I4R']\n",
    "CONFIG = config_dict['CONFIG8']\n",
    "print('Proceed with configuration:', CONFIG['NAME'])\n",
    "print(CONFIG)"
   ]
  },
  {
   "cell_type": "code",
   "execution_count": 3,
   "metadata": {},
   "outputs": [
    {
     "name": "stdout",
     "output_type": "stream",
     "text": [
      "Importing dev version v0.981 of RIPPER\n"
     ]
    }
   ],
   "source": [
    "import pandas as pd\n",
    "import numpy as np\n",
    "# import os\n",
    "from sklearn.model_selection import train_test_split #, GridSearchCV\n",
    "from sklearn.metrics import matthews_corrcoef,fbeta_score,confusion_matrix,f1_score,precision_score, recall_score, accuracy_score, balanced_accuracy_score, confusion_matrix, r2_score, explained_variance_score, mean_absolute_error, max_error\n",
    "from sklearn.ensemble import GradientBoostingRegressor\n",
    "from sklearn.preprocessing import LabelEncoder, OneHotEncoder\n",
    "from xgboost import XGBClassifier\n",
    "import time\n",
    "import warnings\n",
    "import re\n",
    "\n",
    "if CONFIG['BINARIZER'] == 'QUANTILE':\n",
    "    from aix360.algorithms.rbm import FeatureBinarizer\n",
    "elif CONFIG['BINARIZER'] == 'TREES':\n",
    "    from aix360.algorithms.rbm import FeatureBinarizerFromTrees\n",
    "if CONFIG['ALGO'] == 'RIPPER':\n",
    "    from aix360i.algorithms.rule_induction.ripper import Ripper\n",
    "elif CONFIG['ALGO'] == 'BRCG':\n",
    "    from aix360.algorithms.rbm import BooleanRuleCG # BRCGExplainer\n",
    "elif CONFIG['ALGO'] == 'CORELS':\n",
    "    from corels import *\n",
    "elif CONFIG['ALGO'] == 'R2N':\n",
    "    import aix360i.algorithms.rule_induction.r2n.r2n_algo as algo\n",
    "    from aix360i.algorithms.rule_induction.r2n.training import train as train_R2N\n",
    "elif CONFIG['ALGO'] == 'Witt_RIPPER':\n",
    "    import wittgenstein as lw\n",
    "elif CONFIG['ALGO'] == 'GLRM':\n",
    "    from aix360.algorithms.rbm import GLRMExplainer, LinearRuleRegression\n"
   ]
  },
  {
   "cell_type": "markdown",
   "metadata": {},
   "source": [
    "### Data"
   ]
  },
  {
   "cell_type": "code",
   "execution_count": 4,
   "metadata": {},
   "outputs": [
    {
     "name": "stdout",
     "output_type": "stream",
     "text": [
      "Read 1799 rows from ../data/churn_prob_out_35.csv\n",
      "<class 'pandas.core.frame.DataFrame'>\n",
      "RangeIndex: 1799 entries, 0 to 1798\n",
      "Data columns (total 10 columns):\n",
      " #   Column      Non-Null Count  Dtype  \n",
      "---  ------      --------------  -----  \n",
      " 0   CHURN       1799 non-null   object \n",
      " 1   Gender      1799 non-null   object \n",
      " 2   Status      1799 non-null   object \n",
      " 3   Children    1799 non-null   float64\n",
      " 4   Est Income  1799 non-null   float64\n",
      " 5   Car Owner   1799 non-null   object \n",
      " 6   Age         1799 non-null   float64\n",
      " 7   Paymethod   1799 non-null   object \n",
      " 8   Usage       1799 non-null   float64\n",
      " 9   RatePlan    1799 non-null   object \n",
      "dtypes: float64(4), object(6)\n",
      "memory usage: 140.7+ KB\n"
     ]
    },
    {
     "data": {
      "text/html": [
       "<div>\n",
       "<style scoped>\n",
       "    .dataframe tbody tr th:only-of-type {\n",
       "        vertical-align: middle;\n",
       "    }\n",
       "\n",
       "    .dataframe tbody tr th {\n",
       "        vertical-align: top;\n",
       "    }\n",
       "\n",
       "    .dataframe thead th {\n",
       "        text-align: right;\n",
       "    }\n",
       "</style>\n",
       "<table border=\"1\" class=\"dataframe\">\n",
       "  <thead>\n",
       "    <tr style=\"text-align: right;\">\n",
       "      <th></th>\n",
       "      <th>CHURN</th>\n",
       "      <th>Gender</th>\n",
       "      <th>Status</th>\n",
       "      <th>Children</th>\n",
       "      <th>Est Income</th>\n",
       "      <th>Car Owner</th>\n",
       "      <th>Age</th>\n",
       "      <th>Paymethod</th>\n",
       "      <th>Usage</th>\n",
       "      <th>RatePlan</th>\n",
       "    </tr>\n",
       "  </thead>\n",
       "  <tbody>\n",
       "    <tr>\n",
       "      <th>0</th>\n",
       "      <td>T</td>\n",
       "      <td>F</td>\n",
       "      <td>S</td>\n",
       "      <td>1.0</td>\n",
       "      <td>38000.00</td>\n",
       "      <td>N</td>\n",
       "      <td>24.393333</td>\n",
       "      <td>CC</td>\n",
       "      <td>229.64</td>\n",
       "      <td>3</td>\n",
       "    </tr>\n",
       "    <tr>\n",
       "      <th>1</th>\n",
       "      <td>F</td>\n",
       "      <td>M</td>\n",
       "      <td>M</td>\n",
       "      <td>2.0</td>\n",
       "      <td>29616.00</td>\n",
       "      <td>N</td>\n",
       "      <td>49.426667</td>\n",
       "      <td>CH</td>\n",
       "      <td>75.29</td>\n",
       "      <td>2</td>\n",
       "    </tr>\n",
       "    <tr>\n",
       "      <th>2</th>\n",
       "      <td>F</td>\n",
       "      <td>M</td>\n",
       "      <td>M</td>\n",
       "      <td>0.0</td>\n",
       "      <td>19732.80</td>\n",
       "      <td>N</td>\n",
       "      <td>50.673333</td>\n",
       "      <td>CC</td>\n",
       "      <td>47.25</td>\n",
       "      <td>3</td>\n",
       "    </tr>\n",
       "    <tr>\n",
       "      <th>3</th>\n",
       "      <td>F</td>\n",
       "      <td>M</td>\n",
       "      <td>S</td>\n",
       "      <td>2.0</td>\n",
       "      <td>96.33</td>\n",
       "      <td>N</td>\n",
       "      <td>56.473333</td>\n",
       "      <td>CC</td>\n",
       "      <td>59.01</td>\n",
       "      <td>1</td>\n",
       "    </tr>\n",
       "    <tr>\n",
       "      <th>4</th>\n",
       "      <td>F</td>\n",
       "      <td>F</td>\n",
       "      <td>M</td>\n",
       "      <td>2.0</td>\n",
       "      <td>52004.80</td>\n",
       "      <td>N</td>\n",
       "      <td>25.140000</td>\n",
       "      <td>CH</td>\n",
       "      <td>28.14</td>\n",
       "      <td>1</td>\n",
       "    </tr>\n",
       "  </tbody>\n",
       "</table>\n",
       "</div>"
      ],
      "text/plain": [
       "  CHURN Gender Status  Children  Est Income Car Owner        Age Paymethod  \\\n",
       "0     T      F      S       1.0    38000.00         N  24.393333        CC   \n",
       "1     F      M      M       2.0    29616.00         N  49.426667        CH   \n",
       "2     F      M      M       0.0    19732.80         N  50.673333        CC   \n",
       "3     F      M      S       2.0       96.33         N  56.473333        CC   \n",
       "4     F      F      M       2.0    52004.80         N  25.140000        CH   \n",
       "\n",
       "    Usage RatePlan  \n",
       "0  229.64        3  \n",
       "1   75.29        2  \n",
       "2   47.25        3  \n",
       "3   59.01        1  \n",
       "4   28.14        1  "
      ]
     },
     "execution_count": 4,
     "metadata": {},
     "output_type": "execute_result"
    }
   ],
   "source": [
    "def convert(char):\n",
    "    if char == CONFIG['POS_CLASS']:\n",
    "        return 1\n",
    "    else:\n",
    "        return 0\n",
    "\n",
    "df = pd.read_csv(CONFIG['DATA_SET'],dtype=CONFIG['DATA_TYPES'])\n",
    "print('Read', len(df), 'rows from', CONFIG['DATA_SET'])\n",
    "df = df.drop(columns=CONFIG['DROP'])\n",
    "POS_CLASS = CONFIG['POS_CLASS']\n",
    "if CONFIG['ALGO'] == 'BRCG': # or CONFIG['ALGO'] == 'CORELS' \n",
    "    print('Normalising target label for BRCG')\n",
    "    df[CONFIG['TARGET_LABEL']] = df[CONFIG['TARGET_LABEL']].map(convert)\n",
    "    POS_CLASS = 1\n",
    "    # BRCG trains for value 1 as POS_CLASS\n",
    "df.info()\n",
    "df.head()"
   ]
  },
  {
   "cell_type": "code",
   "execution_count": 5,
   "metadata": {},
   "outputs": [
    {
     "name": "stdout",
     "output_type": "stream",
     "text": [
      "F    1076\n",
      "T     723\n",
      "Name: CHURN, dtype: int64\n",
      "Pos label occurrence: 723\n"
     ]
    }
   ],
   "source": [
    "if CONFIG['TYPE'] == 'BINARY':\n",
    "    target_dist = df[CONFIG['TARGET_LABEL']].value_counts()\n",
    "    print(target_dist)\n",
    "    print('Pos label occurrence:', target_dist[POS_CLASS]) \n",
    "elif CONFIG['TYPE'] == 'CONTINUOUS':\n",
    "    df[CONFIG['TARGET_LABEL']].describe()\n",
    "else:\n",
    "    print('Unrecognized problem type')"
   ]
  },
  {
   "cell_type": "markdown",
   "metadata": {},
   "source": [
    "### Train, Test Split"
   ]
  },
  {
   "cell_type": "code",
   "execution_count": 6,
   "metadata": {},
   "outputs": [
    {
     "name": "stdout",
     "output_type": "stream",
     "text": [
      "Training: (1259, 9) (1259,)\n",
      "Test: (540, 9) (540,)\n"
     ]
    }
   ],
   "source": [
    "if CONFIG['TRAIN_TEST_SPLIT'] == 'FIXED':\n",
    "    if CONFIG['MODE'] == 'PREDICTIVE':\n",
    "        train = df[df['is_test_set'] == False]\n",
    "        test = df[df['is_test_set'] == True]\n",
    "    elif CONFIG['MODE'] == 'DESCRIPTIVE':\n",
    "        train = df\n",
    "        test = df\n",
    "\n",
    "    train = train.drop(columns=['is_test_set'])\n",
    "    test = test.drop(columns=['is_test_set'])\n",
    "\n",
    "    y_train = train[CONFIG['TARGET_LABEL']]\n",
    "    x_train = train.drop(columns=[CONFIG['TARGET_LABEL']])\n",
    "\n",
    "    y_test = test[CONFIG['TARGET_LABEL']]\n",
    "    x_test = test.drop(columns=[CONFIG['TARGET_LABEL']])\n",
    "else:\n",
    "    x_train, x_test, y_train, y_test = train_test_split(df.drop(columns=[CONFIG['TARGET_LABEL']]), df[CONFIG['TARGET_LABEL']], test_size=CONFIG['TRAIN_TEST_SPLIT'], random_state=42)\n",
    "\n",
    "print('Training:', x_train.shape, y_train.shape)\n",
    "print('Test:', x_test.shape, y_test.shape)"
   ]
  },
  {
   "cell_type": "markdown",
   "metadata": {},
   "source": [
    "### Reference Performance"
   ]
  },
  {
   "cell_type": "code",
   "execution_count": 7,
   "metadata": {},
   "outputs": [
    {
     "name": "stdout",
     "output_type": "stream",
     "text": [
      "Index(['Gender', 'Status', 'Car Owner', 'Paymethod', 'RatePlan'], dtype='object')\n",
      "[14:13:10] WARNING: /Users/travis/build/dmlc/xgboost/src/learner.cc:480: \n",
      "Parameters: { use_label_encoder } might not be used.\n",
      "\n",
      "  This may not be accurate due to some parameters are only used in language bindings but\n",
      "  passed down to XGBoost core.  Or some parameters are not used but slip through this\n",
      "  verification. Please open an issue if you find above cases.\n",
      "\n",
      "\n",
      "Accuracy: 0.9611111111111111\n",
      "Balanced accuracy: 0.9586647727272728\n",
      "Precision: 0.9585253456221198\n",
      "Recall: 0.9454545454545454\n"
     ]
    }
   ],
   "source": [
    "if CONFIG['TYPE'] == 'CONTINUOUS':\n",
    "    print('needs prior encoding of categoricals')\n",
    "    # gbr = GradientBoostingRegressor(n_estimators=500, random_state=0)\n",
    "    # gbr.fit(x_train, y_train)\n",
    "    # # print('Training R^2:', r2_score(yTrain, gbr.predict(dfTrain)))\n",
    "    # print('Test R^2:', r2_score(y_test, gbr.predict(x_test)))\n",
    "elif CONFIG['TYPE'] == 'BINARY':\n",
    "    x_train_cp = x_train.copy()\n",
    "    y_train_cp = y_train.copy()\n",
    "    y_train_cp = y_train.map(convert)  # use manual encoding to make sure that pos_value = 1\n",
    "    x_test_cp = x_test.copy()\n",
    "    y_test_cp = y_test.copy()\n",
    "    y_test_cp = y_test.map(convert)  # use manual encoding to make sure that pos_value = 1\n",
    "    categorical_features = x_train_cp.select_dtypes(include=['object']).columns\n",
    "    print(categorical_features)\n",
    "    # numerical_feat = df.select_dtypes(include=['int64', 'float64']).columns\n",
    "    for col in categorical_features:\n",
    "        label_encoder = LabelEncoder()\n",
    "        label_encoder = label_encoder.fit(df[col])\n",
    "        x_train_cp[col] = label_encoder.transform(x_train_cp[col])\n",
    "        x_test_cp[col] = label_encoder.transform(x_test_cp[col])\n",
    "    xgb_model = XGBClassifier(use_label_encoder=False)\n",
    "    xgb_model.fit(x_train_cp, y_train_cp)\n",
    "    y_pred = xgb_model.predict(x_test_cp)\n",
    "\n",
    "    print('Accuracy:', accuracy_score(y_test_cp, y_pred))\n",
    "    print('Balanced accuracy:', balanced_accuracy_score(y_test_cp, y_pred))\n",
    "    print('Precision:', precision_score(y_test_cp, y_pred, pos_label=1))\n",
    "    print('Recall:', recall_score(y_test_cp, y_pred, pos_label=1))\n",
    "    # print(xgb_model)\n",
    "\n"
   ]
  },
  {
   "cell_type": "markdown",
   "metadata": {},
   "source": [
    "### Binarization"
   ]
  },
  {
   "cell_type": "code",
   "execution_count": 8,
   "metadata": {},
   "outputs": [
    {
     "name": "stdout",
     "output_type": "stream",
     "text": [
      "<class 'pandas.core.frame.DataFrame'>\n",
      "Int64Index: 1259 entries, 513 to 1126\n",
      "Data columns (total 9 columns):\n",
      " #   Column      Non-Null Count  Dtype  \n",
      "---  ------      --------------  -----  \n",
      " 0   Gender      1259 non-null   object \n",
      " 1   Status      1259 non-null   object \n",
      " 2   Children    1259 non-null   float64\n",
      " 3   Est Income  1259 non-null   float64\n",
      " 4   Car Owner   1259 non-null   object \n",
      " 5   Age         1259 non-null   float64\n",
      " 6   Paymethod   1259 non-null   object \n",
      " 7   Usage       1259 non-null   float64\n",
      " 8   RatePlan    1259 non-null   object \n",
      "dtypes: float64(4), object(5)\n",
      "memory usage: 98.4+ KB\n"
     ]
    },
    {
     "data": {
      "text/html": [
       "<div>\n",
       "<style scoped>\n",
       "    .dataframe tbody tr th:only-of-type {\n",
       "        vertical-align: middle;\n",
       "    }\n",
       "\n",
       "    .dataframe tbody tr th {\n",
       "        vertical-align: top;\n",
       "    }\n",
       "\n",
       "    .dataframe thead th {\n",
       "        text-align: right;\n",
       "    }\n",
       "</style>\n",
       "<table border=\"1\" class=\"dataframe\">\n",
       "  <thead>\n",
       "    <tr style=\"text-align: right;\">\n",
       "      <th></th>\n",
       "      <th>Gender</th>\n",
       "      <th>Status</th>\n",
       "      <th>Children</th>\n",
       "      <th>Est Income</th>\n",
       "      <th>Car Owner</th>\n",
       "      <th>Age</th>\n",
       "      <th>Paymethod</th>\n",
       "      <th>Usage</th>\n",
       "      <th>RatePlan</th>\n",
       "    </tr>\n",
       "  </thead>\n",
       "  <tbody>\n",
       "    <tr>\n",
       "      <th>513</th>\n",
       "      <td>F</td>\n",
       "      <td>M</td>\n",
       "      <td>2.0</td>\n",
       "      <td>98217.10</td>\n",
       "      <td>N</td>\n",
       "      <td>44.980000</td>\n",
       "      <td>CC</td>\n",
       "      <td>42.74</td>\n",
       "      <td>4</td>\n",
       "    </tr>\n",
       "    <tr>\n",
       "      <th>81</th>\n",
       "      <td>F</td>\n",
       "      <td>S</td>\n",
       "      <td>1.0</td>\n",
       "      <td>12686.00</td>\n",
       "      <td>N</td>\n",
       "      <td>64.800000</td>\n",
       "      <td>Auto</td>\n",
       "      <td>103.88</td>\n",
       "      <td>2</td>\n",
       "    </tr>\n",
       "    <tr>\n",
       "      <th>596</th>\n",
       "      <td>F</td>\n",
       "      <td>M</td>\n",
       "      <td>2.0</td>\n",
       "      <td>8204.72</td>\n",
       "      <td>N</td>\n",
       "      <td>52.973333</td>\n",
       "      <td>CH</td>\n",
       "      <td>39.79</td>\n",
       "      <td>2</td>\n",
       "    </tr>\n",
       "    <tr>\n",
       "      <th>380</th>\n",
       "      <td>F</td>\n",
       "      <td>S</td>\n",
       "      <td>0.0</td>\n",
       "      <td>27498.10</td>\n",
       "      <td>N</td>\n",
       "      <td>52.646667</td>\n",
       "      <td>CC</td>\n",
       "      <td>12.08</td>\n",
       "      <td>4</td>\n",
       "    </tr>\n",
       "    <tr>\n",
       "      <th>1523</th>\n",
       "      <td>F</td>\n",
       "      <td>M</td>\n",
       "      <td>1.0</td>\n",
       "      <td>8073.11</td>\n",
       "      <td>N</td>\n",
       "      <td>52.646667</td>\n",
       "      <td>Auto</td>\n",
       "      <td>89.05</td>\n",
       "      <td>3</td>\n",
       "    </tr>\n",
       "  </tbody>\n",
       "</table>\n",
       "</div>"
      ],
      "text/plain": [
       "     Gender Status  Children  Est Income Car Owner        Age Paymethod  \\\n",
       "513       F      M       2.0    98217.10         N  44.980000        CC   \n",
       "81        F      S       1.0    12686.00         N  64.800000      Auto   \n",
       "596       F      M       2.0     8204.72         N  52.973333        CH   \n",
       "380       F      S       0.0    27498.10         N  52.646667        CC   \n",
       "1523      F      M       1.0     8073.11         N  52.646667      Auto   \n",
       "\n",
       "       Usage RatePlan  \n",
       "513    42.74        4  \n",
       "81    103.88        2  \n",
       "596    39.79        2  \n",
       "380    12.08        4  \n",
       "1523   89.05        3  "
      ]
     },
     "execution_count": 8,
     "metadata": {},
     "output_type": "execute_result"
    }
   ],
   "source": [
    "if CONFIG['BINARIZER'] == 'TREES':\n",
    "    binarizer =  FeatureBinarizerFromTrees(negations=True, randomState=42) # FeatureBinarizer(negations=False), FeatureBinarizerFromTrees(negations=True, randomState=42)\n",
    "    binarizer = binarizer.fit(x_train, y_train)\n",
    "    x_train_bin = binarizer.transform(x_train) #  x_train_bin = binarizer.fit_transform(x_train)\n",
    "    x_test_bin = binarizer.transform(x_test) #  X_fb = self.fb.fit_transform(X_train)\n",
    "elif CONFIG['BINARIZER'] == 'QUANTILE':\n",
    "    binarizer =  FeatureBinarizer(numThresh=9,negations=True) # FeatureBinarizer(negations=False), FeatureBinarizerFromTrees(negations=True, randomState=42)\n",
    "    binarizer = binarizer.fit(x_train)\n",
    "    x_train_bin = binarizer.transform(x_train) #  x_train_bin = binarizer.fit_transform(x_train)\n",
    "    x_test_bin = binarizer.transform(x_test) #  X_fb = self.fb.fit_transform(X_train)  \n",
    "elif CONFIG['BINARIZER'] == 'NATIVE':\n",
    "    x_train_bin = x_train\n",
    "    x_test_bin = x_test\n",
    "else:\n",
    "    print('UNRECOGNIZED BINARIZER')\n",
    "\n",
    "x_train_bin.info() # verbose=True\n",
    "x_train_bin.head()\n",
    "#x_train_bin[CONFIG['EXAMPLE_FEATURE']][:10]\n"
   ]
  },
  {
   "cell_type": "markdown",
   "metadata": {},
   "source": [
    "### Rule Induction"
   ]
  },
  {
   "cell_type": "code",
   "execution_count": 9,
   "metadata": {},
   "outputs": [
    {
     "name": "stdout",
     "output_type": "stream",
     "text": [
      "Starting training for RIPPER\n",
      "Training time: 0.3723928928375244\n"
     ]
    }
   ],
   "source": [
    "start_time = time.time()\n",
    "print('Starting training for', CONFIG['ALGO'])\n",
    "\n",
    "if CONFIG['ALGO'] == 'BRCG':\n",
    "    estimator = BooleanRuleCG() # Explainer()\n",
    "    # estimator.train(x_train, y_train)\n",
    "    with warnings.catch_warnings():\n",
    "        warnings.simplefilter(\"ignore\")\n",
    "        estimator.fit(x_train_bin, y_train)\n",
    "elif CONFIG['ALGO'] == 'RIPPER':\n",
    "    estimator = Ripper()\n",
    "    estimator.fit(x_train_bin, y_train, pos_value=POS_CLASS)\n",
    "elif CONFIG['ALGO'] == 'Witt_RIPPER':\n",
    "    estimator = lw.RIPPER()\n",
    "    estimator.fit(x_train_bin, y_train,class_feat=CONFIG[\"TARGET_LABEL\"] , pos_value=POS_CLASS)\n",
    "elif CONFIG['ALGO'] == 'GLRM':\n",
    "    linear_model = LinearRuleRegression() # lambda0=0.0005,lambda1=0.0001\n",
    "    explainer = GLRMExplainer(linear_model)\n",
    "    explainer.fit(x_train_bin, y_train)\n",
    "elif CONFIG['ALGO'] == 'CORELS':\n",
    "    estimator = CorelsClassifier(n_iter=10000, \n",
    "                     max_card=2, # feautres per statement\n",
    "                     c = 0.0001 # Higher values penalise longer rulelists\n",
    "                    )\n",
    "    estimator.fit(x_train_bin, y_train , prediction_name = CONFIG[\"TARGET_LABEL\"])\n",
    "elif CONFIG['ALGO'] == 'R2N':\n",
    "    estimator = algo.R2Nalgo(n_seeds=3, max_epochs=100, decay_rate=0.998, coef = 10**-3, normalize_num=False)\n",
    "    estimator.fit(x_train_bin, y_train)   \n",
    "else:\n",
    "    print('Unrecognized algorithm:', CONFIG['ALGO'])\n",
    "\n",
    "end_time = time.time()\n",
    "print('Training time: ' + str(end_time - start_time))"
   ]
  },
  {
   "cell_type": "markdown",
   "metadata": {},
   "source": [
    "### Evaluation"
   ]
  },
  {
   "cell_type": "code",
   "execution_count": 11,
   "metadata": {},
   "outputs": [
    {
     "name": "stdout",
     "output_type": "stream",
     "text": [
      "Accuracy: 0.924074074074074\n",
      "Balanced accuracy: 0.9174715909090909\n",
      "Precision: 0.9282296650717703\n",
      "Recall: 0.8818181818181818\n",
      "F1 0.9044289044289043\n",
      "ConfusionMatrix [[305  15]\n",
      " [ 26 194]]\n",
      "F-2 0.8907254361799816\n",
      "Mathhews 0.8422792703169054\n",
      "Stored 'acc_list' (list)\n",
      "Stored 'prec_list' (list)\n"
     ]
    }
   ],
   "source": [
    "acc_list = []\n",
    "prec_list = []\n",
    "%store -r acc_list\n",
    "%store -r prec_list\n",
    "\n",
    "if CONFIG['TYPE'] == 'BINARY':\n",
    "    y_pred = estimator.predict(x_test_bin)\n",
    "    print('Accuracy:', accuracy_score(y_test, y_pred))\n",
    "    print('Balanced accuracy:', balanced_accuracy_score(y_test, y_pred))\n",
    "    print('Precision:', precision_score(y_test, y_pred, pos_label=POS_CLASS))\n",
    "    print('Recall:', recall_score(y_test, y_pred, pos_label=POS_CLASS))\n",
    "    print('F1', f1_score(y_test, y_pred, pos_label=POS_CLASS))\n",
    "    print('ConfusionMatrix', confusion_matrix(y_test, y_pred))\n",
    "    print('F-2', fbeta_score(y_test, y_pred, pos_label=POS_CLASS, beta= 2))\n",
    "    print('Mathhews', matthews_corrcoef(y_test, y_pred))\n",
    "\n",
    "\n",
    "    acc_list.append(recall_score(y_test, y_pred, pos_label=POS_CLASS))\n",
    "    prec_list.append(precision_score(y_test, y_pred, pos_label=POS_CLASS))\n",
    "    %store acc_list\n",
    "    %store prec_list\n",
    "   \n",
    "elif CONFIG['TYPE'] == 'CONTINUOUS':\n",
    "    y_pred = explainer.predict(x_test_bin)\n",
    "    print(f'R2 Score = {r2_score(y_test, y_pred)}')\n",
    "    print(f'Explained Variance = {explained_variance_score(y_test, y_pred)}')\n",
    "    print(f'Mean abs. error = {mean_absolute_error(y_test, y_pred)}')\n",
    "    print(f'Max error = {max_error(y_test, y_pred)}')\n",
    "    \n"
   ]
  },
  {
   "cell_type": "code",
   "execution_count": 12,
   "metadata": {},
   "outputs": [
    {
     "name": "stdout",
     "output_type": "stream",
     "text": [
      "[{'UsageRelation.GE': 74.77, 'UsageRelation.LE': 74.77, 'RatePlanRelation.EQ': '4'}, {'StatusRelation.EQ': 'S', 'Est IncomeRelation.LE': 25285.5, 'PaymethodRelation.EQ': 'CC', 'GenderRelation.EQ': 'F'}, {'GenderRelation.EQ': 'M', 'Est IncomeRelation.GE': 63234.5, 'AgeRelation.GE': 39.093333, 'AgeRelation.LE': 53.28}, {'AgeRelation.LE': 25.0, 'UsageRelation.GE': 82.08, 'Est IncomeRelation.LE': 43634.5}, {'StatusRelation.EQ': 'S', 'Est IncomeRelation.LE': 42000.0, 'GenderRelation.EQ': 'F', 'PaymethodRelation.EQ': 'Auto'}, {'AgeRelation.GE': 53.693333, 'GenderRelation.EQ': 'M', 'Est IncomeRelation.GE': 75799.9}, {'AgeRelation.LE': 25.0, 'ChildrenRelation.LE': 1.0, 'GenderRelation.EQ': 'F', 'UsageRelation.LE': 98.76}, {'PaymethodRelation.EQ': 'CH', 'RatePlanRelation.EQ': '1', 'AgeRelation.LE': 40.313333, 'StatusRelation.EQ': 'S'}, {'RatePlanRelation.EQ': '4', 'AgeRelation.GE': 48.373333, 'ChildrenRelation.LE': 0.0, 'Est IncomeRelation.GE': 77129.1}, {'UsageRelation.GE': 46.32, 'Est IncomeRelation.GE': 35000.0, 'GenderRelation.EQ': 'F', 'UsageRelation.LE': 55.32, 'Est IncomeRelation.LE': 35976.5}, {'AgeRelation.GE': 53.013333, 'UsageRelation.LE': 20.74, 'UsageRelation.GE': 14.98, 'Est IncomeRelation.GE': 55860.0}, {'AgeRelation.LE': 40.18, 'GenderRelation.EQ': 'F', 'StatusRelation.EQ': 'S', 'Est IncomeRelation.LE': 43000.0}, {'ChildrenRelation.LE': 0.0, 'GenderRelation.EQ': 'M', 'Car OwnerRelation.EQ': 'Y', 'UsageRelation.GE': 33.47, 'Est IncomeRelation.LE': 74460.7}, {'PaymethodRelation.EQ': 'CH', 'Est IncomeRelation.GE': 59008.4, 'Car OwnerRelation.EQ': 'N', 'AgeRelation.GE': 32.846667}]\n",
      "   UsageRelation.GE  UsageRelation.LE RatePlanRelation.EQ StatusRelation.EQ  \\\n",
      "0             74.77             74.77                   4               NaN   \n",
      "1               NaN               NaN                 NaN                 S   \n",
      "2               NaN               NaN                 NaN               NaN   \n",
      "3             82.08               NaN                 NaN               NaN   \n",
      "4               NaN               NaN                 NaN                 S   \n",
      "\n",
      "   Est IncomeRelation.LE PaymethodRelation.EQ GenderRelation.EQ  \\\n",
      "0                    NaN                  NaN               NaN   \n",
      "1                25285.5                   CC                 F   \n",
      "2                    NaN                  NaN                 M   \n",
      "3                43634.5                  NaN               NaN   \n",
      "4                42000.0                 Auto                 F   \n",
      "\n",
      "   Est IncomeRelation.GE  AgeRelation.GE  AgeRelation.LE  ChildrenRelation.LE  \\\n",
      "0                    NaN             NaN             NaN                  NaN   \n",
      "1                    NaN             NaN             NaN                  NaN   \n",
      "2                63234.5       39.093333           53.28                  NaN   \n",
      "3                    NaN             NaN           25.00                  NaN   \n",
      "4                    NaN             NaN             NaN                  NaN   \n",
      "\n",
      "  Car OwnerRelation.EQ  \n",
      "0                  NaN  \n",
      "1                  NaN  \n",
      "2                  NaN  \n",
      "3                  NaN  \n",
      "4                  NaN  \n"
     ]
    }
   ],
   "source": [
    "if CONFIG['TYPE'] == 'CONTINUOUS':\n",
    "    explanation = explainer.explain()\n",
    "    print(explanation)\n",
    "elif CONFIG['ALGO'] == 'BRCG':\n",
    "    model = estimator.explain()\n",
    "    if not model['isCNF']:\n",
    "        print('Number of rules:', len(model['rules']))\n",
    "        print(model['rules'])\n",
    "elif CONFIG['ALGO'] == 'RIPPER':\n",
    "    # print('Rule count: ' + str(sum([len(rules) for rules in estimator.rule_map.values()])))\n",
    "    # print('Rule set:')\n",
    "    # print(estimator.rule_list_to_pretty_string())\n",
    "\n",
    "    rule_set_list = []\n",
    "    rule_set = estimator.export_rules_to_trxf_dnf_ruleset(POS_CLASS)\n",
    "    conjunctions = rule_set.conjunctions\n",
    "    for c in conjunctions:\n",
    "        conjunction_dict = {}\n",
    "        predicates = c.predicates\n",
    "        for p in predicates:\n",
    "            name = str(p.feature) + str(p.relation)\n",
    "            value = p.value\n",
    "            conjunction_dict[name] = value\n",
    "        rule_set_list.append(conjunction_dict)\n",
    "    print(rule_set_list)\n",
    "    rule_set_df = pd.DataFrame(rule_set_list)\n",
    "    print(rule_set_df.head())\n",
    "elif CONFIG['ALGO'] == 'CORELS':\n",
    "    r_length = len(estimator.rl().rules)\n",
    "    print(\"Rule Length:\", r_length)\n",
    "    for i in range(len(estimator.rl().rules[0][\"antecedents\"])):\n",
    "        an = len(estimator.rl().rules[i][\"antecedents\"])\n",
    "        print(f\"Antecedents Length Rule {i}:\" , an)\n",
    "elif CONFIG['ALGO'] == 'Witt_RIPPER':\n",
    "    print(\"Rule Length:\", len(estimator.ruleset_))\n",
    "\n",
    "# uncomment the following line for a full optimized view of the model as data frame for GLRM rules\n",
    "# explanation.style"
   ]
  }
 ],
 "metadata": {
  "interpreter": {
   "hash": "aee8b7b246df8f9039afb4144a1f6fd8d2ca17a180786b69acc140d282b71a49"
  },
  "kernelspec": {
   "display_name": "Python 3",
   "language": "python",
   "name": "python3"
  },
  "language_info": {
   "codemirror_mode": {
    "name": "ipython",
    "version": 3
   },
   "file_extension": ".py",
   "mimetype": "text/x-python",
   "name": "python",
   "nbconvert_exporter": "python",
   "pygments_lexer": "ipython3",
   "version": "3.6.13"
  },
  "metadata": {
   "interpreter": {
    "hash": "e534e48711db4d1e1c48977d0d14ff85b1f16d41bcc4fdfd88268a329b3c9d66"
   }
  }
 },
 "nbformat": 4,
 "nbformat_minor": 2
}

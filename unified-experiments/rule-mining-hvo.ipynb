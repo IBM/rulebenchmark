{
 "cells": [
  {
   "cell_type": "markdown",
   "metadata": {},
   "source": [
    "# Generic Rule Induction Notebook\n",
    "\n",
    "Continuoulsy refined."
   ]
  },
  {
   "cell_type": "code",
   "execution_count": 1,
   "metadata": {},
   "outputs": [],
   "source": [
    "#%store -z acc_list \n",
    "#%store -z prec_list "
   ]
  },
  {
   "cell_type": "markdown",
   "metadata": {},
   "source": [
    "## README\n",
    "\n",
    "- GLRM needs to run in proper (conda) aix360 environment\n",
    "- BRCG runs with proper (conda) aix360 environment\n",
    "- Use aix360i environment for RIPPER"
   ]
  },
  {
   "cell_type": "markdown",
   "metadata": {},
   "source": [
    "### Configuration\n"
   ]
  },
  {
   "cell_type": "code",
   "execution_count": 2,
   "metadata": {},
   "outputs": [
    {
     "name": "stdout",
     "output_type": "stream",
     "text": [
      "Proceed with configuration: miniloan-RIPPER\n",
      "{'NAME': 'miniloan-RIPPER', 'DATA_SET': '../data/miniloan-decisions-100K.csv', 'DATA_TYPES': {'creditScore': <class 'float'>, 'income': <class 'float'>, 'loanAmount': <class 'float'>, 'monthDuration': <class 'float'>, 'yearlyReimbursement': <class 'float'>}, 'DROP': ['Unnamed: 0'], 'MODE': 'PREDICTIVE', 'TRAIN_TEST_SPLIT': 0.3, 'BINARIZER': 'NATIVE', 'ALGO': 'RIPPER', 'TARGET_LABEL': 'approval', 'TYPE': 'BINARY', 'EXAMPLE_FEATURE': 'income', 'POS_CLASS': False, 'BASELINE': True, 'ONEHOT': False}\n"
     ]
    }
   ],
   "source": [
    "from config import config_dict\n",
    "from config import config_dict_imbalanced\n",
    "\n",
    "CONFIG = config_dict_imbalanced['CONFIG-I4']\n",
    "# CONFIG = config_dict['CONFIG6']\n",
    "print('Proceed with configuration:', CONFIG['NAME'])\n",
    "print(CONFIG)"
   ]
  },
  {
   "cell_type": "code",
   "execution_count": 3,
   "metadata": {},
   "outputs": [
    {
     "name": "stdout",
     "output_type": "stream",
     "text": [
      "Importing dev version v0.982 of RIPPER\n"
     ]
    }
   ],
   "source": [
    "import pandas as pd\n",
    "import numpy as np\n",
    "# import os\n",
    "from sklearn.model_selection import train_test_split #, GridSearchCV\n",
    "from sklearn.metrics import matthews_corrcoef,fbeta_score,confusion_matrix,f1_score,precision_score, recall_score, accuracy_score, balanced_accuracy_score, confusion_matrix, r2_score, explained_variance_score, mean_absolute_error, max_error\n",
    "from sklearn.ensemble import GradientBoostingRegressor\n",
    "from sklearn.preprocessing import LabelEncoder, OneHotEncoder\n",
    "from xgboost import XGBClassifier\n",
    "import time\n",
    "import warnings\n",
    "import re\n",
    "\n",
    "if CONFIG['BINARIZER'] == 'QUANTILE':\n",
    "    from aix360.algorithms.rbm import FeatureBinarizer\n",
    "elif CONFIG['BINARIZER'] == 'TREES':\n",
    "    from aix360.algorithms.rbm import FeatureBinarizerFromTrees\n",
    "if CONFIG['ALGO'] == 'RIPPER':\n",
    "    from aix360i.algorithms.rule_induction.ripper import Ripper\n",
    "elif CONFIG['ALGO'] == 'BRCG':\n",
    "    from aix360.algorithms.rbm import BooleanRuleCG # BRCGExplainer\n",
    "elif CONFIG['ALGO'] == 'CORELS':\n",
    "    from corels import *\n",
    "elif CONFIG['ALGO'] == 'Witt_RIPPER':\n",
    "    import wittgenstein as lw\n",
    "elif CONFIG['ALGO'] == 'GLRM':\n",
    "    from aix360.algorithms.rbm import GLRMExplainer, LinearRuleRegression\n"
   ]
  },
  {
   "cell_type": "markdown",
   "metadata": {},
   "source": [
    "### Data"
   ]
  },
  {
   "cell_type": "code",
   "execution_count": 4,
   "metadata": {},
   "outputs": [
    {
     "name": "stdout",
     "output_type": "stream",
     "text": [
      "<class 'pandas.core.frame.DataFrame'>\n",
      "RangeIndex: 100000 entries, 0 to 99999\n",
      "Data columns (total 8 columns):\n",
      " #   Column               Non-Null Count   Dtype  \n",
      "---  ------               --------------   -----  \n",
      " 0   name                 100000 non-null  object \n",
      " 1   creditScore          100000 non-null  float64\n",
      " 2   income               100000 non-null  float64\n",
      " 3   loanAmount           100000 non-null  float64\n",
      " 4   monthDuration        100000 non-null  float64\n",
      " 5   rate                 100000 non-null  float64\n",
      " 6   approval             100000 non-null  bool   \n",
      " 7   yearlyReimbursement  100000 non-null  float64\n",
      "dtypes: bool(1), float64(6), object(1)\n",
      "memory usage: 5.4+ MB\n"
     ]
    },
    {
     "data": {
      "text/html": [
       "<div>\n",
       "<style scoped>\n",
       "    .dataframe tbody tr th:only-of-type {\n",
       "        vertical-align: middle;\n",
       "    }\n",
       "\n",
       "    .dataframe tbody tr th {\n",
       "        vertical-align: top;\n",
       "    }\n",
       "\n",
       "    .dataframe thead th {\n",
       "        text-align: right;\n",
       "    }\n",
       "</style>\n",
       "<table border=\"1\" class=\"dataframe\">\n",
       "  <thead>\n",
       "    <tr style=\"text-align: right;\">\n",
       "      <th></th>\n",
       "      <th>name</th>\n",
       "      <th>creditScore</th>\n",
       "      <th>income</th>\n",
       "      <th>loanAmount</th>\n",
       "      <th>monthDuration</th>\n",
       "      <th>rate</th>\n",
       "      <th>approval</th>\n",
       "      <th>yearlyReimbursement</th>\n",
       "    </tr>\n",
       "  </thead>\n",
       "  <tbody>\n",
       "    <tr>\n",
       "      <th>0</th>\n",
       "      <td>John Doe</td>\n",
       "      <td>736.0</td>\n",
       "      <td>113243.0</td>\n",
       "      <td>783440.0</td>\n",
       "      <td>162.0</td>\n",
       "      <td>0.030005</td>\n",
       "      <td>True</td>\n",
       "      <td>70648.0</td>\n",
       "    </tr>\n",
       "    <tr>\n",
       "      <th>1</th>\n",
       "      <td>John Doe</td>\n",
       "      <td>527.0</td>\n",
       "      <td>224186.0</td>\n",
       "      <td>1787385.0</td>\n",
       "      <td>183.0</td>\n",
       "      <td>0.054819</td>\n",
       "      <td>True</td>\n",
       "      <td>173197.0</td>\n",
       "    </tr>\n",
       "    <tr>\n",
       "      <th>2</th>\n",
       "      <td>John Doe</td>\n",
       "      <td>460.0</td>\n",
       "      <td>39954.0</td>\n",
       "      <td>1733494.0</td>\n",
       "      <td>75.0</td>\n",
       "      <td>0.055183</td>\n",
       "      <td>True</td>\n",
       "      <td>328563.0</td>\n",
       "    </tr>\n",
       "    <tr>\n",
       "      <th>3</th>\n",
       "      <td>John Doe</td>\n",
       "      <td>751.0</td>\n",
       "      <td>219998.0</td>\n",
       "      <td>1350004.0</td>\n",
       "      <td>72.0</td>\n",
       "      <td>0.043400</td>\n",
       "      <td>True</td>\n",
       "      <td>255970.0</td>\n",
       "    </tr>\n",
       "    <tr>\n",
       "      <th>4</th>\n",
       "      <td>John Doe</td>\n",
       "      <td>684.0</td>\n",
       "      <td>72470.0</td>\n",
       "      <td>1210944.0</td>\n",
       "      <td>160.0</td>\n",
       "      <td>0.037772</td>\n",
       "      <td>True</td>\n",
       "      <td>115742.0</td>\n",
       "    </tr>\n",
       "  </tbody>\n",
       "</table>\n",
       "</div>"
      ],
      "text/plain": [
       "       name  creditScore    income  loanAmount  monthDuration      rate  \\\n",
       "0  John Doe        736.0  113243.0    783440.0          162.0  0.030005   \n",
       "1  John Doe        527.0  224186.0   1787385.0          183.0  0.054819   \n",
       "2  John Doe        460.0   39954.0   1733494.0           75.0  0.055183   \n",
       "3  John Doe        751.0  219998.0   1350004.0           72.0  0.043400   \n",
       "4  John Doe        684.0   72470.0   1210944.0          160.0  0.037772   \n",
       "\n",
       "   approval  yearlyReimbursement  \n",
       "0      True              70648.0  \n",
       "1      True             173197.0  \n",
       "2      True             328563.0  \n",
       "3      True             255970.0  \n",
       "4      True             115742.0  "
      ]
     },
     "execution_count": 4,
     "metadata": {},
     "output_type": "execute_result"
    }
   ],
   "source": [
    "\n",
    "def convert(char):\n",
    "    if char == CONFIG['POS_CLASS']:\n",
    "        return 1\n",
    "    else:\n",
    "        return 0\n",
    "\n",
    "df = pd.read_csv(CONFIG['DATA_SET'],dtype=CONFIG['DATA_TYPES'])\n",
    "df = df.drop(columns=CONFIG['DROP'])\n",
    "if CONFIG['ALGO'] == 'BRCG' or CONFIG['ALGO'] == 'CORELS' :\n",
    "    df[CONFIG['TARGET_LABEL']] = df[CONFIG['TARGET_LABEL']].map(convert)\n",
    "    # BRCG trains for value 1 as POS_CLASS\n",
    "df.info()\n",
    "df[CONFIG['TARGET_LABEL']].value_counts()\n",
    "df.head()"
   ]
  },
  {
   "cell_type": "code",
   "execution_count": 5,
   "metadata": {},
   "outputs": [
    {
     "name": "stdout",
     "output_type": "stream",
     "text": [
      "True     78046\n",
      "False    21954\n",
      "Name: approval, dtype: int64\n"
     ]
    }
   ],
   "source": [
    "if CONFIG['TYPE'] == 'BINARY':\n",
    "    print(df[CONFIG['TARGET_LABEL']].value_counts())\n",
    "elif CONFIG['TYPE'] == 'CONTINUOUS':\n",
    "    df[CONFIG['TARGET_LABEL']].describe()\n",
    "else:\n",
    "    print('Unrecognized problem type')"
   ]
  },
  {
   "cell_type": "markdown",
   "metadata": {},
   "source": [
    "### Train, Test Split"
   ]
  },
  {
   "cell_type": "code",
   "execution_count": 6,
   "metadata": {},
   "outputs": [
    {
     "name": "stdout",
     "output_type": "stream",
     "text": [
      "Training: (70000, 7) (70000,)\n",
      "Test: (30000, 7) (30000,)\n"
     ]
    }
   ],
   "source": [
    "if CONFIG['TRAIN_TEST_SPLIT'] == 'FIXED':\n",
    "    if CONFIG['MODE'] == 'PREDICTIVE':\n",
    "        train = df[df['is_test_set'] == False]\n",
    "        test = df[df['is_test_set'] == True]\n",
    "    elif CONFIG['MODE'] == 'DESCRIPTIVE':\n",
    "        train = df\n",
    "        test = df\n",
    "\n",
    "    train = train.drop(columns=['is_test_set'])\n",
    "    test = test.drop(columns=['is_test_set'])\n",
    "\n",
    "    y_train = train[CONFIG['TARGET_LABEL']]\n",
    "    x_train = train.drop(columns=[CONFIG['TARGET_LABEL']])\n",
    "\n",
    "    y_test = test[CONFIG['TARGET_LABEL']]\n",
    "    x_test = test.drop(columns=[CONFIG['TARGET_LABEL']])\n",
    "else:\n",
    "    x_train, x_test, y_train, y_test = train_test_split(df.drop(columns=[CONFIG['TARGET_LABEL']]), df[CONFIG['TARGET_LABEL']], test_size=CONFIG['TRAIN_TEST_SPLIT'], random_state=42)\n",
    "\n",
    "print('Training:', x_train.shape, y_train.shape)\n",
    "print('Test:', x_test.shape, y_test.shape)"
   ]
  },
  {
   "cell_type": "markdown",
   "metadata": {},
   "source": [
    "### Reference Performance"
   ]
  },
  {
   "cell_type": "code",
   "execution_count": 7,
   "metadata": {},
   "outputs": [
    {
     "name": "stdout",
     "output_type": "stream",
     "text": [
      "[15:26:04] WARNING: /Users/runner/work/xgboost/xgboost/src/learner.cc:1115: Starting in XGBoost 1.3.0, the default evaluation metric used with the objective 'binary:logistic' was changed from 'error' to 'logloss'. Explicitly set eval_metric if you'd like to restore the old behavior.\n",
      "Accuracy: 0.9982\n",
      "Balanced accuracy: 0.997365266751356\n",
      "Precision: 0.9958822632301357\n",
      "Recall: 0.9958822632301357\n"
     ]
    }
   ],
   "source": [
    "if CONFIG['TYPE'] == 'CONTINUOUS':\n",
    "    print('needs prior encoding of categoricals')\n",
    "    # gbr = GradientBoostingRegressor(n_estimators=500, random_state=0)\n",
    "    # gbr.fit(x_train, y_train)\n",
    "    # # print('Training R^2:', r2_score(yTrain, gbr.predict(dfTrain)))\n",
    "    # print('Test R^2:', r2_score(y_test, gbr.predict(x_test)))\n",
    "elif CONFIG['TYPE'] == 'BINARY':\n",
    "    x_train_cp = x_train.copy()\n",
    "    y_train_cp = y_train.copy()\n",
    "    y_train_cp = y_train.map(convert)  # use manual encoding to make sure that pos_value = 1\n",
    "    x_test_cp = x_test.copy()\n",
    "    y_test_cp = y_test.copy()\n",
    "    y_test_cp = y_test.map(convert)  # use manual encoding to make sure that pos_value = 1\n",
    "    categorical_features = df.select_dtypes(include=['object']).columns\n",
    "    # numerical_feat = df.select_dtypes(include=['int64', 'float64']).columns\n",
    "    for col in categorical_features:\n",
    "        label_encoder = LabelEncoder()\n",
    "        label_encoder = label_encoder.fit(df[col])\n",
    "        x_train_cp[col] = label_encoder.transform(x_train_cp[col])\n",
    "        x_test_cp[col] = label_encoder.transform(x_test_cp[col])\n",
    "    xgb_model = XGBClassifier(use_label_encoder=False)\n",
    "    xgb_model.fit(x_train_cp, y_train_cp)\n",
    "    y_pred = xgb_model.predict(x_test_cp)\n",
    "\n",
    "    print('Accuracy:', accuracy_score(y_test_cp, y_pred))\n",
    "    print('Balanced accuracy:', balanced_accuracy_score(y_test_cp, y_pred))\n",
    "    print('Precision:', precision_score(y_test_cp, y_pred, pos_label=1))\n",
    "    print('Recall:', recall_score(y_test_cp, y_pred, pos_label=1))\n",
    "    # print(xgb_model)\n",
    "\n"
   ]
  },
  {
   "cell_type": "markdown",
   "metadata": {},
   "source": [
    "### Binarization"
   ]
  },
  {
   "cell_type": "code",
   "execution_count": 8,
   "metadata": {},
   "outputs": [
    {
     "name": "stdout",
     "output_type": "stream",
     "text": [
      "<class 'pandas.core.frame.DataFrame'>\n",
      "Int64Index: 70000 entries, 76513 to 15795\n",
      "Data columns (total 7 columns):\n",
      " #   Column               Non-Null Count  Dtype  \n",
      "---  ------               --------------  -----  \n",
      " 0   name                 70000 non-null  object \n",
      " 1   creditScore          70000 non-null  float64\n",
      " 2   income               70000 non-null  float64\n",
      " 3   loanAmount           70000 non-null  float64\n",
      " 4   monthDuration        70000 non-null  float64\n",
      " 5   rate                 70000 non-null  float64\n",
      " 6   yearlyReimbursement  70000 non-null  float64\n",
      "dtypes: float64(6), object(1)\n",
      "memory usage: 4.3+ MB\n"
     ]
    },
    {
     "data": {
      "text/html": [
       "<div>\n",
       "<style scoped>\n",
       "    .dataframe tbody tr th:only-of-type {\n",
       "        vertical-align: middle;\n",
       "    }\n",
       "\n",
       "    .dataframe tbody tr th {\n",
       "        vertical-align: top;\n",
       "    }\n",
       "\n",
       "    .dataframe thead th {\n",
       "        text-align: right;\n",
       "    }\n",
       "</style>\n",
       "<table border=\"1\" class=\"dataframe\">\n",
       "  <thead>\n",
       "    <tr style=\"text-align: right;\">\n",
       "      <th></th>\n",
       "      <th>name</th>\n",
       "      <th>creditScore</th>\n",
       "      <th>income</th>\n",
       "      <th>loanAmount</th>\n",
       "      <th>monthDuration</th>\n",
       "      <th>rate</th>\n",
       "      <th>yearlyReimbursement</th>\n",
       "    </tr>\n",
       "  </thead>\n",
       "  <tbody>\n",
       "    <tr>\n",
       "      <th>76513</th>\n",
       "      <td>John Doe</td>\n",
       "      <td>323.0</td>\n",
       "      <td>142660.0</td>\n",
       "      <td>1371289.0</td>\n",
       "      <td>155.0</td>\n",
       "      <td>0.057102</td>\n",
       "      <td>150327.0</td>\n",
       "    </tr>\n",
       "    <tr>\n",
       "      <th>60406</th>\n",
       "      <td>John Doe</td>\n",
       "      <td>781.0</td>\n",
       "      <td>138610.0</td>\n",
       "      <td>88183.0</td>\n",
       "      <td>286.0</td>\n",
       "      <td>0.049289</td>\n",
       "      <td>6296.0</td>\n",
       "    </tr>\n",
       "    <tr>\n",
       "      <th>27322</th>\n",
       "      <td>John Doe</td>\n",
       "      <td>458.0</td>\n",
       "      <td>190396.0</td>\n",
       "      <td>1073466.0</td>\n",
       "      <td>150.0</td>\n",
       "      <td>0.057622</td>\n",
       "      <td>120683.0</td>\n",
       "    </tr>\n",
       "    <tr>\n",
       "      <th>53699</th>\n",
       "      <td>John Doe</td>\n",
       "      <td>569.0</td>\n",
       "      <td>36948.0</td>\n",
       "      <td>817845.0</td>\n",
       "      <td>359.0</td>\n",
       "      <td>0.050611</td>\n",
       "      <td>53114.0</td>\n",
       "    </tr>\n",
       "    <tr>\n",
       "      <th>65412</th>\n",
       "      <td>John Doe</td>\n",
       "      <td>633.0</td>\n",
       "      <td>60520.0</td>\n",
       "      <td>1113649.0</td>\n",
       "      <td>289.0</td>\n",
       "      <td>0.037175</td>\n",
       "      <td>70057.0</td>\n",
       "    </tr>\n",
       "  </tbody>\n",
       "</table>\n",
       "</div>"
      ],
      "text/plain": [
       "           name  creditScore    income  loanAmount  monthDuration      rate  \\\n",
       "76513  John Doe        323.0  142660.0   1371289.0          155.0  0.057102   \n",
       "60406  John Doe        781.0  138610.0     88183.0          286.0  0.049289   \n",
       "27322  John Doe        458.0  190396.0   1073466.0          150.0  0.057622   \n",
       "53699  John Doe        569.0   36948.0    817845.0          359.0  0.050611   \n",
       "65412  John Doe        633.0   60520.0   1113649.0          289.0  0.037175   \n",
       "\n",
       "       yearlyReimbursement  \n",
       "76513             150327.0  \n",
       "60406               6296.0  \n",
       "27322             120683.0  \n",
       "53699              53114.0  \n",
       "65412              70057.0  "
      ]
     },
     "execution_count": 8,
     "metadata": {},
     "output_type": "execute_result"
    }
   ],
   "source": [
    "if CONFIG['BINARIZER'] == 'TREES':\n",
    "    binarizer =  FeatureBinarizerFromTrees(negations=False, randomState=42) # FeatureBinarizer(negations=False), FeatureBinarizerFromTrees(negations=True, randomState=42)\n",
    "    binarizer = binarizer.fit(x_train, y_train)\n",
    "    x_train_bin = binarizer.transform(x_train) #  x_train_bin = binarizer.fit_transform(x_train)\n",
    "    x_test_bin = binarizer.transform(x_test) #  X_fb = self.fb.fit_transform(X_train)\n",
    "elif CONFIG['BINARIZER'] == 'QUANTILE':\n",
    "    binarizer =  FeatureBinarizer(numThresh=9,negations=False) # FeatureBinarizer(negations=False), FeatureBinarizerFromTrees(negations=True, randomState=42)\n",
    "    binarizer = binarizer.fit(x_train)\n",
    "    x_train_bin = binarizer.transform(x_train) #  x_train_bin = binarizer.fit_transform(x_train)\n",
    "    x_test_bin = binarizer.transform(x_test) #  X_fb = self.fb.fit_transform(X_train)  \n",
    "elif CONFIG['BINARIZER'] == 'NATIVE':\n",
    "    x_train_bin = x_train\n",
    "    x_test_bin = x_test\n",
    "else:\n",
    "    print('UNRECOGNIZED BINARIZER')\n",
    "\n",
    "x_train_bin.info() # verbose=True\n",
    "x_train_bin.head()\n",
    "#x_train_bin[CONFIG['EXAMPLE_FEATURE']][:10]\n"
   ]
  },
  {
   "cell_type": "markdown",
   "metadata": {},
   "source": [
    "### Rule Induction"
   ]
  },
  {
   "cell_type": "code",
   "execution_count": 9,
   "metadata": {},
   "outputs": [
    {
     "name": "stdout",
     "output_type": "stream",
     "text": [
      "Starting training for RIPPER\n",
      "set to True\n",
      "Training time: 72.63830399513245\n"
     ]
    }
   ],
   "source": [
    "start_time = time.time()\n",
    "print('Starting training for', CONFIG['ALGO'])\n",
    "\n",
    "if CONFIG['ALGO'] == 'BRCG':\n",
    "    estimator = BooleanRuleCG() # Explainer()\n",
    "    # estimator.train(x_train, y_train)\n",
    "    with warnings.catch_warnings():\n",
    "        warnings.simplefilter(\"ignore\")\n",
    "        estimator.fit(x_train_bin, y_train)\n",
    "elif CONFIG['ALGO'] == 'RIPPER':\n",
    "    estimator = Ripper()\n",
    "    estimator.fit(x_train_bin, y_train, pos_value=CONFIG['POS_CLASS'])\n",
    "elif CONFIG['ALGO'] == 'Witt_RIPPER':\n",
    "    estimator = lw.RIPPER()\n",
    "    estimator.fit(x_train_bin, y_train,class_feat=CONFIG[\"TARGET_LABEL\"] , pos_value=CONFIG['POS_CLASS'])\n",
    "elif CONFIG['ALGO'] == 'GLRM':\n",
    "    linear_model = LinearRuleRegression() # lambda0=0.0005,lambda1=0.0001\n",
    "    explainer = GLRMExplainer(linear_model)\n",
    "    explainer.fit(x_train_bin, y_train)\n",
    "elif CONFIG['ALGO'] == 'CORELS':\n",
    "    estimator = CorelsClassifier(n_iter=10000, \n",
    "                     max_card=2, # feautres per statement\n",
    "                     c = 0.0001 # Higher values penalise longer rulelists\n",
    "                    )\n",
    "    estimator.fit(x_train_bin, y_train , prediction_name = CONFIG[\"TARGET_LABEL\"])\n",
    "    \n",
    "else:\n",
    "    print('Unrecognized algorithm:', CONFIG['ALGO'])\n",
    "\n",
    "end_time = time.time()\n",
    "print('Training time: ' + str(end_time - start_time))"
   ]
  },
  {
   "cell_type": "markdown",
   "metadata": {},
   "source": [
    "### Evaluation"
   ]
  },
  {
   "cell_type": "code",
   "execution_count": 10,
   "metadata": {},
   "outputs": [
    {
     "name": "stdout",
     "output_type": "stream",
     "text": [
      "Accuracy: 0.9954333333333333\n",
      "Balanced accuracy: 0.991695265503403\n",
      "Precision: 0.9939981532779316\n",
      "Recall: 0.9850541406130853\n",
      "F1 0.9895059364228265\n",
      "ConfusionMatrix [[ 6459    98]\n",
      " [   39 23404]]\n",
      "F-2 0.9868300433905763\n",
      "Mathhews 0.9866041622720696\n",
      "Stored 'acc_list' (list)\n",
      "Stored 'prec_list' (list)\n"
     ]
    }
   ],
   "source": [
    "acc_list = []\n",
    "prec_list = []\n",
    "%store -r acc_list\n",
    "%store -r prec_list\n",
    "\n",
    "if CONFIG['TYPE'] == 'BINARY':\n",
    "    y_pred = estimator.predict(x_test_bin)\n",
    "    print('Accuracy:', accuracy_score(y_test, y_pred))\n",
    "    print('Balanced accuracy:', balanced_accuracy_score(y_test, y_pred))\n",
    "    print('Precision:', precision_score(y_test, y_pred, pos_label=CONFIG['POS_CLASS']))\n",
    "    print('Recall:', recall_score(y_test, y_pred, pos_label=CONFIG['POS_CLASS']))\n",
    "    print('F1', f1_score(y_test, y_pred, pos_label=CONFIG['POS_CLASS']))\n",
    "    print('ConfusionMatrix', confusion_matrix(y_test, y_pred))\n",
    "    print('F-2', fbeta_score(y_test, y_pred, pos_label=CONFIG['POS_CLASS'], beta= 2))\n",
    "    print('Mathhews', matthews_corrcoef(y_test, y_pred))\n",
    "\n",
    "    acc_list.append(recall_score(y_test, y_pred, pos_label=CONFIG['POS_CLASS']))\n",
    "    prec_list.append(precision_score(y_test, y_pred, pos_label=CONFIG['POS_CLASS']))\n",
    "    %store acc_list\n",
    "    %store prec_list\n",
    "   \n",
    "elif CONFIG['TYPE'] == 'CONTINUOUS':\n",
    "    y_pred = explainer.predict(x_test_bin)\n",
    "    print(f'R2 Score = {r2_score(y_test, y_pred)}')\n",
    "    print(f'Explained Variance = {explained_variance_score(y_test, y_pred)}')\n",
    "    print(f'Mean abs. error = {mean_absolute_error(y_test, y_pred)}')\n",
    "    print(f'Max error = {max_error(y_test, y_pred)}')\n",
    "    \n"
   ]
  },
  {
   "cell_type": "code",
   "execution_count": 11,
   "metadata": {},
   "outputs": [
    {
     "name": "stdout",
     "output_type": "stream",
     "text": [
      "Rule count: 30\n",
      "Rule set:\n",
      "\n",
      "if {\n",
      "\t(yearlyReimbursement <= 41958.0 and loanAmount <= 525036.0 and income >= 133066.0) or\n",
      "\t(income >= 154544.0 and loanAmount <= 786122.0 and yearlyReimbursement <= 47581.0) or\n",
      "\t(loanAmount <= 220052.0 and income >= 54242.0 and yearlyReimbursement <= 17756.0) or\n",
      "\t(loanAmount <= 990363.0 and income >= 219984.0 and yearlyReimbursement <= 66944.0) or\n",
      "\t(income >= 95850.0 and loanAmount <= 518574.0 and yearlyReimbursement <= 30080.0) or\n",
      "\t(yearlyReimbursement <= 49096.0 and loanAmount <= 842450.0 and income >= 160598.0) or\n",
      "\t(loanAmount <= 161856.0 and yearlyReimbursement <= 11875.0 and income >= 33849.0) or\n",
      "\t(loanAmount <= 995714.0 and income >= 261448.0 and yearlyReimbursement <= 79885.0) or\n",
      "\t(income >= 84388.0 and loanAmount <= 959464.0 and yearlyReimbursement <= 27325.0 and rate >= 0.03055418433499172) or\n",
      "\t(loanAmount <= 996392.0 and yearlyReimbursement <= 60519.0 and income >= 197486.0) or\n",
      "\t(income >= 114246.0 and monthDuration >= 35.0 and yearlyReimbursement <= 36334.0) or\n",
      "\t(loanAmount <= 618765.0 and income >= 13653.0 and yearlyReimbursement <= 5833.0) or\n",
      "\t(income >= 142294.0 and monthDuration >= 215.0 and yearlyReimbursement <= 44283.0) or\n",
      "\t(loanAmount <= 310409.0 and income >= 65680.0 and yearlyReimbursement <= 20816.0) or\n",
      "\t(income >= 169315.0 and loanAmount <= 999609.0 and yearlyReimbursement <= 51505.0) or\n",
      "\t(loanAmount <= 999609.0 and income >= 246834.0 and yearlyReimbursement <= 75734.0) or\n",
      "\t(income >= 24731.0 and loanAmount <= 958562.0 and yearlyReimbursement <= 8225.0) or\n",
      "\t(loanAmount <= 990012.0 and income >= 208082.0 and yearlyReimbursement <= 63367.0) or\n",
      "\t(loanAmount <= 986609.0 and yearlyReimbursement <= 81889.0 and income >= 271542.0) or\n",
      "\t(loanAmount <= 673445.0 and yearlyReimbursement <= 38923.0 and income >= 126373.0) or\n",
      "\t(loanAmount <= 274997.0 and income >= 44991.0 and yearlyReimbursement <= 14480.0) or\n",
      "\t(yearlyReimbursement <= 33061.0 and monthDuration >= 48.0 and income >= 107042.0) or\n",
      "\t(yearlyReimbursement <= 22774.0 and loanAmount <= 373884.0 and income >= 73391.0) or\n",
      "\t(loanAmount <= 42827.0 and income >= 6604.0 and yearlyReimbursement <= 3010.0) or\n",
      "\t(yearlyReimbursement <= 85968.0 and loanAmount <= 992965.0 and income >= 283602.0) or\n",
      "\t(loanAmount <= 992965.0 and income >= 232014.0 and yearlyReimbursement <= 71005.0) or\n",
      "\t(yearlyReimbursement <= 20187.0 and monthDuration >= 303.0 and income >= 52164.0 and rate <= 0.05771578201238212) or\n",
      "\t(yearlyReimbursement <= 57824.0 and loanAmount <= 976650.0 and income >= 190196.0) or\n",
      "\t(loanAmount <= 967981.0 and income >= 183889.0 and yearlyReimbursement <= 56709.0) or\n",
      "\t(income >= 132127.0 and yearlyReimbursement <= 41529.0 and monthDuration >= 233.0)\n",
      "} then False\n",
      "else True\n"
     ]
    }
   ],
   "source": [
    "if CONFIG['TYPE'] == 'CONTINUOUS':\n",
    "    explanation = explainer.explain()\n",
    "    print(explanation)\n",
    "elif CONFIG['ALGO'] == 'BRCG':\n",
    "    model = estimator.explain()\n",
    "    if not model['isCNF']:\n",
    "        print('Number of rules:', len(model['rules']))\n",
    "        print(model['rules'])\n",
    "elif CONFIG['ALGO'] == 'RIPPER':\n",
    "    print('Rule count: ' + str(sum([len(rules) for rules in estimator.rule_map.values()])))\n",
    "    print('Rule set:')\n",
    "    print(estimator.rule_list_to_pretty_string())\n",
    "elif CONFIG['ALGO'] == 'CORELS':\n",
    "    r_length = len(estimator.rl().rules)\n",
    "    print(\"Rule Length:\", r_length)\n",
    "    for i in range(len(estimator.rl().rules[0][\"antecedents\"])):\n",
    "        an = len(estimator.rl().rules[i][\"antecedents\"])\n",
    "        print(f\"Antecedents Length Rule {i}:\" , an)\n",
    "elif CONFIG['ALGO'] == 'Witt_RIPPER':\n",
    "    print(\"Rule Length:\", len(estimator.ruleset_))\n",
    "\n",
    "# uncomment the following line for a full optimized view of the model as data frame for GLRM rules\n",
    "# explanation.style"
   ]
  }
 ],
 "metadata": {
  "interpreter": {
   "hash": "aee8b7b246df8f9039afb4144a1f6fd8d2ca17a180786b69acc140d282b71a49"
  },
  "kernelspec": {
   "display_name": "Python 3.7.9 64-bit",
   "name": "python3"
  },
  "language_info": {
   "codemirror_mode": {
    "name": "ipython",
    "version": 3
   },
   "file_extension": ".py",
   "mimetype": "text/x-python",
   "name": "python",
   "nbconvert_exporter": "python",
   "pygments_lexer": "ipython3",
   "version": "3.6.13"
  },
  "metadata": {
   "interpreter": {
    "hash": "e534e48711db4d1e1c48977d0d14ff85b1f16d41bcc4fdfd88268a329b3c9d66"
   }
  },
  "orig_nbformat": 2
 },
 "nbformat": 4,
 "nbformat_minor": 2
}

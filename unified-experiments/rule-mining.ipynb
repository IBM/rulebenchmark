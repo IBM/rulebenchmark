{
 "cells": [
  {
   "cell_type": "markdown",
   "metadata": {},
   "source": [
    "# Generic Rule Induction Notebook\n",
    "\n",
    "Continuoulsy refined."
   ]
  },
  {
   "cell_type": "markdown",
   "metadata": {},
   "source": [
    "## README\n",
    "\n",
    "- GLRM needs to run in proper (conda) aix360 environment\n",
    "- BRCG runs with proper (conda) aix360 environment\n",
    "- Use aix360i environment for RIPPER"
   ]
  },
  {
   "cell_type": "markdown",
   "metadata": {},
   "source": [
    "### Configuration\n"
   ]
  },
  {
   "cell_type": "code",
   "execution_count": 1,
   "metadata": {},
   "outputs": [
    {
     "name": "stdout",
     "output_type": "stream",
     "text": [
      "Proceed with configuration: binary-churn-ripper\n"
     ]
    }
   ],
   "source": [
    "CONFIG1 = { \n",
    "    'NAME' : 'binary-churn-quantile-brcg', \n",
    "    'DATA_SET': '../data/churn_prob_out_35.csv',\n",
    "    'DATA_TYPES': {'Children': float, 'RatePlan': str},\n",
    "    'DROP': ['Id', 'pChurn', '3_Class', '5_Class', 'is_test_set'],\n",
    "    'MODE': 'PREDICTIVE',\n",
    "    'TRAIN_TEST_SPLIT': 0.3, # 'FIXED' for using 'is_test_set'\n",
    "    'BINARIZER': 'QUANTILE',\n",
    "    'ALGO': 'BRCG',\n",
    "    'TARGET_LABEL': 'CHURN',\n",
    "    'TYPE' : 'BINARY',\n",
    "    'EXAMPLE_FEATURE' : 'Est Income',\n",
    "    'POS_CLASS': 'T'\n",
    "     }\n",
    "CONFIG2 = { \n",
    "    'NAME' : 'continuous-churn', \n",
    "    'DATA_SET': 'data/churn_prob_out_35.csv',\n",
    "    'DATA_TYPES': {'Children': float, 'RatePlan': str},\n",
    "    'DROP': ['Id', 'CHURN', '3_Class', '5_Class', 'is_test_set'],\n",
    "    'MODE': 'PREDICTIVE',\n",
    "    'TRAIN_TEST_SPLIT': 0.3, # 'FIXED' for using 'is_test_set'\n",
    "    'BINARIZER': 'QUANTILE',\n",
    "    'ALGO': 'GLRM',\n",
    "    'TARGET_LABEL': 'pChurn',\n",
    "    'TYPE' : 'CONTINUOUS',\n",
    "    'EXAMPLE_FEATURE' : 'Est Income',\n",
    "    'POS_CLASS': None\n",
    "     }\n",
    "CONFIG3 = { \n",
    "    'NAME' : 'bike-demand', \n",
    "    'DATA_SET': '../data/SeoulBikeData.csv',\n",
    "    'DATA_TYPES': {'Rented Bike Count': float, 'Hour': float, 'Humidity': float, 'Visibility (10m)': float, 'RatePlan': str},\n",
    "    'DROP': ['Date'],\n",
    "    'MODE': 'PREDICTIVE',\n",
    "    'TRAIN_TEST_SPLIT': 0.3,\n",
    "    'BINARIZER': 'QUANTILE',\n",
    "    'ALGO': 'GLRM',\n",
    "    'TARGET_LABEL': 'Rented Bike Count',\n",
    "    'TYPE' : 'CONTINUOUS',\n",
    "    'EXAMPLE_FEATURE' : 'Dew point temperature(C)',\n",
    "    'POS_CLASS': None\n",
    "     }\n",
    "CONFIG4 = { \n",
    "    'NAME' : 'heloc', \n",
    "    'DATA_SET': '../data/heloc.csv',\n",
    "    'DATA_TYPES': {},\n",
    "    'DROP': ['RiskPerformance'],\n",
    "    'MODE': 'PREDICTIVE',\n",
    "    'TRAIN_TEST_SPLIT': 0.3,\n",
    "    'BINARIZER': 'QUANTILE',\n",
    "    'ALGO': 'GLRM',\n",
    "    'TARGET_LABEL': 'Probabilities',\n",
    "    'TYPE' : 'CONTINUOUS',\n",
    "    'EXAMPLE_FEATURE' : 'ExternalRiskEstimate',\n",
    "    'POS_CLASS': None\n",
    "     }\n",
    "CONFIG5 = { \n",
    "    'NAME' : 'taiwan-credit', \n",
    "    'DATA_SET': '../data/TaiwanCreditData.csv',\n",
    "    'DATA_TYPES': {},\n",
    "    'DROP': ['DefaultNextMonth'],\n",
    "    'MODE': 'PREDICTIVE',\n",
    "    'TRAIN_TEST_SPLIT': 0.3,\n",
    "    'BINARIZER': 'QUANTILE',\n",
    "    'ALGO': 'GLRM',\n",
    "    'TARGET_LABEL': 'Probabilities',\n",
    "    'TYPE' : 'CONTINUOUS',\n",
    "    'EXAMPLE_FEATURE' : 'Amount',\n",
    "    'POS_CLASS': None\n",
    "     }\n",
    "CONFIG6 = { \n",
    "    'NAME' : 'german-credit-brcg', \n",
    "    'DATA_SET': '../data/german_credit_codiert.csv',\n",
    "    'DATA_TYPES': {},\n",
    "    'DROP': ['Index'],\n",
    "    'MODE': 'PREDICTIVE',\n",
    "    'TRAIN_TEST_SPLIT': 0.3,\n",
    "    'BINARIZER': 'QUANTILE',\n",
    "    'ALGO': 'BRCG',\n",
    "    'TARGET_LABEL': 'Target',\n",
    "    'TYPE' : 'BINARY',\n",
    "    'EXAMPLE_FEATURE' : 'Credit Amount',\n",
    "    'POS_CLASS': 1\n",
    "     }\n",
    "CONFIG7 = { \n",
    "    'NAME' : 'german-credit-ripper', \n",
    "    'DATA_SET': '../data/german_credit_codiert.csv',\n",
    "    'DATA_TYPES': {},\n",
    "    'DROP': ['Index'],\n",
    "    'MODE': 'PREDICTIVE',\n",
    "    'TRAIN_TEST_SPLIT': 0.3,\n",
    "    'BINARIZER': 'NATIVE',\n",
    "    'ALGO': 'RIPPER',\n",
    "    'TARGET_LABEL': 'Target',\n",
    "    'TYPE' : 'BINARY',\n",
    "    'EXAMPLE_FEATURE' : 'Credit Amount',\n",
    "    'POS_CLASS': 1\n",
    "     }\n",
    "CONFIG8 = { \n",
    "    'NAME' : 'binary-churn-ripper', \n",
    "    'DATA_SET': '../data/churn_prob_out_35.csv',\n",
    "    'DATA_TYPES': {'Children': float, 'RatePlan': str},\n",
    "    'DROP': ['Id', 'pChurn', '3_Class', '5_Class', 'is_test_set'],\n",
    "    'MODE': 'PREDICTIVE',\n",
    "    'TRAIN_TEST_SPLIT': 0.3, # 'FIXED' for using 'is_test_set'\n",
    "    'BINARIZER': 'NATIVE',\n",
    "    'ALGO': 'RIPPER',\n",
    "    'TARGET_LABEL': 'CHURN',\n",
    "    'TYPE' : 'BINARY',\n",
    "    'EXAMPLE_FEATURE' : 'Est Income',\n",
    "    'POS_CLASS': 'T'\n",
    "     }\n",
    "     \n",
    "CONFIG9 = { \n",
    "    'NAME' : 'compas-ripper', \n",
    "    'DATA_SET': '../data/compas.csv',\n",
    "    'DATA_TYPES': {},\n",
    "    'DROP': [],\n",
    "    'MODE': 'PREDICTIVE',\n",
    "    'TRAIN_TEST_SPLIT': 0.3,\n",
    "    'BINARIZER': 'NATIVE',\n",
    "    'ALGO': 'RIPPER',\n",
    "    'TARGET_LABEL': 'recidivate-within-two-years',\n",
    "    'TYPE' : 'BINARY',\n",
    "    'EXAMPLE_FEATURE' : 'current-charge-degree',\n",
    "    'POS_CLASS': 0\n",
    "     }\n",
    "\n",
    "CONFIG = CONFIG9\n",
    "\n",
    "print('Proceed with configuration:', CONFIG['NAME'])"
   ]
  },
  {
   "cell_type": "code",
   "execution_count": 2,
   "metadata": {},
   "outputs": [
    {
     "name": "stdout",
     "output_type": "stream",
     "text": [
      "Importing dev version v0.981 of RIPPER\n"
     ]
    }
   ],
   "source": [
    "import pandas as pd\n",
    "import numpy as np\n",
    "# import os\n",
    "from sklearn.model_selection import train_test_split #, GridSearchCV\n",
    "from sklearn.metrics import precision_score, recall_score, accuracy_score, balanced_accuracy_score, confusion_matrix, r2_score, explained_variance_score, mean_absolute_error, max_error\n",
    "from sklearn.ensemble import GradientBoostingRegressor\n",
    "import time\n",
    "import warnings\n",
    "\n",
    "from aix360.algorithms.rbm import BRCGExplainer, BooleanRuleCG, GLRMExplainer, LinearRuleRegression\n",
    "if CONFIG['BINARIZER'] == 'QUANTILE':\n",
    "    from aix360.algorithms.rbm import FeatureBinarizer\n",
    "elif CONFIG['BINARIZER'] == 'TREE':\n",
    "    from aix360.algorithms.rbm import FeatureBinarizerFromTrees\n",
    "if CONFIG['ALGO'] == 'RIPPER':\n",
    "    from aix360i.algorithms.rule_induction.ripper import Ripper\n",
    "\n",
    "\n",
    "\n",
    "# from explainer import Explainer\n",
    "\n",
    "# TODO create reference for performance using boosted trees\n",
    "\n",
    "# import wittgenstein as lw\n",
    "# from clf_utils import make_tree_dataset, make_forest, score_forest\n",
    "# from sklearn.tree import DecisionTreeClassifier\n",
    "# from sklearn.ensemble import RandomForestClassifier\n",
    "# from sklearn.preprocessing import OneHotEncoder, LabelEncoder\n"
   ]
  },
  {
   "cell_type": "markdown",
   "metadata": {},
   "source": [
    "### Data"
   ]
  },
  {
   "cell_type": "code",
   "execution_count": 3,
   "metadata": {},
   "outputs": [
    {
     "name": "stdout",
     "output_type": "stream",
     "text": [
      "<class 'pandas.core.frame.DataFrame'>\n",
      "RangeIndex: 1799 entries, 0 to 1798\n",
      "Data columns (total 10 columns):\n",
      " #   Column      Non-Null Count  Dtype  \n",
      "---  ------      --------------  -----  \n",
      " 0   CHURN       1799 non-null   object \n",
      " 1   Gender      1799 non-null   object \n",
      " 2   Status      1799 non-null   object \n",
      " 3   Children    1799 non-null   float64\n",
      " 4   Est Income  1799 non-null   float64\n",
      " 5   Car Owner   1799 non-null   object \n",
      " 6   Age         1799 non-null   float64\n",
      " 7   Paymethod   1799 non-null   object \n",
      " 8   Usage       1799 non-null   float64\n",
      " 9   RatePlan    1799 non-null   object \n",
      "dtypes: float64(4), object(6)\n",
      "memory usage: 140.7+ KB\n"
     ]
    },
    {
     "data": {
      "text/html": [
       "<div>\n",
       "<style scoped>\n",
       "    .dataframe tbody tr th:only-of-type {\n",
       "        vertical-align: middle;\n",
       "    }\n",
       "\n",
       "    .dataframe tbody tr th {\n",
       "        vertical-align: top;\n",
       "    }\n",
       "\n",
       "    .dataframe thead th {\n",
       "        text-align: right;\n",
       "    }\n",
       "</style>\n",
       "<table border=\"1\" class=\"dataframe\">\n",
       "  <thead>\n",
       "    <tr style=\"text-align: right;\">\n",
       "      <th></th>\n",
       "      <th>CHURN</th>\n",
       "      <th>Gender</th>\n",
       "      <th>Status</th>\n",
       "      <th>Children</th>\n",
       "      <th>Est Income</th>\n",
       "      <th>Car Owner</th>\n",
       "      <th>Age</th>\n",
       "      <th>Paymethod</th>\n",
       "      <th>Usage</th>\n",
       "      <th>RatePlan</th>\n",
       "    </tr>\n",
       "  </thead>\n",
       "  <tbody>\n",
       "    <tr>\n",
       "      <th>0</th>\n",
       "      <td>T</td>\n",
       "      <td>F</td>\n",
       "      <td>S</td>\n",
       "      <td>1.0</td>\n",
       "      <td>38000.00</td>\n",
       "      <td>N</td>\n",
       "      <td>24.393333</td>\n",
       "      <td>CC</td>\n",
       "      <td>229.64</td>\n",
       "      <td>3</td>\n",
       "    </tr>\n",
       "    <tr>\n",
       "      <th>1</th>\n",
       "      <td>F</td>\n",
       "      <td>M</td>\n",
       "      <td>M</td>\n",
       "      <td>2.0</td>\n",
       "      <td>29616.00</td>\n",
       "      <td>N</td>\n",
       "      <td>49.426667</td>\n",
       "      <td>CH</td>\n",
       "      <td>75.29</td>\n",
       "      <td>2</td>\n",
       "    </tr>\n",
       "    <tr>\n",
       "      <th>2</th>\n",
       "      <td>F</td>\n",
       "      <td>M</td>\n",
       "      <td>M</td>\n",
       "      <td>0.0</td>\n",
       "      <td>19732.80</td>\n",
       "      <td>N</td>\n",
       "      <td>50.673333</td>\n",
       "      <td>CC</td>\n",
       "      <td>47.25</td>\n",
       "      <td>3</td>\n",
       "    </tr>\n",
       "    <tr>\n",
       "      <th>3</th>\n",
       "      <td>F</td>\n",
       "      <td>M</td>\n",
       "      <td>S</td>\n",
       "      <td>2.0</td>\n",
       "      <td>96.33</td>\n",
       "      <td>N</td>\n",
       "      <td>56.473333</td>\n",
       "      <td>CC</td>\n",
       "      <td>59.01</td>\n",
       "      <td>1</td>\n",
       "    </tr>\n",
       "    <tr>\n",
       "      <th>4</th>\n",
       "      <td>F</td>\n",
       "      <td>F</td>\n",
       "      <td>M</td>\n",
       "      <td>2.0</td>\n",
       "      <td>52004.80</td>\n",
       "      <td>N</td>\n",
       "      <td>25.140000</td>\n",
       "      <td>CH</td>\n",
       "      <td>28.14</td>\n",
       "      <td>1</td>\n",
       "    </tr>\n",
       "  </tbody>\n",
       "</table>\n",
       "</div>"
      ],
      "text/plain": [
       "  CHURN Gender Status  Children  Est Income Car Owner        Age Paymethod  \\\n",
       "0     T      F      S       1.0    38000.00         N  24.393333        CC   \n",
       "1     F      M      M       2.0    29616.00         N  49.426667        CH   \n",
       "2     F      M      M       0.0    19732.80         N  50.673333        CC   \n",
       "3     F      M      S       2.0       96.33         N  56.473333        CC   \n",
       "4     F      F      M       2.0    52004.80         N  25.140000        CH   \n",
       "\n",
       "    Usage RatePlan  \n",
       "0  229.64        3  \n",
       "1   75.29        2  \n",
       "2   47.25        3  \n",
       "3   59.01        1  \n",
       "4   28.14        1  "
      ]
     },
     "execution_count": 3,
     "metadata": {},
     "output_type": "execute_result"
    }
   ],
   "source": [
    "def convert(char):\n",
    "    if char == CONFIG['POS_CLASS']:\n",
    "        return 1\n",
    "    else:\n",
    "        return 0\n",
    "\n",
    "df = pd.read_csv(CONFIG['DATA_SET'],dtype=CONFIG['DATA_TYPES'])\n",
    "df = df.drop(columns=CONFIG['DROP'])\n",
    "if CONFIG['ALGO'] == 'BRCG':\n",
    "    df[CONFIG['TARGET_LABEL']] = df[CONFIG['TARGET_LABEL']].map(convert) \n",
    "    # maybe this could also be achieved through explicit binarization of target vector\n",
    "df.info()\n",
    "df.head()"
   ]
  },
  {
   "cell_type": "code",
   "execution_count": 4,
   "metadata": {},
   "outputs": [
    {
     "name": "stdout",
     "output_type": "stream",
     "text": [
      "F    1076\n",
      "T     723\n",
      "Name: CHURN, dtype: int64\n"
     ]
    }
   ],
   "source": [
    "if CONFIG['TYPE'] == 'BINARY':\n",
    "    print(df[CONFIG['TARGET_LABEL']].value_counts())\n",
    "elif CONFIG['TYPE'] == 'CONTINUOUS':\n",
    "    df[CONFIG['TARGET_LABEL']].describe()\n",
    "else:\n",
    "    print('Unrecognized problem type')"
   ]
  },
  {
   "cell_type": "markdown",
   "metadata": {},
   "source": [
    "### Train, Test Split"
   ]
  },
  {
   "cell_type": "code",
   "execution_count": 5,
   "metadata": {},
   "outputs": [
    {
     "name": "stdout",
     "output_type": "stream",
     "text": [
      "Training: (1259, 9) (1259,)\n",
      "Test: (540, 9) (540,)\n"
     ]
    }
   ],
   "source": [
    "if CONFIG['TRAIN_TEST_SPLIT'] == 'FIXED':\n",
    "    if CONFIG['MODE'] == 'PREDICTIVE':\n",
    "        train = df[df['is_test_set'] == False]\n",
    "        test = df[df['is_test_set'] == True]\n",
    "    elif CONFIG['MODE'] == 'DESCRIPTIVE':\n",
    "        train = df\n",
    "        test = df\n",
    "\n",
    "    train = train.drop(columns=['is_test_set'])\n",
    "    test = test.drop(columns=['is_test_set'])\n",
    "\n",
    "    y_train = train[CONFIG['TARGET_LABEL']]\n",
    "    x_train = train.drop(columns=[CONFIG['TARGET_LABEL']])\n",
    "\n",
    "    y_test = test[CONFIG['TARGET_LABEL']]\n",
    "    x_test = test.drop(columns=[CONFIG['TARGET_LABEL']])\n",
    "else:\n",
    "    x_train, x_test, y_train, y_test = train_test_split(df.drop(columns=[CONFIG['TARGET_LABEL']]), df[CONFIG['TARGET_LABEL']], test_size=CONFIG['TRAIN_TEST_SPLIT'], random_state=42)\n",
    "\n",
    "print('Training:', x_train.shape, y_train.shape)\n",
    "print('Test:', x_test.shape, y_test.shape)"
   ]
  },
  {
   "cell_type": "markdown",
   "metadata": {},
   "source": [
    "### Reference Performance"
   ]
  },
  {
   "cell_type": "code",
   "execution_count": 6,
   "metadata": {},
   "outputs": [],
   "source": [
    "if CONFIG['TYPE'] == 'CONTINUOUS':\n",
    "    print('needs prior encoding of categoricals')\n",
    "    # gbr = GradientBoostingRegressor(n_estimators=500, random_state=0)\n",
    "    # gbr.fit(x_train, y_train)\n",
    "    # # print('Training R^2:', r2_score(yTrain, gbr.predict(dfTrain)))\n",
    "    # print('Test R^2:', r2_score(y_test, gbr.predict(x_test)))"
   ]
  },
  {
   "cell_type": "markdown",
   "metadata": {},
   "source": [
    "### Binarization"
   ]
  },
  {
   "cell_type": "code",
   "execution_count": 7,
   "metadata": {},
   "outputs": [
    {
     "name": "stdout",
     "output_type": "stream",
     "text": [
      "<class 'pandas.core.frame.DataFrame'>\n",
      "Int64Index: 1259 entries, 513 to 1126\n",
      "Data columns (total 9 columns):\n",
      " #   Column      Non-Null Count  Dtype  \n",
      "---  ------      --------------  -----  \n",
      " 0   Gender      1259 non-null   object \n",
      " 1   Status      1259 non-null   object \n",
      " 2   Children    1259 non-null   float64\n",
      " 3   Est Income  1259 non-null   float64\n",
      " 4   Car Owner   1259 non-null   object \n",
      " 5   Age         1259 non-null   float64\n",
      " 6   Paymethod   1259 non-null   object \n",
      " 7   Usage       1259 non-null   float64\n",
      " 8   RatePlan    1259 non-null   object \n",
      "dtypes: float64(4), object(5)\n",
      "memory usage: 98.4+ KB\n"
     ]
    },
    {
     "data": {
      "text/plain": [
       "513     98217.10\n",
       "81      12686.00\n",
       "596      8204.72\n",
       "380     27498.10\n",
       "1523     8073.11\n",
       "84      60102.70\n",
       "1666     8073.11\n",
       "1497    74530.80\n",
       "1200    28267.00\n",
       "1381    16938.50\n",
       "Name: Est Income, dtype: float64"
      ]
     },
     "execution_count": 7,
     "metadata": {},
     "output_type": "execute_result"
    }
   ],
   "source": [
    "if CONFIG['BINARIZER'] == 'TREES':\n",
    "    binarizer =  FeatureBinarizerFromTrees(negations=True, randomState=42) # FeatureBinarizer(negations=False), FeatureBinarizerFromTrees(negations=True, randomState=42)\n",
    "    binarizer = binarizer.fit(x_train, y_train)\n",
    "    x_train_bin = binarizer.transform(x_train) #  x_train_bin = binarizer.fit_transform(x_train)\n",
    "    x_test_bin = binarizer.transform(x_test) #  X_fb = self.fb.fit_transform(X_train)\n",
    "elif CONFIG['BINARIZER'] == 'QUANTILE':\n",
    "    binarizer =  FeatureBinarizer(numThresh=9,negations=True) # FeatureBinarizer(negations=False), FeatureBinarizerFromTrees(negations=True, randomState=42)\n",
    "    binarizer = binarizer.fit(x_train)\n",
    "    x_train_bin = binarizer.transform(x_train) #  x_train_bin = binarizer.fit_transform(x_train)\n",
    "    x_test_bin = binarizer.transform(x_test) #  X_fb = self.fb.fit_transform(X_train)  \n",
    "elif CONFIG['BINARIZER'] == 'NATIVE':\n",
    "    x_train_bin = x_train\n",
    "    x_test_bin = x_test\n",
    "else:\n",
    "    print('UNRECOGNIZED BINARIZER')\n",
    "\n",
    "x_train_bin.info() # verbose=True\n",
    "x_train_bin.head()\n",
    "x_train_bin[CONFIG['EXAMPLE_FEATURE']][:10]\n"
   ]
  },
  {
   "cell_type": "markdown",
   "metadata": {},
   "source": [
    "### Rule Induction"
   ]
  },
  {
   "cell_type": "code",
   "execution_count": 8,
   "metadata": {},
   "outputs": [
    {
     "name": "stdout",
     "output_type": "stream",
     "text": [
      "Starting training for RIPPER\n",
      "Training time: 0.34529685974121094\n"
     ]
    }
   ],
   "source": [
    "start_time = time.time()\n",
    "print('Starting training for', CONFIG['ALGO'])\n",
    "\n",
    "if CONFIG['ALGO'] == 'BRCG':\n",
    "    estimator = BooleanRuleCG() # Explainer()\n",
    "    # estimator.train(x_train, y_train)\n",
    "    with warnings.catch_warnings():\n",
    "        warnings.simplefilter(\"ignore\")\n",
    "        estimator.fit(x_train_bin, y_train)\n",
    "elif CONFIG['ALGO'] == 'RIPPER':\n",
    "    estimator = Ripper()\n",
    "    estimator.fit(x_train_bin, y_train, pos_value=CONFIG['POS_CLASS'])\n",
    "elif CONFIG['ALGO'] == 'GLRM':\n",
    "    linear_model = LinearRuleRegression() # lambda0=0.0005,lambda1=0.0001\n",
    "    explainer = GLRMExplainer(linear_model)\n",
    "    explainer.fit(x_train_bin, y_train)\n",
    "else:\n",
    "    print('Unrecognized algorithm:', CONFIG['ALGO'])\n",
    "\n",
    "end_time = time.time()\n",
    "print('Training time: ' + str(end_time - start_time))"
   ]
  },
  {
   "cell_type": "markdown",
   "metadata": {},
   "source": [
    "### Evaluation"
   ]
  },
  {
   "cell_type": "code",
   "execution_count": 9,
   "metadata": {},
   "outputs": [
    {
     "name": "stdout",
     "output_type": "stream",
     "text": [
      "Accuracy: 0.924074074074074\n",
      "Balanced accuracy: 0.9174715909090909\n",
      "Precision: 0.9282296650717703\n",
      "Recall: 0.8818181818181818\n"
     ]
    }
   ],
   "source": [
    "if CONFIG['TYPE'] == 'BINARY':\n",
    "    y_pred = estimator.predict(x_test_bin)\n",
    "    print('Accuracy:', accuracy_score(y_test, y_pred))\n",
    "    print('Balanced accuracy:', balanced_accuracy_score(y_test, y_pred))\n",
    "    print('Precision:', precision_score(y_test, y_pred, pos_label=CONFIG['POS_CLASS']))\n",
    "    print('Recall:', recall_score(y_test, y_pred, pos_label=CONFIG['POS_CLASS']))\n",
    "elif CONFIG['TYPE'] == 'CONTINUOUS':\n",
    "    y_pred = explainer.predict(x_test_bin)\n",
    "    print(f'R2 Score = {r2_score(y_test, y_pred)}')\n",
    "    print(f'Explained Variance = {explained_variance_score(y_test, y_pred)}')\n",
    "    print(f'Mean abs. error = {mean_absolute_error(y_test, y_pred)}')\n",
    "    print(f'Max error = {max_error(y_test, y_pred)}')\n"
   ]
  },
  {
   "cell_type": "code",
   "execution_count": 10,
   "metadata": {},
   "outputs": [
    {
     "name": "stdout",
     "output_type": "stream",
     "text": [
      "Rule count: 14\n",
      "Rule set:\n",
      "\n",
      "if {\n",
      "\t(Usage >= 74.77 and Usage <= 74.77 and RatePlan == 4) or\n",
      "\t(Status == S and Est Income <= 25285.5 and Paymethod == CC and Gender == F) or\n",
      "\t(Gender == M and Est Income >= 63234.5 and Age >= 39.093333 and Age <= 53.28) or\n",
      "\t(Age <= 25.0 and Usage >= 82.08 and Est Income <= 43634.5) or\n",
      "\t(Status == S and Est Income <= 42000.0 and Gender == F and Paymethod == Auto) or\n",
      "\t(Age >= 53.693333 and Gender == M and Est Income >= 75799.9) or\n",
      "\t(Age <= 25.0 and Children <= 1.0 and Gender == F and Usage <= 98.76) or\n",
      "\t(Paymethod == CH and RatePlan == 1 and Age <= 40.313333 and Status == S) or\n",
      "\t(RatePlan == 4 and Age >= 48.373333 and Children <= 0.0 and Est Income >= 77129.1) or\n",
      "\t(Usage >= 46.32 and Est Income >= 35000.0 and Gender == F and Usage <= 55.32 and Est Income <= 35976.5) or\n",
      "\t(Age >= 53.013333 and Usage <= 20.74 and Usage >= 14.98 and Est Income >= 55860.0) or\n",
      "\t(Age <= 40.18 and Gender == F and Status == S and Est Income <= 43000.0) or\n",
      "\t(Children <= 0.0 and Gender == M and Car Owner == Y and Usage >= 33.47 and Est Income <= 74460.7) or\n",
      "\t(Paymethod == CH and Est Income >= 59008.4 and Car Owner == N and Age >= 32.846667)\n",
      "} then T\n",
      "else F\n"
     ]
    }
   ],
   "source": [
    "if CONFIG['TYPE'] == 'CONTINUOUS':\n",
    "    explanation = explainer.explain()\n",
    "    print(explanation)\n",
    "elif CONFIG['ALGO'] == 'BRCG':\n",
    "    model = estimator.explain()\n",
    "    if not model['isCNF']:\n",
    "        print('Number of rules:', len(model['rules']))\n",
    "        print(model['rules'])\n",
    "elif CONFIG['ALGO'] == 'RIPPER':\n",
    "    print('Rule count: ' + str(sum([len(rules) for rules in estimator.rule_map.values()])))\n",
    "    print('Rule set:')\n",
    "    print(estimator.rule_list_to_pretty_string())\n",
    "\n",
    "# uncomment the following line for a full optimized view of the model as data frame for GLRM rules\n",
    "# explanation.style"
   ]
  }
 ],
 "metadata": {
  "interpreter": {
   "hash": "aee8b7b246df8f9039afb4144a1f6fd8d2ca17a180786b69acc140d282b71a49"
  },
  "kernelspec": {
   "display_name": "Python 3.7.9 64-bit",
   "name": "python3"
  },
  "language_info": {
   "codemirror_mode": {
    "name": "ipython",
    "version": 3
   },
   "file_extension": ".py",
   "mimetype": "text/x-python",
   "name": "python",
   "nbconvert_exporter": "python",
   "pygments_lexer": "ipython3",
   "version": "3.6.13"
  },
  "metadata": {
   "interpreter": {
    "hash": "e534e48711db4d1e1c48977d0d14ff85b1f16d41bcc4fdfd88268a329b3c9d66"
   }
  },
  "orig_nbformat": 2
 },
 "nbformat": 4,
 "nbformat_minor": 2
}

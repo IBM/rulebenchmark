{
 "cells": [
  {
   "cell_type": "markdown",
   "metadata": {},
   "source": [
    "# Generic Rule Induction Notebook\n",
    "\n",
    "Continuoulsy refined."
   ]
  },
  {
   "cell_type": "code",
   "execution_count": 4,
   "metadata": {},
   "outputs": [],
   "source": [
    "#%store -z acc_list \n",
    "#%store -z prec_list "
   ]
  },
  {
   "cell_type": "markdown",
   "metadata": {},
   "source": [
    "## README\n",
    "\n",
    "- GLRM needs to run in proper (conda) aix360 environment\n",
    "- BRCG runs with proper (conda) aix360 environment\n",
    "- Use aix360i environment for RIPPER"
   ]
  },
  {
   "cell_type": "markdown",
   "metadata": {},
   "source": [
    "### Configuration\n"
   ]
  },
  {
   "cell_type": "code",
   "execution_count": 5,
   "metadata": {},
   "outputs": [
    {
     "name": "stdout",
     "output_type": "stream",
     "text": [
      "Proceed with configuration: german-credit-brcg\n"
     ]
    }
   ],
   "source": [
    "from config import config_dict\n",
    "from config import config_dict_imbalanced\n",
    "\n",
    "# document config order\n",
    "CONFIG = config_dict_imbalanced[\"CONFIG-I4\"]\n",
    "#CONFIG = config_dict[\"CONFIG14\"]\n",
    "\n",
    "print('Proceed with configuration:', CONFIG[\"NAME\"])"
   ]
  },
  {
   "cell_type": "code",
   "execution_count": 6,
   "metadata": {},
   "outputs": [],
   "source": [
    "import pandas as pd\n",
    "import numpy as np\n",
    "import seaborn as sns\n",
    "# import os\n",
    "from sklearn.model_selection import train_test_split #, GridSearchCV\n",
    "from sklearn.metrics import matthews_corrcoef,fbeta_score,confusion_matrix,f1_score,precision_score, recall_score, accuracy_score, balanced_accuracy_score, confusion_matrix, r2_score, explained_variance_score, mean_absolute_error, max_error\n",
    "from sklearn.ensemble import GradientBoostingRegressor\n",
    "import xgboost as xgb\n",
    "import wittgenstein as lw\n",
    "import time\n",
    "import warnings\n",
    "import re\n",
    "\n",
    "from aix360.algorithms.rbm import BRCGExplainer, BooleanRuleCG, GLRMExplainer, LinearRuleRegression\n",
    "if CONFIG['BINARIZER'] == 'QUANTILE':\n",
    "    from aix360.algorithms.rbm import FeatureBinarizer\n",
    "elif CONFIG['BINARIZER'] == 'TREES':\n",
    "    from aix360.algorithms.rbm import FeatureBinarizerFromTrees\n",
    "if CONFIG['ALGO'] == 'RIPPER':\n",
    "    from aix360i.algorithms.rule_induction.ripper import Ripper\n",
    "if CONFIG['ALGO'] == 'CORELS':\n",
    "    from corels import *\n",
    "\n",
    "\n",
    "\n",
    "# from explainer import Explainer\n",
    "\n",
    "# TODO create reference for performance using boosted trees\n",
    "\n",
    "# import wittgenstein as lw\n",
    "# from clf_utils import make_tree_dataset, make_forest, score_forest\n",
    "# from sklearn.tree import DecisionTreeClassifier\n",
    "# from sklearn.ensemble import RandomForestClassifier\n",
    "# from sklearn.preprocessing import OneHotEncoder, LabelEncoder\n"
   ]
  },
  {
   "cell_type": "markdown",
   "metadata": {},
   "source": [
    "### Data"
   ]
  },
  {
   "cell_type": "code",
   "execution_count": 7,
   "metadata": {},
   "outputs": [
    {
     "name": "stdout",
     "output_type": "stream",
     "text": [
      "<class 'pandas.core.frame.DataFrame'>\n",
      "RangeIndex: 1000 entries, 0 to 999\n",
      "Data columns (total 21 columns):\n",
      " #   Column                   Non-Null Count  Dtype \n",
      "---  ------                   --------------  ----- \n",
      " 0   Status Checking          1000 non-null   object\n",
      " 1   Duration in Month        1000 non-null   int64 \n",
      " 2   Credit History           1000 non-null   object\n",
      " 3   Purpose                  1000 non-null   object\n",
      " 4   Credit Amount            1000 non-null   int64 \n",
      " 5   Savings Account          1000 non-null   object\n",
      " 6   Employement since        1000 non-null   object\n",
      " 7   Installmentrate %        1000 non-null   int64 \n",
      " 8   StatusSex                1000 non-null   object\n",
      " 9   Otherdebtos              1000 non-null   object\n",
      " 10  PresentResidence         1000 non-null   int64 \n",
      " 11  Property                 1000 non-null   object\n",
      " 12  Age in years             1000 non-null   int64 \n",
      " 13  Otherinstallment Plans   1000 non-null   object\n",
      " 14  Housing                  1000 non-null   object\n",
      " 15  Number existing Credits  1000 non-null   int64 \n",
      " 16  Job                      1000 non-null   object\n",
      " 17  Number people liable     1000 non-null   int64 \n",
      " 18  Telephone                1000 non-null   object\n",
      " 19  Foreign Worker           1000 non-null   object\n",
      " 20  Target                   1000 non-null   int64 \n",
      "dtypes: int64(8), object(13)\n",
      "memory usage: 164.2+ KB\n"
     ]
    },
    {
     "data": {
      "text/plain": [
       "0    700\n",
       "1    300\n",
       "Name: Target, dtype: int64"
      ]
     },
     "execution_count": 7,
     "metadata": {},
     "output_type": "execute_result"
    }
   ],
   "source": [
    "def convert(char):\n",
    "    if char == CONFIG['POS_CLASS']:\n",
    "        return 1\n",
    "    else:\n",
    "        return 0\n",
    "\n",
    "df = pd.read_csv(CONFIG['DATA_SET'],dtype=CONFIG['DATA_TYPES'])\n",
    "df = df.drop(columns=CONFIG['DROP'])\n",
    "if CONFIG['ALGO'] == 'BRCG' or CONFIG['ALGO'] == 'CORELS' :\n",
    "    df[CONFIG['TARGET_LABEL']] = df[CONFIG['TARGET_LABEL']].map(convert)\n",
    "    CONFIG['POS_CLASS'] = 1\n",
    "    # maybe this could also be achieved through explicit binarization of target vector\n",
    "df.info()\n",
    "df[CONFIG['TARGET_LABEL']].value_counts()"
   ]
  },
  {
   "cell_type": "code",
   "execution_count": 8,
   "metadata": {},
   "outputs": [],
   "source": [
    "\n",
    "\n",
    "#if CONFIG['UNDERSAMP'] == True:\n",
    "#    under_sampling_fraud = df[df[CONFIG['TARGET_LABEL']] == 1]\n",
    "#    under_size = under_sampling_fraud.size\n",
    "#    under_sampling_legit = (df[df[CONFIG['TARGET_LABEL']] == 0]).sample(n=10000, random_state = 42)\n",
    "#    df = pd.concat([under_sampling_legit, under_sampling_fraud])"
   ]
  },
  {
   "cell_type": "code",
   "execution_count": 9,
   "metadata": {},
   "outputs": [
    {
     "data": {
      "text/plain": [
       "1"
      ]
     },
     "execution_count": 9,
     "metadata": {},
     "output_type": "execute_result"
    }
   ],
   "source": [
    "CONFIG['POS_CLASS']"
   ]
  },
  {
   "cell_type": "code",
   "execution_count": 10,
   "metadata": {},
   "outputs": [
    {
     "name": "stdout",
     "output_type": "stream",
     "text": [
      "0    700\n",
      "1    300\n",
      "Name: Target, dtype: int64\n"
     ]
    }
   ],
   "source": [
    "if CONFIG['TYPE'] == 'BINARY':\n",
    "    print(df[CONFIG['TARGET_LABEL']].value_counts())\n",
    "elif CONFIG['TYPE'] == 'CONTINUOUS':\n",
    "    df[CONFIG['TARGET_LABEL']].describe()\n",
    "else:\n",
    "    print('Unrecognized problem type')"
   ]
  },
  {
   "cell_type": "markdown",
   "metadata": {},
   "source": [
    "### Train, Test Split"
   ]
  },
  {
   "cell_type": "code",
   "execution_count": 11,
   "metadata": {},
   "outputs": [
    {
     "name": "stdout",
     "output_type": "stream",
     "text": [
      "Training: (700, 20) (700,)\n",
      "Test: (300, 20) (300,)\n"
     ]
    }
   ],
   "source": [
    "if CONFIG['TRAIN_TEST_SPLIT'] == 'FIXED':\n",
    "    if CONFIG['MODE'] == 'PREDICTIVE':\n",
    "        train = df[df['is_test_set'] == False]\n",
    "        test = df[df['is_test_set'] == True]\n",
    "    elif CONFIG['MODE'] == 'DESCRIPTIVE':\n",
    "        train = df\n",
    "        test = df\n",
    "\n",
    "    train = train.drop(columns=['is_test_set'])\n",
    "    test = test.drop(columns=['is_test_set'])\n",
    "\n",
    "    y_train = train[CONFIG['TARGET_LABEL']]\n",
    "    x_train = train.drop(columns=[CONFIG['TARGET_LABEL']])\n",
    "\n",
    "    y_test = test[CONFIG['TARGET_LABEL']]\n",
    "    x_test = test.drop(columns=[CONFIG['TARGET_LABEL']])\n",
    "else:\n",
    "    x_train, x_test, y_train, y_test = train_test_split(df.drop(columns=[CONFIG['TARGET_LABEL']]), df[CONFIG['TARGET_LABEL']], test_size=CONFIG['TRAIN_TEST_SPLIT'], random_state=42)\n",
    "\n",
    "print('Training:', x_train.shape, y_train.shape)\n",
    "print('Test:', x_test.shape, y_test.shape)"
   ]
  },
  {
   "cell_type": "markdown",
   "metadata": {},
   "source": [
    "### Reference Performance"
   ]
  },
  {
   "cell_type": "code",
   "execution_count": 12,
   "metadata": {},
   "outputs": [],
   "source": [
    "if CONFIG['TYPE'] == 'CONTINUOUS':\n",
    "    print('needs prior encoding of categoricals')\n",
    "    # gbr = GradientBoostingRegressor(n_estimators=500, random_state=0)\n",
    "    # gbr.fit(x_train, y_train)\n",
    "    # # print('Training R^2:', r2_score(yTrain, gbr.predict(dfTrain)))\n",
    "    # print('Test R^2:', r2_score(y_test, gbr.predict(x_test)))"
   ]
  },
  {
   "cell_type": "markdown",
   "metadata": {},
   "source": [
    "### Binarization"
   ]
  },
  {
   "cell_type": "code",
   "execution_count": 13,
   "metadata": {},
   "outputs": [
    {
     "name": "stdout",
     "output_type": "stream",
     "text": [
      "<class 'pandas.core.frame.DataFrame'>\n",
      "Int64Index: 700 entries, 541 to 102\n",
      "Data columns (total 28 columns):\n",
      " #   Column                                                                              Non-Null Count  Dtype\n",
      "---  ------                                                                              --------------  -----\n",
      " 0   (Age in years, <=, 23.5)                                                            700 non-null    int32\n",
      " 1   (Age in years, >, 23.5)                                                             700 non-null    int32\n",
      " 2   (Credit Amount, <=, 7897.0)                                                         700 non-null    int32\n",
      " 3   (Credit Amount, <=, 10975.5)                                                        700 non-null    int32\n",
      " 4   (Credit Amount, >, 7897.0)                                                          700 non-null    int32\n",
      " 5   (Credit Amount, >, 10975.5)                                                         700 non-null    int32\n",
      " 6   (Credit History, !=, critical account / other credits existing (not at this bank))  700 non-null    int32\n",
      " 7   (Credit History, ==, critical account / other credits existing (not at this bank))  700 non-null    int32\n",
      " 8   (Duration in Month, <=, 33.0)                                                       700 non-null    int32\n",
      " 9   (Duration in Month, >, 33.0)                                                        700 non-null    int32\n",
      " 10  (Employement since, !=, unemployed)                                                 700 non-null    int32\n",
      " 11  (Employement since, ==, unemployed)                                                 700 non-null    int32\n",
      " 12  (Job, !=, unskilled-resident)                                                       700 non-null    int32\n",
      " 13  (Job, ==, unskilled-resident)                                                       700 non-null    int32\n",
      " 14  (Otherinstallment Plans, !=, None)                                                  700 non-null    int32\n",
      " 15  (Otherinstallment Plans, ==, None)                                                  700 non-null    int32\n",
      " 16  (PresentResidence, <=, 2.5)                                                         700 non-null    int32\n",
      " 17  (PresentResidence, <=, 3.5)                                                         700 non-null    int32\n",
      " 18  (PresentResidence, >, 2.5)                                                          700 non-null    int32\n",
      " 19  (PresentResidence, >, 3.5)                                                          700 non-null    int32\n",
      " 20  (Purpose, !=, car (new))                                                            700 non-null    int32\n",
      " 21  (Purpose, !=, radio/television)                                                     700 non-null    int32\n",
      " 22  (Purpose, ==, car (new))                                                            700 non-null    int32\n",
      " 23  (Purpose, ==, radio/television)                                                     700 non-null    int32\n",
      " 24  (Savings Account, !=, < 100DM)                                                      700 non-null    int32\n",
      " 25  (Savings Account, ==, < 100DM)                                                      700 non-null    int32\n",
      " 26  (Status Checking, !=, A14)                                                          700 non-null    int32\n",
      " 27  (Status Checking, ==, A14)                                                          700 non-null    int32\n",
      "dtypes: int32(28)\n",
      "memory usage: 82.0 KB\n"
     ]
    },
    {
     "data": {
      "text/html": [
       "<div>\n",
       "<style scoped>\n",
       "    .dataframe tbody tr th:only-of-type {\n",
       "        vertical-align: middle;\n",
       "    }\n",
       "\n",
       "    .dataframe tbody tr th {\n",
       "        vertical-align: top;\n",
       "    }\n",
       "\n",
       "    .dataframe thead tr th {\n",
       "        text-align: left;\n",
       "    }\n",
       "</style>\n",
       "<table border=\"1\" class=\"dataframe\">\n",
       "  <thead>\n",
       "    <tr>\n",
       "      <th>feature</th>\n",
       "      <th colspan=\"2\" halign=\"left\">Age in years</th>\n",
       "      <th colspan=\"4\" halign=\"left\">Credit Amount</th>\n",
       "      <th colspan=\"2\" halign=\"left\">Credit History</th>\n",
       "      <th colspan=\"2\" halign=\"left\">Duration in Month</th>\n",
       "      <th>...</th>\n",
       "      <th colspan=\"2\" halign=\"left\">PresentResidence</th>\n",
       "      <th colspan=\"4\" halign=\"left\">Purpose</th>\n",
       "      <th colspan=\"2\" halign=\"left\">Savings Account</th>\n",
       "      <th colspan=\"2\" halign=\"left\">Status Checking</th>\n",
       "    </tr>\n",
       "    <tr>\n",
       "      <th>operation</th>\n",
       "      <th>&lt;=</th>\n",
       "      <th>&gt;</th>\n",
       "      <th colspan=\"2\" halign=\"left\">&lt;=</th>\n",
       "      <th colspan=\"2\" halign=\"left\">&gt;</th>\n",
       "      <th>!=</th>\n",
       "      <th>==</th>\n",
       "      <th>&lt;=</th>\n",
       "      <th>&gt;</th>\n",
       "      <th>...</th>\n",
       "      <th colspan=\"2\" halign=\"left\">&gt;</th>\n",
       "      <th colspan=\"2\" halign=\"left\">!=</th>\n",
       "      <th colspan=\"2\" halign=\"left\">==</th>\n",
       "      <th>!=</th>\n",
       "      <th>==</th>\n",
       "      <th>!=</th>\n",
       "      <th>==</th>\n",
       "    </tr>\n",
       "    <tr>\n",
       "      <th>value</th>\n",
       "      <th>23.5</th>\n",
       "      <th>23.5</th>\n",
       "      <th>7897.0</th>\n",
       "      <th>10975.5</th>\n",
       "      <th>7897.0</th>\n",
       "      <th>10975.5</th>\n",
       "      <th>critical account / other credits existing (not at this bank)</th>\n",
       "      <th>critical account / other credits existing (not at this bank)</th>\n",
       "      <th>33.0</th>\n",
       "      <th>33.0</th>\n",
       "      <th>...</th>\n",
       "      <th>2.5</th>\n",
       "      <th>3.5</th>\n",
       "      <th>car (new)</th>\n",
       "      <th>radio/television</th>\n",
       "      <th>car (new)</th>\n",
       "      <th>radio/television</th>\n",
       "      <th>&lt; 100DM</th>\n",
       "      <th>&lt; 100DM</th>\n",
       "      <th>A14</th>\n",
       "      <th>A14</th>\n",
       "    </tr>\n",
       "  </thead>\n",
       "  <tbody>\n",
       "    <tr>\n",
       "      <th>541</th>\n",
       "      <td>0</td>\n",
       "      <td>1</td>\n",
       "      <td>1</td>\n",
       "      <td>1</td>\n",
       "      <td>0</td>\n",
       "      <td>0</td>\n",
       "      <td>1</td>\n",
       "      <td>0</td>\n",
       "      <td>1</td>\n",
       "      <td>0</td>\n",
       "      <td>...</td>\n",
       "      <td>1</td>\n",
       "      <td>1</td>\n",
       "      <td>0</td>\n",
       "      <td>1</td>\n",
       "      <td>1</td>\n",
       "      <td>0</td>\n",
       "      <td>0</td>\n",
       "      <td>1</td>\n",
       "      <td>0</td>\n",
       "      <td>1</td>\n",
       "    </tr>\n",
       "    <tr>\n",
       "      <th>440</th>\n",
       "      <td>0</td>\n",
       "      <td>1</td>\n",
       "      <td>1</td>\n",
       "      <td>1</td>\n",
       "      <td>0</td>\n",
       "      <td>0</td>\n",
       "      <td>1</td>\n",
       "      <td>0</td>\n",
       "      <td>1</td>\n",
       "      <td>0</td>\n",
       "      <td>...</td>\n",
       "      <td>1</td>\n",
       "      <td>1</td>\n",
       "      <td>0</td>\n",
       "      <td>1</td>\n",
       "      <td>1</td>\n",
       "      <td>0</td>\n",
       "      <td>0</td>\n",
       "      <td>1</td>\n",
       "      <td>0</td>\n",
       "      <td>1</td>\n",
       "    </tr>\n",
       "    <tr>\n",
       "      <th>482</th>\n",
       "      <td>0</td>\n",
       "      <td>1</td>\n",
       "      <td>1</td>\n",
       "      <td>1</td>\n",
       "      <td>0</td>\n",
       "      <td>0</td>\n",
       "      <td>1</td>\n",
       "      <td>0</td>\n",
       "      <td>1</td>\n",
       "      <td>0</td>\n",
       "      <td>...</td>\n",
       "      <td>1</td>\n",
       "      <td>1</td>\n",
       "      <td>1</td>\n",
       "      <td>1</td>\n",
       "      <td>0</td>\n",
       "      <td>0</td>\n",
       "      <td>1</td>\n",
       "      <td>0</td>\n",
       "      <td>1</td>\n",
       "      <td>0</td>\n",
       "    </tr>\n",
       "    <tr>\n",
       "      <th>422</th>\n",
       "      <td>0</td>\n",
       "      <td>1</td>\n",
       "      <td>1</td>\n",
       "      <td>1</td>\n",
       "      <td>0</td>\n",
       "      <td>0</td>\n",
       "      <td>0</td>\n",
       "      <td>1</td>\n",
       "      <td>1</td>\n",
       "      <td>0</td>\n",
       "      <td>...</td>\n",
       "      <td>1</td>\n",
       "      <td>0</td>\n",
       "      <td>0</td>\n",
       "      <td>1</td>\n",
       "      <td>1</td>\n",
       "      <td>0</td>\n",
       "      <td>0</td>\n",
       "      <td>1</td>\n",
       "      <td>1</td>\n",
       "      <td>0</td>\n",
       "    </tr>\n",
       "    <tr>\n",
       "      <th>778</th>\n",
       "      <td>0</td>\n",
       "      <td>1</td>\n",
       "      <td>1</td>\n",
       "      <td>1</td>\n",
       "      <td>0</td>\n",
       "      <td>0</td>\n",
       "      <td>0</td>\n",
       "      <td>1</td>\n",
       "      <td>0</td>\n",
       "      <td>1</td>\n",
       "      <td>...</td>\n",
       "      <td>0</td>\n",
       "      <td>0</td>\n",
       "      <td>1</td>\n",
       "      <td>1</td>\n",
       "      <td>0</td>\n",
       "      <td>0</td>\n",
       "      <td>1</td>\n",
       "      <td>0</td>\n",
       "      <td>0</td>\n",
       "      <td>1</td>\n",
       "    </tr>\n",
       "  </tbody>\n",
       "</table>\n",
       "<p>5 rows × 28 columns</p>\n",
       "</div>"
      ],
      "text/plain": [
       "feature   Age in years      Credit Amount                         \\\n",
       "operation           <=    >            <=              >           \n",
       "value             23.5 23.5        7897.0 10975.5 7897.0 10975.5   \n",
       "541                  0    1             1       1      0       0   \n",
       "440                  0    1             1       1      0       0   \n",
       "482                  0    1             1       1      0       0   \n",
       "422                  0    1             1       1      0       0   \n",
       "778                  0    1             1       1      0       0   \n",
       "\n",
       "feature                                                 Credit History  \\\n",
       "operation                                                           !=   \n",
       "value     critical account / other credits existing (not at this bank)   \n",
       "541                                                        1             \n",
       "440                                                        1             \n",
       "482                                                        1             \n",
       "422                                                        0             \n",
       "778                                                        0             \n",
       "\n",
       "feature                                                                 \\\n",
       "operation                                                           ==   \n",
       "value     critical account / other credits existing (not at this bank)   \n",
       "541                                                        0             \n",
       "440                                                        0             \n",
       "482                                                        0             \n",
       "422                                                        1             \n",
       "778                                                        1             \n",
       "\n",
       "feature   Duration in Month       ... PresentResidence       Purpose  \\\n",
       "operation                <=    >  ...                >            !=   \n",
       "value                  33.0 33.0  ...              2.5 3.5 car (new)   \n",
       "541                       1    0  ...                1   1         0   \n",
       "440                       1    0  ...                1   1         0   \n",
       "482                       1    0  ...                1   1         1   \n",
       "422                       1    0  ...                1   0         0   \n",
       "778                       0    1  ...                0   0         1   \n",
       "\n",
       "feature                                               Savings Account          \\\n",
       "operation                         ==                               !=      ==   \n",
       "value     radio/television car (new) radio/television         < 100DM < 100DM   \n",
       "541                      1         1                0               0       1   \n",
       "440                      1         1                0               0       1   \n",
       "482                      1         0                0               1       0   \n",
       "422                      1         1                0               0       1   \n",
       "778                      1         0                0               1       0   \n",
       "\n",
       "feature   Status Checking      \n",
       "operation              !=  ==  \n",
       "value                 A14 A14  \n",
       "541                     0   1  \n",
       "440                     0   1  \n",
       "482                     1   0  \n",
       "422                     1   0  \n",
       "778                     0   1  \n",
       "\n",
       "[5 rows x 28 columns]"
      ]
     },
     "execution_count": 13,
     "metadata": {},
     "output_type": "execute_result"
    }
   ],
   "source": [
    "if CONFIG['BINARIZER'] == 'TREES':\n",
    "    binarizer =  FeatureBinarizerFromTrees(negations=False, randomState=42) # FeatureBinarizer(negations=False), FeatureBinarizerFromTrees(negations=True, randomState=42)\n",
    "    binarizer = binarizer.fit(x_train, y_train)\n",
    "    x_train_bin = binarizer.transform(x_train) #  x_train_bin = binarizer.fit_transform(x_train)\n",
    "    x_test_bin = binarizer.transform(x_test) #  X_fb = self.fb.fit_transform(X_train)\n",
    "elif CONFIG['BINARIZER'] == 'QUANTILE':\n",
    "    binarizer =  FeatureBinarizer(numThresh=9,negations=False, randomState=42) # FeatureBinarizer(negations=False), FeatureBinarizerFromTrees(negations=True, randomState=42)\n",
    "    binarizer = binarizer.fit(x_train)\n",
    "    x_train_bin = binarizer.transform(x_train) #  x_train_bin = binarizer.fit_transform(x_train)\n",
    "    x_test_bin = binarizer.transform(x_test) #  X_fb = self.fb.fit_transform(X_train)  \n",
    "elif CONFIG['BINARIZER'] == 'NATIVE':\n",
    "    x_train_bin = x_train\n",
    "    x_test_bin = x_test\n",
    "else:\n",
    "    print('UNRECOGNIZED BINARIZER')\n",
    "\n",
    "x_train_bin.info() # verbose=True\n",
    "x_train_bin.head()\n",
    "#x_train_bin[CONFIG['EXAMPLE_FEATURE']][:10]\n"
   ]
  },
  {
   "cell_type": "markdown",
   "metadata": {},
   "source": [
    "### Rule Induction"
   ]
  },
  {
   "cell_type": "code",
   "execution_count": 14,
   "metadata": {},
   "outputs": [
    {
     "name": "stdout",
     "output_type": "stream",
     "text": [
      "Starting training for BRCG\n",
      "Learning DNF rule with complexity parameters lambda0=0.001, lambda1=0.001\n",
      "Initial LP solved\n",
      "Iteration: 1, Objective: 0.2906\n",
      "Iteration: 2, Objective: 0.2443\n",
      "Iteration: 3, Objective: 0.2387\n",
      "Iteration: 4, Objective: 0.2354\n",
      "Iteration: 5, Objective: 0.2354\n",
      "Training time: 3.9186015129089355\n"
     ]
    }
   ],
   "source": [
    "start_time = time.time()\n",
    "print('Starting training for', CONFIG['ALGO'])\n",
    "\n",
    "if CONFIG['ALGO'] == 'BRCG':\n",
    "    estimator = BooleanRuleCG() # Explainer()\n",
    "    # estimator.train(x_train, y_train)\n",
    "    with warnings.catch_warnings():\n",
    "        warnings.simplefilter(\"ignore\")\n",
    "        estimator.fit(x_train_bin, y_train)\n",
    "elif CONFIG['ALGO'] == 'RIPPER':\n",
    "    estimator = Ripper()\n",
    "    estimator.fit(x_train_bin, y_train, pos_value=CONFIG['POS_CLASS'])\n",
    "elif CONFIG['ALGO'] == 'Witt_RIPPER':\n",
    "    estimator = lw.RIPPER()\n",
    "    estimator.fit(x_train_bin, y_train,class_feat=CONFIG[\"TARGET_LABEL\"] , pos_value=CONFIG['POS_CLASS'])\n",
    "elif CONFIG['ALGO'] == 'GLRM':\n",
    "    linear_model = LinearRuleRegression() # lambda0=0.0005,lambda1=0.0001\n",
    "    explainer = GLRMExplainer(linear_model)\n",
    "    explainer.fit(x_train_bin, y_train)\n",
    "elif CONFIG['ALGO'] == 'CORELS':\n",
    "    estimator = CorelsClassifier(n_iter=10000, \n",
    "                      # feautres per statement\n",
    "                     c = 0.0001 # Higher values penalise longer rulelists\n",
    "                    )\n",
    "    estimator.fit(x_train_bin, y_train , prediction_name = CONFIG[\"TARGET_LABEL\"])\n",
    "    \n",
    "else:\n",
    "    print('Unrecognized algorithm:', CONFIG['ALGO'])\n",
    "\n",
    "end_time = time.time()\n",
    "print('Training time: ' + str(end_time - start_time))"
   ]
  },
  {
   "cell_type": "code",
   "execution_count": 15,
   "metadata": {},
   "outputs": [
    {
     "data": {
      "text/plain": [
       "1"
      ]
     },
     "execution_count": 15,
     "metadata": {},
     "output_type": "execute_result"
    }
   ],
   "source": [
    "CONFIG['POS_CLASS']"
   ]
  },
  {
   "cell_type": "markdown",
   "metadata": {},
   "source": [
    "### Evaluation"
   ]
  },
  {
   "cell_type": "code",
   "execution_count": 16,
   "metadata": {},
   "outputs": [
    {
     "name": "stdout",
     "output_type": "stream",
     "text": [
      "Accuracy: 0.69\n",
      "Balanced accuracy: 0.5541563699458436\n",
      "Precision: 0.475\n",
      "Recall: 0.2087912087912088\n",
      "F1 0.2900763358778626\n",
      "ConfusionMatrix [[188  21]\n",
      " [ 72  19]]\n",
      "F-2 0.23514851485148514\n",
      "Mathhews 0.14647270820114072\n",
      "Stored 'acc_list' (list)\n",
      "Stored 'prec_list' (list)\n"
     ]
    }
   ],
   "source": [
    "acc_list = []\n",
    "prec_list = []\n",
    "%store -r acc_list\n",
    "%store -r prec_list\n",
    "\n",
    "if CONFIG['TYPE'] == 'BINARY':\n",
    "    y_pred = estimator.predict(x_test_bin)\n",
    "    print('Accuracy:', accuracy_score(y_test, y_pred))\n",
    "    print('Balanced accuracy:', balanced_accuracy_score(y_test, y_pred))\n",
    "    print('Precision:', precision_score(y_test, y_pred, pos_label=CONFIG['POS_CLASS']))\n",
    "    print('Recall:', recall_score(y_test, y_pred, pos_label=CONFIG['POS_CLASS']))\n",
    "    print('F1', f1_score(y_test, y_pred, pos_label=CONFIG['POS_CLASS']))\n",
    "    print('ConfusionMatrix', confusion_matrix(y_test, y_pred))\n",
    "    print('F-2', fbeta_score(y_test, y_pred, pos_label=CONFIG['POS_CLASS'], beta= 2))\n",
    "    print('Mathhews', matthews_corrcoef(y_test, y_pred))\n",
    "\n",
    "    acc_list.append(recall_score(y_test, y_pred, pos_label=CONFIG['POS_CLASS']))\n",
    "    prec_list.append(precision_score(y_test, y_pred, pos_label=CONFIG['POS_CLASS']))\n",
    "    %store acc_list\n",
    "    %store prec_list\n",
    "   \n",
    "elif CONFIG['TYPE'] == 'CONTINUOUS':\n",
    "    y_pred = explainer.predict(x_test_bin)\n",
    "    print(f'R2 Score = {r2_score(y_test, y_pred)}')\n",
    "    print(f'Explained Variance = {explained_variance_score(y_test, y_pred)}')\n",
    "    print(f'Mean abs. error = {mean_absolute_error(y_test, y_pred)}')\n",
    "    print(f'Max error = {max_error(y_test, y_pred)}')\n",
    "    \n"
   ]
  },
  {
   "cell_type": "code",
   "execution_count": 17,
   "metadata": {},
   "outputs": [
    {
     "data": {
      "text/plain": [
       "0    209\n",
       "1     91\n",
       "Name: Target, dtype: int64"
      ]
     },
     "execution_count": 17,
     "metadata": {},
     "output_type": "execute_result"
    }
   ],
   "source": [
    "y_test.value_counts()"
   ]
  },
  {
   "cell_type": "code",
   "execution_count": 18,
   "metadata": {},
   "outputs": [
    {
     "data": {
      "text/plain": [
       "1"
      ]
     },
     "execution_count": 18,
     "metadata": {},
     "output_type": "execute_result"
    }
   ],
   "source": [
    "CONFIG['POS_CLASS']"
   ]
  },
  {
   "cell_type": "code",
   "execution_count": 19,
   "metadata": {},
   "outputs": [
    {
     "data": {
      "text/plain": [
       "'TREES'"
      ]
     },
     "execution_count": 19,
     "metadata": {},
     "output_type": "execute_result"
    }
   ],
   "source": [
    "CONFIG['BINARIZER']"
   ]
  },
  {
   "cell_type": "code",
   "execution_count": 20,
   "metadata": {},
   "outputs": [
    {
     "data": {
      "text/plain": [
       "'BRCG'"
      ]
     },
     "execution_count": 20,
     "metadata": {},
     "output_type": "execute_result"
    }
   ],
   "source": [
    "CONFIG['ALGO']"
   ]
  },
  {
   "cell_type": "code",
   "execution_count": 21,
   "metadata": {},
   "outputs": [
    {
     "data": {
      "text/plain": [
       "0    700\n",
       "1    300\n",
       "Name: Target, dtype: int64"
      ]
     },
     "execution_count": 21,
     "metadata": {},
     "output_type": "execute_result"
    }
   ],
   "source": [
    "df[CONFIG[\"TARGET_LABEL\"]].value_counts()"
   ]
  },
  {
   "cell_type": "code",
   "execution_count": 22,
   "metadata": {},
   "outputs": [
    {
     "data": {
      "text/plain": [
       "1"
      ]
     },
     "execution_count": 22,
     "metadata": {},
     "output_type": "execute_result"
    }
   ],
   "source": [
    "CONFIG['POS_CLASS']"
   ]
  },
  {
   "cell_type": "code",
   "execution_count": 23,
   "metadata": {},
   "outputs": [
    {
     "name": "stdout",
     "output_type": "stream",
     "text": [
      "Number of rules: 4\n",
      "['Credit Amount > 10975.50 AND Duration in Month <= 33.00', 'Credit Amount > 7897.00 AND Job != unskilled-resident AND Savings Account == < 100DM AND Status Checking != A14', 'Credit Amount <= 7897.00 AND Credit History != critical account / other credits existing (not at this bank) AND Purpose == car (new) AND Status Checking != A14', 'Credit History != critical account / other credits existing (not at this bank) AND Duration in Month > 33.00 AND Employement since != unemployed AND PresentResidence > 2.50 AND Purpose != radio/television AND Status Checking != A14']\n"
     ]
    }
   ],
   "source": [
    "präds = []\n",
    "if CONFIG['TYPE'] == 'CONTINUOUS':\n",
    "    explanation = explainer.explain()\n",
    "    print(explanation)\n",
    "elif CONFIG['ALGO'] == 'BRCG':\n",
    "    model = estimator.explain()\n",
    "    if not model['isCNF']:\n",
    "        print('Number of rules:', len(model['rules']))\n",
    "        print(model['rules'])\n",
    "elif CONFIG['ALGO'] == 'RIPPER':\n",
    "    \n",
    "    print('Rule count: ' + str(sum([len(rules) for rules in estimator.rule_map.values()])))\n",
    "    print('Rule set:')\n",
    "    #print(estimator.rule_list_to_pretty_string())\n",
    "    # Get predicates --> if Key Error Switch 0 to 1 or 1 to 0\n",
    "    for i in range(len(estimator.rule_map[1])):\n",
    "        print(len(estimator.rule_map[1][i]))\n",
    "        präds.append(len(estimator.rule_map[1][i]))\n",
    "    print(\"Sum Prädikate:\", sum(präds))\n",
    "elif CONFIG['ALGO'] == 'CORELS':\n",
    "    r_length = len(estimator.rl().rules)\n",
    "    print(\"Rule Length:\", r_length)\n",
    "    # Get predicates\n",
    "    for i in range(len(estimator.rl().rules[0][\"antecedents\"])):\n",
    "        an = len(estimator.rl().rules[i][\"antecedents\"])\n",
    "        präds.append(len(estimator.rl().rules[i][\"antecedents\"]))\n",
    "        print(f\"Antecedents Length Rule {i}:\" , an)\n",
    "    print(\"Sum Prädikate:\", sum(präds))\n",
    "elif CONFIG['ALGO'] == 'Witt_RIPPER':\n",
    "    print(\"Rule Length:\", len(estimator.ruleset_))\n",
    "\n",
    "# uncomment the following line for a full optimized view of the model as data frame for GLRM rules\n",
    "# explanation.style"
   ]
  },
  {
   "cell_type": "code",
   "execution_count": null,
   "metadata": {},
   "outputs": [],
   "source": []
  }
 ],
 "metadata": {
  "interpreter": {
   "hash": "aee8b7b246df8f9039afb4144a1f6fd8d2ca17a180786b69acc140d282b71a49"
  },
  "kernelspec": {
   "display_name": "Python 3.7.9 64-bit",
   "name": "python3"
  },
  "language_info": {
   "codemirror_mode": {
    "name": "ipython",
    "version": 3
   },
   "file_extension": ".py",
   "mimetype": "text/x-python",
   "name": "python",
   "nbconvert_exporter": "python",
   "pygments_lexer": "ipython3",
   "version": "3.6.15"
  },
  "metadata": {
   "interpreter": {
    "hash": "e534e48711db4d1e1c48977d0d14ff85b1f16d41bcc4fdfd88268a329b3c9d66"
   }
  },
  "orig_nbformat": 2
 },
 "nbformat": 4,
 "nbformat_minor": 2
}

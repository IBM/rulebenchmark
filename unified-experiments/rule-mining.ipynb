{
 "cells": [
  {
   "cell_type": "markdown",
   "metadata": {},
   "source": [
    "# Generic Rule Induction Notebook\n",
    "\n",
    "Continuoulsy refined."
   ]
  },
  {
   "cell_type": "code",
   "execution_count": 50,
   "metadata": {},
   "outputs": [],
   "source": [
    "import sys\n",
    "sys.path.append('../../')\n",
    "import aix360i.algorithms.rule_induction.r2n.simple_rulenet as rn\n",
    "import aix360i.algorithms.rule_induction.r2n.base as base\n",
    "import aix360i.algorithms.rule_induction.r2n.utilities as util\n",
    "import aix360i.algorithms.rule_induction.r2n.preprocessing_layers as ul\n",
    "import aix360i.algorithms.rule_induction.r2n.r2n_algo as algo\n",
    "from aix360i.algorithms.rule_induction.r2n.training import train as train_R2N"
   ]
  },
  {
   "cell_type": "markdown",
   "metadata": {},
   "source": [
    "## README\n",
    "\n",
    "- GLRM needs to run in proper (conda) aix360 environment\n",
    "- BRCG runs with proper (conda) aix360 environment\n",
    "- Use aix360i environment for RIPPER"
   ]
  },
  {
   "cell_type": "markdown",
   "metadata": {},
   "source": [
    "### Configuration\n"
   ]
  },
  {
   "cell_type": "code",
   "execution_count": 51,
   "metadata": {},
   "outputs": [
    {
     "name": "stdout",
     "output_type": "stream",
     "text": [
      "Proceed with configuration: german-credit-brcg\n"
     ]
    }
   ],
   "source": [
    "from config import config_dict\n",
    "from config import config_dict_imbalanced\n",
    "\n",
    "# document config order\n",
    "CONFIG = config_dict_imbalanced[\"CONFIG-I63\"]\n",
    "#CONFIG = config_dict[\"CONFIG53\"]\n",
    "\n",
    "\n",
    "\n",
    "\n",
    "print('Proceed with configuration:', CONFIG[\"NAME\"])"
   ]
  },
  {
   "cell_type": "code",
   "execution_count": 52,
   "metadata": {},
   "outputs": [],
   "source": [
    "import pandas as pd\n",
    "import numpy as np\n",
    "import seaborn as sns\n",
    "# import os\n",
    "from sklearn.model_selection import train_test_split #, GridSearchCV\n",
    "from sklearn.metrics import matthews_corrcoef,fbeta_score,confusion_matrix,f1_score,precision_score, recall_score, accuracy_score, balanced_accuracy_score, confusion_matrix, r2_score, explained_variance_score, mean_absolute_error, max_error\n",
    "from sklearn.ensemble import GradientBoostingRegressor\n",
    "import xgboost as xgb\n",
    "import wittgenstein as lw\n",
    "import time\n",
    "import warnings\n",
    "import re\n",
    "\n",
    "from aix360.algorithms.rbm import BRCGExplainer, BooleanRuleCG, GLRMExplainer, LinearRuleRegression\n",
    "if CONFIG['BINARIZER'] == 'QUANTILE':\n",
    "    from aix360.algorithms.rbm import FeatureBinarizer\n",
    "elif CONFIG['BINARIZER'] == 'TREES':\n",
    "    from aix360.algorithms.rbm import FeatureBinarizerFromTrees\n",
    "if CONFIG['ALGO'] == 'RIPPER':\n",
    "    from aix360i.algorithms.rule_induction.ripper import Ripper\n",
    "if CONFIG['ALGO'] == 'CORELS':\n",
    "    from corels import *\n",
    "\n",
    "\n",
    "\n",
    "# from explainer import Explainer\n",
    "\n",
    "# TODO create reference for performance using boosted trees\n",
    "\n",
    "# import wittgenstein as lw\n",
    "# from clf_utils import make_tree_dataset, make_forest, score_forest\n",
    "# from sklearn.tree import DecisionTreeClassifier\n",
    "# from sklearn.ensemble import RandomForestClassifier\n",
    "# from sklearn.preprocessing import OneHotEncoder, LabelEncoder\n"
   ]
  },
  {
   "cell_type": "markdown",
   "metadata": {},
   "source": [
    "### Data"
   ]
  },
  {
   "cell_type": "code",
   "execution_count": 53,
   "metadata": {},
   "outputs": [
    {
     "name": "stdout",
     "output_type": "stream",
     "text": [
      "<class 'pandas.core.frame.DataFrame'>\n",
      "RangeIndex: 1000 entries, 0 to 999\n",
      "Data columns (total 21 columns):\n",
      " #   Column                   Non-Null Count  Dtype \n",
      "---  ------                   --------------  ----- \n",
      " 0   Status Checking          1000 non-null   object\n",
      " 1   Duration in Month        1000 non-null   int64 \n",
      " 2   Credit History           1000 non-null   object\n",
      " 3   Purpose                  1000 non-null   object\n",
      " 4   Credit Amount            1000 non-null   int64 \n",
      " 5   Savings Account          1000 non-null   object\n",
      " 6   Employement since        1000 non-null   object\n",
      " 7   Installmentrate %        1000 non-null   int64 \n",
      " 8   StatusSex                1000 non-null   object\n",
      " 9   Otherdebtos              1000 non-null   object\n",
      " 10  PresentResidence         1000 non-null   int64 \n",
      " 11  Property                 1000 non-null   object\n",
      " 12  Age in years             1000 non-null   int64 \n",
      " 13  Otherinstallment Plans   1000 non-null   object\n",
      " 14  Housing                  1000 non-null   object\n",
      " 15  Number existing Credits  1000 non-null   int64 \n",
      " 16  Job                      1000 non-null   object\n",
      " 17  Number people liable     1000 non-null   int64 \n",
      " 18  Telephone                1000 non-null   object\n",
      " 19  Foreign Worker           1000 non-null   object\n",
      " 20  Target                   1000 non-null   int64 \n",
      "dtypes: int64(8), object(13)\n",
      "memory usage: 164.2+ KB\n"
     ]
    },
    {
     "data": {
      "text/plain": [
       "1    700\n",
       "0    300\n",
       "Name: Target, dtype: int64"
      ]
     },
     "execution_count": 53,
     "metadata": {},
     "output_type": "execute_result"
    }
   ],
   "source": [
    "def convert(char):\n",
    "    if char == CONFIG['POS_CLASS']:\n",
    "        return 1\n",
    "    else:\n",
    "        return 0\n",
    "\n",
    "df = pd.read_csv(CONFIG['DATA_SET'],dtype=CONFIG['DATA_TYPES'])\n",
    "df = df.drop(columns=CONFIG['DROP'])\n",
    "if CONFIG['ALGO'] == 'BRCG':\n",
    "    df[CONFIG['TARGET_LABEL']] = df[CONFIG['TARGET_LABEL']].map(convert)\n",
    "    CONFIG['POS_CLASS'] = 1\n",
    "    # maybe this could also be achieved through explicit binarization of target vector\n",
    "df.info()\n",
    "df[CONFIG['TARGET_LABEL']].value_counts()"
   ]
  },
  {
   "cell_type": "code",
   "execution_count": 54,
   "metadata": {},
   "outputs": [],
   "source": [
    "\n",
    "# BRCG Miniloan sample\n",
    "#if CONFIG['UNDERSAMP'] == True:\n",
    "#    under_sampling_fraud = df[df[CONFIG['TARGET_LABEL']] == 1].sample(n=4000, random_state = 42)\n",
    "#    under_size = under_sampling_fraud.size\n",
    "#    under_sampling_legit = (df[df[CONFIG['TARGET_LABEL']] == 0])\n",
    "#    df = pd.concat([under_sampling_legit, under_sampling_fraud])\n",
    "\n",
    "#Ripper Miniloan sample\n",
    "#if CONFIG['UNDERSAMP'] == True:\n",
    "#    under_sampling_fraud = df[df[CONFIG['TARGET_LABEL']] == 1]\n",
    "#    under_size = under_sampling_fraud.size\n",
    "#    under_sampling_legit = (df[df[CONFIG['TARGET_LABEL']] == 0].sample(n=4000, random_state = 42))\n",
    "#    df = pd.concat([under_sampling_legit, under_sampling_fraud])"
   ]
  },
  {
   "cell_type": "code",
   "execution_count": 55,
   "metadata": {},
   "outputs": [
    {
     "data": {
      "text/plain": [
       "0"
      ]
     },
     "execution_count": 55,
     "metadata": {},
     "output_type": "execute_result"
    }
   ],
   "source": [
    "CONFIG['POS_CLASS']"
   ]
  },
  {
   "cell_type": "code",
   "execution_count": 56,
   "metadata": {},
   "outputs": [
    {
     "name": "stdout",
     "output_type": "stream",
     "text": [
      "1    700\n",
      "0    300\n",
      "Name: Target, dtype: int64\n"
     ]
    }
   ],
   "source": [
    "if CONFIG['TYPE'] == 'BINARY':\n",
    "    print(df[CONFIG['TARGET_LABEL']].value_counts())\n",
    "elif CONFIG['TYPE'] == 'CONTINUOUS':\n",
    "    df[CONFIG['TARGET_LABEL']].describe()\n",
    "else:\n",
    "    print('Unrecognized problem type')"
   ]
  },
  {
   "cell_type": "markdown",
   "metadata": {},
   "source": [
    "### Train, Test Split"
   ]
  },
  {
   "cell_type": "code",
   "execution_count": 57,
   "metadata": {},
   "outputs": [
    {
     "name": "stdout",
     "output_type": "stream",
     "text": [
      "Training: (700, 20) (700,)\n",
      "Test: (300, 20) (300,)\n"
     ]
    }
   ],
   "source": [
    "if CONFIG['TRAIN_TEST_SPLIT'] == 'FIXED':\n",
    "    if CONFIG['MODE'] == 'PREDICTIVE':\n",
    "        train = df[df['is_test_set'] == False]\n",
    "        test = df[df['is_test_set'] == True]\n",
    "    elif CONFIG['MODE'] == 'DESCRIPTIVE':\n",
    "        train = df\n",
    "        test = df\n",
    "\n",
    "    train = train.drop(columns=['is_test_set'])\n",
    "    test = test.drop(columns=['is_test_set'])\n",
    "\n",
    "    y_train = train[CONFIG['TARGET_LABEL']]\n",
    "    x_train = train.drop(columns=[CONFIG['TARGET_LABEL']])\n",
    "\n",
    "    y_test = test[CONFIG['TARGET_LABEL']]\n",
    "    x_test = test.drop(columns=[CONFIG['TARGET_LABEL']])\n",
    "else:\n",
    "    x_train, x_test, y_train, y_test = train_test_split(df.drop(columns=[CONFIG['TARGET_LABEL']]), df[CONFIG['TARGET_LABEL']], test_size=CONFIG['TRAIN_TEST_SPLIT'],random_state=42)\n",
    "\n",
    "print('Training:', x_train.shape, y_train.shape)\n",
    "print('Test:', x_test.shape, y_test.shape)"
   ]
  },
  {
   "cell_type": "code",
   "execution_count": 58,
   "metadata": {},
   "outputs": [
    {
     "name": "stdout",
     "output_type": "stream",
     "text": [
      "<class 'pandas.core.frame.DataFrame'>\n",
      "Int64Index: 700 entries, 541 to 102\n",
      "Data columns (total 20 columns):\n",
      " #   Column                   Non-Null Count  Dtype \n",
      "---  ------                   --------------  ----- \n",
      " 0   Status Checking          700 non-null    object\n",
      " 1   Duration in Month        700 non-null    int64 \n",
      " 2   Credit History           700 non-null    object\n",
      " 3   Purpose                  700 non-null    object\n",
      " 4   Credit Amount            700 non-null    int64 \n",
      " 5   Savings Account          700 non-null    object\n",
      " 6   Employement since        700 non-null    object\n",
      " 7   Installmentrate %        700 non-null    int64 \n",
      " 8   StatusSex                700 non-null    object\n",
      " 9   Otherdebtos              700 non-null    object\n",
      " 10  PresentResidence         700 non-null    int64 \n",
      " 11  Property                 700 non-null    object\n",
      " 12  Age in years             700 non-null    int64 \n",
      " 13  Otherinstallment Plans   700 non-null    object\n",
      " 14  Housing                  700 non-null    object\n",
      " 15  Number existing Credits  700 non-null    int64 \n",
      " 16  Job                      700 non-null    object\n",
      " 17  Number people liable     700 non-null    int64 \n",
      " 18  Telephone                700 non-null    object\n",
      " 19  Foreign Worker           700 non-null    object\n",
      "dtypes: int64(7), object(13)\n",
      "memory usage: 114.8+ KB\n"
     ]
    }
   ],
   "source": [
    "x_train.info()"
   ]
  },
  {
   "cell_type": "markdown",
   "metadata": {},
   "source": [
    "### Reference Performance"
   ]
  },
  {
   "cell_type": "code",
   "execution_count": 59,
   "metadata": {},
   "outputs": [],
   "source": [
    "if CONFIG['TYPE'] == 'CONTINUOUS':\n",
    "    print('needs prior encoding of categoricals')\n",
    "    # gbr = GradientBoostingRegressor(n_estimators=500, random_state=0)\n",
    "    # gbr.fit(x_train, y_train)\n",
    "    # # print('Training R^2:', r2_score(yTrain, gbr.predict(dfTrain)))\n",
    "    # print('Test R^2:', r2_score(y_test, gbr.predict(x_test)))"
   ]
  },
  {
   "cell_type": "markdown",
   "metadata": {},
   "source": [
    "### Binarization"
   ]
  },
  {
   "cell_type": "code",
   "execution_count": 60,
   "metadata": {},
   "outputs": [
    {
     "name": "stdout",
     "output_type": "stream",
     "text": [
      "<class 'pandas.core.frame.DataFrame'>\n",
      "Int64Index: 700 entries, 541 to 102\n",
      "Data columns (total 20 columns):\n",
      " #   Column                   Non-Null Count  Dtype \n",
      "---  ------                   --------------  ----- \n",
      " 0   Status Checking          700 non-null    object\n",
      " 1   Duration in Month        700 non-null    int64 \n",
      " 2   Credit History           700 non-null    object\n",
      " 3   Purpose                  700 non-null    object\n",
      " 4   Credit Amount            700 non-null    int64 \n",
      " 5   Savings Account          700 non-null    object\n",
      " 6   Employement since        700 non-null    object\n",
      " 7   Installmentrate %        700 non-null    int64 \n",
      " 8   StatusSex                700 non-null    object\n",
      " 9   Otherdebtos              700 non-null    object\n",
      " 10  PresentResidence         700 non-null    int64 \n",
      " 11  Property                 700 non-null    object\n",
      " 12  Age in years             700 non-null    int64 \n",
      " 13  Otherinstallment Plans   700 non-null    object\n",
      " 14  Housing                  700 non-null    object\n",
      " 15  Number existing Credits  700 non-null    int64 \n",
      " 16  Job                      700 non-null    object\n",
      " 17  Number people liable     700 non-null    int64 \n",
      " 18  Telephone                700 non-null    object\n",
      " 19  Foreign Worker           700 non-null    object\n",
      "dtypes: int64(7), object(13)\n",
      "memory usage: 114.8+ KB\n"
     ]
    },
    {
     "data": {
      "text/html": [
       "<div>\n",
       "<style scoped>\n",
       "    .dataframe tbody tr th:only-of-type {\n",
       "        vertical-align: middle;\n",
       "    }\n",
       "\n",
       "    .dataframe tbody tr th {\n",
       "        vertical-align: top;\n",
       "    }\n",
       "\n",
       "    .dataframe thead th {\n",
       "        text-align: right;\n",
       "    }\n",
       "</style>\n",
       "<table border=\"1\" class=\"dataframe\">\n",
       "  <thead>\n",
       "    <tr style=\"text-align: right;\">\n",
       "      <th></th>\n",
       "      <th>Status Checking</th>\n",
       "      <th>Duration in Month</th>\n",
       "      <th>Credit History</th>\n",
       "      <th>Purpose</th>\n",
       "      <th>Credit Amount</th>\n",
       "      <th>Savings Account</th>\n",
       "      <th>Employement since</th>\n",
       "      <th>Installmentrate %</th>\n",
       "      <th>StatusSex</th>\n",
       "      <th>Otherdebtos</th>\n",
       "      <th>PresentResidence</th>\n",
       "      <th>Property</th>\n",
       "      <th>Age in years</th>\n",
       "      <th>Otherinstallment Plans</th>\n",
       "      <th>Housing</th>\n",
       "      <th>Number existing Credits</th>\n",
       "      <th>Job</th>\n",
       "      <th>Number people liable</th>\n",
       "      <th>Telephone</th>\n",
       "      <th>Foreign Worker</th>\n",
       "    </tr>\n",
       "  </thead>\n",
       "  <tbody>\n",
       "    <tr>\n",
       "      <th>541</th>\n",
       "      <td>A14</td>\n",
       "      <td>24</td>\n",
       "      <td>delay in paying off in the past</td>\n",
       "      <td>car (new)</td>\n",
       "      <td>2032</td>\n",
       "      <td>&lt; 100DM</td>\n",
       "      <td>&gt;= 7 years</td>\n",
       "      <td>4</td>\n",
       "      <td>male : single</td>\n",
       "      <td>None</td>\n",
       "      <td>4</td>\n",
       "      <td>unknown/no property</td>\n",
       "      <td>60</td>\n",
       "      <td>None</td>\n",
       "      <td>for free</td>\n",
       "      <td>2</td>\n",
       "      <td>skilled employee /official</td>\n",
       "      <td>1</td>\n",
       "      <td>yes, registered under the customers name</td>\n",
       "      <td>yes</td>\n",
       "    </tr>\n",
       "    <tr>\n",
       "      <th>440</th>\n",
       "      <td>A14</td>\n",
       "      <td>12</td>\n",
       "      <td>existing credits paind back duly till now</td>\n",
       "      <td>car (new)</td>\n",
       "      <td>1884</td>\n",
       "      <td>&lt; 100DM</td>\n",
       "      <td>&gt;= 7 years</td>\n",
       "      <td>4</td>\n",
       "      <td>male : single</td>\n",
       "      <td>None</td>\n",
       "      <td>4</td>\n",
       "      <td>if not others options : car or other, not in s...</td>\n",
       "      <td>39</td>\n",
       "      <td>None</td>\n",
       "      <td>own</td>\n",
       "      <td>1</td>\n",
       "      <td>management/self-employed/highly qualified empl...</td>\n",
       "      <td>1</td>\n",
       "      <td>yes, registered under the customers name</td>\n",
       "      <td>yes</td>\n",
       "    </tr>\n",
       "    <tr>\n",
       "      <th>482</th>\n",
       "      <td>A11</td>\n",
       "      <td>30</td>\n",
       "      <td>existing credits paind back duly till now</td>\n",
       "      <td>furniture/equipment</td>\n",
       "      <td>3622</td>\n",
       "      <td>&gt;= 1000 DM</td>\n",
       "      <td>&gt;= 7 years</td>\n",
       "      <td>4</td>\n",
       "      <td>female : divorced/separated/married</td>\n",
       "      <td>None</td>\n",
       "      <td>4</td>\n",
       "      <td>if not real estate : building society savings ...</td>\n",
       "      <td>57</td>\n",
       "      <td>None</td>\n",
       "      <td>rent</td>\n",
       "      <td>2</td>\n",
       "      <td>skilled employee /official</td>\n",
       "      <td>1</td>\n",
       "      <td>yes, registered under the customers name</td>\n",
       "      <td>yes</td>\n",
       "    </tr>\n",
       "    <tr>\n",
       "      <th>422</th>\n",
       "      <td>A12</td>\n",
       "      <td>12</td>\n",
       "      <td>critical account / other credits existing (not...</td>\n",
       "      <td>car (new)</td>\n",
       "      <td>958</td>\n",
       "      <td>&lt; 100DM</td>\n",
       "      <td>4 &lt;= and &lt; 7 years</td>\n",
       "      <td>2</td>\n",
       "      <td>male : single</td>\n",
       "      <td>None</td>\n",
       "      <td>3</td>\n",
       "      <td>real estate</td>\n",
       "      <td>47</td>\n",
       "      <td>None</td>\n",
       "      <td>own</td>\n",
       "      <td>2</td>\n",
       "      <td>unskilled-resident</td>\n",
       "      <td>2</td>\n",
       "      <td>None</td>\n",
       "      <td>yes</td>\n",
       "    </tr>\n",
       "    <tr>\n",
       "      <th>778</th>\n",
       "      <td>A14</td>\n",
       "      <td>36</td>\n",
       "      <td>critical account / other credits existing (not...</td>\n",
       "      <td>car (used)</td>\n",
       "      <td>5711</td>\n",
       "      <td>&gt;= 1000 DM</td>\n",
       "      <td>&gt;= 7 years</td>\n",
       "      <td>4</td>\n",
       "      <td>male : single</td>\n",
       "      <td>None</td>\n",
       "      <td>2</td>\n",
       "      <td>if not others options : car or other, not in s...</td>\n",
       "      <td>38</td>\n",
       "      <td>None</td>\n",
       "      <td>own</td>\n",
       "      <td>2</td>\n",
       "      <td>management/self-employed/highly qualified empl...</td>\n",
       "      <td>1</td>\n",
       "      <td>yes, registered under the customers name</td>\n",
       "      <td>yes</td>\n",
       "    </tr>\n",
       "  </tbody>\n",
       "</table>\n",
       "</div>"
      ],
      "text/plain": [
       "    Status Checking  Duration in Month  \\\n",
       "541             A14                 24   \n",
       "440             A14                 12   \n",
       "482             A11                 30   \n",
       "422             A12                 12   \n",
       "778             A14                 36   \n",
       "\n",
       "                                        Credit History              Purpose  \\\n",
       "541                    delay in paying off in the past            car (new)   \n",
       "440          existing credits paind back duly till now            car (new)   \n",
       "482          existing credits paind back duly till now  furniture/equipment   \n",
       "422  critical account / other credits existing (not...            car (new)   \n",
       "778  critical account / other credits existing (not...           car (used)   \n",
       "\n",
       "     Credit Amount Savings Account   Employement since  Installmentrate %  \\\n",
       "541           2032         < 100DM          >= 7 years                  4   \n",
       "440           1884         < 100DM          >= 7 years                  4   \n",
       "482           3622      >= 1000 DM          >= 7 years                  4   \n",
       "422            958         < 100DM  4 <= and < 7 years                  2   \n",
       "778           5711      >= 1000 DM          >= 7 years                  4   \n",
       "\n",
       "                               StatusSex Otherdebtos  PresentResidence  \\\n",
       "541                        male : single        None                 4   \n",
       "440                        male : single        None                 4   \n",
       "482  female : divorced/separated/married        None                 4   \n",
       "422                        male : single        None                 3   \n",
       "778                        male : single        None                 2   \n",
       "\n",
       "                                              Property  Age in years  \\\n",
       "541                                unknown/no property            60   \n",
       "440  if not others options : car or other, not in s...            39   \n",
       "482  if not real estate : building society savings ...            57   \n",
       "422                                        real estate            47   \n",
       "778  if not others options : car or other, not in s...            38   \n",
       "\n",
       "    Otherinstallment Plans   Housing  Number existing Credits  \\\n",
       "541                   None  for free                        2   \n",
       "440                   None       own                        1   \n",
       "482                   None      rent                        2   \n",
       "422                   None       own                        2   \n",
       "778                   None       own                        2   \n",
       "\n",
       "                                                   Job  Number people liable  \\\n",
       "541                         skilled employee /official                     1   \n",
       "440  management/self-employed/highly qualified empl...                     1   \n",
       "482                         skilled employee /official                     1   \n",
       "422                                 unskilled-resident                     2   \n",
       "778  management/self-employed/highly qualified empl...                     1   \n",
       "\n",
       "                                    Telephone Foreign Worker  \n",
       "541  yes, registered under the customers name            yes  \n",
       "440  yes, registered under the customers name            yes  \n",
       "482  yes, registered under the customers name            yes  \n",
       "422                                      None            yes  \n",
       "778  yes, registered under the customers name            yes  "
      ]
     },
     "execution_count": 60,
     "metadata": {},
     "output_type": "execute_result"
    }
   ],
   "source": [
    "if CONFIG['BINARIZER'] == 'TREES':\n",
    "    binarizer =  FeatureBinarizerFromTrees(negations=True, randomState=42) # FeatureBinarizer(negations=False), FeatureBinarizerFromTrees(negations=True, randomState=42)\n",
    "    binarizer = binarizer.fit(x_train, y_train)\n",
    "    x_train_bin = binarizer.transform(x_train) #  x_train_bin = binarizer.fit_transform(x_train)\n",
    "    x_test_bin = binarizer.transform(x_test) #  X_fb = self.fb.fit_transform(X_train)\n",
    "elif CONFIG['BINARIZER'] == 'QUANTILE':\n",
    "    binarizer =  FeatureBinarizer(numThresh=9,negations=True, randomState=42) # FeatureBinarizer(negations=False), FeatureBinarizerFromTrees(negations=True, randomState=42)\n",
    "    binarizer = binarizer.fit(x_train)\n",
    "    x_train_bin = binarizer.transform(x_train) #  x_train_bin = binarizer.fit_transform(x_train)\n",
    "    x_test_bin = binarizer.transform(x_test) #  X_fb = self.fb.fit_transform(X_train)  \n",
    "elif CONFIG['BINARIZER'] == 'NATIVE':\n",
    "    x_train_bin = x_train\n",
    "    x_test_bin = x_test\n",
    "else:\n",
    "    print('UNRECOGNIZED BINARIZER')\n",
    "\n",
    "x_train_bin.info() # verbose=True\n",
    "x_train_bin.head()\n",
    "#x_train_bin[CONFIG['EXAMPLE_FEATURE']][:10]\n"
   ]
  },
  {
   "cell_type": "code",
   "execution_count": 61,
   "metadata": {},
   "outputs": [],
   "source": [
    "# Multi_index to index\n",
    "\n",
    "#x_train_bin = pd.DataFrame(x_train_bin.to_records())\n",
    "#x_test_bin = pd.DataFrame(x_test_bin.to_records())\n",
    "#x_train_bin = x_train_bin.drop(\"index\", axis = 1)\n",
    "#x_test_bin = x_test_bin.drop(\"index\", axis = 1)"
   ]
  },
  {
   "cell_type": "markdown",
   "metadata": {},
   "source": [
    "### Rule Induction"
   ]
  },
  {
   "cell_type": "code",
   "execution_count": 62,
   "metadata": {},
   "outputs": [
    {
     "name": "stdout",
     "output_type": "stream",
     "text": [
      "Starting training for R2N\n",
      "0 numerical features and  20 categorical features\n",
      "---------\n",
      "61 categorical dummies\n",
      "---------\n"
     ]
    },
    {
     "ename": "TypeError",
     "evalue": "'NoneType' object is not subscriptable",
     "output_type": "error",
     "traceback": [
      "\u001b[1;31m---------------------------------------------------------------------------\u001b[0m",
      "\u001b[1;31mTypeError\u001b[0m                                 Traceback (most recent call last)",
      "\u001b[1;32m<ipython-input-62-25c0f6b64b88>\u001b[0m in \u001b[0;36m<module>\u001b[1;34m\u001b[0m\n\u001b[0;32m     16\u001b[0m \u001b[1;32melif\u001b[0m \u001b[0mCONFIG\u001b[0m\u001b[1;33m[\u001b[0m\u001b[1;34m'ALGO'\u001b[0m\u001b[1;33m]\u001b[0m \u001b[1;33m==\u001b[0m \u001b[1;34m'R2N'\u001b[0m\u001b[1;33m:\u001b[0m\u001b[1;33m\u001b[0m\u001b[1;33m\u001b[0m\u001b[0m\n\u001b[0;32m     17\u001b[0m     \u001b[0mestimator\u001b[0m \u001b[1;33m=\u001b[0m \u001b[0malgo\u001b[0m\u001b[1;33m.\u001b[0m\u001b[0mR2Nalgo\u001b[0m\u001b[1;33m(\u001b[0m\u001b[0mn_seeds\u001b[0m\u001b[1;33m=\u001b[0m\u001b[1;36m3\u001b[0m\u001b[1;33m,\u001b[0m \u001b[0mmax_epochs\u001b[0m\u001b[1;33m=\u001b[0m\u001b[1;36m100\u001b[0m\u001b[1;33m,\u001b[0m \u001b[0mdecay_rate\u001b[0m\u001b[1;33m=\u001b[0m\u001b[1;36m0.998\u001b[0m\u001b[1;33m,\u001b[0m \u001b[0mcoef\u001b[0m \u001b[1;33m=\u001b[0m \u001b[1;36m10\u001b[0m\u001b[1;33m**\u001b[0m\u001b[1;33m-\u001b[0m\u001b[1;36m3\u001b[0m\u001b[1;33m,\u001b[0m \u001b[0mnormalize_num\u001b[0m\u001b[1;33m=\u001b[0m\u001b[1;32mFalse\u001b[0m\u001b[1;33m)\u001b[0m\u001b[1;33m\u001b[0m\u001b[1;33m\u001b[0m\u001b[0m\n\u001b[1;32m---> 18\u001b[1;33m     \u001b[0mestimator\u001b[0m\u001b[1;33m.\u001b[0m\u001b[0mfit\u001b[0m\u001b[1;33m(\u001b[0m\u001b[0mx_train_bin\u001b[0m\u001b[1;33m,\u001b[0m \u001b[0my_train\u001b[0m\u001b[1;33m)\u001b[0m\u001b[1;33m\u001b[0m\u001b[1;33m\u001b[0m\u001b[0m\n\u001b[0m\u001b[0;32m     19\u001b[0m \u001b[1;33m\u001b[0m\u001b[0m\n\u001b[0;32m     20\u001b[0m \u001b[1;32melif\u001b[0m \u001b[0mCONFIG\u001b[0m\u001b[1;33m[\u001b[0m\u001b[1;34m'ALGO'\u001b[0m\u001b[1;33m]\u001b[0m \u001b[1;33m==\u001b[0m \u001b[1;34m'CORELS'\u001b[0m\u001b[1;33m:\u001b[0m\u001b[1;33m\u001b[0m\u001b[1;33m\u001b[0m\u001b[0m\n",
      "\u001b[1;32mc:\\users\\hornd\\onedrive\\desktop\\aix360i_ripper\\aix360i\\aix360i\\algorithms\\rule_induction\\r2n\\r2n_algo.py\u001b[0m in \u001b[0;36mfit\u001b[1;34m(self, train, train_labels)\u001b[0m\n\u001b[0;32m    123\u001b[0m             \u001b[0mmlpnet\u001b[0m \u001b[1;33m=\u001b[0m \u001b[0mself\u001b[0m\u001b[1;33m.\u001b[0m\u001b[0mmodel\u001b[0m\u001b[1;33m[\u001b[0m\u001b[1;36m0\u001b[0m\u001b[1;33m]\u001b[0m\u001b[1;33m\u001b[0m\u001b[1;33m\u001b[0m\u001b[0m\n\u001b[0;32m    124\u001b[0m \u001b[1;33m\u001b[0m\u001b[0m\n\u001b[1;32m--> 125\u001b[1;33m         \u001b[0mrulenet\u001b[0m \u001b[1;33m=\u001b[0m \u001b[0mself\u001b[0m\u001b[1;33m.\u001b[0m\u001b[0mmodel\u001b[0m\u001b[1;33m[\u001b[0m\u001b[1;36m1\u001b[0m\u001b[1;33m]\u001b[0m\u001b[1;33m\u001b[0m\u001b[1;33m\u001b[0m\u001b[0m\n\u001b[0m\u001b[0;32m    126\u001b[0m \u001b[1;33m\u001b[0m\u001b[0m\n\u001b[0;32m    127\u001b[0m         \u001b[1;31m# Training loop\u001b[0m\u001b[1;33m\u001b[0m\u001b[1;33m\u001b[0m\u001b[1;33m\u001b[0m\u001b[0m\n",
      "\u001b[1;31mTypeError\u001b[0m: 'NoneType' object is not subscriptable"
     ]
    }
   ],
   "source": [
    "start_time = time.time()\n",
    "print('Starting training for', CONFIG['ALGO'])\n",
    "\n",
    "if CONFIG['ALGO'] == 'BRCG':\n",
    "    estimator = BooleanRuleCG() # Explainer()\n",
    "    # estimator.train(x_train, y_train)\n",
    "    with warnings.catch_warnings():\n",
    "        warnings.simplefilter(\"ignore\")\n",
    "        estimator.fit(x_train_bin, y_train)\n",
    "elif CONFIG['ALGO'] == 'RIPPER':\n",
    "    estimator = Ripper()\n",
    "    estimator.fit(x_train_bin, y_train, pos_value=CONFIG['POS_CLASS'])\n",
    "elif CONFIG['ALGO'] == 'Witt_RIPPER':\n",
    "    estimator = lw.RIPPER()\n",
    "    estimator.fit(x_train_bin, y_train,class_feat=CONFIG[\"TARGET_LABEL\"] , pos_value=CONFIG['POS_CLASS'])\n",
    "elif CONFIG['ALGO'] == 'R2N':\n",
    "    estimator = algo.R2Nalgo(n_seeds=3, max_epochs=100, decay_rate=0.998, coef = 10**-3, normalize_num=False)\n",
    "    estimator.fit(x_train_bin, y_train)\n",
    "    \n",
    "elif CONFIG['ALGO'] == 'CORELS':\n",
    "    estimator = CorelsClassifier(n_iter=10000, \n",
    "                      # feautres per statement\n",
    "                     c = 0.0001 # Higher values penalise longer rulelists\n",
    "                    )\n",
    "    estimator.fit(x_train_bin, y_train , prediction_name = CONFIG[\"TARGET_LABEL\"])\n",
    "    \n",
    "else:\n",
    "    print('Unrecognized algorithm:', CONFIG['ALGO'])\n",
    "\n",
    "end_time = time.time()\n",
    "print('Training time: ' + str(end_time - start_time))"
   ]
  },
  {
   "cell_type": "code",
   "execution_count": null,
   "metadata": {},
   "outputs": [
    {
     "data": {
      "text/html": [
       "<div>\n",
       "<style scoped>\n",
       "    .dataframe tbody tr th:only-of-type {\n",
       "        vertical-align: middle;\n",
       "    }\n",
       "\n",
       "    .dataframe tbody tr th {\n",
       "        vertical-align: top;\n",
       "    }\n",
       "\n",
       "    .dataframe thead th {\n",
       "        text-align: right;\n",
       "    }\n",
       "</style>\n",
       "<table border=\"1\" class=\"dataframe\">\n",
       "  <thead>\n",
       "    <tr style=\"text-align: right;\">\n",
       "      <th></th>\n",
       "      <th>Time</th>\n",
       "      <th>V1</th>\n",
       "      <th>V2</th>\n",
       "      <th>V3</th>\n",
       "      <th>V4</th>\n",
       "      <th>V5</th>\n",
       "      <th>V6</th>\n",
       "      <th>V7</th>\n",
       "      <th>V8</th>\n",
       "      <th>V9</th>\n",
       "      <th>...</th>\n",
       "      <th>V20</th>\n",
       "      <th>V21</th>\n",
       "      <th>V22</th>\n",
       "      <th>V23</th>\n",
       "      <th>V24</th>\n",
       "      <th>V25</th>\n",
       "      <th>V26</th>\n",
       "      <th>V27</th>\n",
       "      <th>V28</th>\n",
       "      <th>Amount</th>\n",
       "    </tr>\n",
       "  </thead>\n",
       "  <tbody>\n",
       "    <tr>\n",
       "      <th>2557</th>\n",
       "      <td>2105.0</td>\n",
       "      <td>-2.289565</td>\n",
       "      <td>-0.480260</td>\n",
       "      <td>0.818685</td>\n",
       "      <td>-1.706423</td>\n",
       "      <td>0.822102</td>\n",
       "      <td>-1.660326</td>\n",
       "      <td>0.944047</td>\n",
       "      <td>-0.541765</td>\n",
       "      <td>1.323156</td>\n",
       "      <td>...</td>\n",
       "      <td>-0.831985</td>\n",
       "      <td>-0.210837</td>\n",
       "      <td>0.914737</td>\n",
       "      <td>0.867888</td>\n",
       "      <td>0.422969</td>\n",
       "      <td>0.310584</td>\n",
       "      <td>-0.781488</td>\n",
       "      <td>0.392241</td>\n",
       "      <td>-0.147757</td>\n",
       "      <td>1.00</td>\n",
       "    </tr>\n",
       "    <tr>\n",
       "      <th>247823</th>\n",
       "      <td>153702.0</td>\n",
       "      <td>-0.313717</td>\n",
       "      <td>-4.064342</td>\n",
       "      <td>-3.398445</td>\n",
       "      <td>0.704011</td>\n",
       "      <td>0.101662</td>\n",
       "      <td>1.529848</td>\n",
       "      <td>1.551670</td>\n",
       "      <td>-0.036774</td>\n",
       "      <td>0.015829</td>\n",
       "      <td>...</td>\n",
       "      <td>2.142593</td>\n",
       "      <td>0.853186</td>\n",
       "      <td>-0.091941</td>\n",
       "      <td>-0.936215</td>\n",
       "      <td>-0.833081</td>\n",
       "      <td>-0.498728</td>\n",
       "      <td>0.651183</td>\n",
       "      <td>-0.290331</td>\n",
       "      <td>0.110360</td>\n",
       "      <td>1194.28</td>\n",
       "    </tr>\n",
       "    <tr>\n",
       "      <th>152342</th>\n",
       "      <td>97283.0</td>\n",
       "      <td>-1.809763</td>\n",
       "      <td>-0.567439</td>\n",
       "      <td>2.265186</td>\n",
       "      <td>-0.960318</td>\n",
       "      <td>-1.212537</td>\n",
       "      <td>1.516493</td>\n",
       "      <td>-1.417176</td>\n",
       "      <td>0.903421</td>\n",
       "      <td>1.961027</td>\n",
       "      <td>...</td>\n",
       "      <td>-0.554004</td>\n",
       "      <td>-0.509915</td>\n",
       "      <td>-0.424978</td>\n",
       "      <td>-0.268621</td>\n",
       "      <td>0.010121</td>\n",
       "      <td>0.466862</td>\n",
       "      <td>0.835540</td>\n",
       "      <td>-0.062385</td>\n",
       "      <td>0.088079</td>\n",
       "      <td>75.00</td>\n",
       "    </tr>\n",
       "    <tr>\n",
       "      <th>103385</th>\n",
       "      <td>68628.0</td>\n",
       "      <td>1.192319</td>\n",
       "      <td>0.178575</td>\n",
       "      <td>0.141491</td>\n",
       "      <td>0.459628</td>\n",
       "      <td>-0.049959</td>\n",
       "      <td>-0.112122</td>\n",
       "      <td>-0.163883</td>\n",
       "      <td>0.155740</td>\n",
       "      <td>-0.067566</td>\n",
       "      <td>...</td>\n",
       "      <td>-0.149985</td>\n",
       "      <td>-0.240464</td>\n",
       "      <td>-0.739862</td>\n",
       "      <td>0.116799</td>\n",
       "      <td>-0.373837</td>\n",
       "      <td>0.125470</td>\n",
       "      <td>0.130126</td>\n",
       "      <td>-0.016956</td>\n",
       "      <td>0.011937</td>\n",
       "      <td>1.98</td>\n",
       "    </tr>\n",
       "    <tr>\n",
       "      <th>8771</th>\n",
       "      <td>11951.0</td>\n",
       "      <td>-0.963451</td>\n",
       "      <td>0.700311</td>\n",
       "      <td>1.097333</td>\n",
       "      <td>-1.547626</td>\n",
       "      <td>0.669966</td>\n",
       "      <td>0.513533</td>\n",
       "      <td>0.333683</td>\n",
       "      <td>0.270900</td>\n",
       "      <td>1.381880</td>\n",
       "      <td>...</td>\n",
       "      <td>0.122458</td>\n",
       "      <td>-0.279519</td>\n",
       "      <td>-0.470181</td>\n",
       "      <td>-0.124037</td>\n",
       "      <td>-1.388839</td>\n",
       "      <td>-0.237453</td>\n",
       "      <td>0.785347</td>\n",
       "      <td>0.349708</td>\n",
       "      <td>0.216207</td>\n",
       "      <td>37.31</td>\n",
       "    </tr>\n",
       "    <tr>\n",
       "      <th>...</th>\n",
       "      <td>...</td>\n",
       "      <td>...</td>\n",
       "      <td>...</td>\n",
       "      <td>...</td>\n",
       "      <td>...</td>\n",
       "      <td>...</td>\n",
       "      <td>...</td>\n",
       "      <td>...</td>\n",
       "      <td>...</td>\n",
       "      <td>...</td>\n",
       "      <td>...</td>\n",
       "      <td>...</td>\n",
       "      <td>...</td>\n",
       "      <td>...</td>\n",
       "      <td>...</td>\n",
       "      <td>...</td>\n",
       "      <td>...</td>\n",
       "      <td>...</td>\n",
       "      <td>...</td>\n",
       "      <td>...</td>\n",
       "      <td>...</td>\n",
       "    </tr>\n",
       "    <tr>\n",
       "      <th>119879</th>\n",
       "      <td>75618.0</td>\n",
       "      <td>1.173488</td>\n",
       "      <td>0.100792</td>\n",
       "      <td>0.490512</td>\n",
       "      <td>0.461596</td>\n",
       "      <td>-0.296377</td>\n",
       "      <td>-0.213165</td>\n",
       "      <td>-0.165254</td>\n",
       "      <td>0.119221</td>\n",
       "      <td>-0.114199</td>\n",
       "      <td>...</td>\n",
       "      <td>-0.157534</td>\n",
       "      <td>-0.186027</td>\n",
       "      <td>-0.574283</td>\n",
       "      <td>0.161405</td>\n",
       "      <td>-0.006140</td>\n",
       "      <td>0.091444</td>\n",
       "      <td>0.109235</td>\n",
       "      <td>-0.020922</td>\n",
       "      <td>0.003967</td>\n",
       "      <td>1.98</td>\n",
       "    </tr>\n",
       "    <tr>\n",
       "      <th>259178</th>\n",
       "      <td>159000.0</td>\n",
       "      <td>-0.775981</td>\n",
       "      <td>0.144023</td>\n",
       "      <td>-1.142399</td>\n",
       "      <td>-1.241113</td>\n",
       "      <td>1.940358</td>\n",
       "      <td>3.912076</td>\n",
       "      <td>-0.466107</td>\n",
       "      <td>1.360620</td>\n",
       "      <td>0.400697</td>\n",
       "      <td>...</td>\n",
       "      <td>-0.295730</td>\n",
       "      <td>0.037078</td>\n",
       "      <td>-0.019575</td>\n",
       "      <td>0.241830</td>\n",
       "      <td>0.682820</td>\n",
       "      <td>-1.635109</td>\n",
       "      <td>-0.770941</td>\n",
       "      <td>0.066006</td>\n",
       "      <td>0.137056</td>\n",
       "      <td>89.23</td>\n",
       "    </tr>\n",
       "    <tr>\n",
       "      <th>131932</th>\n",
       "      <td>79795.0</td>\n",
       "      <td>-0.146609</td>\n",
       "      <td>0.992946</td>\n",
       "      <td>1.524591</td>\n",
       "      <td>0.485774</td>\n",
       "      <td>0.349308</td>\n",
       "      <td>-0.815198</td>\n",
       "      <td>1.076640</td>\n",
       "      <td>-0.395316</td>\n",
       "      <td>-0.491303</td>\n",
       "      <td>...</td>\n",
       "      <td>0.007155</td>\n",
       "      <td>0.052649</td>\n",
       "      <td>0.354089</td>\n",
       "      <td>-0.291198</td>\n",
       "      <td>0.402849</td>\n",
       "      <td>0.237383</td>\n",
       "      <td>-0.398467</td>\n",
       "      <td>-0.121139</td>\n",
       "      <td>-0.196195</td>\n",
       "      <td>3.94</td>\n",
       "    </tr>\n",
       "    <tr>\n",
       "      <th>146867</th>\n",
       "      <td>87931.0</td>\n",
       "      <td>-2.948638</td>\n",
       "      <td>2.354849</td>\n",
       "      <td>-2.521201</td>\n",
       "      <td>-3.798905</td>\n",
       "      <td>1.866302</td>\n",
       "      <td>2.727695</td>\n",
       "      <td>-0.471769</td>\n",
       "      <td>2.217537</td>\n",
       "      <td>0.580199</td>\n",
       "      <td>...</td>\n",
       "      <td>0.417396</td>\n",
       "      <td>-0.332759</td>\n",
       "      <td>-1.047514</td>\n",
       "      <td>0.143326</td>\n",
       "      <td>0.678869</td>\n",
       "      <td>0.319710</td>\n",
       "      <td>0.426309</td>\n",
       "      <td>0.496912</td>\n",
       "      <td>0.335822</td>\n",
       "      <td>1.00</td>\n",
       "    </tr>\n",
       "    <tr>\n",
       "      <th>121958</th>\n",
       "      <td>76381.0</td>\n",
       "      <td>1.233174</td>\n",
       "      <td>-0.784851</td>\n",
       "      <td>0.386784</td>\n",
       "      <td>-0.698559</td>\n",
       "      <td>-1.034018</td>\n",
       "      <td>-0.637028</td>\n",
       "      <td>-0.502369</td>\n",
       "      <td>-0.188057</td>\n",
       "      <td>-0.749637</td>\n",
       "      <td>...</td>\n",
       "      <td>0.337732</td>\n",
       "      <td>0.027634</td>\n",
       "      <td>-0.234522</td>\n",
       "      <td>-0.059544</td>\n",
       "      <td>-0.109073</td>\n",
       "      <td>0.290326</td>\n",
       "      <td>-0.393074</td>\n",
       "      <td>0.001217</td>\n",
       "      <td>0.038588</td>\n",
       "      <td>113.00</td>\n",
       "    </tr>\n",
       "  </tbody>\n",
       "</table>\n",
       "<p>199364 rows × 30 columns</p>\n",
       "</div>"
      ],
      "text/plain": [
       "            Time        V1        V2        V3        V4        V5        V6  \\\n",
       "2557      2105.0 -2.289565 -0.480260  0.818685 -1.706423  0.822102 -1.660326   \n",
       "247823  153702.0 -0.313717 -4.064342 -3.398445  0.704011  0.101662  1.529848   \n",
       "152342   97283.0 -1.809763 -0.567439  2.265186 -0.960318 -1.212537  1.516493   \n",
       "103385   68628.0  1.192319  0.178575  0.141491  0.459628 -0.049959 -0.112122   \n",
       "8771     11951.0 -0.963451  0.700311  1.097333 -1.547626  0.669966  0.513533   \n",
       "...          ...       ...       ...       ...       ...       ...       ...   \n",
       "119879   75618.0  1.173488  0.100792  0.490512  0.461596 -0.296377 -0.213165   \n",
       "259178  159000.0 -0.775981  0.144023 -1.142399 -1.241113  1.940358  3.912076   \n",
       "131932   79795.0 -0.146609  0.992946  1.524591  0.485774  0.349308 -0.815198   \n",
       "146867   87931.0 -2.948638  2.354849 -2.521201 -3.798905  1.866302  2.727695   \n",
       "121958   76381.0  1.233174 -0.784851  0.386784 -0.698559 -1.034018 -0.637028   \n",
       "\n",
       "              V7        V8        V9  ...       V20       V21       V22  \\\n",
       "2557    0.944047 -0.541765  1.323156  ... -0.831985 -0.210837  0.914737   \n",
       "247823  1.551670 -0.036774  0.015829  ...  2.142593  0.853186 -0.091941   \n",
       "152342 -1.417176  0.903421  1.961027  ... -0.554004 -0.509915 -0.424978   \n",
       "103385 -0.163883  0.155740 -0.067566  ... -0.149985 -0.240464 -0.739862   \n",
       "8771    0.333683  0.270900  1.381880  ...  0.122458 -0.279519 -0.470181   \n",
       "...          ...       ...       ...  ...       ...       ...       ...   \n",
       "119879 -0.165254  0.119221 -0.114199  ... -0.157534 -0.186027 -0.574283   \n",
       "259178 -0.466107  1.360620  0.400697  ... -0.295730  0.037078 -0.019575   \n",
       "131932  1.076640 -0.395316 -0.491303  ...  0.007155  0.052649  0.354089   \n",
       "146867 -0.471769  2.217537  0.580199  ...  0.417396 -0.332759 -1.047514   \n",
       "121958 -0.502369 -0.188057 -0.749637  ...  0.337732  0.027634 -0.234522   \n",
       "\n",
       "             V23       V24       V25       V26       V27       V28   Amount  \n",
       "2557    0.867888  0.422969  0.310584 -0.781488  0.392241 -0.147757     1.00  \n",
       "247823 -0.936215 -0.833081 -0.498728  0.651183 -0.290331  0.110360  1194.28  \n",
       "152342 -0.268621  0.010121  0.466862  0.835540 -0.062385  0.088079    75.00  \n",
       "103385  0.116799 -0.373837  0.125470  0.130126 -0.016956  0.011937     1.98  \n",
       "8771   -0.124037 -1.388839 -0.237453  0.785347  0.349708  0.216207    37.31  \n",
       "...          ...       ...       ...       ...       ...       ...      ...  \n",
       "119879  0.161405 -0.006140  0.091444  0.109235 -0.020922  0.003967     1.98  \n",
       "259178  0.241830  0.682820 -1.635109 -0.770941  0.066006  0.137056    89.23  \n",
       "131932 -0.291198  0.402849  0.237383 -0.398467 -0.121139 -0.196195     3.94  \n",
       "146867  0.143326  0.678869  0.319710  0.426309  0.496912  0.335822     1.00  \n",
       "121958 -0.059544 -0.109073  0.290326 -0.393074  0.001217  0.038588   113.00  \n",
       "\n",
       "[199364 rows x 30 columns]"
      ]
     },
     "execution_count": 38,
     "metadata": {},
     "output_type": "execute_result"
    }
   ],
   "source": [
    "x_train_bin"
   ]
  },
  {
   "cell_type": "code",
   "execution_count": null,
   "metadata": {},
   "outputs": [
    {
     "data": {
      "text/plain": [
       "2557      0\n",
       "247823    0\n",
       "152342    0\n",
       "103385    0\n",
       "8771      0\n",
       "         ..\n",
       "119879    0\n",
       "259178    0\n",
       "131932    0\n",
       "146867    0\n",
       "121958    0\n",
       "Name: Class, Length: 199364, dtype: int64"
      ]
     },
     "execution_count": 39,
     "metadata": {},
     "output_type": "execute_result"
    }
   ],
   "source": [
    "y_train"
   ]
  },
  {
   "cell_type": "code",
   "execution_count": null,
   "metadata": {},
   "outputs": [
    {
     "data": {
      "text/plain": [
       "1"
      ]
     },
     "execution_count": 40,
     "metadata": {},
     "output_type": "execute_result"
    }
   ],
   "source": [
    "CONFIG['POS_CLASS']"
   ]
  },
  {
   "cell_type": "markdown",
   "metadata": {},
   "source": [
    "### Evaluation"
   ]
  },
  {
   "cell_type": "code",
   "execution_count": null,
   "metadata": {},
   "outputs": [
    {
     "name": "stdout",
     "output_type": "stream",
     "text": [
      "Accuracy: 0.9984082955888721\n",
      "Balanced accuracy: 0.0\n",
      "Precision: 0.0\n",
      "Recall: 0.0\n",
      "F1 0.0\n"
     ]
    },
    {
     "name": "stderr",
     "output_type": "stream",
     "text": [
      "C:\\Users\\hornd\\AppData\\Local\\R-MINI~1\\envs\\aix360i_v2_clone\\lib\\site-packages\\sklearn\\metrics\\_classification.py:1221: UndefinedMetricWarning: Precision is ill-defined and being set to 0.0 due to no predicted samples. Use `zero_division` parameter to control this behavior.\n",
      "  _warn_prf(average, modifier, msg_start, len(result))\n",
      "C:\\Users\\hornd\\AppData\\Local\\R-MINI~1\\envs\\aix360i_v2_clone\\lib\\site-packages\\sklearn\\metrics\\_classification.py:846: RuntimeWarning: invalid value encountered in double_scalars\n",
      "  mcc = cov_ytyp / np.sqrt(cov_ytyt * cov_ypyp)\n"
     ]
    },
    {
     "name": "stdout",
     "output_type": "stream",
     "text": [
      "ConfusionMatrix [[85307     0]\n",
      " [  136     0]]\n",
      "F-2 0.0\n",
      "Mathhews 0.0\n",
      "Training time: 1164.0330731868744\n",
      "Stored 'acc_list' (list)\n",
      "Stored 'prec_list' (list)\n"
     ]
    }
   ],
   "source": [
    "acc_list = []\n",
    "prec_list = []\n",
    "%store -r acc_list\n",
    "%store -r prec_list\n",
    "\n",
    "if CONFIG['TYPE'] == 'BINARY':\n",
    "    y_pred = estimator.predict(x_test_bin)\n",
    "    print('Accuracy:', accuracy_score(y_test, y_pred))\n",
    "    print('Balanced accuracy:', balanced_accuracy_score(y_test, y_pred, adjusted=True))\n",
    "    print('Precision:', precision_score(y_test, y_pred, pos_label=CONFIG['POS_CLASS']))\n",
    "    print('Recall:', recall_score(y_test, y_pred, pos_label=CONFIG['POS_CLASS']))\n",
    "    print('F1', f1_score(y_test, y_pred, pos_label=CONFIG['POS_CLASS']))\n",
    "    print('ConfusionMatrix', confusion_matrix(y_test, y_pred))\n",
    "    print('F-2', fbeta_score(y_test, y_pred, pos_label=CONFIG['POS_CLASS'], beta= 2))\n",
    "    print('Mathhews', matthews_corrcoef(y_test, y_pred))\n",
    "\n",
    "    acc_list.append(recall_score(y_test, y_pred, pos_label=CONFIG['POS_CLASS']))\n",
    "    prec_list.append(precision_score(y_test, y_pred, pos_label=CONFIG['POS_CLASS']))\n",
    "    print('Training time: ' + str(end_time - start_time))\n",
    "    %store acc_list\n",
    "    %store prec_list\n",
    "   \n",
    "\n",
    "    \n"
   ]
  },
  {
   "cell_type": "code",
   "execution_count": null,
   "metadata": {},
   "outputs": [
    {
     "data": {
      "text/plain": [
       "0    85307\n",
       "1      136\n",
       "Name: Class, dtype: int64"
      ]
     },
     "execution_count": 42,
     "metadata": {},
     "output_type": "execute_result"
    }
   ],
   "source": [
    "y_test.value_counts()"
   ]
  },
  {
   "cell_type": "code",
   "execution_count": null,
   "metadata": {},
   "outputs": [
    {
     "data": {
      "text/plain": [
       "1"
      ]
     },
     "execution_count": 43,
     "metadata": {},
     "output_type": "execute_result"
    }
   ],
   "source": [
    "CONFIG['POS_CLASS']"
   ]
  },
  {
   "cell_type": "code",
   "execution_count": null,
   "metadata": {},
   "outputs": [
    {
     "data": {
      "text/plain": [
       "'NATIVE'"
      ]
     },
     "execution_count": 44,
     "metadata": {},
     "output_type": "execute_result"
    }
   ],
   "source": [
    "CONFIG['BINARIZER']"
   ]
  },
  {
   "cell_type": "code",
   "execution_count": null,
   "metadata": {},
   "outputs": [
    {
     "data": {
      "text/plain": [
       "'R2N'"
      ]
     },
     "execution_count": 45,
     "metadata": {},
     "output_type": "execute_result"
    }
   ],
   "source": [
    "CONFIG['ALGO']"
   ]
  },
  {
   "cell_type": "code",
   "execution_count": null,
   "metadata": {},
   "outputs": [
    {
     "data": {
      "text/plain": [
       "0    284315\n",
       "1       492\n",
       "Name: Class, dtype: int64"
      ]
     },
     "execution_count": 46,
     "metadata": {},
     "output_type": "execute_result"
    }
   ],
   "source": [
    "df[CONFIG[\"TARGET_LABEL\"]].value_counts()"
   ]
  },
  {
   "cell_type": "code",
   "execution_count": null,
   "metadata": {},
   "outputs": [
    {
     "data": {
      "text/plain": [
       "1"
      ]
     },
     "execution_count": 47,
     "metadata": {},
     "output_type": "execute_result"
    }
   ],
   "source": [
    "CONFIG['POS_CLASS']"
   ]
  },
  {
   "cell_type": "code",
   "execution_count": null,
   "metadata": {},
   "outputs": [],
   "source": [
    "präds = []\n",
    "if CONFIG['TYPE'] == 'CONTINUOUS':\n",
    "    explanation = explainer.explain()\n",
    "    print(explanation)\n",
    "elif CONFIG['ALGO'] == 'BRCG':\n",
    "    model = estimator.explain()\n",
    "    if not model['isCNF']:\n",
    "        print('Number of rules:', len(model['rules']))\n",
    "        print(model['rules'])\n",
    "elif CONFIG['ALGO'] == 'RIPPER':\n",
    "    print('Rule count: ' + str(sum([len(rules) for rules in estimator.rule_map.values()])))\n",
    "    print('Rule set:')\n",
    "    # print(estimator.rule_list_to_pretty_string())\n",
    "    # print(estimator.export_rules_to_trxf_dnf_ruleset(CONFIG['POS_CLASS']))\n",
    "    rule_set_list = []\n",
    "    rule_set = estimator.export_rules_to_trxf_dnf_ruleset(CONFIG['POS_CLASS'])\n",
    "    conjunctions = rule_set.conjunctions\n",
    "    for c in conjunctions:\n",
    "        conjunction_dict = {}\n",
    "        predicates = c.predicates\n",
    "        for p in predicates:\n",
    "            name = str(p.feature) + str(p.relation)\n",
    "            value = p.value\n",
    "            conjunction_dict[name] = value\n",
    "        rule_set_list.append(conjunction_dict)\n",
    "    # print(rule_set_list)\n",
    "    rule_set_df = pd.DataFrame(rule_set_list)\n",
    "    print(rule_set_df.head())\n",
    "    \n",
    "    #print('Rule count: ' + str(sum([len(rules) for rules in estimator.rule_map.values()])))\n",
    "    #print('Rule set:')\n",
    "    #print(estimator.rule_list_to_pretty_string())\n",
    "    # Get predicates --> if Key Error Switch 0 to 1 or 1 to 0\n",
    "    #for i in range(len(estimator.rule_map[0])):\n",
    "    #    print(len(estimator.rule_map[0][i]))\n",
    "    #    präds.append(len(estimator.rule_map[0][i]))\n",
    "    #print(\"Sum Prädikate:\", sum(präds))\n",
    "elif CONFIG['ALGO'] == 'CORELS':\n",
    "    r_length = len(estimator.rl().rules)\n",
    "    print(\"Rule Length:\", r_length)\n",
    "    # Get predicates\n",
    "    for i in range(len(estimator.rl().rules[0][\"antecedents\"])):\n",
    "        an = len(estimator.rl().rules[i][\"antecedents\"])\n",
    "        präds.append(len(estimator.rl().rules[i][\"antecedents\"]))\n",
    "        print(f\"Antecedents Length Rule {i}:\" , an)\n",
    "    print(\"Sum Prädikate:\", sum(präds))\n",
    "elif CONFIG['ALGO'] == 'Witt_RIPPER':\n",
    "    print(\"Rule Length:\", len(estimator.ruleset_))\n",
    "\n",
    "# uncomment the following line for a full optimized view of the model as data frame for GLRM rules\n",
    "# explanation.style"
   ]
  },
  {
   "cell_type": "code",
   "execution_count": null,
   "metadata": {},
   "outputs": [
    {
     "ename": "AttributeError",
     "evalue": "'R2Nalgo' object has no attribute 'rule_map_to_intervals_list'",
     "output_type": "error",
     "traceback": [
      "\u001b[1;31m---------------------------------------------------------------------------\u001b[0m",
      "\u001b[1;31mAttributeError\u001b[0m                            Traceback (most recent call last)",
      "\u001b[1;32m<ipython-input-49-8b89f8df77d7>\u001b[0m in \u001b[0;36m<module>\u001b[1;34m\u001b[0m\n\u001b[1;32m----> 1\u001b[1;33m \u001b[0mestimator\u001b[0m\u001b[1;33m.\u001b[0m\u001b[0mrule_map_to_intervals_list\u001b[0m\u001b[1;33m(\u001b[0m\u001b[1;33m)\u001b[0m\u001b[1;33m\u001b[0m\u001b[1;33m\u001b[0m\u001b[0m\n\u001b[0m",
      "\u001b[1;32m~\\AppData\\Local\\R-MINI~1\\envs\\aix360i_v2_clone\\lib\\site-packages\\torch\\nn\\modules\\module.py\u001b[0m in \u001b[0;36m__getattr__\u001b[1;34m(self, name)\u001b[0m\n\u001b[0;32m   1129\u001b[0m                 \u001b[1;32mreturn\u001b[0m \u001b[0mmodules\u001b[0m\u001b[1;33m[\u001b[0m\u001b[0mname\u001b[0m\u001b[1;33m]\u001b[0m\u001b[1;33m\u001b[0m\u001b[1;33m\u001b[0m\u001b[0m\n\u001b[0;32m   1130\u001b[0m         raise AttributeError(\"'{}' object has no attribute '{}'\".format(\n\u001b[1;32m-> 1131\u001b[1;33m             type(self).__name__, name))\n\u001b[0m\u001b[0;32m   1132\u001b[0m \u001b[1;33m\u001b[0m\u001b[0m\n\u001b[0;32m   1133\u001b[0m     \u001b[1;32mdef\u001b[0m \u001b[0m__setattr__\u001b[0m\u001b[1;33m(\u001b[0m\u001b[0mself\u001b[0m\u001b[1;33m,\u001b[0m \u001b[0mname\u001b[0m\u001b[1;33m:\u001b[0m \u001b[0mstr\u001b[0m\u001b[1;33m,\u001b[0m \u001b[0mvalue\u001b[0m\u001b[1;33m:\u001b[0m \u001b[0mUnion\u001b[0m\u001b[1;33m[\u001b[0m\u001b[0mTensor\u001b[0m\u001b[1;33m,\u001b[0m \u001b[1;34m'Module'\u001b[0m\u001b[1;33m]\u001b[0m\u001b[1;33m)\u001b[0m \u001b[1;33m->\u001b[0m \u001b[1;32mNone\u001b[0m\u001b[1;33m:\u001b[0m\u001b[1;33m\u001b[0m\u001b[1;33m\u001b[0m\u001b[0m\n",
      "\u001b[1;31mAttributeError\u001b[0m: 'R2Nalgo' object has no attribute 'rule_map_to_intervals_list'"
     ]
    }
   ],
   "source": [
    "estimator.rule_map_to_intervals_list()"
   ]
  },
  {
   "cell_type": "code",
   "execution_count": null,
   "metadata": {},
   "outputs": [
    {
     "data": {
      "text/plain": [
       "[[5_0_41958.0_-1, 2_0_525036.0_-1, 1_1_133066.0_-1],\n",
       " [1_1_154544.0_-1, 2_0_786122.0_-1, 5_0_47581.0_-1],\n",
       " [2_0_220052.0_-1, 1_1_54242.0_-1, 5_0_17756.0_-1],\n",
       " [2_0_990363.0_-1, 1_1_219984.0_-1, 5_0_66944.0_-1],\n",
       " [1_1_95850.0_-1, 2_0_518574.0_-1, 5_0_30080.0_-1],\n",
       " [5_0_49096.0_-1, 2_0_842450.0_-1, 1_1_160598.0_-1],\n",
       " [2_0_161856.0_-1, 5_0_11875.0_-1, 1_1_33849.0_-1],\n",
       " [2_0_995714.0_-1, 1_1_261448.0_-1, 5_0_79885.0_-1],\n",
       " [1_1_84388.0_-1, 2_0_959464.0_-1, 5_0_27325.0_-1, 4_1_0.03055418433499172_-1],\n",
       " [2_0_996392.0_-1, 5_0_60519.0_-1, 1_1_197486.0_-1],\n",
       " [1_1_114246.0_-1, 3_1_35.0_-1, 5_0_36334.0_-1],\n",
       " [2_0_618765.0_-1, 1_1_13653.0_-1, 5_0_5833.0_-1],\n",
       " [1_1_142294.0_-1, 3_1_215.0_-1, 5_0_44283.0_-1],\n",
       " [2_0_310409.0_-1, 1_1_65680.0_-1, 5_0_20816.0_-1],\n",
       " [1_1_169315.0_-1, 2_0_999609.0_-1, 5_0_51505.0_-1],\n",
       " [2_0_999609.0_-1, 1_1_246834.0_-1, 5_0_75734.0_-1],\n",
       " [1_1_24731.0_-1, 2_0_958562.0_-1, 5_0_8225.0_-1],\n",
       " [2_0_990012.0_-1, 1_1_208082.0_-1, 5_0_63367.0_-1],\n",
       " [2_0_986609.0_-1, 5_0_81889.0_-1, 1_1_271542.0_-1],\n",
       " [2_0_673445.0_-1, 5_0_38923.0_-1, 1_1_126373.0_-1],\n",
       " [2_0_274997.0_-1, 1_1_44991.0_-1, 5_0_14480.0_-1],\n",
       " [5_0_33061.0_-1, 3_1_48.0_-1, 1_1_107042.0_-1],\n",
       " [5_0_22774.0_-1, 2_0_373884.0_-1, 1_1_73391.0_-1],\n",
       " [2_0_42827.0_-1, 1_1_6604.0_-1, 5_0_3010.0_-1],\n",
       " [5_0_85968.0_-1, 2_0_992965.0_-1, 1_1_283602.0_-1],\n",
       " [2_0_992965.0_-1, 1_1_232014.0_-1, 5_0_71005.0_-1],\n",
       " [5_0_20187.0_-1, 3_1_303.0_-1, 1_1_52164.0_-1, 4_0_0.05771578201238212_-1],\n",
       " [5_0_57824.0_-1, 2_0_976650.0_-1, 1_1_190196.0_-1],\n",
       " [2_0_967981.0_-1, 1_1_183889.0_-1, 5_0_56709.0_-1],\n",
       " [1_1_132127.0_-1, 5_0_41529.0_-1, 3_1_233.0_-1]]"
      ]
     },
     "execution_count": 48,
     "metadata": {},
     "output_type": "execute_result"
    }
   ],
   "source": [
    "estimator.rule_map[CONFIG['POS_CLASS']]"
   ]
  },
  {
   "cell_type": "code",
   "execution_count": null,
   "metadata": {},
   "outputs": [
    {
     "data": {
      "text/plain": [
       "1"
      ]
     },
     "execution_count": 49,
     "metadata": {},
     "output_type": "execute_result"
    }
   ],
   "source": [
    "len(estimator.rule_map.values())\n"
   ]
  },
  {
   "cell_type": "code",
   "execution_count": null,
   "metadata": {},
   "outputs": [
    {
     "ename": "KeyError",
     "evalue": "1",
     "output_type": "error",
     "traceback": [
      "\u001b[1;31m---------------------------------------------------------------------------\u001b[0m",
      "\u001b[1;31mKeyError\u001b[0m                                  Traceback (most recent call last)",
      "\u001b[1;32m<ipython-input-50-4e62d5905db6>\u001b[0m in \u001b[0;36m<module>\u001b[1;34m\u001b[0m\n\u001b[1;32m----> 1\u001b[1;33m \u001b[0mestimator\u001b[0m\u001b[1;33m.\u001b[0m\u001b[0mrule_map\u001b[0m\u001b[1;33m[\u001b[0m\u001b[1;36m1\u001b[0m\u001b[1;33m]\u001b[0m\u001b[1;33m[\u001b[0m\u001b[0mi\u001b[0m\u001b[1;33m]\u001b[0m\u001b[1;33m\u001b[0m\u001b[1;33m\u001b[0m\u001b[0m\n\u001b[0m",
      "\u001b[1;31mKeyError\u001b[0m: 1"
     ]
    }
   ],
   "source": [
    "estimator.rule_map[1][i]"
   ]
  },
  {
   "cell_type": "code",
   "execution_count": null,
   "metadata": {},
   "outputs": [],
   "source": []
  }
 ],
 "metadata": {
  "interpreter": {
   "hash": "aee8b7b246df8f9039afb4144a1f6fd8d2ca17a180786b69acc140d282b71a49"
  },
  "kernelspec": {
   "display_name": "Python 3.7.9 64-bit",
   "name": "python3"
  },
  "language_info": {
   "codemirror_mode": {
    "name": "ipython",
    "version": 3
   },
   "file_extension": ".py",
   "mimetype": "text/x-python",
   "name": "python",
   "nbconvert_exporter": "python",
   "pygments_lexer": "ipython3",
   "version": "3.6.15"
  },
  "metadata": {
   "interpreter": {
    "hash": "e534e48711db4d1e1c48977d0d14ff85b1f16d41bcc4fdfd88268a329b3c9d66"
   }
  },
  "orig_nbformat": 2
 },
 "nbformat": 4,
 "nbformat_minor": 2
}

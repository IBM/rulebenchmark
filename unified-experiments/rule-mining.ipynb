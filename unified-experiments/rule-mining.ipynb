{
 "cells": [
  {
   "cell_type": "markdown",
   "metadata": {},
   "source": [
    "# Generic Rule Induction Notebook\n",
    "\n",
    "Continuoulsy refined."
   ]
  },
  {
   "cell_type": "code",
   "execution_count": 26,
   "metadata": {},
   "outputs": [],
   "source": [
    "#%store -z acc_list \n",
    "#%store -z prec_list "
   ]
  },
  {
   "cell_type": "markdown",
   "metadata": {},
   "source": [
    "## README\n",
    "\n",
    "- GLRM needs to run in proper (conda) aix360 environment\n",
    "- BRCG runs with proper (conda) aix360 environment\n",
    "- Use aix360i environment for RIPPER"
   ]
  },
  {
   "cell_type": "markdown",
   "metadata": {},
   "source": [
    "### Configuration\n"
   ]
  },
  {
   "cell_type": "code",
   "execution_count": 27,
   "metadata": {},
   "outputs": [
    {
     "name": "stdout",
     "output_type": "stream",
     "text": [
      "Proceed with configuration: fraud_detection\n"
     ]
    }
   ],
   "source": [
    "from config import config_dict\n",
    "from config import config_dict_imbalanced\n",
    "\n",
    "# document config order\n",
    "CONFIG = config_dict_imbalanced[\"CONFIG-I62\"]\n",
    "#CONFIG = config_dict[\"CONFIG14\"]\n",
    "\n",
    "print('Proceed with configuration:', CONFIG[\"NAME\"])"
   ]
  },
  {
   "cell_type": "code",
   "execution_count": 28,
   "metadata": {},
   "outputs": [],
   "source": [
    "import pandas as pd\n",
    "import numpy as np\n",
    "import seaborn as sns\n",
    "# import os\n",
    "from sklearn.model_selection import train_test_split #, GridSearchCV\n",
    "from sklearn.metrics import matthews_corrcoef,fbeta_score,confusion_matrix,f1_score,precision_score, recall_score, accuracy_score, balanced_accuracy_score, confusion_matrix, r2_score, explained_variance_score, mean_absolute_error, max_error\n",
    "from sklearn.ensemble import GradientBoostingRegressor\n",
    "import xgboost as xgb\n",
    "import wittgenstein as lw\n",
    "import time\n",
    "import warnings\n",
    "import re\n",
    "\n",
    "from aix360.algorithms.rbm import BRCGExplainer, BooleanRuleCG, GLRMExplainer, LinearRuleRegression\n",
    "if CONFIG['BINARIZER'] == 'QUANTILE':\n",
    "    from aix360.algorithms.rbm import FeatureBinarizer\n",
    "elif CONFIG['BINARIZER'] == 'TREES':\n",
    "    from aix360.algorithms.rbm import FeatureBinarizerFromTrees\n",
    "if CONFIG['ALGO'] == 'RIPPER':\n",
    "    from aix360i.algorithms.rule_induction.ripper import Ripper\n",
    "if CONFIG['ALGO'] == 'CORELS':\n",
    "    from corels import *\n",
    "\n",
    "\n",
    "\n",
    "# from explainer import Explainer\n",
    "\n",
    "# TODO create reference for performance using boosted trees\n",
    "\n",
    "# import wittgenstein as lw\n",
    "# from clf_utils import make_tree_dataset, make_forest, score_forest\n",
    "# from sklearn.tree import DecisionTreeClassifier\n",
    "# from sklearn.ensemble import RandomForestClassifier\n",
    "# from sklearn.preprocessing import OneHotEncoder, LabelEncoder\n"
   ]
  },
  {
   "cell_type": "markdown",
   "metadata": {},
   "source": [
    "### Data"
   ]
  },
  {
   "cell_type": "code",
   "execution_count": 29,
   "metadata": {},
   "outputs": [
    {
     "name": "stdout",
     "output_type": "stream",
     "text": [
      "<class 'pandas.core.frame.DataFrame'>\n",
      "RangeIndex: 10492 entries, 0 to 10491\n",
      "Data columns (total 32 columns):\n",
      " #   Column      Non-Null Count  Dtype  \n",
      "---  ------      --------------  -----  \n",
      " 0   Unnamed: 0  10492 non-null  int64  \n",
      " 1   Time        10492 non-null  float64\n",
      " 2   V1          10492 non-null  float64\n",
      " 3   V2          10492 non-null  float64\n",
      " 4   V3          10492 non-null  float64\n",
      " 5   V4          10492 non-null  float64\n",
      " 6   V5          10492 non-null  float64\n",
      " 7   V6          10492 non-null  float64\n",
      " 8   V7          10492 non-null  float64\n",
      " 9   V8          10492 non-null  float64\n",
      " 10  V9          10492 non-null  float64\n",
      " 11  V10         10492 non-null  float64\n",
      " 12  V11         10492 non-null  float64\n",
      " 13  V12         10492 non-null  float64\n",
      " 14  V13         10492 non-null  float64\n",
      " 15  V14         10492 non-null  float64\n",
      " 16  V15         10492 non-null  float64\n",
      " 17  V16         10492 non-null  float64\n",
      " 18  V17         10492 non-null  float64\n",
      " 19  V18         10492 non-null  float64\n",
      " 20  V19         10492 non-null  float64\n",
      " 21  V20         10492 non-null  float64\n",
      " 22  V21         10492 non-null  float64\n",
      " 23  V22         10492 non-null  float64\n",
      " 24  V23         10492 non-null  float64\n",
      " 25  V24         10492 non-null  float64\n",
      " 26  V25         10492 non-null  float64\n",
      " 27  V26         10492 non-null  float64\n",
      " 28  V27         10492 non-null  float64\n",
      " 29  V28         10492 non-null  float64\n",
      " 30  Amount      10492 non-null  float64\n",
      " 31  Class       10492 non-null  int64  \n",
      "dtypes: float64(30), int64(2)\n",
      "memory usage: 2.6 MB\n"
     ]
    },
    {
     "data": {
      "text/plain": [
       "0    10000\n",
       "1      492\n",
       "Name: Class, dtype: int64"
      ]
     },
     "execution_count": 29,
     "metadata": {},
     "output_type": "execute_result"
    }
   ],
   "source": [
    "def convert(char):\n",
    "    if char == CONFIG['POS_CLASS']:\n",
    "        return 1\n",
    "    else:\n",
    "        return 0\n",
    "\n",
    "df = pd.read_csv(CONFIG['DATA_SET'],dtype=CONFIG['DATA_TYPES'], nrows= 15000)\n",
    "df = df.drop(columns=CONFIG['DROP'])\n",
    "if CONFIG['ALGO'] == 'BRCG':\n",
    "    df[CONFIG['TARGET_LABEL']] = df[CONFIG['TARGET_LABEL']].map(convert)\n",
    "    CONFIG['POS_CLASS'] = 1\n",
    "    # maybe this could also be achieved through explicit binarization of target vector\n",
    "df.info()\n",
    "df[CONFIG['TARGET_LABEL']].value_counts()"
   ]
  },
  {
   "cell_type": "code",
   "execution_count": 30,
   "metadata": {},
   "outputs": [],
   "source": [
    "\n",
    "# BRCG Miniloan sample\n",
    "#if CONFIG['UNDERSAMP'] == True:\n",
    "#    under_sampling_fraud = df[df[CONFIG['TARGET_LABEL']] == 1].sample(n=4000, random_state = 42)\n",
    "#    under_size = under_sampling_fraud.size\n",
    "#    under_sampling_legit = (df[df[CONFIG['TARGET_LABEL']] == 0])\n",
    "#    df = pd.concat([under_sampling_legit, under_sampling_fraud])\n",
    "\n",
    "#Ripper Miniloan sample\n",
    "#if CONFIG['UNDERSAMP'] == True:\n",
    "#    under_sampling_fraud = df[df[CONFIG['TARGET_LABEL']] == 1]\n",
    "#    under_size = under_sampling_fraud.size\n",
    "#    under_sampling_legit = (df[df[CONFIG['TARGET_LABEL']] == 0].sample(n=4000, random_state = 42))\n",
    "#    df = pd.concat([under_sampling_legit, under_sampling_fraud])"
   ]
  },
  {
   "cell_type": "code",
   "execution_count": 31,
   "metadata": {},
   "outputs": [
    {
     "data": {
      "text/plain": [
       "1"
      ]
     },
     "execution_count": 31,
     "metadata": {},
     "output_type": "execute_result"
    }
   ],
   "source": [
    "CONFIG['POS_CLASS']"
   ]
  },
  {
   "cell_type": "code",
   "execution_count": 32,
   "metadata": {},
   "outputs": [
    {
     "name": "stdout",
     "output_type": "stream",
     "text": [
      "0    10000\n",
      "1      492\n",
      "Name: Class, dtype: int64\n"
     ]
    }
   ],
   "source": [
    "if CONFIG['TYPE'] == 'BINARY':\n",
    "    print(df[CONFIG['TARGET_LABEL']].value_counts())\n",
    "elif CONFIG['TYPE'] == 'CONTINUOUS':\n",
    "    df[CONFIG['TARGET_LABEL']].describe()\n",
    "else:\n",
    "    print('Unrecognized problem type')"
   ]
  },
  {
   "cell_type": "markdown",
   "metadata": {},
   "source": [
    "### Train, Test Split"
   ]
  },
  {
   "cell_type": "code",
   "execution_count": 33,
   "metadata": {},
   "outputs": [
    {
     "name": "stdout",
     "output_type": "stream",
     "text": [
      "Training: (7344, 31) (7344,)\n",
      "Test: (3148, 31) (3148,)\n"
     ]
    }
   ],
   "source": [
    "if CONFIG['TRAIN_TEST_SPLIT'] == 'FIXED':\n",
    "    if CONFIG['MODE'] == 'PREDICTIVE':\n",
    "        train = df[df['is_test_set'] == False]\n",
    "        test = df[df['is_test_set'] == True]\n",
    "    elif CONFIG['MODE'] == 'DESCRIPTIVE':\n",
    "        train = df\n",
    "        test = df\n",
    "\n",
    "    train = train.drop(columns=['is_test_set'])\n",
    "    test = test.drop(columns=['is_test_set'])\n",
    "\n",
    "    y_train = train[CONFIG['TARGET_LABEL']]\n",
    "    x_train = train.drop(columns=[CONFIG['TARGET_LABEL']])\n",
    "\n",
    "    y_test = test[CONFIG['TARGET_LABEL']]\n",
    "    x_test = test.drop(columns=[CONFIG['TARGET_LABEL']])\n",
    "else:\n",
    "    x_train, x_test, y_train, y_test = train_test_split(df.drop(columns=[CONFIG['TARGET_LABEL']]), df[CONFIG['TARGET_LABEL']], test_size=CONFIG['TRAIN_TEST_SPLIT'], random_state=42)\n",
    "\n",
    "print('Training:', x_train.shape, y_train.shape)\n",
    "print('Test:', x_test.shape, y_test.shape)"
   ]
  },
  {
   "cell_type": "markdown",
   "metadata": {},
   "source": [
    "### Reference Performance"
   ]
  },
  {
   "cell_type": "code",
   "execution_count": 34,
   "metadata": {},
   "outputs": [],
   "source": [
    "if CONFIG['TYPE'] == 'CONTINUOUS':\n",
    "    print('needs prior encoding of categoricals')\n",
    "    # gbr = GradientBoostingRegressor(n_estimators=500, random_state=0)\n",
    "    # gbr.fit(x_train, y_train)\n",
    "    # # print('Training R^2:', r2_score(yTrain, gbr.predict(dfTrain)))\n",
    "    # print('Test R^2:', r2_score(y_test, gbr.predict(x_test)))"
   ]
  },
  {
   "cell_type": "markdown",
   "metadata": {},
   "source": [
    "### Binarization"
   ]
  },
  {
   "cell_type": "code",
   "execution_count": 35,
   "metadata": {},
   "outputs": [
    {
     "name": "stdout",
     "output_type": "stream",
     "text": [
      "<class 'pandas.core.frame.DataFrame'>\n",
      "Int64Index: 7344 entries, 2577 to 7270\n",
      "Data columns (total 20 columns):\n",
      " #   Column                    Non-Null Count  Dtype\n",
      "---  ------                    --------------  -----\n",
      " 0   (Amount, <=, 161.200005)  7344 non-null   int32\n",
      " 1   (Amount, >, 161.200005)   7344 non-null   int32\n",
      " 2   (V10, <=, 0.700005)       7344 non-null   int32\n",
      " 3   (V10, >, 0.700005)        7344 non-null   int32\n",
      " 4   (V12, <=, -2.111203)      7344 non-null   int32\n",
      " 5   (V12, >, -2.111203)       7344 non-null   int32\n",
      " 6   (V14, <=, -3.777392)      7344 non-null   int32\n",
      " 7   (V14, >, -3.777392)       7344 non-null   int32\n",
      " 8   (V16, <=, 2.292556)       7344 non-null   int32\n",
      " 9   (V16, >, 2.292556)        7344 non-null   int32\n",
      " 10  (V17, <=, -3.042388)      7344 non-null   int32\n",
      " 11  (V17, <=, 1.589249)       7344 non-null   int32\n",
      " 12  (V17, >, -3.042388)       7344 non-null   int32\n",
      " 13  (V17, >, 1.589249)        7344 non-null   int32\n",
      " 14  (V21, <=, -0.34854)       7344 non-null   int32\n",
      " 15  (V21, >, -0.34854)        7344 non-null   int32\n",
      " 16  (V23, <=, -13.168944)     7344 non-null   int32\n",
      " 17  (V23, >, -13.168944)      7344 non-null   int32\n",
      " 18  (V7, <=, 2.272979)        7344 non-null   int32\n",
      " 19  (V7, >, 2.272979)         7344 non-null   int32\n",
      "dtypes: int32(20)\n",
      "memory usage: 631.1 KB\n"
     ]
    },
    {
     "data": {
      "text/html": [
       "<div>\n",
       "<style scoped>\n",
       "    .dataframe tbody tr th:only-of-type {\n",
       "        vertical-align: middle;\n",
       "    }\n",
       "\n",
       "    .dataframe tbody tr th {\n",
       "        vertical-align: top;\n",
       "    }\n",
       "\n",
       "    .dataframe thead tr th {\n",
       "        text-align: left;\n",
       "    }\n",
       "</style>\n",
       "<table border=\"1\" class=\"dataframe\">\n",
       "  <thead>\n",
       "    <tr>\n",
       "      <th>feature</th>\n",
       "      <th colspan=\"2\" halign=\"left\">Amount</th>\n",
       "      <th colspan=\"2\" halign=\"left\">V10</th>\n",
       "      <th colspan=\"2\" halign=\"left\">V12</th>\n",
       "      <th colspan=\"2\" halign=\"left\">V14</th>\n",
       "      <th colspan=\"2\" halign=\"left\">V16</th>\n",
       "      <th colspan=\"4\" halign=\"left\">V17</th>\n",
       "      <th colspan=\"2\" halign=\"left\">V21</th>\n",
       "      <th colspan=\"2\" halign=\"left\">V23</th>\n",
       "      <th colspan=\"2\" halign=\"left\">V7</th>\n",
       "    </tr>\n",
       "    <tr>\n",
       "      <th>operation</th>\n",
       "      <th>&lt;=</th>\n",
       "      <th>&gt;</th>\n",
       "      <th>&lt;=</th>\n",
       "      <th>&gt;</th>\n",
       "      <th>&lt;=</th>\n",
       "      <th>&gt;</th>\n",
       "      <th>&lt;=</th>\n",
       "      <th>&gt;</th>\n",
       "      <th>&lt;=</th>\n",
       "      <th>&gt;</th>\n",
       "      <th colspan=\"2\" halign=\"left\">&lt;=</th>\n",
       "      <th colspan=\"2\" halign=\"left\">&gt;</th>\n",
       "      <th>&lt;=</th>\n",
       "      <th>&gt;</th>\n",
       "      <th>&lt;=</th>\n",
       "      <th>&gt;</th>\n",
       "      <th>&lt;=</th>\n",
       "      <th>&gt;</th>\n",
       "    </tr>\n",
       "    <tr>\n",
       "      <th>value</th>\n",
       "      <th>161.200005</th>\n",
       "      <th>161.200005</th>\n",
       "      <th>0.700005</th>\n",
       "      <th>0.700005</th>\n",
       "      <th>-2.111203</th>\n",
       "      <th>-2.111203</th>\n",
       "      <th>-3.777392</th>\n",
       "      <th>-3.777392</th>\n",
       "      <th>2.292556</th>\n",
       "      <th>2.292556</th>\n",
       "      <th>-3.042388</th>\n",
       "      <th>1.589249</th>\n",
       "      <th>-3.042388</th>\n",
       "      <th>1.589249</th>\n",
       "      <th>-0.348540</th>\n",
       "      <th>-0.348540</th>\n",
       "      <th>-13.168944</th>\n",
       "      <th>-13.168944</th>\n",
       "      <th>2.272979</th>\n",
       "      <th>2.272979</th>\n",
       "    </tr>\n",
       "  </thead>\n",
       "  <tbody>\n",
       "    <tr>\n",
       "      <th>2577</th>\n",
       "      <td>1</td>\n",
       "      <td>0</td>\n",
       "      <td>0</td>\n",
       "      <td>1</td>\n",
       "      <td>0</td>\n",
       "      <td>1</td>\n",
       "      <td>0</td>\n",
       "      <td>1</td>\n",
       "      <td>1</td>\n",
       "      <td>0</td>\n",
       "      <td>0</td>\n",
       "      <td>1</td>\n",
       "      <td>1</td>\n",
       "      <td>0</td>\n",
       "      <td>0</td>\n",
       "      <td>1</td>\n",
       "      <td>0</td>\n",
       "      <td>1</td>\n",
       "      <td>1</td>\n",
       "      <td>0</td>\n",
       "    </tr>\n",
       "    <tr>\n",
       "      <th>4588</th>\n",
       "      <td>1</td>\n",
       "      <td>0</td>\n",
       "      <td>1</td>\n",
       "      <td>0</td>\n",
       "      <td>0</td>\n",
       "      <td>1</td>\n",
       "      <td>0</td>\n",
       "      <td>1</td>\n",
       "      <td>1</td>\n",
       "      <td>0</td>\n",
       "      <td>0</td>\n",
       "      <td>1</td>\n",
       "      <td>1</td>\n",
       "      <td>0</td>\n",
       "      <td>0</td>\n",
       "      <td>1</td>\n",
       "      <td>0</td>\n",
       "      <td>1</td>\n",
       "      <td>1</td>\n",
       "      <td>0</td>\n",
       "    </tr>\n",
       "    <tr>\n",
       "      <th>3098</th>\n",
       "      <td>1</td>\n",
       "      <td>0</td>\n",
       "      <td>1</td>\n",
       "      <td>0</td>\n",
       "      <td>0</td>\n",
       "      <td>1</td>\n",
       "      <td>0</td>\n",
       "      <td>1</td>\n",
       "      <td>1</td>\n",
       "      <td>0</td>\n",
       "      <td>0</td>\n",
       "      <td>1</td>\n",
       "      <td>1</td>\n",
       "      <td>0</td>\n",
       "      <td>1</td>\n",
       "      <td>0</td>\n",
       "      <td>0</td>\n",
       "      <td>1</td>\n",
       "      <td>1</td>\n",
       "      <td>0</td>\n",
       "    </tr>\n",
       "    <tr>\n",
       "      <th>6522</th>\n",
       "      <td>1</td>\n",
       "      <td>0</td>\n",
       "      <td>1</td>\n",
       "      <td>0</td>\n",
       "      <td>0</td>\n",
       "      <td>1</td>\n",
       "      <td>0</td>\n",
       "      <td>1</td>\n",
       "      <td>1</td>\n",
       "      <td>0</td>\n",
       "      <td>0</td>\n",
       "      <td>1</td>\n",
       "      <td>1</td>\n",
       "      <td>0</td>\n",
       "      <td>0</td>\n",
       "      <td>1</td>\n",
       "      <td>0</td>\n",
       "      <td>1</td>\n",
       "      <td>1</td>\n",
       "      <td>0</td>\n",
       "    </tr>\n",
       "    <tr>\n",
       "      <th>8281</th>\n",
       "      <td>1</td>\n",
       "      <td>0</td>\n",
       "      <td>1</td>\n",
       "      <td>0</td>\n",
       "      <td>0</td>\n",
       "      <td>1</td>\n",
       "      <td>0</td>\n",
       "      <td>1</td>\n",
       "      <td>1</td>\n",
       "      <td>0</td>\n",
       "      <td>0</td>\n",
       "      <td>1</td>\n",
       "      <td>1</td>\n",
       "      <td>0</td>\n",
       "      <td>0</td>\n",
       "      <td>1</td>\n",
       "      <td>0</td>\n",
       "      <td>1</td>\n",
       "      <td>1</td>\n",
       "      <td>0</td>\n",
       "    </tr>\n",
       "  </tbody>\n",
       "</table>\n",
       "</div>"
      ],
      "text/plain": [
       "feature        Amount                     V10                     V12  \\\n",
       "operation          <=           >          <=           >          <=   \n",
       "value      161.200005  161.200005  0.700005    0.700005   -2.111203     \n",
       "2577                1           0           0           1           0   \n",
       "4588                1           0           1           0           0   \n",
       "3098                1           0           1           0           0   \n",
       "6522                1           0           1           0           0   \n",
       "8281                1           0           1           0           0   \n",
       "\n",
       "feature                       V14                     V16              \\\n",
       "operation           >          <=           >          <=           >   \n",
       "value     -2.111203   -3.777392   -3.777392    2.292556    2.292556     \n",
       "2577                1           0           1           1           0   \n",
       "4588                1           0           1           1           0   \n",
       "3098                1           0           1           1           0   \n",
       "6522                1           0           1           1           0   \n",
       "8281                1           0           1           1           0   \n",
       "\n",
       "feature           V17                                             V21  \\\n",
       "operation          <=                       >                      <=   \n",
       "value     -3.042388    1.589249   -3.042388    1.589249   -0.348540     \n",
       "2577                0           1           1           0           0   \n",
       "4588                0           1           1           0           0   \n",
       "3098                0           1           1           0           1   \n",
       "6522                0           1           1           0           0   \n",
       "8281                0           1           1           0           0   \n",
       "\n",
       "feature                       V23                      V7              \n",
       "operation           >          <=           >          <=           >  \n",
       "value     -0.348540   -13.168944  -13.168944   2.272979    2.272979    \n",
       "2577                1           0           1           1           0  \n",
       "4588                1           0           1           1           0  \n",
       "3098                0           0           1           1           0  \n",
       "6522                1           0           1           1           0  \n",
       "8281                1           0           1           1           0  "
      ]
     },
     "execution_count": 35,
     "metadata": {},
     "output_type": "execute_result"
    }
   ],
   "source": [
    "if CONFIG['BINARIZER'] == 'TREES':\n",
    "    binarizer =  FeatureBinarizerFromTrees(negations=True, randomState=42) # FeatureBinarizer(negations=False), FeatureBinarizerFromTrees(negations=True, randomState=42)\n",
    "    binarizer = binarizer.fit(x_train, y_train)\n",
    "    x_train_bin = binarizer.transform(x_train) #  x_train_bin = binarizer.fit_transform(x_train)\n",
    "    x_test_bin = binarizer.transform(x_test) #  X_fb = self.fb.fit_transform(X_train)\n",
    "elif CONFIG['BINARIZER'] == 'QUANTILE':\n",
    "    binarizer =  FeatureBinarizer(numThresh=9,negations=True, randomState=42) # FeatureBinarizer(negations=False), FeatureBinarizerFromTrees(negations=True, randomState=42)\n",
    "    binarizer = binarizer.fit(x_train)\n",
    "    x_train_bin = binarizer.transform(x_train) #  x_train_bin = binarizer.fit_transform(x_train)\n",
    "    x_test_bin = binarizer.transform(x_test) #  X_fb = self.fb.fit_transform(X_train)  \n",
    "elif CONFIG['BINARIZER'] == 'NATIVE':\n",
    "    x_train_bin = x_train\n",
    "    x_test_bin = x_test\n",
    "else:\n",
    "    print('UNRECOGNIZED BINARIZER')\n",
    "\n",
    "x_train_bin.info() # verbose=True\n",
    "x_train_bin.head()\n",
    "#x_train_bin[CONFIG['EXAMPLE_FEATURE']][:10]\n"
   ]
  },
  {
   "cell_type": "markdown",
   "metadata": {},
   "source": [
    "### Rule Induction"
   ]
  },
  {
   "cell_type": "code",
   "execution_count": 36,
   "metadata": {},
   "outputs": [
    {
     "name": "stdout",
     "output_type": "stream",
     "text": [
      "Starting training for RIPPER\n",
      "Training time: 0.07599902153015137\n"
     ]
    }
   ],
   "source": [
    "start_time = time.time()\n",
    "print('Starting training for', CONFIG['ALGO'])\n",
    "\n",
    "if CONFIG['ALGO'] == 'BRCG':\n",
    "    estimator = BooleanRuleCG() # Explainer()\n",
    "    # estimator.train(x_train, y_train)\n",
    "    with warnings.catch_warnings():\n",
    "        warnings.simplefilter(\"ignore\")\n",
    "        estimator.fit(x_train_bin, y_train)\n",
    "elif CONFIG['ALGO'] == 'RIPPER':\n",
    "    estimator = Ripper()\n",
    "    estimator.fit(x_train_bin, y_train, pos_value=CONFIG['POS_CLASS'])\n",
    "elif CONFIG['ALGO'] == 'Witt_RIPPER':\n",
    "    estimator = lw.RIPPER()\n",
    "    estimator.fit(x_train_bin, y_train,class_feat=CONFIG[\"TARGET_LABEL\"] , pos_value=CONFIG['POS_CLASS'])\n",
    "elif CONFIG['ALGO'] == 'GLRM':\n",
    "    linear_model = LinearRuleRegression() # lambda0=0.0005,lambda1=0.0001\n",
    "    explainer = GLRMExplainer(linear_model)\n",
    "    explainer.fit(x_train_bin, y_train)\n",
    "elif CONFIG['ALGO'] == 'CORELS':\n",
    "    estimator = CorelsClassifier(n_iter=10000, \n",
    "                      # feautres per statement\n",
    "                     c = 0.0001 # Higher values penalise longer rulelists\n",
    "                    )\n",
    "    estimator.fit(x_train_bin, y_train , prediction_name = CONFIG[\"TARGET_LABEL\"])\n",
    "    \n",
    "else:\n",
    "    print('Unrecognized algorithm:', CONFIG['ALGO'])\n",
    "\n",
    "end_time = time.time()\n",
    "print('Training time: ' + str(end_time - start_time))"
   ]
  },
  {
   "cell_type": "code",
   "execution_count": 37,
   "metadata": {},
   "outputs": [
    {
     "data": {
      "text/plain": [
       "1"
      ]
     },
     "execution_count": 37,
     "metadata": {},
     "output_type": "execute_result"
    }
   ],
   "source": [
    "CONFIG['POS_CLASS']"
   ]
  },
  {
   "cell_type": "markdown",
   "metadata": {},
   "source": [
    "### Evaluation"
   ]
  },
  {
   "cell_type": "code",
   "execution_count": 38,
   "metadata": {},
   "outputs": [
    {
     "name": "stdout",
     "output_type": "stream",
     "text": [
      "Accuracy: 0.9548919949174078\n",
      "Balanced accuracy: 0.0\n",
      "Precision: 0.0\n",
      "Recall: 0.0\n",
      "F1 0.0\n",
      "ConfusionMatrix [[3006    0]\n",
      " [ 142    0]]\n",
      "F-2 0.0\n",
      "Mathhews 0.0\n",
      "Training time: 0.07599902153015137\n",
      "Stored 'acc_list' (list)\n",
      "Stored 'prec_list' (list)\n"
     ]
    },
    {
     "name": "stderr",
     "output_type": "stream",
     "text": [
      "C:\\Users\\hornd\\AppData\\Local\\R-MINI~1\\envs\\aix360i_v2\\lib\\site-packages\\sklearn\\metrics\\_classification.py:1221: UndefinedMetricWarning: Precision is ill-defined and being set to 0.0 due to no predicted samples. Use `zero_division` parameter to control this behavior.\n",
      "  _warn_prf(average, modifier, msg_start, len(result))\n",
      "C:\\Users\\hornd\\AppData\\Local\\R-MINI~1\\envs\\aix360i_v2\\lib\\site-packages\\sklearn\\metrics\\_classification.py:846: RuntimeWarning: invalid value encountered in double_scalars\n",
      "  mcc = cov_ytyp / np.sqrt(cov_ytyt * cov_ypyp)\n"
     ]
    }
   ],
   "source": [
    "acc_list = []\n",
    "prec_list = []\n",
    "%store -r acc_list\n",
    "%store -r prec_list\n",
    "\n",
    "if CONFIG['TYPE'] == 'BINARY':\n",
    "    y_pred = estimator.predict(x_test_bin)\n",
    "    print('Accuracy:', accuracy_score(y_test, y_pred))\n",
    "    print('Balanced accuracy:', balanced_accuracy_score(y_test, y_pred, adjusted=True))\n",
    "    print('Precision:', precision_score(y_test, y_pred, pos_label=CONFIG['POS_CLASS']))\n",
    "    print('Recall:', recall_score(y_test, y_pred, pos_label=CONFIG['POS_CLASS']))\n",
    "    print('F1', f1_score(y_test, y_pred, pos_label=CONFIG['POS_CLASS']))\n",
    "    print('ConfusionMatrix', confusion_matrix(y_test, y_pred))\n",
    "    print('F-2', fbeta_score(y_test, y_pred, pos_label=CONFIG['POS_CLASS'], beta= 2))\n",
    "    print('Mathhews', matthews_corrcoef(y_test, y_pred))\n",
    "\n",
    "    acc_list.append(recall_score(y_test, y_pred, pos_label=CONFIG['POS_CLASS']))\n",
    "    prec_list.append(precision_score(y_test, y_pred, pos_label=CONFIG['POS_CLASS']))\n",
    "    print('Training time: ' + str(end_time - start_time))\n",
    "    %store acc_list\n",
    "    %store prec_list\n",
    "   \n",
    "elif CONFIG['TYPE'] == 'CONTINUOUS':\n",
    "    y_pred = explainer.predict(x_test_bin)\n",
    "    print(f'R2 Score = {r2_score(y_test, y_pred)}')\n",
    "    print(f'Explained Variance = {explained_variance_score(y_test, y_pred)}')\n",
    "    print(f'Mean abs. error = {mean_absolute_error(y_test, y_pred)}')\n",
    "    print(f'Max error = {max_error(y_test, y_pred)}')\n",
    "    \n"
   ]
  },
  {
   "cell_type": "code",
   "execution_count": 39,
   "metadata": {},
   "outputs": [
    {
     "data": {
      "text/plain": [
       "0    3006\n",
       "1     142\n",
       "Name: Class, dtype: int64"
      ]
     },
     "execution_count": 39,
     "metadata": {},
     "output_type": "execute_result"
    }
   ],
   "source": [
    "y_test.value_counts()"
   ]
  },
  {
   "cell_type": "code",
   "execution_count": 40,
   "metadata": {},
   "outputs": [
    {
     "data": {
      "text/plain": [
       "1"
      ]
     },
     "execution_count": 40,
     "metadata": {},
     "output_type": "execute_result"
    }
   ],
   "source": [
    "CONFIG['POS_CLASS']"
   ]
  },
  {
   "cell_type": "code",
   "execution_count": 41,
   "metadata": {},
   "outputs": [
    {
     "data": {
      "text/plain": [
       "'TREES'"
      ]
     },
     "execution_count": 41,
     "metadata": {},
     "output_type": "execute_result"
    }
   ],
   "source": [
    "CONFIG['BINARIZER']"
   ]
  },
  {
   "cell_type": "code",
   "execution_count": 42,
   "metadata": {},
   "outputs": [
    {
     "data": {
      "text/plain": [
       "'RIPPER'"
      ]
     },
     "execution_count": 42,
     "metadata": {},
     "output_type": "execute_result"
    }
   ],
   "source": [
    "CONFIG['ALGO']"
   ]
  },
  {
   "cell_type": "code",
   "execution_count": 43,
   "metadata": {},
   "outputs": [
    {
     "data": {
      "text/plain": [
       "0    10000\n",
       "1      492\n",
       "Name: Class, dtype: int64"
      ]
     },
     "execution_count": 43,
     "metadata": {},
     "output_type": "execute_result"
    }
   ],
   "source": [
    "df[CONFIG[\"TARGET_LABEL\"]].value_counts()"
   ]
  },
  {
   "cell_type": "code",
   "execution_count": 44,
   "metadata": {},
   "outputs": [
    {
     "data": {
      "text/plain": [
       "1"
      ]
     },
     "execution_count": 44,
     "metadata": {},
     "output_type": "execute_result"
    }
   ],
   "source": [
    "CONFIG['POS_CLASS']"
   ]
  },
  {
   "cell_type": "code",
   "execution_count": 45,
   "metadata": {},
   "outputs": [
    {
     "name": "stdout",
     "output_type": "stream",
     "text": [
      "Rule count: 0\n",
      "Rule set:\n"
     ]
    },
    {
     "ename": "KeyError",
     "evalue": "0",
     "output_type": "error",
     "traceback": [
      "\u001b[1;31m---------------------------------------------------------------------------\u001b[0m",
      "\u001b[1;31mKeyError\u001b[0m                                  Traceback (most recent call last)",
      "\u001b[1;32m<ipython-input-45-2dc76b3a709e>\u001b[0m in \u001b[0;36m<module>\u001b[1;34m\u001b[0m\n\u001b[0;32m     14\u001b[0m     \u001b[1;31m#print(estimator.rule_list_to_pretty_string())\u001b[0m\u001b[1;33m\u001b[0m\u001b[1;33m\u001b[0m\u001b[1;33m\u001b[0m\u001b[0m\n\u001b[0;32m     15\u001b[0m     \u001b[1;31m# Get predicates --> if Key Error Switch 0 to 1 or 1 to 0\u001b[0m\u001b[1;33m\u001b[0m\u001b[1;33m\u001b[0m\u001b[1;33m\u001b[0m\u001b[0m\n\u001b[1;32m---> 16\u001b[1;33m     \u001b[1;32mfor\u001b[0m \u001b[0mi\u001b[0m \u001b[1;32min\u001b[0m \u001b[0mrange\u001b[0m\u001b[1;33m(\u001b[0m\u001b[0mlen\u001b[0m\u001b[1;33m(\u001b[0m\u001b[0mestimator\u001b[0m\u001b[1;33m.\u001b[0m\u001b[0mrule_map\u001b[0m\u001b[1;33m[\u001b[0m\u001b[1;36m0\u001b[0m\u001b[1;33m]\u001b[0m\u001b[1;33m)\u001b[0m\u001b[1;33m)\u001b[0m\u001b[1;33m:\u001b[0m\u001b[1;33m\u001b[0m\u001b[1;33m\u001b[0m\u001b[0m\n\u001b[0m\u001b[0;32m     17\u001b[0m         \u001b[0mprint\u001b[0m\u001b[1;33m(\u001b[0m\u001b[0mlen\u001b[0m\u001b[1;33m(\u001b[0m\u001b[0mestimator\u001b[0m\u001b[1;33m.\u001b[0m\u001b[0mrule_map\u001b[0m\u001b[1;33m[\u001b[0m\u001b[1;36m0\u001b[0m\u001b[1;33m]\u001b[0m\u001b[1;33m[\u001b[0m\u001b[0mi\u001b[0m\u001b[1;33m]\u001b[0m\u001b[1;33m)\u001b[0m\u001b[1;33m)\u001b[0m\u001b[1;33m\u001b[0m\u001b[1;33m\u001b[0m\u001b[0m\n\u001b[0;32m     18\u001b[0m         \u001b[0mpräds\u001b[0m\u001b[1;33m.\u001b[0m\u001b[0mappend\u001b[0m\u001b[1;33m(\u001b[0m\u001b[0mlen\u001b[0m\u001b[1;33m(\u001b[0m\u001b[0mestimator\u001b[0m\u001b[1;33m.\u001b[0m\u001b[0mrule_map\u001b[0m\u001b[1;33m[\u001b[0m\u001b[1;36m0\u001b[0m\u001b[1;33m]\u001b[0m\u001b[1;33m[\u001b[0m\u001b[0mi\u001b[0m\u001b[1;33m]\u001b[0m\u001b[1;33m)\u001b[0m\u001b[1;33m)\u001b[0m\u001b[1;33m\u001b[0m\u001b[1;33m\u001b[0m\u001b[0m\n",
      "\u001b[1;31mKeyError\u001b[0m: 0"
     ]
    }
   ],
   "source": [
    "präds = []\n",
    "if CONFIG['TYPE'] == 'CONTINUOUS':\n",
    "    explanation = explainer.explain()\n",
    "    print(explanation)\n",
    "elif CONFIG['ALGO'] == 'BRCG':\n",
    "    model = estimator.explain()\n",
    "    if not model['isCNF']:\n",
    "        print('Number of rules:', len(model['rules']))\n",
    "        print(model['rules'])\n",
    "elif CONFIG['ALGO'] == 'RIPPER':\n",
    "    \n",
    "    print('Rule count: ' + str(sum([len(rules) for rules in estimator.rule_map.values()])))\n",
    "    print('Rule set:')\n",
    "    #print(estimator.rule_list_to_pretty_string())\n",
    "    # Get predicates --> if Key Error Switch 0 to 1 or 1 to 0\n",
    "    for i in range(len(estimator.rule_map[0])):\n",
    "        print(len(estimator.rule_map[0][i]))\n",
    "        präds.append(len(estimator.rule_map[0][i]))\n",
    "    print(\"Sum Prädikate:\", sum(präds))\n",
    "elif CONFIG['ALGO'] == 'CORELS':\n",
    "    r_length = len(estimator.rl().rules)\n",
    "    print(\"Rule Length:\", r_length)\n",
    "    # Get predicates\n",
    "    for i in range(len(estimator.rl().rules[0][\"antecedents\"])):\n",
    "        an = len(estimator.rl().rules[i][\"antecedents\"])\n",
    "        präds.append(len(estimator.rl().rules[i][\"antecedents\"]))\n",
    "        print(f\"Antecedents Length Rule {i}:\" , an)\n",
    "    print(\"Sum Prädikate:\", sum(präds))\n",
    "elif CONFIG['ALGO'] == 'Witt_RIPPER':\n",
    "    print(\"Rule Length:\", len(estimator.ruleset_))\n",
    "\n",
    "# uncomment the following line for a full optimized view of the model as data frame for GLRM rules\n",
    "# explanation.style"
   ]
  },
  {
   "cell_type": "code",
   "execution_count": null,
   "metadata": {},
   "outputs": [
    {
     "data": {
      "text/plain": [
       "1"
      ]
     },
     "execution_count": 21,
     "metadata": {},
     "output_type": "execute_result"
    }
   ],
   "source": [
    "len(estimator.rule_map.values())\n"
   ]
  },
  {
   "cell_type": "code",
   "execution_count": null,
   "metadata": {},
   "outputs": [
    {
     "ename": "KeyError",
     "evalue": "1",
     "output_type": "error",
     "traceback": [
      "\u001b[1;31m---------------------------------------------------------------------------\u001b[0m",
      "\u001b[1;31mKeyError\u001b[0m                                  Traceback (most recent call last)",
      "\u001b[1;32m<ipython-input-22-4e62d5905db6>\u001b[0m in \u001b[0;36m<module>\u001b[1;34m\u001b[0m\n\u001b[1;32m----> 1\u001b[1;33m \u001b[0mestimator\u001b[0m\u001b[1;33m.\u001b[0m\u001b[0mrule_map\u001b[0m\u001b[1;33m[\u001b[0m\u001b[1;36m1\u001b[0m\u001b[1;33m]\u001b[0m\u001b[1;33m[\u001b[0m\u001b[0mi\u001b[0m\u001b[1;33m]\u001b[0m\u001b[1;33m\u001b[0m\u001b[1;33m\u001b[0m\u001b[0m\n\u001b[0m",
      "\u001b[1;31mKeyError\u001b[0m: 1"
     ]
    }
   ],
   "source": [
    "estimator.rule_map[1][i]"
   ]
  },
  {
   "cell_type": "code",
   "execution_count": null,
   "metadata": {},
   "outputs": [],
   "source": []
  }
 ],
 "metadata": {
  "interpreter": {
   "hash": "aee8b7b246df8f9039afb4144a1f6fd8d2ca17a180786b69acc140d282b71a49"
  },
  "kernelspec": {
   "display_name": "Python 3.7.9 64-bit",
   "name": "python3"
  },
  "language_info": {
   "codemirror_mode": {
    "name": "ipython",
    "version": 3
   },
   "file_extension": ".py",
   "mimetype": "text/x-python",
   "name": "python",
   "nbconvert_exporter": "python",
   "pygments_lexer": "ipython3",
   "version": "3.6.15"
  },
  "metadata": {
   "interpreter": {
    "hash": "e534e48711db4d1e1c48977d0d14ff85b1f16d41bcc4fdfd88268a329b3c9d66"
   }
  },
  "orig_nbformat": 2
 },
 "nbformat": 4,
 "nbformat_minor": 2
}

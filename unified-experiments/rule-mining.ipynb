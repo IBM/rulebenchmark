{
 "cells": [
  {
   "cell_type": "markdown",
   "metadata": {},
   "source": [
    "# Generic Rule Induction Notebook\n",
    "\n",
    "Continuoulsy refined."
   ]
  },
  {
   "cell_type": "code",
   "execution_count": 1,
   "metadata": {},
   "outputs": [],
   "source": [
    "#%store -z acc_list "
   ]
  },
  {
   "cell_type": "markdown",
   "metadata": {},
   "source": [
    "## README\n",
    "\n",
    "- GLRM needs to run in proper (conda) aix360 environment\n",
    "- BRCG runs with proper (conda) aix360 environment\n",
    "- Use aix360i environment for RIPPER"
   ]
  },
  {
   "cell_type": "markdown",
   "metadata": {},
   "source": [
    "### Configuration\n"
   ]
  },
  {
   "cell_type": "code",
   "execution_count": 2,
   "metadata": {},
   "outputs": [
    {
     "name": "stdout",
     "output_type": "stream",
     "text": [
      "[('CONFIG1', {'NAME': 'binary-churn-quantile-brcg', 'DATA_SET': '../data/churn_prob_out_35.csv', 'DATA_TYPES': {'Children': <class 'float'>, 'RatePlan': <class 'str'>}, 'DROP': ['Id', 'pChurn', '3_Class', '5_Class', 'is_test_set'], 'MODE': 'PREDICTIVE', 'TRAIN_TEST_SPLIT': 0.3, 'BINARIZER': 'QUANTILE', 'ALGO': 'BRCG', 'TARGET_LABEL': 'CHURN', 'TYPE': 'BINARY', 'EXAMPLE_FEATURE': 'Est Income', 'POS_CLASS': 'T', 'BASELINE': True, 'USECASE': None}), ('CONFIG2', {'NAME': 'continuous-churn', 'DATA_SET': '../data/churn_prob_out_35.csv', 'DATA_TYPES': {'Children': <class 'float'>, 'RatePlan': <class 'str'>}, 'DROP': ['Id', 'CHURN', '3_Class', '5_Class', 'is_test_set'], 'MODE': 'PREDICTIVE', 'TRAIN_TEST_SPLIT': 0.3, 'BINARIZER': 'QUANTILE', 'ALGO': 'GLRM', 'TARGET_LABEL': 'pChurn', 'TYPE': 'CONTINUOUS', 'EXAMPLE_FEATURE': 'Est Income', 'POS_CLASS': None, 'BASELINE': True, 'USECASE': None}), ('CONFIG3', {'NAME': 'bike-demand', 'DATA_SET': '../data/SeoulBikeData.csv', 'DATA_TYPES': {'Rented Bike Count': <class 'float'>, 'Hour': <class 'float'>, 'Humidity': <class 'float'>, 'Visibility (10m)': <class 'float'>, 'RatePlan': <class 'str'>}, 'DROP': ['Date'], 'MODE': 'PREDICTIVE', 'TRAIN_TEST_SPLIT': 0.3, 'BINARIZER': 'QUANTILE', 'ALGO': 'GLRM', 'TARGET_LABEL': 'Rented Bike Count', 'TYPE': 'CONTINUOUS', 'EXAMPLE_FEATURE': 'Dew point temperature(C)', 'POS_CLASS': None, 'BASELINE': True, 'USECASE': None}), ('CONFIG4', {'NAME': 'heloc', 'DATA_SET': '../data/heloc.csv', 'DATA_TYPES': {}, 'DROP': ['RiskPerformance'], 'MODE': 'PREDICTIVE', 'TRAIN_TEST_SPLIT': 0.3, 'BINARIZER': 'QUANTILE', 'ALGO': 'GLRM', 'TARGET_LABEL': 'Probabilities', 'TYPE': 'CONTINUOUS', 'EXAMPLE_FEATURE': 'ExternalRiskEstimate', 'POS_CLASS': None, 'BASELINE': True, 'USECASE': None}), ('CONFIG5', {'NAME': 'taiwan-credit', 'DATA_SET': '../data/TaiwanCreditData.csv', 'DATA_TYPES': {}, 'DROP': ['DefaultNextMonth'], 'MODE': 'PREDICTIVE', 'TRAIN_TEST_SPLIT': 0.3, 'BINARIZER': 'QUANTILE', 'ALGO': 'GLRM', 'TARGET_LABEL': 'Probabilities', 'TYPE': 'CONTINUOUS', 'EXAMPLE_FEATURE': 'Amount', 'POS_CLASS': None, 'BASELINE': True, 'USECASE': None}), ('CONFIG6', {'NAME': 'german-credit-brcg', 'DATA_SET': '../data/german_credit_codiert.csv', 'DATA_TYPES': {}, 'DROP': ['Index'], 'MODE': 'PREDICTIVE', 'TRAIN_TEST_SPLIT': 0.3, 'BINARIZER': 'QUANTILE', 'ALGO': 'CORELS', 'TARGET_LABEL': 'Target', 'TYPE': 'BINARY', 'EXAMPLE_FEATURE': 'Credit Amount', 'POS_CLASS': 0, 'BASELINE': True, 'USECASE': None}), ('CONFIG7', {'NAME': 'german-credit-ripper', 'DATA_SET': '../data/german_credit_codiert.csv', 'DATA_TYPES': {}, 'DROP': ['Index'], 'MODE': 'PREDICTIVE', 'TRAIN_TEST_SPLIT': 0.3, 'BINARIZER': 'NATIVE', 'ALGO': 'RIPPER', 'TARGET_LABEL': 'Target', 'TYPE': 'BINARY', 'EXAMPLE_FEATURE': 'Credit Amount', 'POS_CLASS': 0, 'BASELINE': True, 'USECASE': None}), ('CONFIG8', {'NAME': 'binary-churn-ripper', 'DATA_SET': '../data/churn_prob_out_35.csv', 'DATA_TYPES': {'Children': <class 'float'>, 'RatePlan': <class 'str'>}, 'DROP': ['Id', 'pChurn', '3_Class', '5_Class', 'is_test_set'], 'MODE': 'PREDICTIVE', 'TRAIN_TEST_SPLIT': 0.3, 'BINARIZER': 'QUANTILE', 'ALGO': 'RIPPER', 'TARGET_LABEL': 'CHURN', 'TYPE': 'BINARY', 'EXAMPLE_FEATURE': 'Est Income', 'POS_CLASS': 'T', 'BASELINE': True, 'USECASE': None}), ('CONFIG9', {'NAME': 'compas-ripper', 'DATA_SET': '../data/compas.csv', 'DATA_TYPES': {}, 'DROP': [], 'MODE': 'PREDICTIVE', 'TRAIN_TEST_SPLIT': 0.3, 'BINARIZER': 'QUANTILE', 'ALGO': 'RIPPER', 'TARGET_LABEL': 'recidivate-within-two-years', 'TYPE': 'BINARY', 'EXAMPLE_FEATURE': 'current-charge-degree', 'POS_CLASS': 0, 'BASELINE': True, 'USECASE': None}), ('CONFIG10', {'NAME': 'mushroom', 'DATA_SET': '../data/mushroom.csv', 'DATA_TYPES': {}, 'DROP': [], 'MODE': 'PREDICTIVE', 'TRAIN_TEST_SPLIT': 0.3, 'BINARIZER': 'NATIVE', 'ALGO': 'RIPPER', 'TARGET_LABEL': 'Poisonous/Edible', 'TYPE': 'BINARY', 'EXAMPLE_FEATURE': 'Cap-color', 'POS_CLASS': 'e', 'BASELINE': True, 'USECASE': None}), ('CONFIG11', {'NAME': 'fraud_detection', 'DATA_SET': '../data/fraud_detection.csv', 'DATA_TYPES': {}, 'DROP': [], 'MODE': 'PREDICTIVE', 'TRAIN_TEST_SPLIT': 0.3, 'BINARIZER': 'NATIVE', 'ALGO': 'RIPPER', 'TARGET_LABEL': 'Class', 'TYPE': 'BINARY', 'EXAMPLE_FEATURE': 'V6', 'POS_CLASS': 1, 'BASELINE': True, 'USECASE': None}), ('CONFIG12', {'NAME': 'taiwan_binary', 'DATA_SET': '../data/TaiwanCreditData.csv', 'DATA_TYPES': {}, 'DROP': ['Probabilities'], 'MODE': 'PREDICTIVE', 'TRAIN_TEST_SPLIT': 0.3, 'BINARIZER': 'QUANTILE', 'ALGO': 'BRCG', 'TARGET_LABEL': 'DefaultNextMonth', 'TYPE': 'BINARY', 'EXAMPLE_FEATURE': 'PayAmount_Apr', 'POS_CLASS': 1, 'BASELINE': True, 'USECASE': None}), ('CONFIG13', {'NAME': 'heloc', 'DATA_SET': '../data/heloc.csv', 'DATA_TYPES': {}, 'DROP': ['Probabilities'], 'MODE': 'PREDICTIVE', 'TRAIN_TEST_SPLIT': 0.3, 'BINARIZER': 'QUANTILE', 'ALGO': 'CORELS', 'TARGET_LABEL': 'RiskPerformance', 'TYPE': 'BINARY', 'EXAMPLE_FEATURE': 'ExternalRiskEstimate', 'POS_CLASS': 'Good', 'BASELINE': True, 'USECASE': None}), ('CONFIG14', {'NAME': 'binary_bike', 'DATA_SET': '../data/binary_bike.csv', 'DATA_TYPES': {}, 'DROP': ['Rented Bike Count', 'Unnamed: 0'], 'MODE': 'PREDICTIVE', 'TRAIN_TEST_SPLIT': 0.3, 'BINARIZER': 'NATIVE', 'ALGO': 'RIPPER', 'TARGET_LABEL': 'Target', 'TYPE': 'BINARY', 'EXAMPLE_FEATURE': 'Target', 'POS_CLASS': 1, 'BASELINE': True, 'USECASE': None})]\n",
      "Proceed with configuration: binary_bike\n"
     ]
    }
   ],
   "source": [
    "from config import config_dict\n",
    "\n",
    "# document config order\n",
    "CONFIG = config_dict[\"CONFIG14\"]\n",
    "print('Proceed with configuration:', CONFIG[\"NAME\"])"
   ]
  },
  {
   "cell_type": "code",
   "execution_count": 3,
   "metadata": {},
   "outputs": [
    {
     "name": "stdout",
     "output_type": "stream",
     "text": [
      "Importing dev version v0.981 of RIPPER\n"
     ]
    }
   ],
   "source": [
    "import pandas as pd\n",
    "import numpy as np\n",
    "import seaborn as sns\n",
    "# import os\n",
    "from sklearn.model_selection import train_test_split #, GridSearchCV\n",
    "from sklearn.metrics import fbeta_score,confusion_matrix,f1_score,precision_score, recall_score, accuracy_score, balanced_accuracy_score, confusion_matrix, r2_score, explained_variance_score, mean_absolute_error, max_error\n",
    "from sklearn.ensemble import GradientBoostingRegressor\n",
    "import xgboost as xgb\n",
    "import time\n",
    "import warnings\n",
    "import re\n",
    "\n",
    "from aix360.algorithms.rbm import BRCGExplainer, BooleanRuleCG, GLRMExplainer, LinearRuleRegression\n",
    "if CONFIG['BINARIZER'] == 'QUANTILE':\n",
    "    from aix360.algorithms.rbm import FeatureBinarizer\n",
    "elif CONFIG['BINARIZER'] == 'TREES':\n",
    "    from aix360.algorithms.rbm import FeatureBinarizerFromTrees\n",
    "if CONFIG['ALGO'] == 'RIPPER':\n",
    "    from aix360i.algorithms.rule_induction.ripper import Ripper\n",
    "if CONFIG['ALGO'] == 'CORELS':\n",
    "    from corels import *\n",
    "\n",
    "\n",
    "\n",
    "\n",
    "\n",
    "# from explainer import Explainer\n",
    "\n",
    "# TODO create reference for performance using boosted trees\n",
    "\n",
    "# import wittgenstein as lw\n",
    "# from clf_utils import make_tree_dataset, make_forest, score_forest\n",
    "# from sklearn.tree import DecisionTreeClassifier\n",
    "# from sklearn.ensemble import RandomForestClassifier\n",
    "# from sklearn.preprocessing import OneHotEncoder, LabelEncoder\n"
   ]
  },
  {
   "cell_type": "markdown",
   "metadata": {},
   "source": [
    "### Data"
   ]
  },
  {
   "cell_type": "code",
   "execution_count": 4,
   "metadata": {},
   "outputs": [
    {
     "name": "stdout",
     "output_type": "stream",
     "text": [
      "<class 'pandas.core.frame.DataFrame'>\n",
      "RangeIndex: 8760 entries, 0 to 8759\n",
      "Data columns (total 14 columns):\n",
      " #   Column                    Non-Null Count  Dtype  \n",
      "---  ------                    --------------  -----  \n",
      " 0   Date                      8760 non-null   object \n",
      " 1   Hour                      8760 non-null   int64  \n",
      " 2   Temperature(C)            8760 non-null   float64\n",
      " 3   Humidity(%)               8760 non-null   int64  \n",
      " 4   Wind speed (m/s)          8760 non-null   float64\n",
      " 5   Visibility (10m)          8760 non-null   int64  \n",
      " 6   Dew point temperature(C)  8760 non-null   float64\n",
      " 7   Solar Radiation (MJ/m2)   8760 non-null   float64\n",
      " 8   Rainfall(mm)              8760 non-null   float64\n",
      " 9   Snowfall (cm)             8760 non-null   float64\n",
      " 10  Seasons                   8760 non-null   object \n",
      " 11  Holiday                   8760 non-null   object \n",
      " 12  Functioning Day           8760 non-null   object \n",
      " 13  Target                    8760 non-null   int64  \n",
      "dtypes: float64(6), int64(4), object(4)\n",
      "memory usage: 958.2+ KB\n"
     ]
    },
    {
     "data": {
      "text/html": [
       "<div>\n",
       "<style scoped>\n",
       "    .dataframe tbody tr th:only-of-type {\n",
       "        vertical-align: middle;\n",
       "    }\n",
       "\n",
       "    .dataframe tbody tr th {\n",
       "        vertical-align: top;\n",
       "    }\n",
       "\n",
       "    .dataframe thead th {\n",
       "        text-align: right;\n",
       "    }\n",
       "</style>\n",
       "<table border=\"1\" class=\"dataframe\">\n",
       "  <thead>\n",
       "    <tr style=\"text-align: right;\">\n",
       "      <th></th>\n",
       "      <th>Date</th>\n",
       "      <th>Hour</th>\n",
       "      <th>Temperature(C)</th>\n",
       "      <th>Humidity(%)</th>\n",
       "      <th>Wind speed (m/s)</th>\n",
       "      <th>Visibility (10m)</th>\n",
       "      <th>Dew point temperature(C)</th>\n",
       "      <th>Solar Radiation (MJ/m2)</th>\n",
       "      <th>Rainfall(mm)</th>\n",
       "      <th>Snowfall (cm)</th>\n",
       "      <th>Seasons</th>\n",
       "      <th>Holiday</th>\n",
       "      <th>Functioning Day</th>\n",
       "      <th>Target</th>\n",
       "    </tr>\n",
       "  </thead>\n",
       "  <tbody>\n",
       "    <tr>\n",
       "      <th>0</th>\n",
       "      <td>01/12/2017</td>\n",
       "      <td>0</td>\n",
       "      <td>-5.2</td>\n",
       "      <td>37</td>\n",
       "      <td>2.2</td>\n",
       "      <td>2000</td>\n",
       "      <td>-17.6</td>\n",
       "      <td>0.0</td>\n",
       "      <td>0.0</td>\n",
       "      <td>0.0</td>\n",
       "      <td>Winter</td>\n",
       "      <td>No Holiday</td>\n",
       "      <td>Yes</td>\n",
       "      <td>0</td>\n",
       "    </tr>\n",
       "    <tr>\n",
       "      <th>1</th>\n",
       "      <td>01/12/2017</td>\n",
       "      <td>1</td>\n",
       "      <td>-5.5</td>\n",
       "      <td>38</td>\n",
       "      <td>0.8</td>\n",
       "      <td>2000</td>\n",
       "      <td>-17.6</td>\n",
       "      <td>0.0</td>\n",
       "      <td>0.0</td>\n",
       "      <td>0.0</td>\n",
       "      <td>Winter</td>\n",
       "      <td>No Holiday</td>\n",
       "      <td>Yes</td>\n",
       "      <td>0</td>\n",
       "    </tr>\n",
       "    <tr>\n",
       "      <th>2</th>\n",
       "      <td>01/12/2017</td>\n",
       "      <td>2</td>\n",
       "      <td>-6.0</td>\n",
       "      <td>39</td>\n",
       "      <td>1.0</td>\n",
       "      <td>2000</td>\n",
       "      <td>-17.7</td>\n",
       "      <td>0.0</td>\n",
       "      <td>0.0</td>\n",
       "      <td>0.0</td>\n",
       "      <td>Winter</td>\n",
       "      <td>No Holiday</td>\n",
       "      <td>Yes</td>\n",
       "      <td>0</td>\n",
       "    </tr>\n",
       "    <tr>\n",
       "      <th>3</th>\n",
       "      <td>01/12/2017</td>\n",
       "      <td>3</td>\n",
       "      <td>-6.2</td>\n",
       "      <td>40</td>\n",
       "      <td>0.9</td>\n",
       "      <td>2000</td>\n",
       "      <td>-17.6</td>\n",
       "      <td>0.0</td>\n",
       "      <td>0.0</td>\n",
       "      <td>0.0</td>\n",
       "      <td>Winter</td>\n",
       "      <td>No Holiday</td>\n",
       "      <td>Yes</td>\n",
       "      <td>0</td>\n",
       "    </tr>\n",
       "    <tr>\n",
       "      <th>4</th>\n",
       "      <td>01/12/2017</td>\n",
       "      <td>4</td>\n",
       "      <td>-6.0</td>\n",
       "      <td>36</td>\n",
       "      <td>2.3</td>\n",
       "      <td>2000</td>\n",
       "      <td>-18.6</td>\n",
       "      <td>0.0</td>\n",
       "      <td>0.0</td>\n",
       "      <td>0.0</td>\n",
       "      <td>Winter</td>\n",
       "      <td>No Holiday</td>\n",
       "      <td>Yes</td>\n",
       "      <td>0</td>\n",
       "    </tr>\n",
       "  </tbody>\n",
       "</table>\n",
       "</div>"
      ],
      "text/plain": [
       "         Date  Hour  Temperature(C)  Humidity(%)  Wind speed (m/s)  \\\n",
       "0  01/12/2017     0            -5.2           37               2.2   \n",
       "1  01/12/2017     1            -5.5           38               0.8   \n",
       "2  01/12/2017     2            -6.0           39               1.0   \n",
       "3  01/12/2017     3            -6.2           40               0.9   \n",
       "4  01/12/2017     4            -6.0           36               2.3   \n",
       "\n",
       "   Visibility (10m)  Dew point temperature(C)  Solar Radiation (MJ/m2)  \\\n",
       "0              2000                     -17.6                      0.0   \n",
       "1              2000                     -17.6                      0.0   \n",
       "2              2000                     -17.7                      0.0   \n",
       "3              2000                     -17.6                      0.0   \n",
       "4              2000                     -18.6                      0.0   \n",
       "\n",
       "   Rainfall(mm)  Snowfall (cm) Seasons     Holiday Functioning Day  Target  \n",
       "0           0.0            0.0  Winter  No Holiday             Yes       0  \n",
       "1           0.0            0.0  Winter  No Holiday             Yes       0  \n",
       "2           0.0            0.0  Winter  No Holiday             Yes       0  \n",
       "3           0.0            0.0  Winter  No Holiday             Yes       0  \n",
       "4           0.0            0.0  Winter  No Holiday             Yes       0  "
      ]
     },
     "execution_count": 4,
     "metadata": {},
     "output_type": "execute_result"
    }
   ],
   "source": [
    "def convert(char):\n",
    "    if char == CONFIG['POS_CLASS']:\n",
    "        return 1\n",
    "    else:\n",
    "        return 0\n",
    "\n",
    "df = pd.read_csv(CONFIG['DATA_SET'],dtype=CONFIG['DATA_TYPES'])\n",
    "df = df.drop(columns=CONFIG['DROP'])\n",
    "if CONFIG['ALGO'] == 'BRCG' or CONFIG['ALGO'] == 'CORELS' :\n",
    "    df[CONFIG['TARGET_LABEL']] = df[CONFIG['TARGET_LABEL']].map(convert)\n",
    "    CONFIG['POS_CLASS'] = 1 \n",
    "    # maybe this could also be achieved through explicit binarization of target vector\n",
    "df.info()\n",
    "df.head()"
   ]
  },
  {
   "cell_type": "code",
   "execution_count": 5,
   "metadata": {},
   "outputs": [
    {
     "name": "stdout",
     "output_type": "stream",
     "text": [
      "0    5238\n",
      "1    3522\n",
      "Name: Target, dtype: int64\n"
     ]
    }
   ],
   "source": [
    "if CONFIG['TYPE'] == 'BINARY':\n",
    "    print(df[CONFIG['TARGET_LABEL']].value_counts())\n",
    "elif CONFIG['TYPE'] == 'CONTINUOUS':\n",
    "    df[CONFIG['TARGET_LABEL']].describe()\n",
    "else:\n",
    "    print('Unrecognized problem type')"
   ]
  },
  {
   "cell_type": "markdown",
   "metadata": {},
   "source": [
    "### Train, Test Split"
   ]
  },
  {
   "cell_type": "code",
   "execution_count": 6,
   "metadata": {},
   "outputs": [
    {
     "name": "stdout",
     "output_type": "stream",
     "text": [
      "Training: (6132, 13) (6132,)\n",
      "Test: (2628, 13) (2628,)\n"
     ]
    }
   ],
   "source": [
    "if CONFIG['TRAIN_TEST_SPLIT'] == 'FIXED':\n",
    "    if CONFIG['MODE'] == 'PREDICTIVE':\n",
    "        train = df[df['is_test_set'] == False]\n",
    "        test = df[df['is_test_set'] == True]\n",
    "    elif CONFIG['MODE'] == 'DESCRIPTIVE':\n",
    "        train = df\n",
    "        test = df\n",
    "\n",
    "    train = train.drop(columns=['is_test_set'])\n",
    "    test = test.drop(columns=['is_test_set'])\n",
    "\n",
    "    y_train = train[CONFIG['TARGET_LABEL']]\n",
    "    x_train = train.drop(columns=[CONFIG['TARGET_LABEL']])\n",
    "\n",
    "    y_test = test[CONFIG['TARGET_LABEL']]\n",
    "    x_test = test.drop(columns=[CONFIG['TARGET_LABEL']])\n",
    "else:\n",
    "    x_train, x_test, y_train, y_test = train_test_split(df.drop(columns=[CONFIG['TARGET_LABEL']]), df[CONFIG['TARGET_LABEL']], test_size=CONFIG['TRAIN_TEST_SPLIT'], random_state=42)\n",
    "\n",
    "print('Training:', x_train.shape, y_train.shape)\n",
    "print('Test:', x_test.shape, y_test.shape)"
   ]
  },
  {
   "cell_type": "markdown",
   "metadata": {},
   "source": [
    "### Reference Performance"
   ]
  },
  {
   "cell_type": "code",
   "execution_count": 7,
   "metadata": {},
   "outputs": [],
   "source": [
    "if CONFIG['TYPE'] == 'CONTINUOUS':\n",
    "    print('needs prior encoding of categoricals')\n",
    "    # gbr = GradientBoostingRegressor(n_estimators=500, random_state=0)\n",
    "    # gbr.fit(x_train, y_train)\n",
    "    # # print('Training R^2:', r2_score(yTrain, gbr.predict(dfTrain)))\n",
    "    # print('Test R^2:', r2_score(y_test, gbr.predict(x_test)))"
   ]
  },
  {
   "cell_type": "markdown",
   "metadata": {},
   "source": [
    "### Binarization"
   ]
  },
  {
   "cell_type": "code",
   "execution_count": 8,
   "metadata": {},
   "outputs": [
    {
     "name": "stdout",
     "output_type": "stream",
     "text": [
      "<class 'pandas.core.frame.DataFrame'>\n",
      "Int64Index: 6132 entries, 1444 to 7270\n",
      "Data columns (total 13 columns):\n",
      " #   Column                    Non-Null Count  Dtype  \n",
      "---  ------                    --------------  -----  \n",
      " 0   Date                      6132 non-null   object \n",
      " 1   Hour                      6132 non-null   int64  \n",
      " 2   Temperature(C)            6132 non-null   float64\n",
      " 3   Humidity(%)               6132 non-null   int64  \n",
      " 4   Wind speed (m/s)          6132 non-null   float64\n",
      " 5   Visibility (10m)          6132 non-null   int64  \n",
      " 6   Dew point temperature(C)  6132 non-null   float64\n",
      " 7   Solar Radiation (MJ/m2)   6132 non-null   float64\n",
      " 8   Rainfall(mm)              6132 non-null   float64\n",
      " 9   Snowfall (cm)             6132 non-null   float64\n",
      " 10  Seasons                   6132 non-null   object \n",
      " 11  Holiday                   6132 non-null   object \n",
      " 12  Functioning Day           6132 non-null   object \n",
      "dtypes: float64(6), int64(3), object(4)\n",
      "memory usage: 670.7+ KB\n"
     ]
    },
    {
     "data": {
      "text/html": [
       "<div>\n",
       "<style scoped>\n",
       "    .dataframe tbody tr th:only-of-type {\n",
       "        vertical-align: middle;\n",
       "    }\n",
       "\n",
       "    .dataframe tbody tr th {\n",
       "        vertical-align: top;\n",
       "    }\n",
       "\n",
       "    .dataframe thead th {\n",
       "        text-align: right;\n",
       "    }\n",
       "</style>\n",
       "<table border=\"1\" class=\"dataframe\">\n",
       "  <thead>\n",
       "    <tr style=\"text-align: right;\">\n",
       "      <th></th>\n",
       "      <th>Date</th>\n",
       "      <th>Hour</th>\n",
       "      <th>Temperature(C)</th>\n",
       "      <th>Humidity(%)</th>\n",
       "      <th>Wind speed (m/s)</th>\n",
       "      <th>Visibility (10m)</th>\n",
       "      <th>Dew point temperature(C)</th>\n",
       "      <th>Solar Radiation (MJ/m2)</th>\n",
       "      <th>Rainfall(mm)</th>\n",
       "      <th>Snowfall (cm)</th>\n",
       "      <th>Seasons</th>\n",
       "      <th>Holiday</th>\n",
       "      <th>Functioning Day</th>\n",
       "    </tr>\n",
       "  </thead>\n",
       "  <tbody>\n",
       "    <tr>\n",
       "      <th>1444</th>\n",
       "      <td>30/01/2018</td>\n",
       "      <td>4</td>\n",
       "      <td>-11.1</td>\n",
       "      <td>50</td>\n",
       "      <td>1.2</td>\n",
       "      <td>1986</td>\n",
       "      <td>-19.4</td>\n",
       "      <td>0.00</td>\n",
       "      <td>0.0</td>\n",
       "      <td>0.0</td>\n",
       "      <td>Winter</td>\n",
       "      <td>No Holiday</td>\n",
       "      <td>Yes</td>\n",
       "    </tr>\n",
       "    <tr>\n",
       "      <th>1652</th>\n",
       "      <td>07/02/2018</td>\n",
       "      <td>20</td>\n",
       "      <td>-5.8</td>\n",
       "      <td>44</td>\n",
       "      <td>2.1</td>\n",
       "      <td>1994</td>\n",
       "      <td>-16.1</td>\n",
       "      <td>0.00</td>\n",
       "      <td>0.0</td>\n",
       "      <td>0.0</td>\n",
       "      <td>Winter</td>\n",
       "      <td>No Holiday</td>\n",
       "      <td>Yes</td>\n",
       "    </tr>\n",
       "    <tr>\n",
       "      <th>7496</th>\n",
       "      <td>09/10/2018</td>\n",
       "      <td>8</td>\n",
       "      <td>11.4</td>\n",
       "      <td>66</td>\n",
       "      <td>0.8</td>\n",
       "      <td>1991</td>\n",
       "      <td>5.2</td>\n",
       "      <td>0.18</td>\n",
       "      <td>0.0</td>\n",
       "      <td>0.0</td>\n",
       "      <td>Autumn</td>\n",
       "      <td>Holiday</td>\n",
       "      <td>No</td>\n",
       "    </tr>\n",
       "    <tr>\n",
       "      <th>1893</th>\n",
       "      <td>17/02/2018</td>\n",
       "      <td>21</td>\n",
       "      <td>-2.3</td>\n",
       "      <td>38</td>\n",
       "      <td>2.3</td>\n",
       "      <td>2000</td>\n",
       "      <td>-14.7</td>\n",
       "      <td>0.00</td>\n",
       "      <td>0.0</td>\n",
       "      <td>0.0</td>\n",
       "      <td>Winter</td>\n",
       "      <td>Holiday</td>\n",
       "      <td>Yes</td>\n",
       "    </tr>\n",
       "    <tr>\n",
       "      <th>3880</th>\n",
       "      <td>11/05/2018</td>\n",
       "      <td>16</td>\n",
       "      <td>19.1</td>\n",
       "      <td>54</td>\n",
       "      <td>3.2</td>\n",
       "      <td>542</td>\n",
       "      <td>9.5</td>\n",
       "      <td>0.94</td>\n",
       "      <td>0.0</td>\n",
       "      <td>0.0</td>\n",
       "      <td>Spring</td>\n",
       "      <td>No Holiday</td>\n",
       "      <td>Yes</td>\n",
       "    </tr>\n",
       "  </tbody>\n",
       "</table>\n",
       "</div>"
      ],
      "text/plain": [
       "            Date  Hour  Temperature(C)  Humidity(%)  Wind speed (m/s)  \\\n",
       "1444  30/01/2018     4           -11.1           50               1.2   \n",
       "1652  07/02/2018    20            -5.8           44               2.1   \n",
       "7496  09/10/2018     8            11.4           66               0.8   \n",
       "1893  17/02/2018    21            -2.3           38               2.3   \n",
       "3880  11/05/2018    16            19.1           54               3.2   \n",
       "\n",
       "      Visibility (10m)  Dew point temperature(C)  Solar Radiation (MJ/m2)  \\\n",
       "1444              1986                     -19.4                     0.00   \n",
       "1652              1994                     -16.1                     0.00   \n",
       "7496              1991                       5.2                     0.18   \n",
       "1893              2000                     -14.7                     0.00   \n",
       "3880               542                       9.5                     0.94   \n",
       "\n",
       "      Rainfall(mm)  Snowfall (cm) Seasons     Holiday Functioning Day  \n",
       "1444           0.0            0.0  Winter  No Holiday             Yes  \n",
       "1652           0.0            0.0  Winter  No Holiday             Yes  \n",
       "7496           0.0            0.0  Autumn     Holiday              No  \n",
       "1893           0.0            0.0  Winter     Holiday             Yes  \n",
       "3880           0.0            0.0  Spring  No Holiday             Yes  "
      ]
     },
     "execution_count": 8,
     "metadata": {},
     "output_type": "execute_result"
    }
   ],
   "source": [
    "if CONFIG['BINARIZER'] == 'TREES':\n",
    "    binarizer =  FeatureBinarizerFromTrees(negations=True, randomState=42) # FeatureBinarizer(negations=False), FeatureBinarizerFromTrees(negations=True, randomState=42)\n",
    "    binarizer = binarizer.fit(x_train, y_train)\n",
    "    x_train_bin = binarizer.transform(x_train) #  x_train_bin = binarizer.fit_transform(x_train)\n",
    "    x_test_bin = binarizer.transform(x_test) #  X_fb = self.fb.fit_transform(X_train)\n",
    "elif CONFIG['BINARIZER'] == 'QUANTILE':\n",
    "    binarizer =  FeatureBinarizer(numThresh=9,negations=True) # FeatureBinarizer(negations=False), FeatureBinarizerFromTrees(negations=True, randomState=42)\n",
    "    binarizer = binarizer.fit(x_train)\n",
    "    x_train_bin = binarizer.transform(x_train) #  x_train_bin = binarizer.fit_transform(x_train)\n",
    "    x_test_bin = binarizer.transform(x_test) #  X_fb = self.fb.fit_transform(X_train)  \n",
    "elif CONFIG['BINARIZER'] == 'NATIVE':\n",
    "    x_train_bin = x_train\n",
    "    x_test_bin = x_test\n",
    "else:\n",
    "    print('UNRECOGNIZED BINARIZER')\n",
    "\n",
    "x_train_bin.info() # verbose=True\n",
    "x_train_bin.head()\n",
    "#x_train_bin[CONFIG['EXAMPLE_FEATURE']][:10]\n"
   ]
  },
  {
   "cell_type": "code",
   "execution_count": 9,
   "metadata": {},
   "outputs": [
    {
     "data": {
      "text/plain": [
       "0    3646\n",
       "1    2486\n",
       "Name: Target, dtype: int64"
      ]
     },
     "execution_count": 9,
     "metadata": {},
     "output_type": "execute_result"
    }
   ],
   "source": [
    "#x_train_bin = x_train_bin.reset_index(drop = True)\n",
    "y_train.value_counts()"
   ]
  },
  {
   "cell_type": "markdown",
   "metadata": {},
   "source": [
    "### Rule Induction"
   ]
  },
  {
   "cell_type": "code",
   "execution_count": 10,
   "metadata": {},
   "outputs": [
    {
     "name": "stdout",
     "output_type": "stream",
     "text": [
      "Starting training for RIPPER\n",
      "Training time: 2.0729990005493164\n"
     ]
    }
   ],
   "source": [
    "start_time = time.time()\n",
    "print('Starting training for', CONFIG['ALGO'])\n",
    "\n",
    "if CONFIG['ALGO'] == 'BRCG':\n",
    "    estimator = BooleanRuleCG() # Explainer()\n",
    "    # estimator.train(x_train, y_train)\n",
    "    with warnings.catch_warnings():\n",
    "        warnings.simplefilter(\"ignore\")\n",
    "        estimator.fit(x_train_bin, y_train)\n",
    "elif CONFIG['ALGO'] == 'RIPPER':\n",
    "    \n",
    "    estimator = Ripper()\n",
    "    estimator.fit(x_train_bin, y_train, pos_value=CONFIG['POS_CLASS'])\n",
    "elif CONFIG['ALGO'] == 'GLRM':\n",
    "    linear_model = LinearRuleRegression() # lambda0=0.0005,lambda1=0.0001\n",
    "    explainer = GLRMExplainer(linear_model)\n",
    "    explainer.fit(x_train_bin, y_train)\n",
    "elif CONFIG['ALGO'] == 'CORELS':\n",
    "    estimator = CorelsClassifier(n_iter=10000, \n",
    "                     max_card=2, # feautres per statement\n",
    "                     c = 0.0001 # Higher values penalise longer rulelists\n",
    "                    )\n",
    "    estimator.fit(x_train_bin, y_train , prediction_name = CONFIG[\"TARGET_LABEL\"])\n",
    "    \n",
    "else:\n",
    "    print('Unrecognized algorithm:', CONFIG['ALGO'])\n",
    "\n",
    "end_time = time.time()\n",
    "print('Training time: ' + str(end_time - start_time))"
   ]
  },
  {
   "cell_type": "markdown",
   "metadata": {},
   "source": [
    "### Evaluation"
   ]
  },
  {
   "cell_type": "code",
   "execution_count": 11,
   "metadata": {},
   "outputs": [
    {
     "name": "stdout",
     "output_type": "stream",
     "text": [
      "Accuracy: 0.8900304414003044\n",
      "Balanced accuracy: 0.8844560641043053\n",
      "Precision: 0.8622696411251213\n",
      "Recall: 0.8581081081081081\n",
      "F1 0.860183841315917\n",
      "ConfusionMatrix [[1450  142]\n",
      " [ 147  889]]\n",
      "F-2 0.8589371980676327\n"
     ]
    }
   ],
   "source": [
    "\n",
    "if CONFIG['TYPE'] == 'BINARY':\n",
    "    y_pred = estimator.predict(x_test_bin)\n",
    "    print('Accuracy:', accuracy_score(y_test, y_pred))\n",
    "    print('Balanced accuracy:', balanced_accuracy_score(y_test, y_pred))\n",
    "    print('Precision:', precision_score(y_test, y_pred, pos_label=CONFIG['POS_CLASS']))\n",
    "    print('Recall:', recall_score(y_test, y_pred, pos_label=CONFIG['POS_CLASS']))\n",
    "    print('F1', f1_score(y_test, y_pred, pos_label=CONFIG['POS_CLASS']))\n",
    "    print('ConfusionMatrix', confusion_matrix(y_test, y_pred))\n",
    "    print('F-2', fbeta_score(y_test, y_pred, pos_label=CONFIG['POS_CLASS'], beta= 2))\n",
    "   \n",
    "elif CONFIG['TYPE'] == 'CONTINUOUS':\n",
    "    y_pred = explainer.predict(x_test_bin)\n",
    "    print(f'R2 Score = {r2_score(y_test, y_pred)}')\n",
    "    print(f'Explained Variance = {explained_variance_score(y_test, y_pred)}')\n",
    "    print(f'Mean abs. error = {mean_absolute_error(y_test, y_pred)}')\n",
    "    print(f'Max error = {max_error(y_test, y_pred)}')\n",
    "    \n"
   ]
  },
  {
   "cell_type": "code",
   "execution_count": 12,
   "metadata": {},
   "outputs": [
    {
     "ename": "ValueError",
     "evalue": "DataFrame.dtypes for data must be int, float or bool.\n                Did not expect the data types in fields Date, Seasons, Holiday, Functioning Day",
     "output_type": "error",
     "traceback": [
      "\u001b[1;31m---------------------------------------------------------------------------\u001b[0m",
      "\u001b[1;31mValueError\u001b[0m                                Traceback (most recent call last)",
      "\u001b[1;32m<ipython-input-12-dae4277d158e>\u001b[0m in \u001b[0;36m<module>\u001b[1;34m\u001b[0m\n\u001b[0;32m     11\u001b[0m     \u001b[0mxgb_cl\u001b[0m \u001b[1;33m=\u001b[0m \u001b[0mxgb\u001b[0m\u001b[1;33m.\u001b[0m\u001b[0mXGBClassifier\u001b[0m\u001b[1;33m(\u001b[0m\u001b[1;33m)\u001b[0m\u001b[1;33m\u001b[0m\u001b[1;33m\u001b[0m\u001b[0m\n\u001b[0;32m     12\u001b[0m     \u001b[0mxgb_cl\u001b[0m\u001b[1;33m.\u001b[0m\u001b[0mfit\u001b[0m\u001b[1;33m(\u001b[0m\u001b[0mx_train_bin\u001b[0m\u001b[1;33m,\u001b[0m \u001b[0my_train\u001b[0m\u001b[1;33m)\u001b[0m\u001b[1;33m\u001b[0m\u001b[1;33m\u001b[0m\u001b[0m\n\u001b[1;32m---> 13\u001b[1;33m     \u001b[0mpreds\u001b[0m \u001b[1;33m=\u001b[0m \u001b[0mxgb_cl\u001b[0m\u001b[1;33m.\u001b[0m\u001b[0mpredict\u001b[0m\u001b[1;33m(\u001b[0m\u001b[0mx_test_bin\u001b[0m\u001b[1;33m)\u001b[0m\u001b[1;33m\u001b[0m\u001b[1;33m\u001b[0m\u001b[0m\n\u001b[0m\u001b[0;32m     14\u001b[0m     \u001b[0mprint\u001b[0m\u001b[1;33m(\u001b[0m\u001b[1;34m'Accuracy:'\u001b[0m\u001b[1;33m,\u001b[0m \u001b[0maccuracy_score\u001b[0m\u001b[1;33m(\u001b[0m\u001b[0my_test\u001b[0m\u001b[1;33m,\u001b[0m \u001b[0mpreds\u001b[0m\u001b[1;33m)\u001b[0m\u001b[1;33m)\u001b[0m\u001b[1;33m\u001b[0m\u001b[1;33m\u001b[0m\u001b[0m\n\u001b[0;32m     15\u001b[0m     \u001b[0mprint\u001b[0m\u001b[1;33m(\u001b[0m\u001b[1;34m'Balanced accuracy:'\u001b[0m\u001b[1;33m,\u001b[0m \u001b[0mbalanced_accuracy_score\u001b[0m\u001b[1;33m(\u001b[0m\u001b[0my_test\u001b[0m\u001b[1;33m,\u001b[0m \u001b[0mpreds\u001b[0m\u001b[1;33m)\u001b[0m\u001b[1;33m)\u001b[0m\u001b[1;33m\u001b[0m\u001b[1;33m\u001b[0m\u001b[0m\n",
      "\u001b[1;32m~\\AppData\\Local\\R-MINI~1\\envs\\aix360i_v2\\lib\\site-packages\\xgboost\\sklearn.py\u001b[0m in \u001b[0;36mpredict\u001b[1;34m(self, data, output_margin, ntree_limit, validate_features, base_margin)\u001b[0m\n\u001b[0;32m    878\u001b[0m         \"\"\"\n\u001b[0;32m    879\u001b[0m         test_dmatrix = DMatrix(data, base_margin=base_margin,\n\u001b[1;32m--> 880\u001b[1;33m                                missing=self.missing, nthread=self.n_jobs)\n\u001b[0m\u001b[0;32m    881\u001b[0m         \u001b[1;32mif\u001b[0m \u001b[0mntree_limit\u001b[0m \u001b[1;32mis\u001b[0m \u001b[1;32mNone\u001b[0m\u001b[1;33m:\u001b[0m\u001b[1;33m\u001b[0m\u001b[1;33m\u001b[0m\u001b[0m\n\u001b[0;32m    882\u001b[0m             \u001b[0mntree_limit\u001b[0m \u001b[1;33m=\u001b[0m \u001b[0mgetattr\u001b[0m\u001b[1;33m(\u001b[0m\u001b[0mself\u001b[0m\u001b[1;33m,\u001b[0m \u001b[1;34m\"best_ntree_limit\"\u001b[0m\u001b[1;33m,\u001b[0m \u001b[1;36m0\u001b[0m\u001b[1;33m)\u001b[0m\u001b[1;33m\u001b[0m\u001b[1;33m\u001b[0m\u001b[0m\n",
      "\u001b[1;32m~\\AppData\\Local\\R-MINI~1\\envs\\aix360i_v2\\lib\\site-packages\\xgboost\\core.py\u001b[0m in \u001b[0;36m__init__\u001b[1;34m(self, data, label, weight, base_margin, missing, silent, feature_names, feature_types, nthread)\u001b[0m\n\u001b[0;32m    457\u001b[0m \u001b[1;33m\u001b[0m\u001b[0m\n\u001b[0;32m    458\u001b[0m         data, feature_names, feature_types = _convert_dataframes(\n\u001b[1;32m--> 459\u001b[1;33m             \u001b[0mdata\u001b[0m\u001b[1;33m,\u001b[0m \u001b[0mfeature_names\u001b[0m\u001b[1;33m,\u001b[0m \u001b[0mfeature_types\u001b[0m\u001b[1;33m\u001b[0m\u001b[1;33m\u001b[0m\u001b[0m\n\u001b[0m\u001b[0;32m    460\u001b[0m         )\n\u001b[0;32m    461\u001b[0m \u001b[1;33m\u001b[0m\u001b[0m\n",
      "\u001b[1;32m~\\AppData\\Local\\R-MINI~1\\envs\\aix360i_v2\\lib\\site-packages\\xgboost\\core.py\u001b[0m in \u001b[0;36m_convert_dataframes\u001b[1;34m(data, feature_names, feature_types, meta, meta_type)\u001b[0m\n\u001b[0;32m    360\u001b[0m                                                             \u001b[0mfeature_types\u001b[0m\u001b[1;33m,\u001b[0m\u001b[1;33m\u001b[0m\u001b[1;33m\u001b[0m\u001b[0m\n\u001b[0;32m    361\u001b[0m                                                             \u001b[0mmeta\u001b[0m\u001b[1;33m,\u001b[0m\u001b[1;33m\u001b[0m\u001b[1;33m\u001b[0m\u001b[0m\n\u001b[1;32m--> 362\u001b[1;33m                                                             meta_type)\n\u001b[0m\u001b[0;32m    363\u001b[0m \u001b[1;33m\u001b[0m\u001b[0m\n\u001b[0;32m    364\u001b[0m     data, feature_names, feature_types = _maybe_dt_data(data,\n",
      "\u001b[1;32m~\\AppData\\Local\\R-MINI~1\\envs\\aix360i_v2\\lib\\site-packages\\xgboost\\core.py\u001b[0m in \u001b[0;36m_maybe_pandas_data\u001b[1;34m(data, feature_names, feature_types, meta, meta_type)\u001b[0m\n\u001b[0;32m    260\u001b[0m         msg = \"\"\"DataFrame.dtypes for data must be int, float or bool.\n\u001b[0;32m    261\u001b[0m                 Did not expect the data types in fields \"\"\"\n\u001b[1;32m--> 262\u001b[1;33m         \u001b[1;32mraise\u001b[0m \u001b[0mValueError\u001b[0m\u001b[1;33m(\u001b[0m\u001b[0mmsg\u001b[0m \u001b[1;33m+\u001b[0m \u001b[1;34m', '\u001b[0m\u001b[1;33m.\u001b[0m\u001b[0mjoin\u001b[0m\u001b[1;33m(\u001b[0m\u001b[0mbad_fields\u001b[0m\u001b[1;33m)\u001b[0m\u001b[1;33m)\u001b[0m\u001b[1;33m\u001b[0m\u001b[1;33m\u001b[0m\u001b[0m\n\u001b[0m\u001b[0;32m    263\u001b[0m \u001b[1;33m\u001b[0m\u001b[0m\n\u001b[0;32m    264\u001b[0m     \u001b[1;32mif\u001b[0m \u001b[0mfeature_names\u001b[0m \u001b[1;32mis\u001b[0m \u001b[1;32mNone\u001b[0m \u001b[1;32mand\u001b[0m \u001b[0mmeta\u001b[0m \u001b[1;32mis\u001b[0m \u001b[1;32mNone\u001b[0m\u001b[1;33m:\u001b[0m\u001b[1;33m\u001b[0m\u001b[1;33m\u001b[0m\u001b[0m\n",
      "\u001b[1;31mValueError\u001b[0m: DataFrame.dtypes for data must be int, float or bool.\n                Did not expect the data types in fields Date, Seasons, Holiday, Functioning Day"
     ]
    }
   ],
   "source": [
    "#XGboost for Binary Classification\n",
    "# storing the results in a list\n",
    "acc_list = []\n",
    "%store -r acc_list\n",
    "if CONFIG['TYPE'] == 'BINARY' and CONFIG['BASELINE'] == True:\n",
    "    \n",
    "    regex = re.compile(r\"\\[|\\]|<\", re.IGNORECASE)\n",
    "    x_train_bin.columns = [regex.sub(\"_\", str(col)) if any(x in str(col) for x in set(('[', ']', '<'))) else col for col in x_train_bin.columns.values]\n",
    "    x_test_bin.columns = [regex.sub(\"_\", str(col)) if any(x in str(col) for x in set(('[', ']', '<'))) else col for col in x_test_bin.columns.values]\n",
    "\n",
    "    xgb_cl = xgb.XGBClassifier()\n",
    "    xgb_cl.fit(x_train_bin, y_train)\n",
    "    preds = xgb_cl.predict(x_test_bin)     \n",
    "    print('Accuracy:', accuracy_score(y_test, preds))\n",
    "    print('Balanced accuracy:', balanced_accuracy_score(y_test, preds))\n",
    "    print('Precision:', precision_score(y_test, preds, pos_label=CONFIG['POS_CLASS']))\n",
    "    print('Recall:', recall_score(y_test, preds, pos_label=CONFIG['POS_CLASS']))\n",
    "    print('F-2', fbeta_score(y_test, preds, pos_label=CONFIG['POS_CLASS'], beta= 2))\n",
    "    acc_list.append(accuracy_score(y_test, preds))\n",
    "    %store acc_list"
   ]
  },
  {
   "cell_type": "code",
   "execution_count": 13,
   "metadata": {},
   "outputs": [
    {
     "name": "stdout",
     "output_type": "stream",
     "text": [
      "Rule count: 31\n",
      "Rule set:\n",
      "\n",
      "if {\n",
      "\t(Solar Radiation (MJ/m2) >= 0.35 and Functioning Day == Yes and Dew point temperature(C) <= 17.4 and Temperature(C) >= 21.4) or\n",
      "\t(Rainfall(mm) <= 0.1 and Dew point temperature(C) >= 9.1 and Dew point temperature(C) <= 10.1 and Temperature(C) <= 15.2 and Solar Radiation (MJ/m2) >= 0.06 and Temperature(C) >= 12.5) or\n",
      "\t(Temperature(C) <= 21.2 and Solar Radiation (MJ/m2) >= 1.16 and Functioning Day == Yes and Temperature(C) >= 13.6 and Dew point temperature(C) >= 7.7) or\n",
      "\t(Solar Radiation (MJ/m2) >= 0.01 and Seasons == Spring and Rainfall(mm) <= 0.0 and Dew point temperature(C) >= 9.4 and Dew point temperature(C) <= 13.2 and Temperature(C) >= 14.9) or\n",
      "\t(Temperature(C) >= 21.1 and Dew point temperature(C) <= 20.0 and Functioning Day == Yes and Temperature(C) <= 26.9 and Solar Radiation (MJ/m2) >= 0.82) or\n",
      "\t(Solar Radiation (MJ/m2) >= 0.02 and Solar Radiation (MJ/m2) <= 0.63 and Temperature(C) >= 28.5) or\n",
      "\t(Hour == 21 and Temperature(C) >= 10.7 and Functioning Day == Yes and Rainfall(mm) <= 0.0) or\n",
      "\t(Temperature(C) >= 3.3 and Hour == 18 and Solar Radiation (MJ/m2) >= 0.15 and Functioning Day == Yes) or\n",
      "\t(Temperature(C) >= 3.1 and Hour == 7 and Dew point temperature(C) <= 1.6 and Dew point temperature(C) >= -2.0) or\n",
      "\t(Rainfall(mm) <= 0.0 and Hour == 22 and Temperature(C) >= 12.5) or\n",
      "\t(Temperature(C) >= 29.8 and Hour == 15) or\n",
      "\t(Dew point temperature(C) <= 0.0 and Temperature(C) >= 7.3 and Solar Radiation (MJ/m2) <= 0.14 and Wind speed (m/s) >= 2.5) or\n",
      "\t(Hour == 19 and Temperature(C) >= 13.3 and Dew point temperature(C) <= 13.3 and Solar Radiation (MJ/m2) >= 0.03) or\n",
      "\t(Temperature(C) >= 3.8 and Dew point temperature(C) <= 0.0 and Hour == 20 and Seasons == Autumn) or\n",
      "\t(Hour == 9 and Temperature(C) >= 19.2 and Wind speed (m/s) <= 1.4 and Solar Radiation (MJ/m2) >= 0.06) or\n",
      "\t(Rainfall(mm) <= 0.0 and Functioning Day == Yes and Solar Radiation (MJ/m2) >= 0.01 and Hour == 17 and Temperature(C) >= 9.4) or\n",
      "\t(Hour == 20 and Temperature(C) >= 12.2 and Functioning Day == Yes and Rainfall(mm) <= 0.0) or\n",
      "\t(Temperature(C) >= 29.8 and Hour == 16) or\n",
      "\t(Rainfall(mm) <= 0.0 and Functioning Day == Yes and Hour == 0 and Temperature(C) >= 14.9) or\n",
      "\t(Dew point temperature(C) <= 1.5 and Seasons == Autumn and Temperature(C) >= 7.6 and Solar Radiation (MJ/m2) <= 0.0) or\n",
      "\t(Solar Radiation (MJ/m2) >= 0.29 and Functioning Day == Yes and Dew point temperature(C) <= 7.1 and Temperature(C) >= 10.4) or\n",
      "\t(Hour == 23 and Temperature(C) >= 26.2) or\n",
      "\t(Hour == 22 and Temperature(C) >= 11.7 and Dew point temperature(C) <= 14.1 and Functioning Day == Yes) or\n",
      "\t(Temperature(C) >= 29.6 and Temperature(C) <= 33.4 and Solar Radiation (MJ/m2) >= 2.45 and Dew point temperature(C) <= 22.5 and Dew point temperature(C) >= 20.3) or\n",
      "\t(Temperature(C) >= 5.8 and Rainfall(mm) <= 0.0 and Solar Radiation (MJ/m2) >= 0.01 and Functioning Day == Yes and Seasons == Autumn and Dew point temperature(C) <= 8.5) or\n",
      "\t(Temperature(C) >= 4.3 and Dew point temperature(C) <= -1.1 and Solar Radiation (MJ/m2) <= 0.11 and Date == 21/11/2018) or\n",
      "\t(Temperature(C) >= 10.2 and Hour == 23 and Rainfall(mm) <= 0.0 and Functioning Day == Yes) or\n",
      "\t(Hour == 1 and Temperature(C) >= 17.6) or\n",
      "\t(Rainfall(mm) <= 0.0 and Solar Radiation (MJ/m2) >= 0.03 and Seasons == Summer and Temperature(C) <= 29.5) or\n",
      "\t(Hour == 19 and Seasons == Autumn and Functioning Day == Yes) or\n",
      "\t(Hour == 8 and Solar Radiation (MJ/m2) >= 0.02 and Dew point temperature(C) <= 0.6 and Seasons == Autumn)\n",
      "} then 1\n",
      "else 0\n"
     ]
    }
   ],
   "source": [
    "if CONFIG['TYPE'] == 'CONTINUOUS':\n",
    "    explanation = explainer.explain()\n",
    "    print(explanation)\n",
    "elif CONFIG['ALGO'] == 'BRCG':\n",
    "    model = estimator.explain()\n",
    "    if not model['isCNF']:\n",
    "        print('Number of rules:', len(model['rules']))\n",
    "        print(model['rules'])\n",
    "elif CONFIG['ALGO'] == 'RIPPER':\n",
    "    print('Rule count: ' + str(sum([len(rules) for rules in estimator.rule_map.values()])))\n",
    "    print('Rule set:')\n",
    "    print(estimator.rule_list_to_pretty_string())\n",
    "elif CONFIG['ALGO'] == 'CORELS':\n",
    "    r_length = len(estimator.rl().rules)\n",
    "    print(\"Rule Length:\", r_length)\n",
    "    for i in range(len(estimator.rl().rules[0][\"antecedents\"])):\n",
    "        an = len(estimator.rl().rules[i][\"antecedents\"])\n",
    "        print(f\"Antecedents Length Rule {i}:\" , an)\n",
    "\n",
    "# uncomment the following line for a full optimized view of the model as data frame for GLRM rules\n",
    "# explanation.style"
   ]
  },
  {
   "cell_type": "code",
   "execution_count": null,
   "metadata": {},
   "outputs": [],
   "source": []
  }
 ],
 "metadata": {
  "interpreter": {
   "hash": "aee8b7b246df8f9039afb4144a1f6fd8d2ca17a180786b69acc140d282b71a49"
  },
  "kernelspec": {
   "display_name": "Python 3.7.9 64-bit",
   "name": "python3"
  },
  "language_info": {
   "codemirror_mode": {
    "name": "ipython",
    "version": 3
   },
   "file_extension": ".py",
   "mimetype": "text/x-python",
   "name": "python",
   "nbconvert_exporter": "python",
   "pygments_lexer": "ipython3",
   "version": "3.6.15"
  },
  "metadata": {
   "interpreter": {
    "hash": "e534e48711db4d1e1c48977d0d14ff85b1f16d41bcc4fdfd88268a329b3c9d66"
   }
  },
  "orig_nbformat": 2
 },
 "nbformat": 4,
 "nbformat_minor": 2
}

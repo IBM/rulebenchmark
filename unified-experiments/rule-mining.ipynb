{
 "cells": [
  {
   "cell_type": "markdown",
   "metadata": {},
   "source": [
    "# Generic Rule Induction Notebook\n",
    "\n",
    "Continuoulsy refined."
   ]
  },
  {
   "cell_type": "code",
   "execution_count": 1,
   "metadata": {},
   "outputs": [],
   "source": [
    "%store -z acc_list "
   ]
  },
  {
   "cell_type": "markdown",
   "metadata": {},
   "source": [
    "## README\n",
    "\n",
    "- GLRM needs to run in proper (conda) aix360 environment\n",
    "- BRCG runs with proper (conda) aix360 environment\n",
    "- Use aix360i environment for RIPPER"
   ]
  },
  {
   "cell_type": "markdown",
   "metadata": {},
   "source": [
    "### Configuration\n"
   ]
  },
  {
   "cell_type": "code",
   "execution_count": 2,
   "metadata": {},
   "outputs": [
    {
     "name": "stdout",
     "output_type": "stream",
     "text": [
      "[('CONFIG1', {'NAME': 'binary-churn-quantile-brcg', 'DATA_SET': '../data/churn_prob_out_35.csv', 'DATA_TYPES': {'Children': <class 'float'>, 'RatePlan': <class 'str'>}, 'DROP': ['Id', 'pChurn', '3_Class', '5_Class', 'is_test_set'], 'MODE': 'PREDICTIVE', 'TRAIN_TEST_SPLIT': 0.3, 'BINARIZER': 'QUANTILE', 'ALGO': 'BRCG', 'TARGET_LABEL': 'CHURN', 'TYPE': 'BINARY', 'EXAMPLE_FEATURE': 'Est Income', 'POS_CLASS': 'T', 'BASELINE': True, 'USECASE': None}), ('CONFIG2', {'NAME': 'continuous-churn', 'DATA_SET': '../data/churn_prob_out_35.csv', 'DATA_TYPES': {'Children': <class 'float'>, 'RatePlan': <class 'str'>}, 'DROP': ['Id', 'CHURN', '3_Class', '5_Class', 'is_test_set'], 'MODE': 'PREDICTIVE', 'TRAIN_TEST_SPLIT': 0.3, 'BINARIZER': 'QUANTILE', 'ALGO': 'GLRM', 'TARGET_LABEL': 'pChurn', 'TYPE': 'CONTINUOUS', 'EXAMPLE_FEATURE': 'Est Income', 'POS_CLASS': None, 'BASELINE': True, 'USECASE': None}), ('CONFIG3', {'NAME': 'bike-demand', 'DATA_SET': '../data/SeoulBikeData.csv', 'DATA_TYPES': {'Rented Bike Count': <class 'float'>, 'Hour': <class 'float'>, 'Humidity': <class 'float'>, 'Visibility (10m)': <class 'float'>, 'RatePlan': <class 'str'>}, 'DROP': ['Date'], 'MODE': 'PREDICTIVE', 'TRAIN_TEST_SPLIT': 0.3, 'BINARIZER': 'QUANTILE', 'ALGO': 'GLRM', 'TARGET_LABEL': 'Rented Bike Count', 'TYPE': 'CONTINUOUS', 'EXAMPLE_FEATURE': 'Dew point temperature(C)', 'POS_CLASS': None, 'BASELINE': True, 'USECASE': None}), ('CONFIG4', {'NAME': 'heloc', 'DATA_SET': '../data/heloc.csv', 'DATA_TYPES': {}, 'DROP': ['RiskPerformance'], 'MODE': 'PREDICTIVE', 'TRAIN_TEST_SPLIT': 0.3, 'BINARIZER': 'QUANTILE', 'ALGO': 'GLRM', 'TARGET_LABEL': 'Probabilities', 'TYPE': 'CONTINUOUS', 'EXAMPLE_FEATURE': 'ExternalRiskEstimate', 'POS_CLASS': None, 'BASELINE': True, 'USECASE': None}), ('CONFIG5', {'NAME': 'taiwan-credit', 'DATA_SET': '../data/TaiwanCreditData.csv', 'DATA_TYPES': {}, 'DROP': ['DefaultNextMonth'], 'MODE': 'PREDICTIVE', 'TRAIN_TEST_SPLIT': 0.3, 'BINARIZER': 'QUANTILE', 'ALGO': 'GLRM', 'TARGET_LABEL': 'Probabilities', 'TYPE': 'CONTINUOUS', 'EXAMPLE_FEATURE': 'Amount', 'POS_CLASS': None, 'BASELINE': True, 'USECASE': None}), ('CONFIG6', {'NAME': 'german-credit-brcg', 'DATA_SET': '../data/german_credit_codiert.csv', 'DATA_TYPES': {}, 'DROP': ['Index'], 'MODE': 'PREDICTIVE', 'TRAIN_TEST_SPLIT': 0.3, 'BINARIZER': 'QUANTILE', 'ALGO': 'CORELS', 'TARGET_LABEL': 'Target', 'TYPE': 'BINARY', 'EXAMPLE_FEATURE': 'Credit Amount', 'POS_CLASS': 0, 'BASELINE': True, 'USECASE': None}), ('CONFIG7', {'NAME': 'german-credit-ripper', 'DATA_SET': '../data/german_credit_codiert.csv', 'DATA_TYPES': {}, 'DROP': ['Index'], 'MODE': 'PREDICTIVE', 'TRAIN_TEST_SPLIT': 0.3, 'BINARIZER': 'NATIVE', 'ALGO': 'RIPPER', 'TARGET_LABEL': 'Target', 'TYPE': 'BINARY', 'EXAMPLE_FEATURE': 'Credit Amount', 'POS_CLASS': 0, 'BASELINE': True, 'USECASE': None}), ('CONFIG8', {'NAME': 'binary-churn-ripper', 'DATA_SET': '../data/churn_prob_out_35.csv', 'DATA_TYPES': {'Children': <class 'float'>, 'RatePlan': <class 'str'>}, 'DROP': ['Id', 'pChurn', '3_Class', '5_Class', 'is_test_set'], 'MODE': 'PREDICTIVE', 'TRAIN_TEST_SPLIT': 0.3, 'BINARIZER': 'QUANTILE', 'ALGO': 'RIPPER', 'TARGET_LABEL': 'CHURN', 'TYPE': 'BINARY', 'EXAMPLE_FEATURE': 'Est Income', 'POS_CLASS': 'T', 'BASELINE': True, 'USECASE': None}), ('CONFIG9', {'NAME': 'compas-ripper', 'DATA_SET': '../data/compas.csv', 'DATA_TYPES': {}, 'DROP': [], 'MODE': 'PREDICTIVE', 'TRAIN_TEST_SPLIT': 0.3, 'BINARIZER': 'QUANTILE', 'ALGO': 'RIPPER', 'TARGET_LABEL': 'recidivate-within-two-years', 'TYPE': 'BINARY', 'EXAMPLE_FEATURE': 'current-charge-degree', 'POS_CLASS': 0, 'BASELINE': True, 'USECASE': None}), ('CONFIG10', {'NAME': 'mushroom', 'DATA_SET': '../data/mushroom.csv', 'DATA_TYPES': {}, 'DROP': [], 'MODE': 'PREDICTIVE', 'TRAIN_TEST_SPLIT': 0.3, 'BINARIZER': 'NATIVE', 'ALGO': 'RIPPER', 'TARGET_LABEL': 'Poisonous/Edible', 'TYPE': 'BINARY', 'EXAMPLE_FEATURE': 'Cap-color', 'POS_CLASS': 'e', 'BASELINE': True, 'USECASE': None}), ('CONFIG11', {'NAME': 'fraud_detection', 'DATA_SET': '../data/fraud_detection.csv', 'DATA_TYPES': {}, 'DROP': [], 'MODE': 'PREDICTIVE', 'TRAIN_TEST_SPLIT': 0.3, 'BINARIZER': 'NATIVE', 'ALGO': 'RIPPER', 'TARGET_LABEL': 'Class', 'TYPE': 'BINARY', 'EXAMPLE_FEATURE': 'V6', 'POS_CLASS': 1, 'BASELINE': True, 'USECASE': None}), ('CONFIG12', {'NAME': 'taiwan_binary', 'DATA_SET': '../data/TaiwanCreditData.csv', 'DATA_TYPES': {}, 'DROP': ['Probabilities'], 'MODE': 'PREDICTIVE', 'TRAIN_TEST_SPLIT': 0.3, 'BINARIZER': 'QUANTILE', 'ALGO': 'BRCG', 'TARGET_LABEL': 'DefaultNextMonth', 'TYPE': 'BINARY', 'EXAMPLE_FEATURE': 'PayAmount_Apr', 'POS_CLASS': 1, 'BASELINE': True, 'USECASE': None}), ('CONFIG13', {'NAME': 'heloc', 'DATA_SET': '../data/heloc.csv', 'DATA_TYPES': {}, 'DROP': ['Probabilities'], 'MODE': 'PREDICTIVE', 'TRAIN_TEST_SPLIT': 0.3, 'BINARIZER': 'QUANTILE', 'ALGO': 'CORELS', 'TARGET_LABEL': 'RiskPerformance', 'TYPE': 'BINARY', 'EXAMPLE_FEATURE': 'ExternalRiskEstimate', 'POS_CLASS': 'Good', 'BASELINE': True, 'USECASE': None}), ('CONFIG14', {'NAME': 'binary_bike', 'DATA_SET': '../data/binary_bike.csv', 'DATA_TYPES': {}, 'DROP': ['Rented Bike Count', 'Unnamed: 0'], 'MODE': 'PREDICTIVE', 'TRAIN_TEST_SPLIT': 0.3, 'BINARIZER': 'QUANTILE', 'ALGO': 'BRCG', 'TARGET_LABEL': 'Target', 'TYPE': 'BINARY', 'EXAMPLE_FEATURE': 'Target', 'POS_CLASS': 1, 'BASELINE': True, 'USECASE': None}), ('CONFIG15', {'NAME': 'miniloan', 'DATA_SET': '../data/miniloan-decisions-100K.csv', 'DATA_TYPES': {}, 'DROP': ['Unnamed: 0'], 'MODE': 'PREDICTIVE', 'TRAIN_TEST_SPLIT': 0.3, 'BINARIZER': 'QUANTILE', 'ALGO': 'BRCG', 'TARGET_LABEL': 'approval', 'TYPE': 'BINARY', 'EXAMPLE_FEATURE': 'income', 'POS_CLASS': False, 'BASELINE': True, 'USECASE': None})]\n",
      "Proceed with configuration: miniloan\n"
     ]
    }
   ],
   "source": [
    "from config import config_dict\n",
    "\n",
    "# document config order\n",
    "CONFIG = config_dict[\"CONFIG15\"]\n",
    "print('Proceed with configuration:', CONFIG[\"NAME\"])"
   ]
  },
  {
   "cell_type": "code",
   "execution_count": 3,
   "metadata": {},
   "outputs": [],
   "source": [
    "import pandas as pd\n",
    "import numpy as np\n",
    "import seaborn as sns\n",
    "# import os\n",
    "from sklearn.model_selection import train_test_split #, GridSearchCV\n",
    "from sklearn.metrics import matthews_corrcoef,fbeta_score,confusion_matrix,f1_score,precision_score, recall_score, accuracy_score, balanced_accuracy_score, confusion_matrix, r2_score, explained_variance_score, mean_absolute_error, max_error\n",
    "from sklearn.ensemble import GradientBoostingRegressor\n",
    "import xgboost as xgb\n",
    "import wittgenstein as lw\n",
    "import time\n",
    "import warnings\n",
    "import re\n",
    "\n",
    "from aix360.algorithms.rbm import BRCGExplainer, BooleanRuleCG, GLRMExplainer, LinearRuleRegression\n",
    "if CONFIG['BINARIZER'] == 'QUANTILE':\n",
    "    from aix360.algorithms.rbm import FeatureBinarizer\n",
    "elif CONFIG['BINARIZER'] == 'TREES':\n",
    "    from aix360.algorithms.rbm import FeatureBinarizerFromTrees\n",
    "if CONFIG['ALGO'] == 'RIPPER':\n",
    "    from aix360i.algorithms.rule_induction.ripper import Ripper\n",
    "if CONFIG['ALGO'] == 'CORELS':\n",
    "    from corels import *\n",
    "\n",
    "\n",
    "\n",
    "# from explainer import Explainer\n",
    "\n",
    "# TODO create reference for performance using boosted trees\n",
    "\n",
    "# import wittgenstein as lw\n",
    "# from clf_utils import make_tree_dataset, make_forest, score_forest\n",
    "# from sklearn.tree import DecisionTreeClassifier\n",
    "# from sklearn.ensemble import RandomForestClassifier\n",
    "# from sklearn.preprocessing import OneHotEncoder, LabelEncoder\n"
   ]
  },
  {
   "cell_type": "markdown",
   "metadata": {},
   "source": [
    "### Data"
   ]
  },
  {
   "cell_type": "code",
   "execution_count": 4,
   "metadata": {},
   "outputs": [
    {
     "name": "stdout",
     "output_type": "stream",
     "text": [
      "<class 'pandas.core.frame.DataFrame'>\n",
      "RangeIndex: 100000 entries, 0 to 99999\n",
      "Data columns (total 8 columns):\n",
      " #   Column               Non-Null Count   Dtype  \n",
      "---  ------               --------------   -----  \n",
      " 0   name                 100000 non-null  object \n",
      " 1   creditScore          100000 non-null  int64  \n",
      " 2   income               100000 non-null  int64  \n",
      " 3   loanAmount           100000 non-null  int64  \n",
      " 4   monthDuration        100000 non-null  int64  \n",
      " 5   rate                 100000 non-null  float64\n",
      " 6   approval             100000 non-null  int64  \n",
      " 7   yearlyReimbursement  100000 non-null  int64  \n",
      "dtypes: float64(1), int64(6), object(1)\n",
      "memory usage: 6.1+ MB\n"
     ]
    },
    {
     "data": {
      "text/plain": [
       "0    78046\n",
       "1    21954\n",
       "Name: approval, dtype: int64"
      ]
     },
     "execution_count": 4,
     "metadata": {},
     "output_type": "execute_result"
    }
   ],
   "source": [
    "def convert(char):\n",
    "    if char == CONFIG['POS_CLASS']:\n",
    "        return 1\n",
    "    else:\n",
    "        return 0\n",
    "\n",
    "df = pd.read_csv(CONFIG['DATA_SET'],dtype=CONFIG['DATA_TYPES'])\n",
    "df = df.drop(columns=CONFIG['DROP'])\n",
    "if CONFIG['ALGO'] == 'BRCG' or CONFIG['ALGO'] == 'CORELS' :\n",
    "    df[CONFIG['TARGET_LABEL']] = df[CONFIG['TARGET_LABEL']].map(convert)\n",
    "    CONFIG['POS_CLASS'] = 1 \n",
    "    # maybe this could also be achieved through explicit binarization of target vector\n",
    "df.info()\n",
    "df[CONFIG['TARGET_LABEL']].value_counts()"
   ]
  },
  {
   "cell_type": "code",
   "execution_count": 6,
   "metadata": {},
   "outputs": [
    {
     "name": "stdout",
     "output_type": "stream",
     "text": [
      "0    78046\n",
      "1    21954\n",
      "Name: approval, dtype: int64\n"
     ]
    }
   ],
   "source": [
    "if CONFIG['TYPE'] == 'BINARY':\n",
    "    print(df[CONFIG['TARGET_LABEL']].value_counts())\n",
    "elif CONFIG['TYPE'] == 'CONTINUOUS':\n",
    "    df[CONFIG['TARGET_LABEL']].describe()\n",
    "else:\n",
    "    print('Unrecognized problem type')"
   ]
  },
  {
   "cell_type": "markdown",
   "metadata": {},
   "source": [
    "### Train, Test Split"
   ]
  },
  {
   "cell_type": "code",
   "execution_count": 7,
   "metadata": {},
   "outputs": [
    {
     "name": "stdout",
     "output_type": "stream",
     "text": [
      "Training: (70000, 7) (70000,)\n",
      "Test: (30000, 7) (30000,)\n"
     ]
    }
   ],
   "source": [
    "if CONFIG['TRAIN_TEST_SPLIT'] == 'FIXED':\n",
    "    if CONFIG['MODE'] == 'PREDICTIVE':\n",
    "        train = df[df['is_test_set'] == False]\n",
    "        test = df[df['is_test_set'] == True]\n",
    "    elif CONFIG['MODE'] == 'DESCRIPTIVE':\n",
    "        train = df\n",
    "        test = df\n",
    "\n",
    "    train = train.drop(columns=['is_test_set'])\n",
    "    test = test.drop(columns=['is_test_set'])\n",
    "\n",
    "    y_train = train[CONFIG['TARGET_LABEL']]\n",
    "    x_train = train.drop(columns=[CONFIG['TARGET_LABEL']])\n",
    "\n",
    "    y_test = test[CONFIG['TARGET_LABEL']]\n",
    "    x_test = test.drop(columns=[CONFIG['TARGET_LABEL']])\n",
    "else:\n",
    "    x_train, x_test, y_train, y_test = train_test_split(df.drop(columns=[CONFIG['TARGET_LABEL']]), df[CONFIG['TARGET_LABEL']], test_size=CONFIG['TRAIN_TEST_SPLIT'], random_state=42)\n",
    "\n",
    "print('Training:', x_train.shape, y_train.shape)\n",
    "print('Test:', x_test.shape, y_test.shape)"
   ]
  },
  {
   "cell_type": "markdown",
   "metadata": {},
   "source": [
    "### Reference Performance"
   ]
  },
  {
   "cell_type": "code",
   "execution_count": 8,
   "metadata": {},
   "outputs": [],
   "source": [
    "if CONFIG['TYPE'] == 'CONTINUOUS':\n",
    "    print('needs prior encoding of categoricals')\n",
    "    # gbr = GradientBoostingRegressor(n_estimators=500, random_state=0)\n",
    "    # gbr.fit(x_train, y_train)\n",
    "    # # print('Training R^2:', r2_score(yTrain, gbr.predict(dfTrain)))\n",
    "    # print('Test R^2:', r2_score(y_test, gbr.predict(x_test)))"
   ]
  },
  {
   "cell_type": "markdown",
   "metadata": {},
   "source": [
    "### Binarization"
   ]
  },
  {
   "cell_type": "code",
   "execution_count": 9,
   "metadata": {},
   "outputs": [
    {
     "name": "stdout",
     "output_type": "stream",
     "text": [
      "<class 'pandas.core.frame.DataFrame'>\n",
      "Int64Index: 70000 entries, 76513 to 15795\n",
      "Data columns (total 55 columns):\n",
      " #   Column                                         Non-Null Count  Dtype\n",
      "---  ------                                         --------------  -----\n",
      " 0   (name, , )                                     70000 non-null  int64\n",
      " 1   (creditScore, <=, 355.0)                       70000 non-null  int32\n",
      " 2   (creditScore, <=, 411.0)                       70000 non-null  int32\n",
      " 3   (creditScore, <=, 466.0)                       70000 non-null  int32\n",
      " 4   (creditScore, <=, 521.0)                       70000 non-null  int32\n",
      " 5   (creditScore, <=, 577.0)                       70000 non-null  int32\n",
      " 6   (creditScore, <=, 632.0)                       70000 non-null  int32\n",
      " 7   (creditScore, <=, 686.0)                       70000 non-null  int32\n",
      " 8   (creditScore, <=, 740.0)                       70000 non-null  int32\n",
      " 9   (creditScore, <=, 795.0)                       70000 non-null  int32\n",
      " 10  (income, <=, 29732.600000000002)               70000 non-null  int32\n",
      " 11  (income, <=, 60221.80000000001)                70000 non-null  int32\n",
      " 12  (income, <=, 89761.40000000001)                70000 non-null  int32\n",
      " 13  (income, <=, 119816.6)                         70000 non-null  int32\n",
      " 14  (income, <=, 149611.5)                         70000 non-null  int32\n",
      " 15  (income, <=, 179679.4)                         70000 non-null  int32\n",
      " 16  (income, <=, 209852.49999999997)               70000 non-null  int32\n",
      " 17  (income, <=, 240257.4)                         70000 non-null  int32\n",
      " 18  (income, <=, 270067.4)                         70000 non-null  int32\n",
      " 19  (loanAmount, <=, 201025.40000000002)           70000 non-null  int32\n",
      " 20  (loanAmount, <=, 397866.4)                     70000 non-null  int32\n",
      " 21  (loanAmount, <=, 597667.7000000001)            70000 non-null  int32\n",
      " 22  (loanAmount, <=, 792951.2)                     70000 non-null  int32\n",
      " 23  (loanAmount, <=, 997234.5)                     70000 non-null  int32\n",
      " 24  (loanAmount, <=, 1197818.4)                    70000 non-null  int32\n",
      " 25  (loanAmount, <=, 1397730.2999999998)           70000 non-null  int32\n",
      " 26  (loanAmount, <=, 1596587.8000000003)           70000 non-null  int32\n",
      " 27  (loanAmount, <=, 1795843.7)                    70000 non-null  int32\n",
      " 28  (monthDuration, <=, 37.0)                      70000 non-null  int32\n",
      " 29  (monthDuration, <=, 73.0)                      70000 non-null  int32\n",
      " 30  (monthDuration, <=, 109.0)                     70000 non-null  int32\n",
      " 31  (monthDuration, <=, 144.0)                     70000 non-null  int32\n",
      " 32  (monthDuration, <=, 180.0)                     70000 non-null  int32\n",
      " 33  (monthDuration, <=, 215.0)                     70000 non-null  int32\n",
      " 34  (monthDuration, <=, 251.0)                     70000 non-null  int32\n",
      " 35  (monthDuration, <=, 287.0)                     70000 non-null  int32\n",
      " 36  (monthDuration, <=, 323.0)                     70000 non-null  int32\n",
      " 37  (rate, <=, 0.03296988737581417)                70000 non-null  int32\n",
      " 38  (rate, <=, 0.03596682884321957)                70000 non-null  int32\n",
      " 39  (rate, <=, 0.03895502607737119)                70000 non-null  int32\n",
      " 40  (rate, <=, 0.04201487088411464)                70000 non-null  int32\n",
      " 41  (rate, <=, 0.04503550865559598)                70000 non-null  int32\n",
      " 42  (rate, <=, 0.04804395399163669)                70000 non-null  int32\n",
      " 43  (rate, <=, 0.05109686606599059)                70000 non-null  int32\n",
      " 44  (rate, <=, 0.05403282017744088)                70000 non-null  int32\n",
      " 45  (rate, <=, 0.057022398410936835)               70000 non-null  int32\n",
      " 46  (yearlyReimbursement, <=, 19616.800000000003)  70000 non-null  int32\n",
      " 47  (yearlyReimbursement, <=, 39038.0)             70000 non-null  int32\n",
      " 48  (yearlyReimbursement, <=, 58746.200000000026)  70000 non-null  int32\n",
      " 49  (yearlyReimbursement, <=, 78681.0)             70000 non-null  int32\n",
      " 50  (yearlyReimbursement, <=, 98610.0)             70000 non-null  int32\n",
      " 51  (yearlyReimbursement, <=, 119176.80000000002)  70000 non-null  int32\n",
      " 52  (yearlyReimbursement, <=, 145325.9)            70000 non-null  int32\n",
      " 53  (yearlyReimbursement, <=, 196541.00000000003)  70000 non-null  int32\n",
      " 54  (yearlyReimbursement, <=, 348566.9999999999)   70000 non-null  int32\n",
      "dtypes: int32(54), int64(1)\n",
      "memory usage: 15.5 MB\n"
     ]
    },
    {
     "data": {
      "text/html": [
       "<div>\n",
       "<style scoped>\n",
       "    .dataframe tbody tr th:only-of-type {\n",
       "        vertical-align: middle;\n",
       "    }\n",
       "\n",
       "    .dataframe tbody tr th {\n",
       "        vertical-align: top;\n",
       "    }\n",
       "\n",
       "    .dataframe thead tr th {\n",
       "        text-align: left;\n",
       "    }\n",
       "</style>\n",
       "<table border=\"1\" class=\"dataframe\">\n",
       "  <thead>\n",
       "    <tr>\n",
       "      <th>feature</th>\n",
       "      <th>name</th>\n",
       "      <th colspan=\"9\" halign=\"left\">creditScore</th>\n",
       "      <th>...</th>\n",
       "      <th>rate</th>\n",
       "      <th colspan=\"9\" halign=\"left\">yearlyReimbursement</th>\n",
       "    </tr>\n",
       "    <tr>\n",
       "      <th>operation</th>\n",
       "      <th></th>\n",
       "      <th colspan=\"9\" halign=\"left\">&lt;=</th>\n",
       "      <th>...</th>\n",
       "      <th>&lt;=</th>\n",
       "      <th colspan=\"9\" halign=\"left\">&lt;=</th>\n",
       "    </tr>\n",
       "    <tr>\n",
       "      <th>value</th>\n",
       "      <th></th>\n",
       "      <th>355.0</th>\n",
       "      <th>411.0</th>\n",
       "      <th>466.0</th>\n",
       "      <th>521.0</th>\n",
       "      <th>577.0</th>\n",
       "      <th>632.0</th>\n",
       "      <th>686.0</th>\n",
       "      <th>740.0</th>\n",
       "      <th>795.0</th>\n",
       "      <th>...</th>\n",
       "      <th>0.057022398410936835</th>\n",
       "      <th>19616.800000000003</th>\n",
       "      <th>39038.0</th>\n",
       "      <th>58746.200000000026</th>\n",
       "      <th>78681.0</th>\n",
       "      <th>98610.0</th>\n",
       "      <th>119176.80000000002</th>\n",
       "      <th>145325.9</th>\n",
       "      <th>196541.00000000003</th>\n",
       "      <th>348566.9999999999</th>\n",
       "    </tr>\n",
       "  </thead>\n",
       "  <tbody>\n",
       "    <tr>\n",
       "      <th>76513</th>\n",
       "      <td>0</td>\n",
       "      <td>1</td>\n",
       "      <td>1</td>\n",
       "      <td>1</td>\n",
       "      <td>1</td>\n",
       "      <td>1</td>\n",
       "      <td>1</td>\n",
       "      <td>1</td>\n",
       "      <td>1</td>\n",
       "      <td>1</td>\n",
       "      <td>...</td>\n",
       "      <td>0</td>\n",
       "      <td>0</td>\n",
       "      <td>0</td>\n",
       "      <td>0</td>\n",
       "      <td>0</td>\n",
       "      <td>0</td>\n",
       "      <td>0</td>\n",
       "      <td>0</td>\n",
       "      <td>1</td>\n",
       "      <td>1</td>\n",
       "    </tr>\n",
       "    <tr>\n",
       "      <th>60406</th>\n",
       "      <td>0</td>\n",
       "      <td>0</td>\n",
       "      <td>0</td>\n",
       "      <td>0</td>\n",
       "      <td>0</td>\n",
       "      <td>0</td>\n",
       "      <td>0</td>\n",
       "      <td>0</td>\n",
       "      <td>0</td>\n",
       "      <td>1</td>\n",
       "      <td>...</td>\n",
       "      <td>1</td>\n",
       "      <td>1</td>\n",
       "      <td>1</td>\n",
       "      <td>1</td>\n",
       "      <td>1</td>\n",
       "      <td>1</td>\n",
       "      <td>1</td>\n",
       "      <td>1</td>\n",
       "      <td>1</td>\n",
       "      <td>1</td>\n",
       "    </tr>\n",
       "    <tr>\n",
       "      <th>27322</th>\n",
       "      <td>0</td>\n",
       "      <td>0</td>\n",
       "      <td>0</td>\n",
       "      <td>1</td>\n",
       "      <td>1</td>\n",
       "      <td>1</td>\n",
       "      <td>1</td>\n",
       "      <td>1</td>\n",
       "      <td>1</td>\n",
       "      <td>1</td>\n",
       "      <td>...</td>\n",
       "      <td>0</td>\n",
       "      <td>0</td>\n",
       "      <td>0</td>\n",
       "      <td>0</td>\n",
       "      <td>0</td>\n",
       "      <td>0</td>\n",
       "      <td>0</td>\n",
       "      <td>1</td>\n",
       "      <td>1</td>\n",
       "      <td>1</td>\n",
       "    </tr>\n",
       "    <tr>\n",
       "      <th>53699</th>\n",
       "      <td>0</td>\n",
       "      <td>0</td>\n",
       "      <td>0</td>\n",
       "      <td>0</td>\n",
       "      <td>0</td>\n",
       "      <td>1</td>\n",
       "      <td>1</td>\n",
       "      <td>1</td>\n",
       "      <td>1</td>\n",
       "      <td>1</td>\n",
       "      <td>...</td>\n",
       "      <td>1</td>\n",
       "      <td>0</td>\n",
       "      <td>0</td>\n",
       "      <td>1</td>\n",
       "      <td>1</td>\n",
       "      <td>1</td>\n",
       "      <td>1</td>\n",
       "      <td>1</td>\n",
       "      <td>1</td>\n",
       "      <td>1</td>\n",
       "    </tr>\n",
       "    <tr>\n",
       "      <th>65412</th>\n",
       "      <td>0</td>\n",
       "      <td>0</td>\n",
       "      <td>0</td>\n",
       "      <td>0</td>\n",
       "      <td>0</td>\n",
       "      <td>0</td>\n",
       "      <td>0</td>\n",
       "      <td>1</td>\n",
       "      <td>1</td>\n",
       "      <td>1</td>\n",
       "      <td>...</td>\n",
       "      <td>1</td>\n",
       "      <td>0</td>\n",
       "      <td>0</td>\n",
       "      <td>0</td>\n",
       "      <td>1</td>\n",
       "      <td>1</td>\n",
       "      <td>1</td>\n",
       "      <td>1</td>\n",
       "      <td>1</td>\n",
       "      <td>1</td>\n",
       "    </tr>\n",
       "  </tbody>\n",
       "</table>\n",
       "<p>5 rows × 55 columns</p>\n",
       "</div>"
      ],
      "text/plain": [
       "feature   name creditScore                                                  \\\n",
       "operation               <=                                                   \n",
       "value                355.0 411.0 466.0 521.0 577.0 632.0 686.0 740.0 795.0   \n",
       "76513        0           1     1     1     1     1     1     1     1     1   \n",
       "60406        0           0     0     0     0     0     0     0     0     1   \n",
       "27322        0           0     0     1     1     1     1     1     1     1   \n",
       "53699        0           0     0     0     0     1     1     1     1     1   \n",
       "65412        0           0     0     0     0     0     0     1     1     1   \n",
       "\n",
       "feature    ...                 rate yearlyReimbursement          \\\n",
       "operation  ...                   <=                  <=           \n",
       "value      ... 0.057022398410936835  19616.800000000003 39038.0   \n",
       "76513      ...                    0                   0       0   \n",
       "60406      ...                    1                   1       1   \n",
       "27322      ...                    0                   0       0   \n",
       "53699      ...                    1                   0       0   \n",
       "65412      ...                    1                   0       0   \n",
       "\n",
       "feature                                                                   \\\n",
       "operation                                                                  \n",
       "value     58746.200000000026 78681.0 98610.0 119176.80000000002 145325.9   \n",
       "76513                      0       0       0                  0        0   \n",
       "60406                      1       1       1                  1        1   \n",
       "27322                      0       0       0                  0        1   \n",
       "53699                      1       1       1                  1        1   \n",
       "65412                      0       1       1                  1        1   \n",
       "\n",
       "feature                                         \n",
       "operation                                       \n",
       "value     196541.00000000003 348566.9999999999  \n",
       "76513                      1                 1  \n",
       "60406                      1                 1  \n",
       "27322                      1                 1  \n",
       "53699                      1                 1  \n",
       "65412                      1                 1  \n",
       "\n",
       "[5 rows x 55 columns]"
      ]
     },
     "execution_count": 9,
     "metadata": {},
     "output_type": "execute_result"
    }
   ],
   "source": [
    "if CONFIG['BINARIZER'] == 'TREES':\n",
    "    binarizer =  FeatureBinarizerFromTrees(negations=True, randomState=42) # FeatureBinarizer(negations=False), FeatureBinarizerFromTrees(negations=True, randomState=42)\n",
    "    binarizer = binarizer.fit(x_train, y_train)\n",
    "    x_train_bin = binarizer.transform(x_train) #  x_train_bin = binarizer.fit_transform(x_train)\n",
    "    x_test_bin = binarizer.transform(x_test) #  X_fb = self.fb.fit_transform(X_train)\n",
    "elif CONFIG['BINARIZER'] == 'QUANTILE':\n",
    "    binarizer =  FeatureBinarizer(numThresh=9,negations=False) # FeatureBinarizer(negations=False), FeatureBinarizerFromTrees(negations=True, randomState=42)\n",
    "    binarizer = binarizer.fit(x_train)\n",
    "    x_train_bin = binarizer.transform(x_train) #  x_train_bin = binarizer.fit_transform(x_train)\n",
    "    x_test_bin = binarizer.transform(x_test) #  X_fb = self.fb.fit_transform(X_train)  \n",
    "elif CONFIG['BINARIZER'] == 'NATIVE':\n",
    "    x_train_bin = x_train\n",
    "    x_test_bin = x_test\n",
    "else:\n",
    "    print('UNRECOGNIZED BINARIZER')\n",
    "\n",
    "x_train_bin.info() # verbose=True\n",
    "x_train_bin.head()\n",
    "#x_train_bin[CONFIG['EXAMPLE_FEATURE']][:10]\n"
   ]
  },
  {
   "cell_type": "markdown",
   "metadata": {},
   "source": [
    "### Rule Induction"
   ]
  },
  {
   "cell_type": "code",
   "execution_count": 10,
   "metadata": {},
   "outputs": [
    {
     "name": "stdout",
     "output_type": "stream",
     "text": [
      "Starting training for BRCG\n",
      "Learning DNF rule with complexity parameters lambda0=0.001, lambda1=0.001\n",
      "Initial LP solved\n",
      "Iteration: 1, Objective: 0.1091\n",
      "Iteration: 2, Objective: 0.1091\n",
      "Training time: 7.616997718811035\n"
     ]
    }
   ],
   "source": [
    "start_time = time.time()\n",
    "print('Starting training for', CONFIG['ALGO'])\n",
    "\n",
    "if CONFIG['ALGO'] == 'BRCG':\n",
    "    estimator = BooleanRuleCG() # Explainer()\n",
    "    # estimator.train(x_train, y_train)\n",
    "    with warnings.catch_warnings():\n",
    "        warnings.simplefilter(\"ignore\")\n",
    "        estimator.fit(x_train_bin, y_train)\n",
    "elif CONFIG['ALGO'] == 'RIPPER':\n",
    "    estimator = Ripper()\n",
    "    estimator.fit(x_train_bin, y_train, pos_value=CONFIG['POS_CLASS'])\n",
    "elif CONFIG['ALGO'] == 'Witt_RIPPER':\n",
    "    estimator = lw.RIPPER()\n",
    "    estimator.fit(x_train_bin, y_train,class_feat=CONFIG[\"TARGET_LABEL\"] , pos_value=CONFIG['POS_CLASS'])\n",
    "elif CONFIG['ALGO'] == 'GLRM':\n",
    "    linear_model = LinearRuleRegression() # lambda0=0.0005,lambda1=0.0001\n",
    "    explainer = GLRMExplainer(linear_model)\n",
    "    explainer.fit(x_train_bin, y_train)\n",
    "elif CONFIG['ALGO'] == 'CORELS':\n",
    "    estimator = CorelsClassifier(n_iter=10000, \n",
    "                     max_card=2, # feautres per statement\n",
    "                     c = 0.0001 # Higher values penalise longer rulelists\n",
    "                    )\n",
    "    estimator.fit(x_train_bin, y_train , prediction_name = CONFIG[\"TARGET_LABEL\"])\n",
    "    \n",
    "else:\n",
    "    print('Unrecognized algorithm:', CONFIG['ALGO'])\n",
    "\n",
    "end_time = time.time()\n",
    "print('Training time: ' + str(end_time - start_time))"
   ]
  },
  {
   "cell_type": "code",
   "execution_count": 12,
   "metadata": {},
   "outputs": [
    {
     "data": {
      "text/plain": [
       "1"
      ]
     },
     "execution_count": 12,
     "metadata": {},
     "output_type": "execute_result"
    }
   ],
   "source": [
    "CONFIG['POS_CLASS']"
   ]
  },
  {
   "cell_type": "markdown",
   "metadata": {},
   "source": [
    "### Evaluation"
   ]
  },
  {
   "cell_type": "code",
   "execution_count": 13,
   "metadata": {},
   "outputs": [
    {
     "name": "stdout",
     "output_type": "stream",
     "text": [
      "Accuracy: 0.8944666666666666\n",
      "Balanced accuracy: 0.826851706303019\n",
      "Precision: 0.7884975327548068\n",
      "Recall: 0.7067256367241116\n",
      "F1 0.7453755830786553\n",
      "ConfusionMatrix [[22200  1243]\n",
      " [ 1923  4634]]\n",
      "F-2 0.7216944401183616\n",
      "Mathhews 0.680685397603254\n"
     ]
    }
   ],
   "source": [
    "\n",
    "if CONFIG['TYPE'] == 'BINARY':\n",
    "    y_pred = estimator.predict(x_test_bin)\n",
    "    print('Accuracy:', accuracy_score(y_test, y_pred))\n",
    "    print('Balanced accuracy:', balanced_accuracy_score(y_test, y_pred))\n",
    "    print('Precision:', precision_score(y_test, y_pred, pos_label=CONFIG['POS_CLASS']))\n",
    "    print('Recall:', recall_score(y_test, y_pred, pos_label=CONFIG['POS_CLASS']))\n",
    "    print('F1', f1_score(y_test, y_pred, pos_label=CONFIG['POS_CLASS']))\n",
    "    print('ConfusionMatrix', confusion_matrix(y_test, y_pred))\n",
    "    print('F-2', fbeta_score(y_test, y_pred, pos_label=CONFIG['POS_CLASS'], beta= 2))\n",
    "    print('Mathhews', matthews_corrcoef(y_test, y_pred))\n",
    "\n",
    "\n",
    "   \n",
    "elif CONFIG['TYPE'] == 'CONTINUOUS':\n",
    "    y_pred = explainer.predict(x_test_bin)\n",
    "    print(f'R2 Score = {r2_score(y_test, y_pred)}')\n",
    "    print(f'Explained Variance = {explained_variance_score(y_test, y_pred)}')\n",
    "    print(f'Mean abs. error = {mean_absolute_error(y_test, y_pred)}')\n",
    "    print(f'Max error = {max_error(y_test, y_pred)}')\n",
    "    \n"
   ]
  },
  {
   "cell_type": "code",
   "execution_count": 14,
   "metadata": {},
   "outputs": [
    {
     "name": "stdout",
     "output_type": "stream",
     "text": [
      "no stored variable or alias acc_list\n",
      "Accuracy: 0.9826\n",
      "Balanced accuracy: 0.9734873168592852\n",
      "Precision: 0.962877741984967\n",
      "Recall: 0.957297544608815\n",
      "F-2 0.9584084038232509\n",
      "Mathhews 0.9489618354410128\n",
      "Stored 'acc_list' (list)\n"
     ]
    }
   ],
   "source": [
    "#XGboost for Binary Classification\n",
    "# storing the results in a list\n",
    "acc_list = []\n",
    "%store -r acc_list\n",
    "if CONFIG['TYPE'] == 'BINARY' and CONFIG['BASELINE'] == True:\n",
    "    \n",
    "    regex = re.compile(r\"\\[|\\]|<\", re.IGNORECASE)\n",
    "    x_train_bin.columns = [regex.sub(\"_\", str(col)) if any(x in str(col) for x in set(('[', ']', '<'))) else col for col in x_train_bin.columns.values]\n",
    "    x_test_bin.columns = [regex.sub(\"_\", str(col)) if any(x in str(col) for x in set(('[', ']', '<'))) else col for col in x_test_bin.columns.values]\n",
    "\n",
    "    xgb_cl = xgb.XGBClassifier()\n",
    "    xgb_cl.fit(x_train_bin, y_train)\n",
    "    preds = xgb_cl.predict(x_test_bin)     \n",
    "    print('Accuracy:', accuracy_score(y_test, preds))\n",
    "    print('Balanced accuracy:', balanced_accuracy_score(y_test, preds))\n",
    "    print('Precision:', precision_score(y_test, preds, pos_label=CONFIG['POS_CLASS']))\n",
    "    print('Recall:', recall_score(y_test, preds, pos_label=CONFIG['POS_CLASS']))\n",
    "    print('F-2', fbeta_score(y_test, preds, pos_label=CONFIG['POS_CLASS'], beta= 2))\n",
    "    print('Mathhews', matthews_corrcoef(y_test, preds))\n",
    "    acc_list.append(accuracy_score(y_test, preds))\n",
    "    %store acc_list"
   ]
  },
  {
   "cell_type": "code",
   "execution_count": 15,
   "metadata": {},
   "outputs": [
    {
     "name": "stdout",
     "output_type": "stream",
     "text": [
      "Number of rules: 1\n",
      "['loanAmount <= 997234.50 AND yearlyReimbursement <= 39038.00']\n"
     ]
    }
   ],
   "source": [
    "if CONFIG['TYPE'] == 'CONTINUOUS':\n",
    "    explanation = explainer.explain()\n",
    "    print(explanation)\n",
    "elif CONFIG['ALGO'] == 'BRCG':\n",
    "    model = estimator.explain()\n",
    "    if not model['isCNF']:\n",
    "        print('Number of rules:', len(model['rules']))\n",
    "        print(model['rules'])\n",
    "elif CONFIG['ALGO'] == 'RIPPER':\n",
    "    print('Rule count: ' + str(sum([len(rules) for rules in estimator.rule_map.values()])))\n",
    "    print('Rule set:')\n",
    "    print(estimator.rule_list_to_pretty_string())\n",
    "elif CONFIG['ALGO'] == 'CORELS':\n",
    "    r_length = len(estimator.rl().rules)\n",
    "    print(\"Rule Length:\", r_length)\n",
    "    for i in range(len(estimator.rl().rules[0][\"antecedents\"])):\n",
    "        an = len(estimator.rl().rules[i][\"antecedents\"])\n",
    "        print(f\"Antecedents Length Rule {i}:\" , an)\n",
    "elif CONFIG['ALGO'] == 'Witt_RIPPER':\n",
    "    print(\"Rule Length:\", len(estimator.ruleset_))\n",
    "\n",
    "# uncomment the following line for a full optimized view of the model as data frame for GLRM rules\n",
    "# explanation.style"
   ]
  },
  {
   "cell_type": "code",
   "execution_count": 16,
   "metadata": {},
   "outputs": [
    {
     "ename": "AttributeError",
     "evalue": "'BooleanRuleCG' object has no attribute 'rule_map'",
     "output_type": "error",
     "traceback": [
      "\u001b[1;31m---------------------------------------------------------------------------\u001b[0m",
      "\u001b[1;31mAttributeError\u001b[0m                            Traceback (most recent call last)",
      "\u001b[1;32m<ipython-input-16-7c30debe280c>\u001b[0m in \u001b[0;36m<module>\u001b[1;34m\u001b[0m\n\u001b[0;32m      1\u001b[0m \u001b[0moutput\u001b[0m \u001b[1;33m=\u001b[0m \u001b[1;32mNone\u001b[0m\u001b[1;33m\u001b[0m\u001b[1;33m\u001b[0m\u001b[0m\n\u001b[1;32m----> 2\u001b[1;33m \u001b[1;32mfor\u001b[0m \u001b[0mlabel\u001b[0m\u001b[1;33m,\u001b[0m \u001b[0mrules\u001b[0m \u001b[1;32min\u001b[0m \u001b[0mestimator\u001b[0m\u001b[1;33m.\u001b[0m\u001b[0mrule_map\u001b[0m\u001b[1;33m.\u001b[0m\u001b[0mitems\u001b[0m\u001b[1;33m(\u001b[0m\u001b[1;33m)\u001b[0m\u001b[1;33m:\u001b[0m\u001b[1;33m\u001b[0m\u001b[1;33m\u001b[0m\u001b[0m\n\u001b[0m\u001b[0;32m      3\u001b[0m     \u001b[0mprint\u001b[0m\u001b[1;33m(\u001b[0m\u001b[0mtype\u001b[0m\u001b[1;33m(\u001b[0m\u001b[0mrules\u001b[0m\u001b[1;33m)\u001b[0m\u001b[1;33m)\u001b[0m\u001b[1;33m\u001b[0m\u001b[1;33m\u001b[0m\u001b[0m\n\u001b[0;32m      4\u001b[0m     \u001b[1;32mif\u001b[0m \u001b[0mlabel\u001b[0m\u001b[1;33m:\u001b[0m\u001b[1;33m\u001b[0m\u001b[1;33m\u001b[0m\u001b[0m\n\u001b[0;32m      5\u001b[0m         \u001b[0moutput\u001b[0m \u001b[1;33m=\u001b[0m \u001b[0mrules\u001b[0m\u001b[1;33m\u001b[0m\u001b[1;33m\u001b[0m\u001b[0m\n",
      "\u001b[1;31mAttributeError\u001b[0m: 'BooleanRuleCG' object has no attribute 'rule_map'"
     ]
    }
   ],
   "source": [
    "output = None\n",
    "for label, rules in estimator.rule_map.items():\n",
    "    print(type(rules))\n",
    "    if label:\n",
    "        output = rules\n",
    "        break\n",
    "\n",
    "        "
   ]
  }
 ],
 "metadata": {
  "interpreter": {
   "hash": "aee8b7b246df8f9039afb4144a1f6fd8d2ca17a180786b69acc140d282b71a49"
  },
  "kernelspec": {
   "display_name": "Python 3.7.9 64-bit",
   "name": "python3"
  },
  "language_info": {
   "codemirror_mode": {
    "name": "ipython",
    "version": 3
   },
   "file_extension": ".py",
   "mimetype": "text/x-python",
   "name": "python",
   "nbconvert_exporter": "python",
   "pygments_lexer": "ipython3",
   "version": "3.6.15"
  },
  "metadata": {
   "interpreter": {
    "hash": "e534e48711db4d1e1c48977d0d14ff85b1f16d41bcc4fdfd88268a329b3c9d66"
   }
  },
  "orig_nbformat": 2
 },
 "nbformat": 4,
 "nbformat_minor": 2
}

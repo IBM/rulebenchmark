{
 "cells": [
  {
   "cell_type": "code",
   "execution_count": 1,
   "metadata": {},
   "outputs": [
    {
     "name": "stdout",
     "output_type": "stream",
     "text": [
      "Proceed with configuration: miniloan\n"
     ]
    }
   ],
   "source": [
    "from config import config_dict_imbalanced\n",
    "\n",
    "# document config order\n",
    "CONFIG = config_dict_imbalanced[\"CONFIG-I55\"]\n",
    "print('Proceed with configuration:', CONFIG[\"NAME\"])"
   ]
  },
  {
   "cell_type": "code",
   "execution_count": 2,
   "metadata": {},
   "outputs": [
    {
     "name": "stdout",
     "output_type": "stream",
     "text": [
      "Importing dev version v0.981 of RIPPER\n"
     ]
    }
   ],
   "source": [
    "import pandas as pd\n",
    "import numpy as np\n",
    "import seaborn as sns\n",
    "# import os\n",
    "from sklearn.model_selection import train_test_split #, GridSearchCV\n",
    "from sklearn.metrics import matthews_corrcoef,fbeta_score,confusion_matrix,f1_score,precision_score, recall_score, accuracy_score, balanced_accuracy_score, confusion_matrix, r2_score, explained_variance_score, mean_absolute_error, max_error\n",
    "from sklearn.ensemble import GradientBoostingRegressor\n",
    "import xgboost as xgb\n",
    "import wittgenstein as lw\n",
    "import time\n",
    "import warnings\n",
    "import re\n",
    "from aix360.algorithms.rbm import BRCGExplainer, BooleanRuleCG, GLRMExplainer, LinearRuleRegression\n",
    "if CONFIG['BINARIZER'] == 'QUANTILE':\n",
    "    from aix360.algorithms.rbm import FeatureBinarizer\n",
    "elif CONFIG['BINARIZER'] == 'TREES':\n",
    "    from aix360.algorithms.rbm import FeatureBinarizerFromTrees\n",
    "if CONFIG['ALGO'] == 'RIPPER':\n",
    "    from aix360i.algorithms.rule_induction.ripper import Ripper\n",
    "if CONFIG['ALGO'] == 'CORELS':\n",
    "    from corels import *"
   ]
  },
  {
   "cell_type": "code",
   "execution_count": 3,
   "metadata": {},
   "outputs": [
    {
     "name": "stdout",
     "output_type": "stream",
     "text": [
      "<class 'pandas.core.frame.DataFrame'>\n",
      "RangeIndex: 100000 entries, 0 to 99999\n",
      "Data columns (total 7 columns):\n",
      " #   Column               Non-Null Count   Dtype  \n",
      "---  ------               --------------   -----  \n",
      " 0   creditScore          100000 non-null  float64\n",
      " 1   income               100000 non-null  float64\n",
      " 2   loanAmount           100000 non-null  float64\n",
      " 3   monthDuration        100000 non-null  float64\n",
      " 4   rate                 100000 non-null  float64\n",
      " 5   approval             100000 non-null  bool   \n",
      " 6   yearlyReimbursement  100000 non-null  float64\n",
      "dtypes: bool(1), float64(6)\n",
      "memory usage: 4.7 MB\n"
     ]
    },
    {
     "data": {
      "text/plain": [
       "True     78046\n",
       "False    21954\n",
       "Name: approval, dtype: int64"
      ]
     },
     "execution_count": 3,
     "metadata": {},
     "output_type": "execute_result"
    }
   ],
   "source": [
    "def convert(char):\n",
    "    if char == CONFIG['POS_CLASS']:\n",
    "        return 1\n",
    "    else:\n",
    "        return 0\n",
    "\n",
    "df = pd.read_csv(CONFIG['DATA_SET'],dtype=CONFIG['DATA_TYPES'])\n",
    "df = df.drop(columns=CONFIG['DROP'])\n",
    "if CONFIG['ALGO'] == 'BRCG' or CONFIG['ALGO'] == 'CORELS' :\n",
    "    df[CONFIG['TARGET_LABEL']] = df[CONFIG['TARGET_LABEL']].map(convert)\n",
    "    CONFIG['POS_CLASS'] = 1\n",
    "    # maybe this could also be achieved through explicit binarization of target vector\n",
    "df.info()\n",
    "df[CONFIG['TARGET_LABEL']].value_counts()"
   ]
  },
  {
   "cell_type": "code",
   "execution_count": 4,
   "metadata": {},
   "outputs": [],
   "source": [
    "if CONFIG['UNDERSAMP'] == True:\n",
    "    under_sampling_fraud = df[df[CONFIG['TARGET_LABEL']] == 1]\n",
    "    under_size = under_sampling_fraud.size\n",
    "    under_sampling_legit = (df[df[CONFIG['TARGET_LABEL']] == 0].sample(n=4000, random_state = 42))\n",
    "    df = pd.concat([under_sampling_legit, under_sampling_fraud])"
   ]
  },
  {
   "cell_type": "code",
   "execution_count": 5,
   "metadata": {},
   "outputs": [],
   "source": [
    "if CONFIG[\"ONEHOT\"] == True:\n",
    "    from collections import defaultdict\n",
    "    from sklearn.preprocessing import OneHotEncoder, LabelEncoder\n",
    "    categorial_feat = df.select_dtypes(include=['object']).columns\n",
    "    numercial_feat = df.select_dtypes(include=['int64', 'float64']).columns\n",
    "\n",
    "    def one_hot_encode_category(df, categorial_index):\n",
    "        d = defaultdict(LabelEncoder)\n",
    "        # Encoding\n",
    "        lecatdata = df[categorial_index].apply(lambda x: d[x.name].fit_transform(x))\n",
    "        for x in range(len(categorial_index)):\n",
    "            print(categorial_index[x],\": \", df[categorial_index[x]].unique())\n",
    "            print(categorial_index[x],\": \", lecatdata[categorial_index[x]].unique())\n",
    "        #One hot encoding with dummy variable\n",
    "        dummyvars = pd.get_dummies(df[categorial_index])\n",
    "\n",
    "        return dummyvars\n",
    "\n",
    "    dummyvars =one_hot_encode_category(df,categorial_feat )\n",
    "    df = pd.concat([df[numercial_feat], dummyvars], axis = 1)\n",
    "    df"
   ]
  },
  {
   "cell_type": "code",
   "execution_count": 6,
   "metadata": {},
   "outputs": [
    {
     "name": "stdout",
     "output_type": "stream",
     "text": [
      "Training: (57432, 6) (57432,)\n",
      "Test: (24614, 6) (24614,)\n"
     ]
    }
   ],
   "source": [
    "if CONFIG['TRAIN_TEST_SPLIT'] == 'FIXED':\n",
    "    if CONFIG['MODE'] == 'PREDICTIVE':\n",
    "        train = df[df['is_test_set'] == False]\n",
    "        test = df[df['is_test_set'] == True]\n",
    "    elif CONFIG['MODE'] == 'DESCRIPTIVE':\n",
    "        train = df\n",
    "        test = df\n",
    "\n",
    "    train = train.drop(columns=['is_test_set'])\n",
    "    test = test.drop(columns=['is_test_set'])\n",
    "\n",
    "    y_train = train[CONFIG['TARGET_LABEL']]\n",
    "    x_train = train.drop(columns=[CONFIG['TARGET_LABEL']])\n",
    "\n",
    "    y_test = test[CONFIG['TARGET_LABEL']]\n",
    "    x_test = test.drop(columns=[CONFIG['TARGET_LABEL']])\n",
    "else:\n",
    "    x_train, x_test, y_train, y_test = train_test_split(df.drop(columns=[CONFIG['TARGET_LABEL']]), df[CONFIG['TARGET_LABEL']], test_size=CONFIG['TRAIN_TEST_SPLIT'], random_state=42)\n",
    "\n",
    "print('Training:', x_train.shape, y_train.shape)\n",
    "print('Test:', x_test.shape, y_test.shape)"
   ]
  },
  {
   "cell_type": "code",
   "execution_count": 7,
   "metadata": {},
   "outputs": [
    {
     "name": "stdout",
     "output_type": "stream",
     "text": [
      "<class 'pandas.core.frame.DataFrame'>\n",
      "Int64Index: 57432 entries, 70812 to 15066\n",
      "Data columns (total 6 columns):\n",
      " #   Column               Non-Null Count  Dtype  \n",
      "---  ------               --------------  -----  \n",
      " 0   creditScore          57432 non-null  float64\n",
      " 1   income               57432 non-null  float64\n",
      " 2   loanAmount           57432 non-null  float64\n",
      " 3   monthDuration        57432 non-null  float64\n",
      " 4   rate                 57432 non-null  float64\n",
      " 5   yearlyReimbursement  57432 non-null  float64\n",
      "dtypes: float64(6)\n",
      "memory usage: 3.1 MB\n"
     ]
    },
    {
     "data": {
      "text/html": [
       "<div>\n",
       "<style scoped>\n",
       "    .dataframe tbody tr th:only-of-type {\n",
       "        vertical-align: middle;\n",
       "    }\n",
       "\n",
       "    .dataframe tbody tr th {\n",
       "        vertical-align: top;\n",
       "    }\n",
       "\n",
       "    .dataframe thead th {\n",
       "        text-align: right;\n",
       "    }\n",
       "</style>\n",
       "<table border=\"1\" class=\"dataframe\">\n",
       "  <thead>\n",
       "    <tr style=\"text-align: right;\">\n",
       "      <th></th>\n",
       "      <th>creditScore</th>\n",
       "      <th>income</th>\n",
       "      <th>loanAmount</th>\n",
       "      <th>monthDuration</th>\n",
       "      <th>rate</th>\n",
       "      <th>yearlyReimbursement</th>\n",
       "    </tr>\n",
       "  </thead>\n",
       "  <tbody>\n",
       "    <tr>\n",
       "      <th>70812</th>\n",
       "      <td>576.0</td>\n",
       "      <td>93600.0</td>\n",
       "      <td>1009583.0</td>\n",
       "      <td>313.0</td>\n",
       "      <td>0.051843</td>\n",
       "      <td>70673.0</td>\n",
       "    </tr>\n",
       "    <tr>\n",
       "      <th>63636</th>\n",
       "      <td>543.0</td>\n",
       "      <td>293500.0</td>\n",
       "      <td>1188676.0</td>\n",
       "      <td>155.0</td>\n",
       "      <td>0.040505</td>\n",
       "      <td>118341.0</td>\n",
       "    </tr>\n",
       "    <tr>\n",
       "      <th>82740</th>\n",
       "      <td>718.0</td>\n",
       "      <td>199395.0</td>\n",
       "      <td>1717330.0</td>\n",
       "      <td>257.0</td>\n",
       "      <td>0.040763</td>\n",
       "      <td>120345.0</td>\n",
       "    </tr>\n",
       "    <tr>\n",
       "      <th>44315</th>\n",
       "      <td>793.0</td>\n",
       "      <td>134015.0</td>\n",
       "      <td>1505656.0</td>\n",
       "      <td>246.0</td>\n",
       "      <td>0.051968</td>\n",
       "      <td>119532.0</td>\n",
       "    </tr>\n",
       "    <tr>\n",
       "      <th>90832</th>\n",
       "      <td>531.0</td>\n",
       "      <td>270293.0</td>\n",
       "      <td>1246568.0</td>\n",
       "      <td>234.0</td>\n",
       "      <td>0.030156</td>\n",
       "      <td>84632.0</td>\n",
       "    </tr>\n",
       "  </tbody>\n",
       "</table>\n",
       "</div>"
      ],
      "text/plain": [
       "       creditScore    income  loanAmount  monthDuration      rate  \\\n",
       "70812        576.0   93600.0   1009583.0          313.0  0.051843   \n",
       "63636        543.0  293500.0   1188676.0          155.0  0.040505   \n",
       "82740        718.0  199395.0   1717330.0          257.0  0.040763   \n",
       "44315        793.0  134015.0   1505656.0          246.0  0.051968   \n",
       "90832        531.0  270293.0   1246568.0          234.0  0.030156   \n",
       "\n",
       "       yearlyReimbursement  \n",
       "70812              70673.0  \n",
       "63636             118341.0  \n",
       "82740             120345.0  \n",
       "44315             119532.0  \n",
       "90832              84632.0  "
      ]
     },
     "execution_count": 7,
     "metadata": {},
     "output_type": "execute_result"
    }
   ],
   "source": [
    "if CONFIG['BINARIZER'] == 'TREES':\n",
    "    binarizer =  FeatureBinarizerFromTrees(negations=False, randomState=42) # FeatureBinarizer(negations=False), FeatureBinarizerFromTrees(negations=True, randomState=42)\n",
    "    binarizer = binarizer.fit(x_train, y_train)\n",
    "    x_train_bin = binarizer.transform(x_train) #  x_train_bin = binarizer.fit_transform(x_train)\n",
    "    x_test_bin = binarizer.transform(x_test) #  X_fb = self.fb.fit_transform(X_train)\n",
    "elif CONFIG['BINARIZER'] == 'QUANTILE':\n",
    "    binarizer =  FeatureBinarizer(numThresh=9,negations=False, randomState=42) # FeatureBinarizer(negations=False), FeatureBinarizerFromTrees(negations=True, randomState=42)\n",
    "    binarizer = binarizer.fit(x_train)\n",
    "    x_train_bin = binarizer.transform(x_train) #  x_train_bin = binarizer.fit_transform(x_train)\n",
    "    x_test_bin = binarizer.transform(x_test) #  X_fb = self.fb.fit_transform(X_train)  \n",
    "elif CONFIG['BINARIZER'] == 'NATIVE':\n",
    "    x_train_bin = x_train\n",
    "    x_test_bin = x_test\n",
    "else:\n",
    "    print('UNRECOGNIZED BINARIZER')\n",
    "\n",
    "x_train_bin.info() # verbose=True\n",
    "x_train_bin.head()"
   ]
  },
  {
   "cell_type": "code",
   "execution_count": 8,
   "metadata": {},
   "outputs": [
    {
     "name": "stdout",
     "output_type": "stream",
     "text": [
      "Accuracy: 0.9986999268708865\n",
      "Balanced accuracy: 0.9874364260443182\n",
      "Precision: 0.9982905982905983\n",
      "Recall: 0.9749582637729549\n",
      "F-2 0.9795370680979537\n",
      "ConfusionMatrix [[ 1168    30]\n",
      " [    2 23414]]\n",
      "Mathhews 0.9858797652295478\n",
      "Training time: 0.7819991111755371\n"
     ]
    }
   ],
   "source": [
    "#XGboost for Binary Classification\n",
    "start_time = time.time()\n",
    "    \n",
    "if CONFIG['TYPE'] == 'BINARY':\n",
    "    \n",
    "    regex = re.compile(r\"\\[|\\]|<\", re.IGNORECASE)\n",
    "    x_train_bin.columns = [regex.sub(\"_\", str(col)) if any(x in str(col) for x in set(('[', ']', '<'))) else col for col in x_train_bin.columns.values]\n",
    "    x_test_bin.columns = [regex.sub(\"_\", str(col)) if any(x in str(col) for x in set(('[', ']', '<'))) else col for col in x_test_bin.columns.values]\n",
    "\n",
    "    xgb_cl = xgb.XGBClassifier()\n",
    "    xgb_cl.fit(x_train_bin, y_train)\n",
    "    end_time = time.time()\n",
    "    preds = xgb_cl.predict(x_test_bin)     \n",
    "    print('Accuracy:', accuracy_score(y_test, preds))\n",
    "    print('Balanced accuracy:', balanced_accuracy_score(y_test, preds))\n",
    "    print('Precision:', precision_score(y_test, preds, pos_label=CONFIG['POS_CLASS']))\n",
    "    print('Recall:', recall_score(y_test, preds, pos_label=CONFIG['POS_CLASS']))\n",
    "    print('F-2', fbeta_score(y_test, preds, pos_label=CONFIG['POS_CLASS'], beta= 2))\n",
    "    print('ConfusionMatrix', confusion_matrix(y_test, preds))\n",
    "    print('Mathhews', matthews_corrcoef(y_test, preds))\n",
    "    print('Training time: ' + str(end_time - start_time))\n",
    "   "
   ]
  },
  {
   "cell_type": "code",
   "execution_count": 9,
   "metadata": {},
   "outputs": [
    {
     "data": {
      "text/plain": [
       "True     78046\n",
       "False     4000\n",
       "Name: approval, dtype: int64"
      ]
     },
     "execution_count": 9,
     "metadata": {},
     "output_type": "execute_result"
    }
   ],
   "source": [
    "df[CONFIG[\"TARGET_LABEL\"]].value_counts()"
   ]
  },
  {
   "cell_type": "code",
   "execution_count": null,
   "metadata": {},
   "outputs": [],
   "source": []
  }
 ],
 "metadata": {
  "interpreter": {
   "hash": "bc887d2240ae0e7e1d226896278fb42df22c546825a62234e7aab0d805f20716"
  },
  "kernelspec": {
   "display_name": "Python 3.6.15 ('aix360i_v2_clone')",
   "language": "python",
   "name": "python3"
  },
  "language_info": {
   "codemirror_mode": {
    "name": "ipython",
    "version": 3
   },
   "file_extension": ".py",
   "mimetype": "text/x-python",
   "name": "python",
   "nbconvert_exporter": "python",
   "pygments_lexer": "ipython3",
   "version": "3.6.15"
  },
  "orig_nbformat": 4
 },
 "nbformat": 4,
 "nbformat_minor": 2
}

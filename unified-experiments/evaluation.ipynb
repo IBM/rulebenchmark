{
 "cells": [
  {
   "cell_type": "code",
   "execution_count": 2,
   "metadata": {},
   "outputs": [],
   "source": [
    "from pathlib import Path\n",
    "import matplotlib.pyplot as plt\n",
    "import pandas as pd\n",
    "import numpy as np\n",
    "from config import Config_list\n",
    "from config import config_dict\n",
    "\n"
   ]
  },
  {
   "cell_type": "code",
   "execution_count": 3,
   "metadata": {},
   "outputs": [
    {
     "data": {
      "text/plain": [
       "11"
      ]
     },
     "execution_count": 3,
     "metadata": {},
     "output_type": "execute_result"
    }
   ],
   "source": [
    "# restart kernel after running config\n",
    "len(Config_list)"
   ]
  },
  {
   "cell_type": "code",
   "execution_count": 4,
   "metadata": {},
   "outputs": [
    {
     "name": "stderr",
     "output_type": "stream",
     "text": [
      "C:\\Users\\hornd\\AppData\\Local\\R-MINI~1\\envs\\aix360i_v2\\lib\\site-packages\\ipykernel_launcher.py:18: DeprecationWarning: The default dtype for empty Series will be 'object' instead of 'float64' in a future version. Specify a dtype explicitly to silence this warning.\n",
      "C:\\Users\\hornd\\AppData\\Local\\R-MINI~1\\envs\\aix360i_v2\\lib\\site-packages\\ipykernel_launcher.py:19: DeprecationWarning: The default dtype for empty Series will be 'object' instead of 'float64' in a future version. Specify a dtype explicitly to silence this warning.\n",
      "C:\\Users\\hornd\\AppData\\Local\\R-MINI~1\\envs\\aix360i_v2\\lib\\site-packages\\ipykernel_launcher.py:20: DeprecationWarning: The default dtype for empty Series will be 'object' instead of 'float64' in a future version. Specify a dtype explicitly to silence this warning.\n",
      "C:\\Users\\hornd\\AppData\\Local\\R-MINI~1\\envs\\aix360i_v2\\lib\\site-packages\\ipykernel_launcher.py:21: DeprecationWarning: The default dtype for empty Series will be 'object' instead of 'float64' in a future version. Specify a dtype explicitly to silence this warning.\n"
     ]
    },
    {
     "data": {
      "text/html": [
       "<div>\n",
       "<style scoped>\n",
       "    .dataframe tbody tr th:only-of-type {\n",
       "        vertical-align: middle;\n",
       "    }\n",
       "\n",
       "    .dataframe tbody tr th {\n",
       "        vertical-align: top;\n",
       "    }\n",
       "\n",
       "    .dataframe thead th {\n",
       "        text-align: right;\n",
       "    }\n",
       "</style>\n",
       "<table border=\"1\" class=\"dataframe\">\n",
       "  <thead>\n",
       "    <tr style=\"text-align: right;\">\n",
       "      <th></th>\n",
       "      <th>Data_Set</th>\n",
       "      <th>Target_1_pos</th>\n",
       "      <th>Target_2_neg</th>\n",
       "      <th>IB_Ratio</th>\n",
       "      <th>Size</th>\n",
       "    </tr>\n",
       "  </thead>\n",
       "  <tbody>\n",
       "    <tr>\n",
       "      <th>0</th>\n",
       "      <td>../data/churn_prob_out_35.csv</td>\n",
       "      <td>NaN</td>\n",
       "      <td>NaN</td>\n",
       "      <td>NaN</td>\n",
       "      <td>NaN</td>\n",
       "    </tr>\n",
       "    <tr>\n",
       "      <th>1</th>\n",
       "      <td>../data/german_credit_codiert.csv</td>\n",
       "      <td>NaN</td>\n",
       "      <td>NaN</td>\n",
       "      <td>NaN</td>\n",
       "      <td>NaN</td>\n",
       "    </tr>\n",
       "    <tr>\n",
       "      <th>2</th>\n",
       "      <td>../data/compas.csv</td>\n",
       "      <td>NaN</td>\n",
       "      <td>NaN</td>\n",
       "      <td>NaN</td>\n",
       "      <td>NaN</td>\n",
       "    </tr>\n",
       "    <tr>\n",
       "      <th>3</th>\n",
       "      <td>../data/mushroom.csv</td>\n",
       "      <td>NaN</td>\n",
       "      <td>NaN</td>\n",
       "      <td>NaN</td>\n",
       "      <td>NaN</td>\n",
       "    </tr>\n",
       "    <tr>\n",
       "      <th>4</th>\n",
       "      <td>../data/fraud_detection.csv</td>\n",
       "      <td>NaN</td>\n",
       "      <td>NaN</td>\n",
       "      <td>NaN</td>\n",
       "      <td>NaN</td>\n",
       "    </tr>\n",
       "  </tbody>\n",
       "</table>\n",
       "</div>"
      ],
      "text/plain": [
       "                            Data_Set  Target_1_pos  Target_2_neg  IB_Ratio  \\\n",
       "0      ../data/churn_prob_out_35.csv           NaN           NaN       NaN   \n",
       "1  ../data/german_credit_codiert.csv           NaN           NaN       NaN   \n",
       "2                 ../data/compas.csv           NaN           NaN       NaN   \n",
       "3               ../data/mushroom.csv           NaN           NaN       NaN   \n",
       "4        ../data/fraud_detection.csv           NaN           NaN       NaN   \n",
       "\n",
       "   Size  \n",
       "0   NaN  \n",
       "1   NaN  \n",
       "2   NaN  \n",
       "3   NaN  \n",
       "4   NaN  "
      ]
     },
     "execution_count": 4,
     "metadata": {},
     "output_type": "execute_result"
    }
   ],
   "source": [
    "from pathlib import Path\n",
    "import matplotlib.pyplot as plt\n",
    "\n",
    "# create df and label target label new\n",
    "df_list = []\n",
    "csv_list = []\n",
    "for i in range(len(Config_list)):\n",
    "    \n",
    "    if Config_list[i][1]['TYPE'] == \"BINARY\":\n",
    "        if Config_list[i][1][\"DATA_SET\"] not in csv_list:\n",
    "            temp_df = pd.read_csv(Config_list[i][1][\"DATA_SET\"])\n",
    "            csv_list.append(Config_list[i][1][\"DATA_SET\"])\n",
    "            temp_df = temp_df.drop(columns=Config_list[i][1]['DROP'])\n",
    "            temp_df= temp_df.rename(columns={temp_df[Config_list[i][1]['TARGET_LABEL']].name : 'TARGET_LABEL'})\n",
    "            df_list.append(temp_df)\n",
    "        \n",
    "eval_df = pd.DataFrame(csv_list, columns=['Data_Set'])\n",
    "eval_df[\"Target_1_pos\"] = pd.Series()\n",
    "eval_df[\"Target_2_neg\"] = pd.Series()\n",
    "eval_df[\"IB_Ratio\"] = pd.Series()\n",
    "eval_df[\"Size\"] = pd.Series()\n",
    "\n",
    "eval_df"
   ]
  },
  {
   "cell_type": "code",
   "execution_count": 5,
   "metadata": {},
   "outputs": [
    {
     "name": "stdout",
     "output_type": "stream",
     "text": [
      "F    1076\n",
      "T     723\n",
      "Name: TARGET_LABEL, dtype: int64\n",
      "1    700\n",
      "0    300\n",
      "Name: TARGET_LABEL, dtype: int64\n",
      "0    3960\n",
      "1    3250\n",
      "Name: TARGET_LABEL, dtype: int64\n",
      "e    4208\n",
      "p    3916\n",
      "Name: TARGET_LABEL, dtype: int64\n",
      "0    284315\n",
      "1       492\n",
      "Name: TARGET_LABEL, dtype: int64\n"
     ]
    },
    {
     "name": "stderr",
     "output_type": "stream",
     "text": [
      "C:\\Users\\hornd\\AppData\\Local\\R-MINI~1\\envs\\aix360i_v2\\lib\\site-packages\\pandas\\core\\indexing.py:670: SettingWithCopyWarning: \n",
      "A value is trying to be set on a copy of a slice from a DataFrame\n",
      "\n",
      "See the caveats in the documentation: https://pandas.pydata.org/pandas-docs/stable/user_guide/indexing.html#returning-a-view-versus-a-copy\n",
      "  iloc._setitem_with_indexer(indexer, value)\n"
     ]
    }
   ],
   "source": [
    "for frame in range(len(df_list)):\n",
    "    metric = df_list[frame][\"TARGET_LABEL\"].value_counts()\n",
    "    if metric[0] > metric[1]:\n",
    "        eval_df[\"Target_1_pos\"].iloc[frame] = metric[1]\n",
    "        eval_df[\"Target_2_neg\"].iloc[frame] = metric[0]\n",
    "    else:\n",
    "        eval_df[\"Target_1_pos\"].iloc[frame] = metric[0]\n",
    "        eval_df[\"Target_2_neg\"].iloc[frame] = metric[1]\n",
    "    df_size = len(df_list[frame])\n",
    "    eval_df[\"IB_Ratio\"].iloc[frame] = eval_df[\"Target_1_pos\"].iloc[frame]/eval_df[\"Target_2_neg\"].iloc[frame]\n",
    "    eval_df[\"Size\"].iloc[frame]    = df_size\n",
    "    print(metric)\n",
    "    "
   ]
  },
  {
   "cell_type": "code",
   "execution_count": 6,
   "metadata": {},
   "outputs": [
    {
     "data": {
      "text/html": [
       "<div>\n",
       "<style scoped>\n",
       "    .dataframe tbody tr th:only-of-type {\n",
       "        vertical-align: middle;\n",
       "    }\n",
       "\n",
       "    .dataframe tbody tr th {\n",
       "        vertical-align: top;\n",
       "    }\n",
       "\n",
       "    .dataframe thead th {\n",
       "        text-align: right;\n",
       "    }\n",
       "</style>\n",
       "<table border=\"1\" class=\"dataframe\">\n",
       "  <thead>\n",
       "    <tr style=\"text-align: right;\">\n",
       "      <th></th>\n",
       "      <th>Data_Set</th>\n",
       "      <th>Target_1_pos</th>\n",
       "      <th>Target_2_neg</th>\n",
       "      <th>IB_Ratio</th>\n",
       "      <th>Size</th>\n",
       "    </tr>\n",
       "  </thead>\n",
       "  <tbody>\n",
       "    <tr>\n",
       "      <th>0</th>\n",
       "      <td>../data/churn_prob_out_35.csv</td>\n",
       "      <td>723.0</td>\n",
       "      <td>1076.0</td>\n",
       "      <td>0.671933</td>\n",
       "      <td>1799.0</td>\n",
       "    </tr>\n",
       "    <tr>\n",
       "      <th>1</th>\n",
       "      <td>../data/german_credit_codiert.csv</td>\n",
       "      <td>300.0</td>\n",
       "      <td>700.0</td>\n",
       "      <td>0.428571</td>\n",
       "      <td>1000.0</td>\n",
       "    </tr>\n",
       "    <tr>\n",
       "      <th>2</th>\n",
       "      <td>../data/compas.csv</td>\n",
       "      <td>3250.0</td>\n",
       "      <td>3960.0</td>\n",
       "      <td>0.820707</td>\n",
       "      <td>7210.0</td>\n",
       "    </tr>\n",
       "    <tr>\n",
       "      <th>3</th>\n",
       "      <td>../data/mushroom.csv</td>\n",
       "      <td>3916.0</td>\n",
       "      <td>4208.0</td>\n",
       "      <td>0.930608</td>\n",
       "      <td>8124.0</td>\n",
       "    </tr>\n",
       "    <tr>\n",
       "      <th>4</th>\n",
       "      <td>../data/fraud_detection.csv</td>\n",
       "      <td>492.0</td>\n",
       "      <td>284315.0</td>\n",
       "      <td>0.001730</td>\n",
       "      <td>284807.0</td>\n",
       "    </tr>\n",
       "  </tbody>\n",
       "</table>\n",
       "</div>"
      ],
      "text/plain": [
       "                            Data_Set  Target_1_pos  Target_2_neg  IB_Ratio  \\\n",
       "0      ../data/churn_prob_out_35.csv         723.0        1076.0  0.671933   \n",
       "1  ../data/german_credit_codiert.csv         300.0         700.0  0.428571   \n",
       "2                 ../data/compas.csv        3250.0        3960.0  0.820707   \n",
       "3               ../data/mushroom.csv        3916.0        4208.0  0.930608   \n",
       "4        ../data/fraud_detection.csv         492.0      284315.0  0.001730   \n",
       "\n",
       "       Size  \n",
       "0    1799.0  \n",
       "1    1000.0  \n",
       "2    7210.0  \n",
       "3    8124.0  \n",
       "4  284807.0  "
      ]
     },
     "execution_count": 6,
     "metadata": {},
     "output_type": "execute_result"
    }
   ],
   "source": [
    "eval_df"
   ]
  },
  {
   "cell_type": "code",
   "execution_count": null,
   "metadata": {},
   "outputs": [],
   "source": []
  }
 ],
 "metadata": {
  "interpreter": {
   "hash": "85ada5c508d9c178905e119863c4083a38d75b6f6ef1f9c4bc57fe13a7a5275d"
  },
  "kernelspec": {
   "display_name": "Python 3.6.15 ('aix360i_v2')",
   "language": "python",
   "name": "python3"
  },
  "language_info": {
   "codemirror_mode": {
    "name": "ipython",
    "version": 3
   },
   "file_extension": ".py",
   "mimetype": "text/x-python",
   "name": "python",
   "nbconvert_exporter": "python",
   "pygments_lexer": "ipython3",
   "version": "3.6.15"
  },
  "orig_nbformat": 4
 },
 "nbformat": 4,
 "nbformat_minor": 2
}
